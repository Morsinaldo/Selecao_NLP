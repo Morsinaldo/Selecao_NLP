{
  "cells": [
    {
      "cell_type": "markdown",
      "metadata": {
        "id": "0I4pgzLVtBTP"
      },
      "source": [
        "# 1.0 Um problema de classificação de ponta-a-ponta usando NLP"
      ]
    },
    {
      "cell_type": "markdown",
      "metadata": {
        "id": "Dh34gim6KPtT"
      },
      "source": [
        "## 1.1 Descrição do dataset"
      ]
    },
    {
      "cell_type": "markdown",
      "metadata": {
        "id": "iE8OJoDZ5AFK"
      },
      "source": [
        "O dataset contém informações gerais de 5.000 processos julgados\n",
        "nos Juizados Especiais Federais dentro das Seções Judiciárias do Tribunal Regional Federal da 5a Região (https://www.trf5.jus.br). Os dados são oriundos da raspagem da consulta pública processual. Além disso, ele possui 46 colunas, das quais duas possuem texto livre:\n",
        "\"conteudo_sentenca\" e \"conteudo_acordao\".\n",
        "\n",
        "O dataset pode ser baixado no link a seguir: https://jacob.al/dataset_juizados \n",
        "\n",
        "Ao longo dos notebooks, vão ser realizados os seguintes passos:\n",
        "\n",
        "1. Importação do dataset **(concluído)**\n",
        "2. Análise exploratória dos dados **(concluído)**\n",
        "3. Pré-processamento\n",
        "4. Verificação dos dados\n",
        "5. Segregação dos dados\n",
        "6. Treinamento\n",
        "7. Teste\n",
        "\n",
        "<center><img width=\"600\" src=\"https://drive.google.com/uc?export=view&id=1fKGuR5U5ECf7On6Zo1UWzAIWZrMmZnGc\"></center>\n"
      ]
    },
    {
      "cell_type": "markdown",
      "metadata": {
        "id": "7UpxKxU1Ej7f"
      },
      "source": [
        "## 1.2 Instalação e importação das bibliotecas"
      ]
    },
    {
      "cell_type": "code",
      "execution_count": null,
      "metadata": {
        "id": "t82KewAPWCYe"
      },
      "outputs": [],
      "source": [
        "!pip install wandb"
      ]
    },
    {
      "cell_type": "code",
      "execution_count": null,
      "metadata": {
        "id": "LASaVZuhRJlL"
      },
      "outputs": [],
      "source": [
        "import wandb\n",
        "import pandas as pd"
      ]
    },
    {
      "cell_type": "code",
      "source": [
        "import warnings\n",
        "warnings.filterwarnings('ignore')"
      ],
      "metadata": {
        "id": "5oPwazXXTWoK"
      },
      "execution_count": null,
      "outputs": []
    },
    {
      "cell_type": "markdown",
      "metadata": {
        "id": "Z74pHa-qHVrT"
      },
      "source": [
        "## 1.3 Pré-processamento"
      ]
    },
    {
      "cell_type": "markdown",
      "metadata": {
        "id": "MxzlOezZLWQ_"
      },
      "source": [
        "### 1.3.1 Login no wandb\n"
      ]
    },
    {
      "cell_type": "code",
      "execution_count": null,
      "metadata": {
        "id": "xvG-dYfiVwM9",
        "colab": {
          "base_uri": "https://localhost:8080/"
        },
        "outputId": "9ddc1736-6f09-4d0a-bb65-3ff3cfbcd7d4"
      },
      "outputs": [
        {
          "output_type": "stream",
          "name": "stdout",
          "text": [
            "\u001b[34m\u001b[1mwandb\u001b[0m: Logging into wandb.ai. (Learn how to deploy a W&B server locally: https://wandb.me/wandb-server)\n",
            "\u001b[34m\u001b[1mwandb\u001b[0m: You can find your API key in your browser here: https://wandb.ai/authorize\n",
            "\u001b[34m\u001b[1mwandb\u001b[0m: Paste an API key from your profile and hit enter, or press ctrl+c to quit: \n",
            "\u001b[34m\u001b[1mwandb\u001b[0m: Appending key for api.wandb.ai to your netrc file: /root/.netrc\n"
          ]
        }
      ],
      "source": [
        "# Login to Weights & Biases\n",
        "!wandb login --relogin"
      ]
    },
    {
      "cell_type": "markdown",
      "source": [
        "### 1.3.2 Artefatos"
      ],
      "metadata": {
        "id": "3GrAiPvGm0kl"
      }
    },
    {
      "cell_type": "code",
      "source": [
        "input_artifact=\"nlp_bolsa/raw_data.csv:latest\"\n",
        "artifact_name=\"preprocessed_data.csv\"\n",
        "artifact_type=\"clean_data\"\n",
        "artifact_description=\"Data after preprocessing\""
      ],
      "metadata": {
        "id": "dBiQMbchm78L"
      },
      "execution_count": null,
      "outputs": []
    },
    {
      "cell_type": "markdown",
      "metadata": {
        "id": "18RAS5kFXPAe"
      },
      "source": [
        "### 1.3.3 Configurando o Wandb e limpando o dataset"
      ]
    },
    {
      "cell_type": "markdown",
      "source": [
        "Depois do passo de coleta dos dados, o artefato *raw_data* foi gerado. Agora, após o pré-processamento, vamos gerar um novo artefato chamado *clean_data*.\n",
        "\n",
        "Um ponto importante é que a modelagem vai se basear no conteúdo da coluna `conteudo_sentenca` para tentar prever o assunto processual da coluna `assunto_cnj`. Logo, vamos deixar apenas a coluna textual como feature e a coluna do assunto como variável alvo."
      ],
      "metadata": {
        "id": "C6YkQ8SOn3qo"
      }
    },
    {
      "cell_type": "code",
      "execution_count": null,
      "metadata": {
        "id": "5kKY7pRNSGo9",
        "colab": {
          "base_uri": "https://localhost:8080/",
          "height": 87
        },
        "outputId": "406a13e5-5d8c-4a7a-d159-13d1f6b45f18"
      },
      "outputs": [
        {
          "output_type": "stream",
          "name": "stderr",
          "text": [
            "\u001b[34m\u001b[1mwandb\u001b[0m: Currently logged in as: \u001b[33mmorsinaldo\u001b[0m. Use \u001b[1m`wandb login --relogin`\u001b[0m to force relogin\n"
          ]
        },
        {
          "output_type": "display_data",
          "data": {
            "text/plain": [
              "<IPython.core.display.HTML object>"
            ],
            "text/html": [
              "Tracking run with wandb version 0.12.21"
            ]
          },
          "metadata": {}
        },
        {
          "output_type": "display_data",
          "data": {
            "text/plain": [
              "<IPython.core.display.HTML object>"
            ],
            "text/html": [
              "Run data is saved locally in <code>/content/wandb/run-20220717_120012-2ctf07by</code>"
            ]
          },
          "metadata": {}
        },
        {
          "output_type": "display_data",
          "data": {
            "text/plain": [
              "<IPython.core.display.HTML object>"
            ],
            "text/html": [
              "Syncing run <strong><a href=\"https://wandb.ai/morsinaldo/nlp_bolsa/runs/2ctf07by\" target=\"_blank\">major-wind-10</a></strong> to <a href=\"https://wandb.ai/morsinaldo/nlp_bolsa\" target=\"_blank\">Weights & Biases</a> (<a href=\"https://wandb.me/run\" target=\"_blank\">docs</a>)<br/>"
            ]
          },
          "metadata": {}
        }
      ],
      "source": [
        "# Criação de um novo job_type\n",
        "run = wandb.init(project=\"nlp_bolsa\", job_type=\"process_data\")"
      ]
    },
    {
      "cell_type": "code",
      "execution_count": null,
      "metadata": {
        "id": "H6eyFp6XTLyf"
      },
      "outputs": [],
      "source": [
        "# Download da última versão do artefato raw_data.csv\n",
        "artifact = run.use_artifact(input_artifact)\n",
        "\n",
        "# Criação de um dataframe do artefato\n",
        "df = pd.read_csv(artifact.file())"
      ]
    },
    {
      "cell_type": "code",
      "source": [
        "df.head()"
      ],
      "metadata": {
        "colab": {
          "base_uri": "https://localhost:8080/",
          "height": 647
        },
        "id": "IHHIoAFsOP_G",
        "outputId": "a61776b1-fd05-4ff9-b8b2-8d6838130c4c"
      },
      "execution_count": null,
      "outputs": [
        {
          "output_type": "execute_result",
          "data": {
            "text/plain": [
              "                num_processo     data_ajuizamento  \\\n",
              "0  0500454-62.2017.4.05.8402  2017-03-06 00:00:00   \n",
              "1  0517700-16.2013.4.05.8013  2013-10-09 00:00:00   \n",
              "2  0502388-07.2007.4.05.8305  2007-07-13 00:00:00   \n",
              "3  0503551-02.2014.4.05.8103  2014-04-02 00:00:00   \n",
              "4  0503488-94.2016.4.05.8300  2016-03-21 00:00:00   \n",
              "\n",
              "  data_primeira_movimentacao_processual data_ultima_movimentacao  \\\n",
              "0                   2017-03-06 11:01:00      2017-10-30 10:07:00   \n",
              "1                   2013-10-09 20:54:00                      NaN   \n",
              "2                   2007-07-13 13:51:00                      NaN   \n",
              "3                   2014-04-02 11:02:00                      NaN   \n",
              "4                   2016-03-21 11:04:00      2019-02-19 13:16:00   \n",
              "\n",
              "                                               autor  \\\n",
              "0  Lourival Francisco da Silva (027.173.384-54)\\n...   \n",
              "1  MARIA LUCIA CARDOSO (382.242.084-00)\\nEmanuel ...   \n",
              "2  QUITÉRIA BARBOSA DA SILVA NASCIMENTO (062.819....   \n",
              "3  Emanuela Carneiro Tabosa (777.839.723-49)\\nBru...   \n",
              "4  Lúcio Flavio de Lima Albuquerque (095.403.004-...   \n",
              "\n",
              "                                                 reu tutela_antecipada   vara  \\\n",
              "0  Fazenda Nacional (00.394.460/0239-40)\\nMunicíp...                 N   9-RN   \n",
              "1       Caixa Econômica Federal (00.360.305/0001-04)                 N   9-AL   \n",
              "2  Instituto Nacional do Seguro Social - INSS (29...                 N  23-PE   \n",
              "3  UNIÃO (FAZENDA NACIONAL) - Procuradoria da Faz...                 N  19-CE   \n",
              "4  ANGELA MARIA DO NASCIMENTO SILVA (157.771.544-...                 N  19-PE   \n",
              "\n",
              "  titular_substituto                            classe_atual  ...  \\\n",
              "0            Titular             Execução de Título Judicial  ...   \n",
              "1            Titular  Procedimento do Juizado Especial Cível  ...   \n",
              "2            Titular  Procedimento do Juizado Especial Cível  ...   \n",
              "3            Titular  Procedimento do Juizado Especial Cível  ...   \n",
              "4         Substituto  Procedimento do Juizado Especial Cível  ...   \n",
              "\n",
              "     resultado_1_grau                                  conteudo_sentenca  \\\n",
              "0          PROCEDENTE  SENTENÇA 1. Relatório Cuida-se de ação propost...   \n",
              "1  EXTINTO SEM MÉRITO  SENTENÇA Trata-se de ação especial cível, em c...   \n",
              "2  EXTINTO SEM MÉRITO  SENTENÇA Vistos etc. Trata-se de ação especial...   \n",
              "3          PROCEDENTE  SENTENÇA I - RELATÓRIO Cuida-se de ação em que...   \n",
              "4        IMPROCEDENTE  SENTENÇA Tipo A I – RELATÓRIO Dispensado o rel...   \n",
              "\n",
              "  n_dias_ate_sentenca n_tokens_sentenca             relator_acordao  \\\n",
              "0           76.307593              1309  Almiro José da Rocha Lemos   \n",
              "1           20.844491               263                         NaN   \n",
              "2          143.822245               956                         NaN   \n",
              "3           21.360567              3037     CÍNTIA MENEZES BRUNETTA   \n",
              "4          784.066493              2099       Joaquim Lustosa Filho   \n",
              "\n",
              "        data_sessao_tr         data_acordao  \\\n",
              "0  2017-08-09 09:00:00  2017-08-14 10:46:34   \n",
              "1                  NaN                  NaN   \n",
              "2                  NaN                  NaN   \n",
              "3  2014-06-25 13:30:00  2014-06-27 16:14:43   \n",
              "4  2018-06-19 10:00:00  2018-06-19 15:01:56   \n",
              "\n",
              "                                    conteudo_acordao resultado_2_grau  \\\n",
              "0  PROCESSO 0500454-62.2017.4.05.8402  EMENTA:DIR...   NÃO PROVIMENTO   \n",
              "1                                                NaN              NaN   \n",
              "2                                                NaN              NaN   \n",
              "3  VOTO Relatório dispensado, nos termos do art. ...   NÃO PROVIMENTO   \n",
              "4  EMENTA PREVIDENCIÁRIO. PENSÃO POR MORTE. PROVA...   NÃO PROVIMENTO   \n",
              "\n",
              "  n_tokens_acordao  \n",
              "0            381.0  \n",
              "1              0.1  \n",
              "2              0.1  \n",
              "3           1214.0  \n",
              "4           1962.0  \n",
              "\n",
              "[5 rows x 46 columns]"
            ],
            "text/html": [
              "\n",
              "  <div id=\"df-4ef86709-56c7-48cf-9234-763a5c2e7e8f\">\n",
              "    <div class=\"colab-df-container\">\n",
              "      <div>\n",
              "<style scoped>\n",
              "    .dataframe tbody tr th:only-of-type {\n",
              "        vertical-align: middle;\n",
              "    }\n",
              "\n",
              "    .dataframe tbody tr th {\n",
              "        vertical-align: top;\n",
              "    }\n",
              "\n",
              "    .dataframe thead th {\n",
              "        text-align: right;\n",
              "    }\n",
              "</style>\n",
              "<table border=\"1\" class=\"dataframe\">\n",
              "  <thead>\n",
              "    <tr style=\"text-align: right;\">\n",
              "      <th></th>\n",
              "      <th>num_processo</th>\n",
              "      <th>data_ajuizamento</th>\n",
              "      <th>data_primeira_movimentacao_processual</th>\n",
              "      <th>data_ultima_movimentacao</th>\n",
              "      <th>autor</th>\n",
              "      <th>reu</th>\n",
              "      <th>tutela_antecipada</th>\n",
              "      <th>vara</th>\n",
              "      <th>titular_substituto</th>\n",
              "      <th>classe_atual</th>\n",
              "      <th>...</th>\n",
              "      <th>resultado_1_grau</th>\n",
              "      <th>conteudo_sentenca</th>\n",
              "      <th>n_dias_ate_sentenca</th>\n",
              "      <th>n_tokens_sentenca</th>\n",
              "      <th>relator_acordao</th>\n",
              "      <th>data_sessao_tr</th>\n",
              "      <th>data_acordao</th>\n",
              "      <th>conteudo_acordao</th>\n",
              "      <th>resultado_2_grau</th>\n",
              "      <th>n_tokens_acordao</th>\n",
              "    </tr>\n",
              "  </thead>\n",
              "  <tbody>\n",
              "    <tr>\n",
              "      <th>0</th>\n",
              "      <td>0500454-62.2017.4.05.8402</td>\n",
              "      <td>2017-03-06 00:00:00</td>\n",
              "      <td>2017-03-06 11:01:00</td>\n",
              "      <td>2017-10-30 10:07:00</td>\n",
              "      <td>Lourival Francisco da Silva (027.173.384-54)\\n...</td>\n",
              "      <td>Fazenda Nacional (00.394.460/0239-40)\\nMunicíp...</td>\n",
              "      <td>N</td>\n",
              "      <td>9-RN</td>\n",
              "      <td>Titular</td>\n",
              "      <td>Execução de Título Judicial</td>\n",
              "      <td>...</td>\n",
              "      <td>PROCEDENTE</td>\n",
              "      <td>SENTENÇA 1. Relatório Cuida-se de ação propost...</td>\n",
              "      <td>76.307593</td>\n",
              "      <td>1309</td>\n",
              "      <td>Almiro José da Rocha Lemos</td>\n",
              "      <td>2017-08-09 09:00:00</td>\n",
              "      <td>2017-08-14 10:46:34</td>\n",
              "      <td>PROCESSO 0500454-62.2017.4.05.8402  EMENTA:DIR...</td>\n",
              "      <td>NÃO PROVIMENTO</td>\n",
              "      <td>381.0</td>\n",
              "    </tr>\n",
              "    <tr>\n",
              "      <th>1</th>\n",
              "      <td>0517700-16.2013.4.05.8013</td>\n",
              "      <td>2013-10-09 00:00:00</td>\n",
              "      <td>2013-10-09 20:54:00</td>\n",
              "      <td>NaN</td>\n",
              "      <td>MARIA LUCIA CARDOSO (382.242.084-00)\\nEmanuel ...</td>\n",
              "      <td>Caixa Econômica Federal (00.360.305/0001-04)</td>\n",
              "      <td>N</td>\n",
              "      <td>9-AL</td>\n",
              "      <td>Titular</td>\n",
              "      <td>Procedimento do Juizado Especial Cível</td>\n",
              "      <td>...</td>\n",
              "      <td>EXTINTO SEM MÉRITO</td>\n",
              "      <td>SENTENÇA Trata-se de ação especial cível, em c...</td>\n",
              "      <td>20.844491</td>\n",
              "      <td>263</td>\n",
              "      <td>NaN</td>\n",
              "      <td>NaN</td>\n",
              "      <td>NaN</td>\n",
              "      <td>NaN</td>\n",
              "      <td>NaN</td>\n",
              "      <td>0.1</td>\n",
              "    </tr>\n",
              "    <tr>\n",
              "      <th>2</th>\n",
              "      <td>0502388-07.2007.4.05.8305</td>\n",
              "      <td>2007-07-13 00:00:00</td>\n",
              "      <td>2007-07-13 13:51:00</td>\n",
              "      <td>NaN</td>\n",
              "      <td>QUITÉRIA BARBOSA DA SILVA NASCIMENTO (062.819....</td>\n",
              "      <td>Instituto Nacional do Seguro Social - INSS (29...</td>\n",
              "      <td>N</td>\n",
              "      <td>23-PE</td>\n",
              "      <td>Titular</td>\n",
              "      <td>Procedimento do Juizado Especial Cível</td>\n",
              "      <td>...</td>\n",
              "      <td>EXTINTO SEM MÉRITO</td>\n",
              "      <td>SENTENÇA Vistos etc. Trata-se de ação especial...</td>\n",
              "      <td>143.822245</td>\n",
              "      <td>956</td>\n",
              "      <td>NaN</td>\n",
              "      <td>NaN</td>\n",
              "      <td>NaN</td>\n",
              "      <td>NaN</td>\n",
              "      <td>NaN</td>\n",
              "      <td>0.1</td>\n",
              "    </tr>\n",
              "    <tr>\n",
              "      <th>3</th>\n",
              "      <td>0503551-02.2014.4.05.8103</td>\n",
              "      <td>2014-04-02 00:00:00</td>\n",
              "      <td>2014-04-02 11:02:00</td>\n",
              "      <td>NaN</td>\n",
              "      <td>Emanuela Carneiro Tabosa (777.839.723-49)\\nBru...</td>\n",
              "      <td>UNIÃO (FAZENDA NACIONAL) - Procuradoria da Faz...</td>\n",
              "      <td>N</td>\n",
              "      <td>19-CE</td>\n",
              "      <td>Titular</td>\n",
              "      <td>Procedimento do Juizado Especial Cível</td>\n",
              "      <td>...</td>\n",
              "      <td>PROCEDENTE</td>\n",
              "      <td>SENTENÇA I - RELATÓRIO Cuida-se de ação em que...</td>\n",
              "      <td>21.360567</td>\n",
              "      <td>3037</td>\n",
              "      <td>CÍNTIA MENEZES BRUNETTA</td>\n",
              "      <td>2014-06-25 13:30:00</td>\n",
              "      <td>2014-06-27 16:14:43</td>\n",
              "      <td>VOTO Relatório dispensado, nos termos do art. ...</td>\n",
              "      <td>NÃO PROVIMENTO</td>\n",
              "      <td>1214.0</td>\n",
              "    </tr>\n",
              "    <tr>\n",
              "      <th>4</th>\n",
              "      <td>0503488-94.2016.4.05.8300</td>\n",
              "      <td>2016-03-21 00:00:00</td>\n",
              "      <td>2016-03-21 11:04:00</td>\n",
              "      <td>2019-02-19 13:16:00</td>\n",
              "      <td>Lúcio Flavio de Lima Albuquerque (095.403.004-...</td>\n",
              "      <td>ANGELA MARIA DO NASCIMENTO SILVA (157.771.544-...</td>\n",
              "      <td>N</td>\n",
              "      <td>19-PE</td>\n",
              "      <td>Substituto</td>\n",
              "      <td>Procedimento do Juizado Especial Cível</td>\n",
              "      <td>...</td>\n",
              "      <td>IMPROCEDENTE</td>\n",
              "      <td>SENTENÇA Tipo A I – RELATÓRIO Dispensado o rel...</td>\n",
              "      <td>784.066493</td>\n",
              "      <td>2099</td>\n",
              "      <td>Joaquim Lustosa Filho</td>\n",
              "      <td>2018-06-19 10:00:00</td>\n",
              "      <td>2018-06-19 15:01:56</td>\n",
              "      <td>EMENTA PREVIDENCIÁRIO. PENSÃO POR MORTE. PROVA...</td>\n",
              "      <td>NÃO PROVIMENTO</td>\n",
              "      <td>1962.0</td>\n",
              "    </tr>\n",
              "  </tbody>\n",
              "</table>\n",
              "<p>5 rows × 46 columns</p>\n",
              "</div>\n",
              "      <button class=\"colab-df-convert\" onclick=\"convertToInteractive('df-4ef86709-56c7-48cf-9234-763a5c2e7e8f')\"\n",
              "              title=\"Convert this dataframe to an interactive table.\"\n",
              "              style=\"display:none;\">\n",
              "        \n",
              "  <svg xmlns=\"http://www.w3.org/2000/svg\" height=\"24px\"viewBox=\"0 0 24 24\"\n",
              "       width=\"24px\">\n",
              "    <path d=\"M0 0h24v24H0V0z\" fill=\"none\"/>\n",
              "    <path d=\"M18.56 5.44l.94 2.06.94-2.06 2.06-.94-2.06-.94-.94-2.06-.94 2.06-2.06.94zm-11 1L8.5 8.5l.94-2.06 2.06-.94-2.06-.94L8.5 2.5l-.94 2.06-2.06.94zm10 10l.94 2.06.94-2.06 2.06-.94-2.06-.94-.94-2.06-.94 2.06-2.06.94z\"/><path d=\"M17.41 7.96l-1.37-1.37c-.4-.4-.92-.59-1.43-.59-.52 0-1.04.2-1.43.59L10.3 9.45l-7.72 7.72c-.78.78-.78 2.05 0 2.83L4 21.41c.39.39.9.59 1.41.59.51 0 1.02-.2 1.41-.59l7.78-7.78 2.81-2.81c.8-.78.8-2.07 0-2.86zM5.41 20L4 18.59l7.72-7.72 1.47 1.35L5.41 20z\"/>\n",
              "  </svg>\n",
              "      </button>\n",
              "      \n",
              "  <style>\n",
              "    .colab-df-container {\n",
              "      display:flex;\n",
              "      flex-wrap:wrap;\n",
              "      gap: 12px;\n",
              "    }\n",
              "\n",
              "    .colab-df-convert {\n",
              "      background-color: #E8F0FE;\n",
              "      border: none;\n",
              "      border-radius: 50%;\n",
              "      cursor: pointer;\n",
              "      display: none;\n",
              "      fill: #1967D2;\n",
              "      height: 32px;\n",
              "      padding: 0 0 0 0;\n",
              "      width: 32px;\n",
              "    }\n",
              "\n",
              "    .colab-df-convert:hover {\n",
              "      background-color: #E2EBFA;\n",
              "      box-shadow: 0px 1px 2px rgba(60, 64, 67, 0.3), 0px 1px 3px 1px rgba(60, 64, 67, 0.15);\n",
              "      fill: #174EA6;\n",
              "    }\n",
              "\n",
              "    [theme=dark] .colab-df-convert {\n",
              "      background-color: #3B4455;\n",
              "      fill: #D2E3FC;\n",
              "    }\n",
              "\n",
              "    [theme=dark] .colab-df-convert:hover {\n",
              "      background-color: #434B5C;\n",
              "      box-shadow: 0px 1px 3px 1px rgba(0, 0, 0, 0.15);\n",
              "      filter: drop-shadow(0px 1px 2px rgba(0, 0, 0, 0.3));\n",
              "      fill: #FFFFFF;\n",
              "    }\n",
              "  </style>\n",
              "\n",
              "      <script>\n",
              "        const buttonEl =\n",
              "          document.querySelector('#df-4ef86709-56c7-48cf-9234-763a5c2e7e8f button.colab-df-convert');\n",
              "        buttonEl.style.display =\n",
              "          google.colab.kernel.accessAllowed ? 'block' : 'none';\n",
              "\n",
              "        async function convertToInteractive(key) {\n",
              "          const element = document.querySelector('#df-4ef86709-56c7-48cf-9234-763a5c2e7e8f');\n",
              "          const dataTable =\n",
              "            await google.colab.kernel.invokeFunction('convertToInteractive',\n",
              "                                                     [key], {});\n",
              "          if (!dataTable) return;\n",
              "\n",
              "          const docLinkHtml = 'Like what you see? Visit the ' +\n",
              "            '<a target=\"_blank\" href=https://colab.research.google.com/notebooks/data_table.ipynb>data table notebook</a>'\n",
              "            + ' to learn more about interactive tables.';\n",
              "          element.innerHTML = '';\n",
              "          dataTable['output_type'] = 'display_data';\n",
              "          await google.colab.output.renderOutput(dataTable, element);\n",
              "          const docLink = document.createElement('div');\n",
              "          docLink.innerHTML = docLinkHtml;\n",
              "          element.appendChild(docLink);\n",
              "        }\n",
              "      </script>\n",
              "    </div>\n",
              "  </div>\n",
              "  "
            ]
          },
          "metadata": {},
          "execution_count": 9
        }
      ]
    },
    {
      "cell_type": "code",
      "source": [
        "columns = ['assunto_cnj','conteudo_sentenca']\n",
        "df = df[columns]"
      ],
      "metadata": {
        "id": "4KUBNIMxgcHX"
      },
      "execution_count": null,
      "outputs": []
    },
    {
      "cell_type": "code",
      "source": [
        "print(\"Shape depois da limpeza: \", df.shape)"
      ],
      "metadata": {
        "colab": {
          "base_uri": "https://localhost:8080/"
        },
        "id": "UHx9U4q4MP24",
        "outputId": "4c9202c6-e1b2-4bb3-d691-5868fc9c88b4"
      },
      "execution_count": null,
      "outputs": [
        {
          "output_type": "stream",
          "name": "stdout",
          "text": [
            "Shape depois da limpeza:  (5000, 2)\n"
          ]
        }
      ]
    },
    {
      "cell_type": "code",
      "source": [
        "print(df.dtypes.value_counts())"
      ],
      "metadata": {
        "colab": {
          "base_uri": "https://localhost:8080/"
        },
        "id": "IVDzhOcTeHwu",
        "outputId": "c6fb2a17-3121-4b92-ffe1-91745d7f2507"
      },
      "execution_count": null,
      "outputs": [
        {
          "output_type": "stream",
          "name": "stdout",
          "text": [
            "object    2\n",
            "dtype: int64\n"
          ]
        }
      ]
    },
    {
      "cell_type": "code",
      "source": [
        "df['assunto_cnj'].value_counts()"
      ],
      "metadata": {
        "colab": {
          "base_uri": "https://localhost:8080/"
        },
        "id": "AVD0KIpaWtxE",
        "outputId": "08b36a40-ea8f-45da-c9af-841e1f15ce9a"
      },
      "execution_count": null,
      "outputs": [
        {
          "output_type": "execute_result",
          "data": {
            "text/plain": [
              "Direito Previdenciário                                         4059\n",
              "Direito Administrativo e outras matérias do Direito Público     471\n",
              "Direito do Consumidor                                           171\n",
              "Direito Civil                                                   146\n",
              "Direito Tributário                                              129\n",
              "Direito Processual Civil e do Trabalho                           12\n",
              "Direito do Trabalho                                              11\n",
              "Direito Penal                                                     1\n",
              "Name: assunto_cnj, dtype: int64"
            ]
          },
          "metadata": {},
          "execution_count": 13
        }
      ]
    },
    {
      "cell_type": "markdown",
      "source": [
        "Como o assunto *Direito Penal* possui apenas um dado, não é possível dividí-lo entre treinamento e teste. Assim, vamos retirar essa linha do dataset."
      ],
      "metadata": {
        "id": "mvE3iZNuBLH1"
      }
    },
    {
      "cell_type": "code",
      "source": [
        "df = df[df['assunto_cnj'] != 'Direito Penal']\n",
        "df['assunto_cnj'].value_counts()"
      ],
      "metadata": {
        "colab": {
          "base_uri": "https://localhost:8080/"
        },
        "id": "1dPa0IUzBkhF",
        "outputId": "682aa17e-e822-4ee4-cc2a-887e7dc37f1c"
      },
      "execution_count": null,
      "outputs": [
        {
          "output_type": "execute_result",
          "data": {
            "text/plain": [
              "Direito Previdenciário                                         4059\n",
              "Direito Administrativo e outras matérias do Direito Público     471\n",
              "Direito do Consumidor                                           171\n",
              "Direito Civil                                                   146\n",
              "Direito Tributário                                              129\n",
              "Direito Processual Civil e do Trabalho                           12\n",
              "Direito do Trabalho                                              11\n",
              "Name: assunto_cnj, dtype: int64"
            ]
          },
          "metadata": {},
          "execution_count": 19
        }
      ]
    },
    {
      "cell_type": "code",
      "source": [
        "df.info()"
      ],
      "metadata": {
        "colab": {
          "base_uri": "https://localhost:8080/"
        },
        "id": "hNgwn-A2NGS-",
        "outputId": "7f9a20f8-a411-4930-ea15-3c02029b8925"
      },
      "execution_count": null,
      "outputs": [
        {
          "output_type": "stream",
          "name": "stdout",
          "text": [
            "<class 'pandas.core.frame.DataFrame'>\n",
            "Int64Index: 4999 entries, 0 to 4999\n",
            "Data columns (total 2 columns):\n",
            " #   Column             Non-Null Count  Dtype \n",
            "---  ------             --------------  ----- \n",
            " 0   assunto_cnj        4999 non-null   object\n",
            " 1   conteudo_sentenca  4999 non-null   object\n",
            "dtypes: object(2)\n",
            "memory usage: 117.2+ KB\n"
          ]
        }
      ]
    },
    {
      "cell_type": "code",
      "source": [
        "df.head()"
      ],
      "metadata": {
        "colab": {
          "base_uri": "https://localhost:8080/",
          "height": 206
        },
        "id": "16n65WsmNXZw",
        "outputId": "ca7f04c3-e350-4be4-c496-77b61a2557c8"
      },
      "execution_count": null,
      "outputs": [
        {
          "output_type": "execute_result",
          "data": {
            "text/plain": [
              "              assunto_cnj                                  conteudo_sentenca\n",
              "0      Direito Tributário  SENTENÇA 1. Relatório Cuida-se de ação propost...\n",
              "1           Direito Civil  SENTENÇA Trata-se de ação especial cível, em c...\n",
              "2  Direito Previdenciário  SENTENÇA Vistos etc. Trata-se de ação especial...\n",
              "3      Direito Tributário  SENTENÇA I - RELATÓRIO Cuida-se de ação em que...\n",
              "4  Direito Previdenciário  SENTENÇA Tipo A I – RELATÓRIO Dispensado o rel..."
            ],
            "text/html": [
              "\n",
              "  <div id=\"df-3c47f838-45d5-4e90-8a92-90cb54093058\">\n",
              "    <div class=\"colab-df-container\">\n",
              "      <div>\n",
              "<style scoped>\n",
              "    .dataframe tbody tr th:only-of-type {\n",
              "        vertical-align: middle;\n",
              "    }\n",
              "\n",
              "    .dataframe tbody tr th {\n",
              "        vertical-align: top;\n",
              "    }\n",
              "\n",
              "    .dataframe thead th {\n",
              "        text-align: right;\n",
              "    }\n",
              "</style>\n",
              "<table border=\"1\" class=\"dataframe\">\n",
              "  <thead>\n",
              "    <tr style=\"text-align: right;\">\n",
              "      <th></th>\n",
              "      <th>assunto_cnj</th>\n",
              "      <th>conteudo_sentenca</th>\n",
              "    </tr>\n",
              "  </thead>\n",
              "  <tbody>\n",
              "    <tr>\n",
              "      <th>0</th>\n",
              "      <td>Direito Tributário</td>\n",
              "      <td>SENTENÇA 1. Relatório Cuida-se de ação propost...</td>\n",
              "    </tr>\n",
              "    <tr>\n",
              "      <th>1</th>\n",
              "      <td>Direito Civil</td>\n",
              "      <td>SENTENÇA Trata-se de ação especial cível, em c...</td>\n",
              "    </tr>\n",
              "    <tr>\n",
              "      <th>2</th>\n",
              "      <td>Direito Previdenciário</td>\n",
              "      <td>SENTENÇA Vistos etc. Trata-se de ação especial...</td>\n",
              "    </tr>\n",
              "    <tr>\n",
              "      <th>3</th>\n",
              "      <td>Direito Tributário</td>\n",
              "      <td>SENTENÇA I - RELATÓRIO Cuida-se de ação em que...</td>\n",
              "    </tr>\n",
              "    <tr>\n",
              "      <th>4</th>\n",
              "      <td>Direito Previdenciário</td>\n",
              "      <td>SENTENÇA Tipo A I – RELATÓRIO Dispensado o rel...</td>\n",
              "    </tr>\n",
              "  </tbody>\n",
              "</table>\n",
              "</div>\n",
              "      <button class=\"colab-df-convert\" onclick=\"convertToInteractive('df-3c47f838-45d5-4e90-8a92-90cb54093058')\"\n",
              "              title=\"Convert this dataframe to an interactive table.\"\n",
              "              style=\"display:none;\">\n",
              "        \n",
              "  <svg xmlns=\"http://www.w3.org/2000/svg\" height=\"24px\"viewBox=\"0 0 24 24\"\n",
              "       width=\"24px\">\n",
              "    <path d=\"M0 0h24v24H0V0z\" fill=\"none\"/>\n",
              "    <path d=\"M18.56 5.44l.94 2.06.94-2.06 2.06-.94-2.06-.94-.94-2.06-.94 2.06-2.06.94zm-11 1L8.5 8.5l.94-2.06 2.06-.94-2.06-.94L8.5 2.5l-.94 2.06-2.06.94zm10 10l.94 2.06.94-2.06 2.06-.94-2.06-.94-.94-2.06-.94 2.06-2.06.94z\"/><path d=\"M17.41 7.96l-1.37-1.37c-.4-.4-.92-.59-1.43-.59-.52 0-1.04.2-1.43.59L10.3 9.45l-7.72 7.72c-.78.78-.78 2.05 0 2.83L4 21.41c.39.39.9.59 1.41.59.51 0 1.02-.2 1.41-.59l7.78-7.78 2.81-2.81c.8-.78.8-2.07 0-2.86zM5.41 20L4 18.59l7.72-7.72 1.47 1.35L5.41 20z\"/>\n",
              "  </svg>\n",
              "      </button>\n",
              "      \n",
              "  <style>\n",
              "    .colab-df-container {\n",
              "      display:flex;\n",
              "      flex-wrap:wrap;\n",
              "      gap: 12px;\n",
              "    }\n",
              "\n",
              "    .colab-df-convert {\n",
              "      background-color: #E8F0FE;\n",
              "      border: none;\n",
              "      border-radius: 50%;\n",
              "      cursor: pointer;\n",
              "      display: none;\n",
              "      fill: #1967D2;\n",
              "      height: 32px;\n",
              "      padding: 0 0 0 0;\n",
              "      width: 32px;\n",
              "    }\n",
              "\n",
              "    .colab-df-convert:hover {\n",
              "      background-color: #E2EBFA;\n",
              "      box-shadow: 0px 1px 2px rgba(60, 64, 67, 0.3), 0px 1px 3px 1px rgba(60, 64, 67, 0.15);\n",
              "      fill: #174EA6;\n",
              "    }\n",
              "\n",
              "    [theme=dark] .colab-df-convert {\n",
              "      background-color: #3B4455;\n",
              "      fill: #D2E3FC;\n",
              "    }\n",
              "\n",
              "    [theme=dark] .colab-df-convert:hover {\n",
              "      background-color: #434B5C;\n",
              "      box-shadow: 0px 1px 3px 1px rgba(0, 0, 0, 0.15);\n",
              "      filter: drop-shadow(0px 1px 2px rgba(0, 0, 0, 0.3));\n",
              "      fill: #FFFFFF;\n",
              "    }\n",
              "  </style>\n",
              "\n",
              "      <script>\n",
              "        const buttonEl =\n",
              "          document.querySelector('#df-3c47f838-45d5-4e90-8a92-90cb54093058 button.colab-df-convert');\n",
              "        buttonEl.style.display =\n",
              "          google.colab.kernel.accessAllowed ? 'block' : 'none';\n",
              "\n",
              "        async function convertToInteractive(key) {\n",
              "          const element = document.querySelector('#df-3c47f838-45d5-4e90-8a92-90cb54093058');\n",
              "          const dataTable =\n",
              "            await google.colab.kernel.invokeFunction('convertToInteractive',\n",
              "                                                     [key], {});\n",
              "          if (!dataTable) return;\n",
              "\n",
              "          const docLinkHtml = 'Like what you see? Visit the ' +\n",
              "            '<a target=\"_blank\" href=https://colab.research.google.com/notebooks/data_table.ipynb>data table notebook</a>'\n",
              "            + ' to learn more about interactive tables.';\n",
              "          element.innerHTML = '';\n",
              "          dataTable['output_type'] = 'display_data';\n",
              "          await google.colab.output.renderOutput(dataTable, element);\n",
              "          const docLink = document.createElement('div');\n",
              "          docLink.innerHTML = docLinkHtml;\n",
              "          element.appendChild(docLink);\n",
              "        }\n",
              "      </script>\n",
              "    </div>\n",
              "  </div>\n",
              "  "
            ]
          },
          "metadata": {},
          "execution_count": 21
        }
      ]
    },
    {
      "cell_type": "code",
      "source": [
        "# Gerando um \"clean data file\"\n",
        "df.to_csv(artifact_name,index=False)"
      ],
      "metadata": {
        "id": "A6jOUoughXTC"
      },
      "execution_count": null,
      "outputs": []
    },
    {
      "cell_type": "code",
      "execution_count": null,
      "metadata": {
        "id": "4WkUfOnkYI5l",
        "colab": {
          "base_uri": "https://localhost:8080/"
        },
        "outputId": "e801cce7-b3d9-4563-fcfc-c382c6f88269"
      },
      "outputs": [
        {
          "output_type": "execute_result",
          "data": {
            "text/plain": [
              "<ManifestEntry digest: jQV4LLQND79g2+DLxPAsWA==>"
            ]
          },
          "metadata": {},
          "execution_count": 23
        }
      ],
      "source": [
        "# Criação e configuração do novo artefato no wandb\n",
        "artifact = wandb.Artifact(name=artifact_name,\n",
        "                          type=artifact_type,\n",
        "                          description=artifact_description)\n",
        "artifact.add_file(artifact_name)"
      ]
    },
    {
      "cell_type": "code",
      "execution_count": null,
      "metadata": {
        "id": "0dVXWRhmGmOn",
        "colab": {
          "base_uri": "https://localhost:8080/"
        },
        "outputId": "4e8e99aa-b002-43f8-e9b0-6d9ed37c6bf6"
      },
      "outputs": [
        {
          "output_type": "execute_result",
          "data": {
            "text/plain": [
              "<wandb.sdk.wandb_artifacts.Artifact at 0x7fd9ba919e90>"
            ]
          },
          "metadata": {},
          "execution_count": 24
        }
      ],
      "source": [
        "# Upload do artifact no Wandb\n",
        "run.log_artifact(artifact)"
      ]
    },
    {
      "cell_type": "code",
      "source": [
        "# close the run\n",
        "run.finish()"
      ],
      "metadata": {
        "colab": {
          "base_uri": "https://localhost:8080/",
          "height": 87,
          "referenced_widgets": [
            "673372c8a2f3417d814dd88c3ef32140",
            "dbe663f5dc70410aacca8f33dcb27cfe",
            "2291b8d1b71e4ff99980b11cb7274bfd",
            "7e5092db9b38433a8027bd4ddd6dcc49",
            "bebd73df31524d6eaf882a3f89d3b3ee",
            "0eea1bf8003b4da8a8bf771c426f5394",
            "5ec97c095e944e13b3aa198cc17b3e2c",
            "872817ce02604bb5ade7f79e71689f65"
          ]
        },
        "id": "mqRqmqbDp3Zc",
        "outputId": "60853aa2-4f78-45d1-9f29-05f1d16c9856"
      },
      "execution_count": null,
      "outputs": [
        {
          "output_type": "display_data",
          "data": {
            "text/plain": [
              "<IPython.core.display.HTML object>"
            ],
            "text/html": [
              "Waiting for W&B process to finish... <strong style=\"color:green\">(success).</strong>"
            ]
          },
          "metadata": {}
        },
        {
          "output_type": "display_data",
          "data": {
            "text/plain": [
              "VBox(children=(Label(value='31.659 MB of 31.659 MB uploaded (0.000 MB deduped)\\r'), FloatProgress(value=1.0, m…"
            ],
            "application/vnd.jupyter.widget-view+json": {
              "version_major": 2,
              "version_minor": 0,
              "model_id": "673372c8a2f3417d814dd88c3ef32140"
            }
          },
          "metadata": {}
        },
        {
          "output_type": "display_data",
          "data": {
            "text/plain": [
              "<IPython.core.display.HTML object>"
            ],
            "text/html": [
              "Synced <strong style=\"color:#cdcd00\">major-wind-10</strong>: <a href=\"https://wandb.ai/morsinaldo/nlp_bolsa/runs/2ctf07by\" target=\"_blank\">https://wandb.ai/morsinaldo/nlp_bolsa/runs/2ctf07by</a><br/>Synced 5 W&B file(s), 0 media file(s), 1 artifact file(s) and 0 other file(s)"
            ]
          },
          "metadata": {}
        },
        {
          "output_type": "display_data",
          "data": {
            "text/plain": [
              "<IPython.core.display.HTML object>"
            ],
            "text/html": [
              "Find logs at: <code>./wandb/run-20220717_120012-2ctf07by/logs</code>"
            ]
          },
          "metadata": {}
        }
      ]
    }
  ],
  "metadata": {
    "colab": {
      "collapsed_sections": [],
      "name": "3 - preprocessing.ipynb",
      "provenance": []
    },
    "kernelspec": {
      "display_name": "Python 3",
      "language": "python",
      "name": "python3"
    },
    "language_info": {
      "codemirror_mode": {
        "name": "ipython",
        "version": 3
      },
      "file_extension": ".py",
      "mimetype": "text/x-python",
      "name": "python",
      "nbconvert_exporter": "python",
      "pygments_lexer": "ipython3",
      "version": "3.8.12"
    },
    "widgets": {
      "application/vnd.jupyter.widget-state+json": {
        "673372c8a2f3417d814dd88c3ef32140": {
          "model_module": "@jupyter-widgets/controls",
          "model_name": "VBoxModel",
          "model_module_version": "1.5.0",
          "state": {
            "_dom_classes": [],
            "_model_module": "@jupyter-widgets/controls",
            "_model_module_version": "1.5.0",
            "_model_name": "VBoxModel",
            "_view_count": null,
            "_view_module": "@jupyter-widgets/controls",
            "_view_module_version": "1.5.0",
            "_view_name": "VBoxView",
            "box_style": "",
            "children": [
              "IPY_MODEL_dbe663f5dc70410aacca8f33dcb27cfe",
              "IPY_MODEL_2291b8d1b71e4ff99980b11cb7274bfd"
            ],
            "layout": "IPY_MODEL_7e5092db9b38433a8027bd4ddd6dcc49"
          }
        },
        "dbe663f5dc70410aacca8f33dcb27cfe": {
          "model_module": "@jupyter-widgets/controls",
          "model_name": "LabelModel",
          "model_module_version": "1.5.0",
          "state": {
            "_dom_classes": [],
            "_model_module": "@jupyter-widgets/controls",
            "_model_module_version": "1.5.0",
            "_model_name": "LabelModel",
            "_view_count": null,
            "_view_module": "@jupyter-widgets/controls",
            "_view_module_version": "1.5.0",
            "_view_name": "LabelView",
            "description": "",
            "description_tooltip": null,
            "layout": "IPY_MODEL_bebd73df31524d6eaf882a3f89d3b3ee",
            "placeholder": "​",
            "style": "IPY_MODEL_0eea1bf8003b4da8a8bf771c426f5394",
            "value": "31.667 MB of 31.667 MB uploaded (0.000 MB deduped)\r"
          }
        },
        "2291b8d1b71e4ff99980b11cb7274bfd": {
          "model_module": "@jupyter-widgets/controls",
          "model_name": "FloatProgressModel",
          "model_module_version": "1.5.0",
          "state": {
            "_dom_classes": [],
            "_model_module": "@jupyter-widgets/controls",
            "_model_module_version": "1.5.0",
            "_model_name": "FloatProgressModel",
            "_view_count": null,
            "_view_module": "@jupyter-widgets/controls",
            "_view_module_version": "1.5.0",
            "_view_name": "ProgressView",
            "bar_style": "",
            "description": "",
            "description_tooltip": null,
            "layout": "IPY_MODEL_5ec97c095e944e13b3aa198cc17b3e2c",
            "max": 1,
            "min": 0,
            "orientation": "horizontal",
            "style": "IPY_MODEL_872817ce02604bb5ade7f79e71689f65",
            "value": 1
          }
        },
        "7e5092db9b38433a8027bd4ddd6dcc49": {
          "model_module": "@jupyter-widgets/base",
          "model_name": "LayoutModel",
          "model_module_version": "1.2.0",
          "state": {
            "_model_module": "@jupyter-widgets/base",
            "_model_module_version": "1.2.0",
            "_model_name": "LayoutModel",
            "_view_count": null,
            "_view_module": "@jupyter-widgets/base",
            "_view_module_version": "1.2.0",
            "_view_name": "LayoutView",
            "align_content": null,
            "align_items": null,
            "align_self": null,
            "border": null,
            "bottom": null,
            "display": null,
            "flex": null,
            "flex_flow": null,
            "grid_area": null,
            "grid_auto_columns": null,
            "grid_auto_flow": null,
            "grid_auto_rows": null,
            "grid_column": null,
            "grid_gap": null,
            "grid_row": null,
            "grid_template_areas": null,
            "grid_template_columns": null,
            "grid_template_rows": null,
            "height": null,
            "justify_content": null,
            "justify_items": null,
            "left": null,
            "margin": null,
            "max_height": null,
            "max_width": null,
            "min_height": null,
            "min_width": null,
            "object_fit": null,
            "object_position": null,
            "order": null,
            "overflow": null,
            "overflow_x": null,
            "overflow_y": null,
            "padding": null,
            "right": null,
            "top": null,
            "visibility": null,
            "width": null
          }
        },
        "bebd73df31524d6eaf882a3f89d3b3ee": {
          "model_module": "@jupyter-widgets/base",
          "model_name": "LayoutModel",
          "model_module_version": "1.2.0",
          "state": {
            "_model_module": "@jupyter-widgets/base",
            "_model_module_version": "1.2.0",
            "_model_name": "LayoutModel",
            "_view_count": null,
            "_view_module": "@jupyter-widgets/base",
            "_view_module_version": "1.2.0",
            "_view_name": "LayoutView",
            "align_content": null,
            "align_items": null,
            "align_self": null,
            "border": null,
            "bottom": null,
            "display": null,
            "flex": null,
            "flex_flow": null,
            "grid_area": null,
            "grid_auto_columns": null,
            "grid_auto_flow": null,
            "grid_auto_rows": null,
            "grid_column": null,
            "grid_gap": null,
            "grid_row": null,
            "grid_template_areas": null,
            "grid_template_columns": null,
            "grid_template_rows": null,
            "height": null,
            "justify_content": null,
            "justify_items": null,
            "left": null,
            "margin": null,
            "max_height": null,
            "max_width": null,
            "min_height": null,
            "min_width": null,
            "object_fit": null,
            "object_position": null,
            "order": null,
            "overflow": null,
            "overflow_x": null,
            "overflow_y": null,
            "padding": null,
            "right": null,
            "top": null,
            "visibility": null,
            "width": null
          }
        },
        "0eea1bf8003b4da8a8bf771c426f5394": {
          "model_module": "@jupyter-widgets/controls",
          "model_name": "DescriptionStyleModel",
          "model_module_version": "1.5.0",
          "state": {
            "_model_module": "@jupyter-widgets/controls",
            "_model_module_version": "1.5.0",
            "_model_name": "DescriptionStyleModel",
            "_view_count": null,
            "_view_module": "@jupyter-widgets/base",
            "_view_module_version": "1.2.0",
            "_view_name": "StyleView",
            "description_width": ""
          }
        },
        "5ec97c095e944e13b3aa198cc17b3e2c": {
          "model_module": "@jupyter-widgets/base",
          "model_name": "LayoutModel",
          "model_module_version": "1.2.0",
          "state": {
            "_model_module": "@jupyter-widgets/base",
            "_model_module_version": "1.2.0",
            "_model_name": "LayoutModel",
            "_view_count": null,
            "_view_module": "@jupyter-widgets/base",
            "_view_module_version": "1.2.0",
            "_view_name": "LayoutView",
            "align_content": null,
            "align_items": null,
            "align_self": null,
            "border": null,
            "bottom": null,
            "display": null,
            "flex": null,
            "flex_flow": null,
            "grid_area": null,
            "grid_auto_columns": null,
            "grid_auto_flow": null,
            "grid_auto_rows": null,
            "grid_column": null,
            "grid_gap": null,
            "grid_row": null,
            "grid_template_areas": null,
            "grid_template_columns": null,
            "grid_template_rows": null,
            "height": null,
            "justify_content": null,
            "justify_items": null,
            "left": null,
            "margin": null,
            "max_height": null,
            "max_width": null,
            "min_height": null,
            "min_width": null,
            "object_fit": null,
            "object_position": null,
            "order": null,
            "overflow": null,
            "overflow_x": null,
            "overflow_y": null,
            "padding": null,
            "right": null,
            "top": null,
            "visibility": null,
            "width": null
          }
        },
        "872817ce02604bb5ade7f79e71689f65": {
          "model_module": "@jupyter-widgets/controls",
          "model_name": "ProgressStyleModel",
          "model_module_version": "1.5.0",
          "state": {
            "_model_module": "@jupyter-widgets/controls",
            "_model_module_version": "1.5.0",
            "_model_name": "ProgressStyleModel",
            "_view_count": null,
            "_view_module": "@jupyter-widgets/base",
            "_view_module_version": "1.2.0",
            "_view_name": "StyleView",
            "bar_color": null,
            "description_width": ""
          }
        }
      }
    }
  },
  "nbformat": 4,
  "nbformat_minor": 0
}