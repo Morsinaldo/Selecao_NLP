{
  "cells": [
    {
      "cell_type": "markdown",
      "metadata": {
        "id": "0I4pgzLVtBTP",
        "tags": []
      },
      "source": [
        "# 1.0 Um problema de classificação de ponta-a-ponta usando NLP\n"
      ]
    },
    {
      "cell_type": "markdown",
      "metadata": {
        "id": "Dh34gim6KPtT",
        "tags": []
      },
      "source": [
        "## 1.1 Descrição do dataset"
      ]
    },
    {
      "cell_type": "markdown",
      "metadata": {
        "id": "iE8OJoDZ5AFK"
      },
      "source": [
        "O dataset contém informações gerais de 5.000 processos julgados\n",
        "nos Juizados Especiais Federais dentro das Seções Judiciárias do Tribunal Regional Federal da 5a Região (https://www.trf5.jus.br). Os dados são oriundos da raspagem da consulta pública processual. Além disso, ele possui 46 colunas, das quais duas possuem texto livre:\n",
        "\"conteudo_sentenca\" e \"conteudo_acordao\".\n",
        "\n",
        "O dataset pode ser baixado no link a seguir: https://jacob.al/dataset_juizados \n",
        "\n",
        "Ao longo dos notebooks, vão ser realizados os seguintes passos:\n",
        "\n",
        "1. Importação do dataset\n",
        "2. Análise exploratória dos dados\n",
        "3. Pré-processamento\n",
        "4. Verificação dos dados\n",
        "5. Segregação dos dados\n",
        "6. Treinamento\n",
        "7. Teste\n",
        "\n",
        "<center><img width=\"600\" src=\"https://drive.google.com/uc?export=view&id=1fKGuR5U5ECf7On6Zo1UWzAIWZrMmZnGc\"></center>\n"
      ]
    },
    {
      "cell_type": "markdown",
      "metadata": {
        "id": "7UpxKxU1Ej7f"
      },
      "source": [
        "## 1.2 Instalação e carregamento das bilbiotecas"
      ]
    },
    {
      "cell_type": "code",
      "source": [
        "!pip install wandb"
      ],
      "metadata": {
        "id": "Y6MAZ5-e7kgA"
      },
      "execution_count": null,
      "outputs": []
    },
    {
      "cell_type": "code",
      "execution_count": null,
      "metadata": {
        "id": "LASaVZuhRJlL",
        "tags": []
      },
      "outputs": [],
      "source": [
        "import wandb\n",
        "import pandas as pd"
      ]
    },
    {
      "cell_type": "markdown",
      "metadata": {
        "id": "Z74pHa-qHVrT"
      },
      "source": [
        "## 1.3 Importação dos dados"
      ]
    },
    {
      "cell_type": "markdown",
      "metadata": {
        "id": "MxzlOezZLWQ_"
      },
      "source": [
        "### 1.3.1 Criação do artefato raw_data"
      ]
    },
    {
      "cell_type": "markdown",
      "source": [
        "OBS.: Importe o arquivo 'sample.parquet' para o colab"
      ],
      "metadata": {
        "id": "8cKdL1jitWTr"
      }
    },
    {
      "cell_type": "code",
      "execution_count": null,
      "metadata": {
        "colab": {
          "base_uri": "https://localhost:8080/",
          "height": 647
        },
        "id": "i_n2KZu0usUv",
        "outputId": "a0634709-aac6-42c6-9661-f7bf94b0191c",
        "tags": []
      },
      "outputs": [
        {
          "output_type": "execute_result",
          "data": {
            "text/plain": [
              "                num_processo data_ajuizamento  \\\n",
              "0  0500454-62.2017.4.05.8402       2017-03-06   \n",
              "1  0517700-16.2013.4.05.8013       2013-10-09   \n",
              "2  0502388-07.2007.4.05.8305       2007-07-13   \n",
              "3  0503551-02.2014.4.05.8103       2014-04-02   \n",
              "4  0503488-94.2016.4.05.8300       2016-03-21   \n",
              "\n",
              "  data_primeira_movimentacao_processual data_ultima_movimentacao  \\\n",
              "0                   2017-03-06 11:01:00      2017-10-30 10:07:00   \n",
              "1                   2013-10-09 20:54:00                      NaT   \n",
              "2                   2007-07-13 13:51:00                      NaT   \n",
              "3                   2014-04-02 11:02:00                      NaT   \n",
              "4                   2016-03-21 11:04:00      2019-02-19 13:16:00   \n",
              "\n",
              "                                               autor  \\\n",
              "0  Lourival Francisco da Silva (027.173.384-54)\\n...   \n",
              "1  MARIA LUCIA CARDOSO (382.242.084-00)\\nEmanuel ...   \n",
              "2  QUITÉRIA BARBOSA DA SILVA NASCIMENTO (062.819....   \n",
              "3  Emanuela Carneiro Tabosa (777.839.723-49)\\nBru...   \n",
              "4  Lúcio Flavio de Lima Albuquerque (095.403.004-...   \n",
              "\n",
              "                                                 reu tutela_antecipada   vara  \\\n",
              "0  Fazenda Nacional (00.394.460/0239-40)\\nMunicíp...                 N   9-RN   \n",
              "1       Caixa Econômica Federal (00.360.305/0001-04)                 N   9-AL   \n",
              "2  Instituto Nacional do Seguro Social - INSS (29...                 N  23-PE   \n",
              "3  UNIÃO (FAZENDA NACIONAL) - Procuradoria da Faz...                 N  19-CE   \n",
              "4  ANGELA MARIA DO NASCIMENTO SILVA (157.771.544-...                 N  19-PE   \n",
              "\n",
              "  titular_substituto                            classe_atual  ...  \\\n",
              "0            Titular             Execução de Título Judicial  ...   \n",
              "1            Titular  Procedimento do Juizado Especial Cível  ...   \n",
              "2            Titular  Procedimento do Juizado Especial Cível  ...   \n",
              "3            Titular  Procedimento do Juizado Especial Cível  ...   \n",
              "4         Substituto  Procedimento do Juizado Especial Cível  ...   \n",
              "\n",
              "     resultado_1_grau                                  conteudo_sentenca  \\\n",
              "0          PROCEDENTE  SENTENÇA 1. Relatório Cuida-se de ação propost...   \n",
              "1  EXTINTO SEM MÉRITO  SENTENÇA Trata-se de ação especial cível, em c...   \n",
              "2  EXTINTO SEM MÉRITO  SENTENÇA Vistos etc. Trata-se de ação especial...   \n",
              "3          PROCEDENTE  SENTENÇA I - RELATÓRIO Cuida-se de ação em que...   \n",
              "4        IMPROCEDENTE  SENTENÇA Tipo A I – RELATÓRIO Dispensado o rel...   \n",
              "\n",
              "  n_dias_ate_sentenca n_tokens_sentenca             relator_acordao  \\\n",
              "0           76.307593              1309  Almiro José da Rocha Lemos   \n",
              "1           20.844491               263                         NaN   \n",
              "2          143.822245               956                         NaN   \n",
              "3           21.360567              3037     CÍNTIA MENEZES BRUNETTA   \n",
              "4          784.066493              2099       Joaquim Lustosa Filho   \n",
              "\n",
              "       data_sessao_tr        data_acordao  \\\n",
              "0 2017-08-09 09:00:00 2017-08-14 10:46:34   \n",
              "1                 NaT                 NaT   \n",
              "2                 NaT                 NaT   \n",
              "3 2014-06-25 13:30:00 2014-06-27 16:14:43   \n",
              "4 2018-06-19 10:00:00 2018-06-19 15:01:56   \n",
              "\n",
              "                                    conteudo_acordao resultado_2_grau  \\\n",
              "0  PROCESSO 0500454-62.2017.4.05.8402  EMENTA:DIR...   NÃO PROVIMENTO   \n",
              "1                                               None              NaN   \n",
              "2                                               None              NaN   \n",
              "3  VOTO Relatório dispensado, nos termos do art. ...   NÃO PROVIMENTO   \n",
              "4  EMENTA PREVIDENCIÁRIO. PENSÃO POR MORTE. PROVA...   NÃO PROVIMENTO   \n",
              "\n",
              "  n_tokens_acordao  \n",
              "0            381.0  \n",
              "1              0.1  \n",
              "2              0.1  \n",
              "3           1214.0  \n",
              "4           1962.0  \n",
              "\n",
              "[5 rows x 46 columns]"
            ],
            "text/html": [
              "\n",
              "  <div id=\"df-e3aae346-ea53-43d0-9806-9d23a03a5f10\">\n",
              "    <div class=\"colab-df-container\">\n",
              "      <div>\n",
              "<style scoped>\n",
              "    .dataframe tbody tr th:only-of-type {\n",
              "        vertical-align: middle;\n",
              "    }\n",
              "\n",
              "    .dataframe tbody tr th {\n",
              "        vertical-align: top;\n",
              "    }\n",
              "\n",
              "    .dataframe thead th {\n",
              "        text-align: right;\n",
              "    }\n",
              "</style>\n",
              "<table border=\"1\" class=\"dataframe\">\n",
              "  <thead>\n",
              "    <tr style=\"text-align: right;\">\n",
              "      <th></th>\n",
              "      <th>num_processo</th>\n",
              "      <th>data_ajuizamento</th>\n",
              "      <th>data_primeira_movimentacao_processual</th>\n",
              "      <th>data_ultima_movimentacao</th>\n",
              "      <th>autor</th>\n",
              "      <th>reu</th>\n",
              "      <th>tutela_antecipada</th>\n",
              "      <th>vara</th>\n",
              "      <th>titular_substituto</th>\n",
              "      <th>classe_atual</th>\n",
              "      <th>...</th>\n",
              "      <th>resultado_1_grau</th>\n",
              "      <th>conteudo_sentenca</th>\n",
              "      <th>n_dias_ate_sentenca</th>\n",
              "      <th>n_tokens_sentenca</th>\n",
              "      <th>relator_acordao</th>\n",
              "      <th>data_sessao_tr</th>\n",
              "      <th>data_acordao</th>\n",
              "      <th>conteudo_acordao</th>\n",
              "      <th>resultado_2_grau</th>\n",
              "      <th>n_tokens_acordao</th>\n",
              "    </tr>\n",
              "  </thead>\n",
              "  <tbody>\n",
              "    <tr>\n",
              "      <th>0</th>\n",
              "      <td>0500454-62.2017.4.05.8402</td>\n",
              "      <td>2017-03-06</td>\n",
              "      <td>2017-03-06 11:01:00</td>\n",
              "      <td>2017-10-30 10:07:00</td>\n",
              "      <td>Lourival Francisco da Silva (027.173.384-54)\\n...</td>\n",
              "      <td>Fazenda Nacional (00.394.460/0239-40)\\nMunicíp...</td>\n",
              "      <td>N</td>\n",
              "      <td>9-RN</td>\n",
              "      <td>Titular</td>\n",
              "      <td>Execução de Título Judicial</td>\n",
              "      <td>...</td>\n",
              "      <td>PROCEDENTE</td>\n",
              "      <td>SENTENÇA 1. Relatório Cuida-se de ação propost...</td>\n",
              "      <td>76.307593</td>\n",
              "      <td>1309</td>\n",
              "      <td>Almiro José da Rocha Lemos</td>\n",
              "      <td>2017-08-09 09:00:00</td>\n",
              "      <td>2017-08-14 10:46:34</td>\n",
              "      <td>PROCESSO 0500454-62.2017.4.05.8402  EMENTA:DIR...</td>\n",
              "      <td>NÃO PROVIMENTO</td>\n",
              "      <td>381.0</td>\n",
              "    </tr>\n",
              "    <tr>\n",
              "      <th>1</th>\n",
              "      <td>0517700-16.2013.4.05.8013</td>\n",
              "      <td>2013-10-09</td>\n",
              "      <td>2013-10-09 20:54:00</td>\n",
              "      <td>NaT</td>\n",
              "      <td>MARIA LUCIA CARDOSO (382.242.084-00)\\nEmanuel ...</td>\n",
              "      <td>Caixa Econômica Federal (00.360.305/0001-04)</td>\n",
              "      <td>N</td>\n",
              "      <td>9-AL</td>\n",
              "      <td>Titular</td>\n",
              "      <td>Procedimento do Juizado Especial Cível</td>\n",
              "      <td>...</td>\n",
              "      <td>EXTINTO SEM MÉRITO</td>\n",
              "      <td>SENTENÇA Trata-se de ação especial cível, em c...</td>\n",
              "      <td>20.844491</td>\n",
              "      <td>263</td>\n",
              "      <td>NaN</td>\n",
              "      <td>NaT</td>\n",
              "      <td>NaT</td>\n",
              "      <td>None</td>\n",
              "      <td>NaN</td>\n",
              "      <td>0.1</td>\n",
              "    </tr>\n",
              "    <tr>\n",
              "      <th>2</th>\n",
              "      <td>0502388-07.2007.4.05.8305</td>\n",
              "      <td>2007-07-13</td>\n",
              "      <td>2007-07-13 13:51:00</td>\n",
              "      <td>NaT</td>\n",
              "      <td>QUITÉRIA BARBOSA DA SILVA NASCIMENTO (062.819....</td>\n",
              "      <td>Instituto Nacional do Seguro Social - INSS (29...</td>\n",
              "      <td>N</td>\n",
              "      <td>23-PE</td>\n",
              "      <td>Titular</td>\n",
              "      <td>Procedimento do Juizado Especial Cível</td>\n",
              "      <td>...</td>\n",
              "      <td>EXTINTO SEM MÉRITO</td>\n",
              "      <td>SENTENÇA Vistos etc. Trata-se de ação especial...</td>\n",
              "      <td>143.822245</td>\n",
              "      <td>956</td>\n",
              "      <td>NaN</td>\n",
              "      <td>NaT</td>\n",
              "      <td>NaT</td>\n",
              "      <td>None</td>\n",
              "      <td>NaN</td>\n",
              "      <td>0.1</td>\n",
              "    </tr>\n",
              "    <tr>\n",
              "      <th>3</th>\n",
              "      <td>0503551-02.2014.4.05.8103</td>\n",
              "      <td>2014-04-02</td>\n",
              "      <td>2014-04-02 11:02:00</td>\n",
              "      <td>NaT</td>\n",
              "      <td>Emanuela Carneiro Tabosa (777.839.723-49)\\nBru...</td>\n",
              "      <td>UNIÃO (FAZENDA NACIONAL) - Procuradoria da Faz...</td>\n",
              "      <td>N</td>\n",
              "      <td>19-CE</td>\n",
              "      <td>Titular</td>\n",
              "      <td>Procedimento do Juizado Especial Cível</td>\n",
              "      <td>...</td>\n",
              "      <td>PROCEDENTE</td>\n",
              "      <td>SENTENÇA I - RELATÓRIO Cuida-se de ação em que...</td>\n",
              "      <td>21.360567</td>\n",
              "      <td>3037</td>\n",
              "      <td>CÍNTIA MENEZES BRUNETTA</td>\n",
              "      <td>2014-06-25 13:30:00</td>\n",
              "      <td>2014-06-27 16:14:43</td>\n",
              "      <td>VOTO Relatório dispensado, nos termos do art. ...</td>\n",
              "      <td>NÃO PROVIMENTO</td>\n",
              "      <td>1214.0</td>\n",
              "    </tr>\n",
              "    <tr>\n",
              "      <th>4</th>\n",
              "      <td>0503488-94.2016.4.05.8300</td>\n",
              "      <td>2016-03-21</td>\n",
              "      <td>2016-03-21 11:04:00</td>\n",
              "      <td>2019-02-19 13:16:00</td>\n",
              "      <td>Lúcio Flavio de Lima Albuquerque (095.403.004-...</td>\n",
              "      <td>ANGELA MARIA DO NASCIMENTO SILVA (157.771.544-...</td>\n",
              "      <td>N</td>\n",
              "      <td>19-PE</td>\n",
              "      <td>Substituto</td>\n",
              "      <td>Procedimento do Juizado Especial Cível</td>\n",
              "      <td>...</td>\n",
              "      <td>IMPROCEDENTE</td>\n",
              "      <td>SENTENÇA Tipo A I – RELATÓRIO Dispensado o rel...</td>\n",
              "      <td>784.066493</td>\n",
              "      <td>2099</td>\n",
              "      <td>Joaquim Lustosa Filho</td>\n",
              "      <td>2018-06-19 10:00:00</td>\n",
              "      <td>2018-06-19 15:01:56</td>\n",
              "      <td>EMENTA PREVIDENCIÁRIO. PENSÃO POR MORTE. PROVA...</td>\n",
              "      <td>NÃO PROVIMENTO</td>\n",
              "      <td>1962.0</td>\n",
              "    </tr>\n",
              "  </tbody>\n",
              "</table>\n",
              "<p>5 rows × 46 columns</p>\n",
              "</div>\n",
              "      <button class=\"colab-df-convert\" onclick=\"convertToInteractive('df-e3aae346-ea53-43d0-9806-9d23a03a5f10')\"\n",
              "              title=\"Convert this dataframe to an interactive table.\"\n",
              "              style=\"display:none;\">\n",
              "        \n",
              "  <svg xmlns=\"http://www.w3.org/2000/svg\" height=\"24px\"viewBox=\"0 0 24 24\"\n",
              "       width=\"24px\">\n",
              "    <path d=\"M0 0h24v24H0V0z\" fill=\"none\"/>\n",
              "    <path d=\"M18.56 5.44l.94 2.06.94-2.06 2.06-.94-2.06-.94-.94-2.06-.94 2.06-2.06.94zm-11 1L8.5 8.5l.94-2.06 2.06-.94-2.06-.94L8.5 2.5l-.94 2.06-2.06.94zm10 10l.94 2.06.94-2.06 2.06-.94-2.06-.94-.94-2.06-.94 2.06-2.06.94z\"/><path d=\"M17.41 7.96l-1.37-1.37c-.4-.4-.92-.59-1.43-.59-.52 0-1.04.2-1.43.59L10.3 9.45l-7.72 7.72c-.78.78-.78 2.05 0 2.83L4 21.41c.39.39.9.59 1.41.59.51 0 1.02-.2 1.41-.59l7.78-7.78 2.81-2.81c.8-.78.8-2.07 0-2.86zM5.41 20L4 18.59l7.72-7.72 1.47 1.35L5.41 20z\"/>\n",
              "  </svg>\n",
              "      </button>\n",
              "      \n",
              "  <style>\n",
              "    .colab-df-container {\n",
              "      display:flex;\n",
              "      flex-wrap:wrap;\n",
              "      gap: 12px;\n",
              "    }\n",
              "\n",
              "    .colab-df-convert {\n",
              "      background-color: #E8F0FE;\n",
              "      border: none;\n",
              "      border-radius: 50%;\n",
              "      cursor: pointer;\n",
              "      display: none;\n",
              "      fill: #1967D2;\n",
              "      height: 32px;\n",
              "      padding: 0 0 0 0;\n",
              "      width: 32px;\n",
              "    }\n",
              "\n",
              "    .colab-df-convert:hover {\n",
              "      background-color: #E2EBFA;\n",
              "      box-shadow: 0px 1px 2px rgba(60, 64, 67, 0.3), 0px 1px 3px 1px rgba(60, 64, 67, 0.15);\n",
              "      fill: #174EA6;\n",
              "    }\n",
              "\n",
              "    [theme=dark] .colab-df-convert {\n",
              "      background-color: #3B4455;\n",
              "      fill: #D2E3FC;\n",
              "    }\n",
              "\n",
              "    [theme=dark] .colab-df-convert:hover {\n",
              "      background-color: #434B5C;\n",
              "      box-shadow: 0px 1px 3px 1px rgba(0, 0, 0, 0.15);\n",
              "      filter: drop-shadow(0px 1px 2px rgba(0, 0, 0, 0.3));\n",
              "      fill: #FFFFFF;\n",
              "    }\n",
              "  </style>\n",
              "\n",
              "      <script>\n",
              "        const buttonEl =\n",
              "          document.querySelector('#df-e3aae346-ea53-43d0-9806-9d23a03a5f10 button.colab-df-convert');\n",
              "        buttonEl.style.display =\n",
              "          google.colab.kernel.accessAllowed ? 'block' : 'none';\n",
              "\n",
              "        async function convertToInteractive(key) {\n",
              "          const element = document.querySelector('#df-e3aae346-ea53-43d0-9806-9d23a03a5f10');\n",
              "          const dataTable =\n",
              "            await google.colab.kernel.invokeFunction('convertToInteractive',\n",
              "                                                     [key], {});\n",
              "          if (!dataTable) return;\n",
              "\n",
              "          const docLinkHtml = 'Like what you see? Visit the ' +\n",
              "            '<a target=\"_blank\" href=https://colab.research.google.com/notebooks/data_table.ipynb>data table notebook</a>'\n",
              "            + ' to learn more about interactive tables.';\n",
              "          element.innerHTML = '';\n",
              "          dataTable['output_type'] = 'display_data';\n",
              "          await google.colab.output.renderOutput(dataTable, element);\n",
              "          const docLink = document.createElement('div');\n",
              "          docLink.innerHTML = docLinkHtml;\n",
              "          element.appendChild(docLink);\n",
              "        }\n",
              "      </script>\n",
              "    </div>\n",
              "  </div>\n",
              "  "
            ]
          },
          "metadata": {},
          "execution_count": 4
        }
      ],
      "source": [
        "# importing the dataset\n",
        "df = pd.read_parquet(\"sample.parquet\");\n",
        "df.head()"
      ]
    },
    {
      "cell_type": "code",
      "execution_count": null,
      "metadata": {
        "id": "j3Otnz1-UYre",
        "tags": []
      },
      "outputs": [],
      "source": [
        "df.to_csv(\"raw_data.csv\",index=False)"
      ]
    },
    {
      "cell_type": "code",
      "execution_count": null,
      "metadata": {
        "tags": [],
        "colab": {
          "base_uri": "https://localhost:8080/"
        },
        "id": "sgSoPVLZ6-ps",
        "outputId": "6f764ff4-8dd8-42ce-f57d-9bc15f62667c"
      },
      "outputs": [
        {
          "output_type": "stream",
          "name": "stdout",
          "text": [
            "\u001b[34m\u001b[1mwandb\u001b[0m: Logging into wandb.ai. (Learn how to deploy a W&B server locally: https://wandb.me/wandb-server)\n",
            "\u001b[34m\u001b[1mwandb\u001b[0m: You can find your API key in your browser here: https://wandb.ai/authorize\n",
            "\u001b[34m\u001b[1mwandb\u001b[0m: Paste an API key from your profile and hit enter, or press ctrl+c to quit: \n",
            "\u001b[34m\u001b[1mwandb\u001b[0m: Appending key for api.wandb.ai to your netrc file: /root/.netrc\n"
          ]
        }
      ],
      "source": [
        "# Login no Weights & Biases\n",
        "!wandb login --relogin"
      ]
    },
    {
      "cell_type": "code",
      "execution_count": null,
      "metadata": {
        "id": "l7lg2qtMUFGW",
        "tags": [],
        "colab": {
          "base_uri": "https://localhost:8080/"
        },
        "outputId": "9725323c-79ca-4436-b57c-9c7ecdbfc91f"
      },
      "outputs": [
        {
          "output_type": "stream",
          "name": "stdout",
          "text": [
            "\u001b[34m\u001b[1mwandb\u001b[0m: Uploading file raw_data.csv to: \"morsinaldo/nlp_bolsa/raw_data.csv:latest\" (raw_data)\n",
            "\u001b[34m\u001b[1mwandb\u001b[0m: Currently logged in as: \u001b[33mmorsinaldo\u001b[0m. Use \u001b[1m`wandb login --relogin`\u001b[0m to force relogin\n",
            "\u001b[34m\u001b[1mwandb\u001b[0m: Tracking run with wandb version 0.12.21\n",
            "\u001b[34m\u001b[1mwandb\u001b[0m: Run data is saved locally in \u001b[35m\u001b[1m/content/wandb/run-20220716_203743-oy52fdnf\u001b[0m\n",
            "\u001b[34m\u001b[1mwandb\u001b[0m: Run \u001b[1m`wandb offline`\u001b[0m to turn off syncing.\n",
            "\u001b[34m\u001b[1mwandb\u001b[0m: Syncing run \u001b[33mabsurd-music-1\u001b[0m\n",
            "\u001b[34m\u001b[1mwandb\u001b[0m: ⭐️ View project at \u001b[34m\u001b[4mhttps://wandb.ai/morsinaldo/nlp_bolsa\u001b[0m\n",
            "\u001b[34m\u001b[1mwandb\u001b[0m: 🚀 View run at \u001b[34m\u001b[4mhttps://wandb.ai/morsinaldo/nlp_bolsa/runs/oy52fdnf\u001b[0m\n",
            "Artifact uploaded, use this artifact in a run by adding:\n",
            "\n",
            "    artifact = run.use_artifact(\"morsinaldo/nlp_bolsa/raw_data.csv:latest\")\n",
            "\n",
            "\u001b[34m\u001b[1mwandb\u001b[0m: Waiting for W&B process to finish... \u001b[32m(success).\u001b[0m\n",
            "\u001b[34m\u001b[1mwandb\u001b[0m:                                                                                \n",
            "\u001b[34m\u001b[1mwandb\u001b[0m: Synced \u001b[33mabsurd-music-1\u001b[0m: \u001b[34m\u001b[4mhttps://wandb.ai/morsinaldo/nlp_bolsa/runs/oy52fdnf\u001b[0m\n",
            "\u001b[34m\u001b[1mwandb\u001b[0m: Synced 5 W&B file(s), 0 media file(s), 1 artifact file(s) and 0 other file(s)\n",
            "\u001b[34m\u001b[1mwandb\u001b[0m: Find logs at: \u001b[35m\u001b[1m./wandb/run-20220716_203743-oy52fdnf/logs\u001b[0m\n"
          ]
        }
      ],
      "source": [
        "# Enviar o artefato raw_data.csv para o Wandb\n",
        "!wandb artifact put \\\n",
        "      --name nlp_bolsa/raw_data.csv \\\n",
        "      --type raw_data \\\n",
        "      --description \"Artefato com o dado bruto do dataset jurídico\" raw_data.csv"
      ]
    }
  ],
  "metadata": {
    "colab": {
      "collapsed_sections": [],
      "name": "1 - fetch_data.ipynb",
      "provenance": []
    },
    "kernelspec": {
      "display_name": "Python 3",
      "language": "python",
      "name": "python3"
    },
    "language_info": {
      "codemirror_mode": {
        "name": "ipython",
        "version": 3
      },
      "file_extension": ".py",
      "mimetype": "text/x-python",
      "name": "python",
      "nbconvert_exporter": "python",
      "pygments_lexer": "ipython3",
      "version": "3.8.12"
    }
  },
  "nbformat": 4,
  "nbformat_minor": 0
}