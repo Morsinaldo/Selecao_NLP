{
  "nbformat": 4,
  "nbformat_minor": 0,
  "metadata": {
    "colab": {
      "name": "5 - data_segregation.ipynb",
      "provenance": [],
      "collapsed_sections": []
    },
    "kernelspec": {
      "name": "python3",
      "display_name": "Python 3"
    },
    "language_info": {
      "name": "python"
    },
    "widgets": {
      "application/vnd.jupyter.widget-state+json": {
        "3ac61238b8044951a1c598d5a448266a": {
          "model_module": "@jupyter-widgets/controls",
          "model_name": "VBoxModel",
          "model_module_version": "1.5.0",
          "state": {
            "_dom_classes": [],
            "_model_module": "@jupyter-widgets/controls",
            "_model_module_version": "1.5.0",
            "_model_name": "VBoxModel",
            "_view_count": null,
            "_view_module": "@jupyter-widgets/controls",
            "_view_module_version": "1.5.0",
            "_view_name": "VBoxView",
            "box_style": "",
            "children": [
              "IPY_MODEL_7e2f33ad04a146a49ef04b59b5c03fa1",
              "IPY_MODEL_27970148bb8b4256b6c51845438db92f"
            ],
            "layout": "IPY_MODEL_79859e62b3fc4c2c9445529ddaf50cca"
          }
        },
        "7e2f33ad04a146a49ef04b59b5c03fa1": {
          "model_module": "@jupyter-widgets/controls",
          "model_name": "LabelModel",
          "model_module_version": "1.5.0",
          "state": {
            "_dom_classes": [],
            "_model_module": "@jupyter-widgets/controls",
            "_model_module_version": "1.5.0",
            "_model_name": "LabelModel",
            "_view_count": null,
            "_view_module": "@jupyter-widgets/controls",
            "_view_module_version": "1.5.0",
            "_view_name": "LabelView",
            "description": "",
            "description_tooltip": null,
            "layout": "IPY_MODEL_50e6838a961646e39feb71d197be6584",
            "placeholder": "​",
            "style": "IPY_MODEL_fe7e880edb58469bb37d8fcaf4501339",
            "value": "0.008 MB of 0.008 MB uploaded (0.000 MB deduped)\r"
          }
        },
        "27970148bb8b4256b6c51845438db92f": {
          "model_module": "@jupyter-widgets/controls",
          "model_name": "FloatProgressModel",
          "model_module_version": "1.5.0",
          "state": {
            "_dom_classes": [],
            "_model_module": "@jupyter-widgets/controls",
            "_model_module_version": "1.5.0",
            "_model_name": "FloatProgressModel",
            "_view_count": null,
            "_view_module": "@jupyter-widgets/controls",
            "_view_module_version": "1.5.0",
            "_view_name": "ProgressView",
            "bar_style": "",
            "description": "",
            "description_tooltip": null,
            "layout": "IPY_MODEL_c31f70cb78ff40a495ece8f2fe59f07f",
            "max": 1,
            "min": 0,
            "orientation": "horizontal",
            "style": "IPY_MODEL_99571a759d214a5181a261afb93c00fc",
            "value": 1
          }
        },
        "79859e62b3fc4c2c9445529ddaf50cca": {
          "model_module": "@jupyter-widgets/base",
          "model_name": "LayoutModel",
          "model_module_version": "1.2.0",
          "state": {
            "_model_module": "@jupyter-widgets/base",
            "_model_module_version": "1.2.0",
            "_model_name": "LayoutModel",
            "_view_count": null,
            "_view_module": "@jupyter-widgets/base",
            "_view_module_version": "1.2.0",
            "_view_name": "LayoutView",
            "align_content": null,
            "align_items": null,
            "align_self": null,
            "border": null,
            "bottom": null,
            "display": null,
            "flex": null,
            "flex_flow": null,
            "grid_area": null,
            "grid_auto_columns": null,
            "grid_auto_flow": null,
            "grid_auto_rows": null,
            "grid_column": null,
            "grid_gap": null,
            "grid_row": null,
            "grid_template_areas": null,
            "grid_template_columns": null,
            "grid_template_rows": null,
            "height": null,
            "justify_content": null,
            "justify_items": null,
            "left": null,
            "margin": null,
            "max_height": null,
            "max_width": null,
            "min_height": null,
            "min_width": null,
            "object_fit": null,
            "object_position": null,
            "order": null,
            "overflow": null,
            "overflow_x": null,
            "overflow_y": null,
            "padding": null,
            "right": null,
            "top": null,
            "visibility": null,
            "width": null
          }
        },
        "50e6838a961646e39feb71d197be6584": {
          "model_module": "@jupyter-widgets/base",
          "model_name": "LayoutModel",
          "model_module_version": "1.2.0",
          "state": {
            "_model_module": "@jupyter-widgets/base",
            "_model_module_version": "1.2.0",
            "_model_name": "LayoutModel",
            "_view_count": null,
            "_view_module": "@jupyter-widgets/base",
            "_view_module_version": "1.2.0",
            "_view_name": "LayoutView",
            "align_content": null,
            "align_items": null,
            "align_self": null,
            "border": null,
            "bottom": null,
            "display": null,
            "flex": null,
            "flex_flow": null,
            "grid_area": null,
            "grid_auto_columns": null,
            "grid_auto_flow": null,
            "grid_auto_rows": null,
            "grid_column": null,
            "grid_gap": null,
            "grid_row": null,
            "grid_template_areas": null,
            "grid_template_columns": null,
            "grid_template_rows": null,
            "height": null,
            "justify_content": null,
            "justify_items": null,
            "left": null,
            "margin": null,
            "max_height": null,
            "max_width": null,
            "min_height": null,
            "min_width": null,
            "object_fit": null,
            "object_position": null,
            "order": null,
            "overflow": null,
            "overflow_x": null,
            "overflow_y": null,
            "padding": null,
            "right": null,
            "top": null,
            "visibility": null,
            "width": null
          }
        },
        "fe7e880edb58469bb37d8fcaf4501339": {
          "model_module": "@jupyter-widgets/controls",
          "model_name": "DescriptionStyleModel",
          "model_module_version": "1.5.0",
          "state": {
            "_model_module": "@jupyter-widgets/controls",
            "_model_module_version": "1.5.0",
            "_model_name": "DescriptionStyleModel",
            "_view_count": null,
            "_view_module": "@jupyter-widgets/base",
            "_view_module_version": "1.2.0",
            "_view_name": "StyleView",
            "description_width": ""
          }
        },
        "c31f70cb78ff40a495ece8f2fe59f07f": {
          "model_module": "@jupyter-widgets/base",
          "model_name": "LayoutModel",
          "model_module_version": "1.2.0",
          "state": {
            "_model_module": "@jupyter-widgets/base",
            "_model_module_version": "1.2.0",
            "_model_name": "LayoutModel",
            "_view_count": null,
            "_view_module": "@jupyter-widgets/base",
            "_view_module_version": "1.2.0",
            "_view_name": "LayoutView",
            "align_content": null,
            "align_items": null,
            "align_self": null,
            "border": null,
            "bottom": null,
            "display": null,
            "flex": null,
            "flex_flow": null,
            "grid_area": null,
            "grid_auto_columns": null,
            "grid_auto_flow": null,
            "grid_auto_rows": null,
            "grid_column": null,
            "grid_gap": null,
            "grid_row": null,
            "grid_template_areas": null,
            "grid_template_columns": null,
            "grid_template_rows": null,
            "height": null,
            "justify_content": null,
            "justify_items": null,
            "left": null,
            "margin": null,
            "max_height": null,
            "max_width": null,
            "min_height": null,
            "min_width": null,
            "object_fit": null,
            "object_position": null,
            "order": null,
            "overflow": null,
            "overflow_x": null,
            "overflow_y": null,
            "padding": null,
            "right": null,
            "top": null,
            "visibility": null,
            "width": null
          }
        },
        "99571a759d214a5181a261afb93c00fc": {
          "model_module": "@jupyter-widgets/controls",
          "model_name": "ProgressStyleModel",
          "model_module_version": "1.5.0",
          "state": {
            "_model_module": "@jupyter-widgets/controls",
            "_model_module_version": "1.5.0",
            "_model_name": "ProgressStyleModel",
            "_view_count": null,
            "_view_module": "@jupyter-widgets/base",
            "_view_module_version": "1.2.0",
            "_view_name": "StyleView",
            "bar_color": null,
            "description_width": ""
          }
        }
      }
    }
  },
  "cells": [
    {
      "cell_type": "markdown",
      "metadata": {
        "id": "0I4pgzLVtBTP"
      },
      "source": [
        "# 1.0 Um problema de classificação de ponta-a-ponta usando NLP"
      ]
    },
    {
      "cell_type": "markdown",
      "metadata": {
        "id": "Dh34gim6KPtT"
      },
      "source": [
        "## 1.1 Descrição do dataset"
      ]
    },
    {
      "cell_type": "markdown",
      "metadata": {
        "id": "iE8OJoDZ5AFK"
      },
      "source": [
        "O dataset contém informações gerais de 5.000 processos julgados\n",
        "nos Juizados Especiais Federais dentro das Seções Judiciárias do Tribunal Regional Federal da 5a Região (https://www.trf5.jus.br). Os dados são oriundos da raspagem da consulta pública processual. Além disso, ele possui 46 colunas, das quais duas possuem texto livre:\n",
        "\"conteudo_sentenca\" e \"conteudo_acordao\".\n",
        "\n",
        "O dataset pode ser baixado no link a seguir: https://jacob.al/dataset_juizados \n",
        "\n",
        "Ao longo dos notebooks, vão ser realizados os seguintes passos:\n",
        "\n",
        "1. Importação do dataset **(concluído)**\n",
        "2. Análise exploratória dos dados **(concluído)**\n",
        "3. Pré-processamento **(concluído)**\n",
        "4. Verificação dos dados **(concluído)**\n",
        "5. Segregação dos dados\n",
        "6. Treinamento\n",
        "7. Teste\n",
        "\n",
        "<center><img width=\"600\" src=\"https://drive.google.com/uc?export=view&id=1fKGuR5U5ECf7On6Zo1UWzAIWZrMmZnGc\"></center>\n"
      ]
    },
    {
      "cell_type": "markdown",
      "metadata": {
        "id": "7UpxKxU1Ej7f"
      },
      "source": [
        "## 1.2 Instalação e importação das bibliotecas e configuração do wandb"
      ]
    },
    {
      "cell_type": "code",
      "execution_count": null,
      "metadata": {
        "id": "t82KewAPWCYe"
      },
      "outputs": [],
      "source": [
        "!pip install wandb"
      ]
    },
    {
      "cell_type": "code",
      "execution_count": null,
      "metadata": {
        "id": "LASaVZuhRJlL"
      },
      "outputs": [],
      "source": [
        "import logging\n",
        "import tempfile\n",
        "import pandas as pd\n",
        "import os\n",
        "import wandb\n",
        "from sklearn.model_selection import train_test_split"
      ]
    },
    {
      "cell_type": "code",
      "source": [
        "# Login to Weights & Biases\n",
        "!wandb login --relogin"
      ],
      "metadata": {
        "id": "QZXcN54GkP25",
        "colab": {
          "base_uri": "https://localhost:8080/"
        },
        "outputId": "704ab2a9-36f5-4168-dd61-1d101e0d58cb"
      },
      "execution_count": null,
      "outputs": [
        {
          "output_type": "stream",
          "name": "stdout",
          "text": [
            "\u001b[34m\u001b[1mwandb\u001b[0m: Logging into wandb.ai. (Learn how to deploy a W&B server locally: https://wandb.me/wandb-server)\n",
            "\u001b[34m\u001b[1mwandb\u001b[0m: You can find your API key in your browser here: https://wandb.ai/authorize\n",
            "\u001b[34m\u001b[1mwandb\u001b[0m: Paste an API key from your profile and hit enter, or press ctrl+c to quit: \n",
            "\u001b[34m\u001b[1mwandb\u001b[0m: Appending key for api.wandb.ai to your netrc file: /root/.netrc\n"
          ]
        }
      ]
    },
    {
      "cell_type": "markdown",
      "source": [
        "## 1.3 Data Segregation"
      ],
      "metadata": {
        "id": "sa1PvzZYF4J2"
      }
    },
    {
      "cell_type": "code",
      "source": [
        "# variáveis globais\n",
        "\n",
        "# proporção utilizada para dividir entre dados de teste e de treinamento\n",
        "test_size = 0.30\n",
        "\n",
        "# Semente utilizada para propósitos de reproducibilidade\n",
        "seed = 41\n",
        "\n",
        "# coluna de referência para dividir os dados\n",
        "stratify = \"assunto_cnj\"\n",
        "\n",
        "# nome do artefato de entrada\n",
        "artifact_input_name = \"nlp_bolsa/preprocessed_data.csv:latest\"\n",
        "\n",
        "# tipo do artefato\n",
        "artifact_type = \"segregated_data\""
      ],
      "metadata": {
        "id": "6Box9NiNKCgM"
      },
      "execution_count": null,
      "outputs": []
    },
    {
      "cell_type": "code",
      "source": [
        "# configuração do logging\n",
        "logging.basicConfig(level=logging.INFO,\n",
        "                    format=\"%(asctime)s %(message)s\",\n",
        "                    datefmt='%d-%m-%Y %H:%M:%S')\n",
        "\n",
        "# objeto do logging\n",
        "logger = logging.getLogger()\n",
        "\n",
        "# Inicialização do projeto do wandb\n",
        "run = wandb.init(project=\"nlp_bolsa\", job_type=\"split_data\")\n",
        "\n",
        "logger.info(\"Downloading and reading artifact\")\n",
        "artifact = run.use_artifact(artifact_input_name)\n",
        "artifact_path = artifact.file()\n",
        "df = pd.read_csv(artifact_path)\n",
        "\n",
        "# Divisão entre treinamento e teste\n",
        "logger.info(\"Splitting data into train and test\")\n",
        "splits = {}\n",
        "\n",
        "splits[\"train\"], splits[\"test\"] = train_test_split(df,\n",
        "                                                   test_size=test_size,\n",
        "                                                   random_state=seed,\n",
        "                                                   stratify=df[stratify])\n",
        "\n",
        "# Salva os artefatos em um diretório temporário\n",
        "with tempfile.TemporaryDirectory() as tmp_dir:\n",
        "\n",
        "    for split, df in splits.items():\n",
        "\n",
        "        # Cria o nome do artefato a partir do nome da divisão\n",
        "        # \n",
        "        artifact_name = f\"{split}.csv\"\n",
        "\n",
        "        # Pega o caminho da pasta temporária no disco\n",
        "        temp_path = os.path.join(tmp_dir, artifact_name)\n",
        "\n",
        "        logger.info(f\"Uploading the {split} dataset to {artifact_name}\")\n",
        "\n",
        "        # Salva o arquivo e faz o upload no Wandb\n",
        "        df.to_csv(temp_path,index=False)\n",
        "\n",
        "        artifact = wandb.Artifact(name=artifact_name,\n",
        "                                  type=artifact_type,\n",
        "                                  description=f\"{split} split of dataset {artifact_input_name}\",\n",
        "        )\n",
        "        artifact.add_file(temp_path)\n",
        "\n",
        "        logger.info(\"Logging artifact\")\n",
        "        run.log_artifact(artifact)\n",
        "\n",
        "        # Espera até o o fim do upload do artefato\n",
        "        artifact.wait()"
      ],
      "metadata": {
        "id": "4tha7oPLF58G",
        "colab": {
          "base_uri": "https://localhost:8080/",
          "height": 281,
          "referenced_widgets": [
            "3ac61238b8044951a1c598d5a448266a",
            "7e2f33ad04a146a49ef04b59b5c03fa1",
            "27970148bb8b4256b6c51845438db92f",
            "79859e62b3fc4c2c9445529ddaf50cca",
            "50e6838a961646e39feb71d197be6584",
            "fe7e880edb58469bb37d8fcaf4501339",
            "c31f70cb78ff40a495ece8f2fe59f07f",
            "99571a759d214a5181a261afb93c00fc"
          ]
        },
        "outputId": "0f88a733-0b16-4a4b-d9a8-336e4dab8973"
      },
      "execution_count": null,
      "outputs": [
        {
          "output_type": "display_data",
          "data": {
            "text/plain": [
              "<IPython.core.display.HTML object>"
            ],
            "text/html": [
              "Finishing last run (ID:edjbmofs) before initializing another..."
            ]
          },
          "metadata": {}
        },
        {
          "output_type": "display_data",
          "data": {
            "text/plain": [
              "<IPython.core.display.HTML object>"
            ],
            "text/html": [
              "Waiting for W&B process to finish... <strong style=\"color:green\">(success).</strong>"
            ]
          },
          "metadata": {}
        },
        {
          "output_type": "display_data",
          "data": {
            "text/plain": [
              "VBox(children=(Label(value='0.000 MB of 0.000 MB uploaded (0.000 MB deduped)\\r'), FloatProgress(value=1.0, max…"
            ],
            "application/vnd.jupyter.widget-view+json": {
              "version_major": 2,
              "version_minor": 0,
              "model_id": "3ac61238b8044951a1c598d5a448266a"
            }
          },
          "metadata": {}
        },
        {
          "output_type": "display_data",
          "data": {
            "text/plain": [
              "<IPython.core.display.HTML object>"
            ],
            "text/html": [
              "Synced <strong style=\"color:#cdcd00\">super-shadow-9</strong>: <a href=\"https://wandb.ai/morsinaldo/nlp_bolsa/runs/edjbmofs\" target=\"_blank\">https://wandb.ai/morsinaldo/nlp_bolsa/runs/edjbmofs</a><br/>Synced 5 W&B file(s), 0 media file(s), 0 artifact file(s) and 0 other file(s)"
            ]
          },
          "metadata": {}
        },
        {
          "output_type": "display_data",
          "data": {
            "text/plain": [
              "<IPython.core.display.HTML object>"
            ],
            "text/html": [
              "Find logs at: <code>./wandb/run-20220717_114922-edjbmofs/logs</code>"
            ]
          },
          "metadata": {}
        },
        {
          "output_type": "display_data",
          "data": {
            "text/plain": [
              "<IPython.core.display.HTML object>"
            ],
            "text/html": [
              "Successfully finished last run (ID:edjbmofs). Initializing new run:<br/>"
            ]
          },
          "metadata": {}
        },
        {
          "output_type": "display_data",
          "data": {
            "text/plain": [
              "<IPython.core.display.HTML object>"
            ],
            "text/html": [
              "Tracking run with wandb version 0.12.21"
            ]
          },
          "metadata": {}
        },
        {
          "output_type": "display_data",
          "data": {
            "text/plain": [
              "<IPython.core.display.HTML object>"
            ],
            "text/html": [
              "Run data is saved locally in <code>/content/wandb/run-20220717_120512-3gz1saut</code>"
            ]
          },
          "metadata": {}
        },
        {
          "output_type": "display_data",
          "data": {
            "text/plain": [
              "<IPython.core.display.HTML object>"
            ],
            "text/html": [
              "Syncing run <strong><a href=\"https://wandb.ai/morsinaldo/nlp_bolsa/runs/3gz1saut\" target=\"_blank\">driven-valley-12</a></strong> to <a href=\"https://wandb.ai/morsinaldo/nlp_bolsa\" target=\"_blank\">Weights & Biases</a> (<a href=\"https://wandb.me/run\" target=\"_blank\">docs</a>)<br/>"
            ]
          },
          "metadata": {}
        },
        {
          "output_type": "stream",
          "name": "stderr",
          "text": [
            "17-07-2022 12:05:17 Downloading and reading artifact\n",
            "17-07-2022 12:05:19 Splitting data into train and test\n",
            "17-07-2022 12:05:19 Uploading the train dataset to train.csv\n",
            "17-07-2022 12:05:19 Logging artifact\n",
            "17-07-2022 12:05:21 Uploading the test dataset to test.csv\n",
            "17-07-2022 12:05:21 Logging artifact\n"
          ]
        }
      ]
    }
  ]
}