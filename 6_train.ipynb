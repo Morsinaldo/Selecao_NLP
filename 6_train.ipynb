{
  "nbformat": 4,
  "nbformat_minor": 0,
  "metadata": {
    "colab": {
      "name": "6 - train.ipynb",
      "provenance": [],
      "collapsed_sections": [
        "BeMVUzr08AK8",
        "tt9AnGT3922Q",
        "EEKvM3qL_3Hb",
        "7c_W3F0IGN15",
        "TuoN4_opKXzp",
        "gF_ZLoVjjPUg",
        "ldfU54n7njja",
        "3JBkxykTp2HF",
        "G8tKLeBIa44E"
      ]
    },
    "kernelspec": {
      "name": "python3",
      "display_name": "Python 3"
    },
    "language_info": {
      "name": "python"
    },
    "widgets": {
      "application/vnd.jupyter.widget-state+json": {
        "2b6c7f9fe63e4aad9972d9a8583d6b0c": {
          "model_module": "@jupyter-widgets/controls",
          "model_name": "VBoxModel",
          "model_module_version": "1.5.0",
          "state": {
            "_dom_classes": [],
            "_model_module": "@jupyter-widgets/controls",
            "_model_module_version": "1.5.0",
            "_model_name": "VBoxModel",
            "_view_count": null,
            "_view_module": "@jupyter-widgets/controls",
            "_view_module_version": "1.5.0",
            "_view_name": "VBoxView",
            "box_style": "",
            "children": [
              "IPY_MODEL_7295926b563347708beaf12201563c80",
              "IPY_MODEL_5a82fb12805d41a280f4883770c344a7"
            ],
            "layout": "IPY_MODEL_2ff6836013dd458e8c6605afc3abb299"
          }
        },
        "7295926b563347708beaf12201563c80": {
          "model_module": "@jupyter-widgets/controls",
          "model_name": "LabelModel",
          "model_module_version": "1.5.0",
          "state": {
            "_dom_classes": [],
            "_model_module": "@jupyter-widgets/controls",
            "_model_module_version": "1.5.0",
            "_model_name": "LabelModel",
            "_view_count": null,
            "_view_module": "@jupyter-widgets/controls",
            "_view_module_version": "1.5.0",
            "_view_name": "LabelView",
            "description": "",
            "description_tooltip": null,
            "layout": "IPY_MODEL_909fe97667e748bab8cb6f99f5371f93",
            "placeholder": "​",
            "style": "IPY_MODEL_cd409564889b4db59a20ffa87fd5cf45",
            "value": "0.008 MB of 0.008 MB uploaded (0.000 MB deduped)\r"
          }
        },
        "5a82fb12805d41a280f4883770c344a7": {
          "model_module": "@jupyter-widgets/controls",
          "model_name": "FloatProgressModel",
          "model_module_version": "1.5.0",
          "state": {
            "_dom_classes": [],
            "_model_module": "@jupyter-widgets/controls",
            "_model_module_version": "1.5.0",
            "_model_name": "FloatProgressModel",
            "_view_count": null,
            "_view_module": "@jupyter-widgets/controls",
            "_view_module_version": "1.5.0",
            "_view_name": "ProgressView",
            "bar_style": "",
            "description": "",
            "description_tooltip": null,
            "layout": "IPY_MODEL_c0da01f405a24a96b5a4e24210f6c51a",
            "max": 1,
            "min": 0,
            "orientation": "horizontal",
            "style": "IPY_MODEL_b436fc9eac8d4756b489d7878a5f7416",
            "value": 1
          }
        },
        "2ff6836013dd458e8c6605afc3abb299": {
          "model_module": "@jupyter-widgets/base",
          "model_name": "LayoutModel",
          "model_module_version": "1.2.0",
          "state": {
            "_model_module": "@jupyter-widgets/base",
            "_model_module_version": "1.2.0",
            "_model_name": "LayoutModel",
            "_view_count": null,
            "_view_module": "@jupyter-widgets/base",
            "_view_module_version": "1.2.0",
            "_view_name": "LayoutView",
            "align_content": null,
            "align_items": null,
            "align_self": null,
            "border": null,
            "bottom": null,
            "display": null,
            "flex": null,
            "flex_flow": null,
            "grid_area": null,
            "grid_auto_columns": null,
            "grid_auto_flow": null,
            "grid_auto_rows": null,
            "grid_column": null,
            "grid_gap": null,
            "grid_row": null,
            "grid_template_areas": null,
            "grid_template_columns": null,
            "grid_template_rows": null,
            "height": null,
            "justify_content": null,
            "justify_items": null,
            "left": null,
            "margin": null,
            "max_height": null,
            "max_width": null,
            "min_height": null,
            "min_width": null,
            "object_fit": null,
            "object_position": null,
            "order": null,
            "overflow": null,
            "overflow_x": null,
            "overflow_y": null,
            "padding": null,
            "right": null,
            "top": null,
            "visibility": null,
            "width": null
          }
        },
        "909fe97667e748bab8cb6f99f5371f93": {
          "model_module": "@jupyter-widgets/base",
          "model_name": "LayoutModel",
          "model_module_version": "1.2.0",
          "state": {
            "_model_module": "@jupyter-widgets/base",
            "_model_module_version": "1.2.0",
            "_model_name": "LayoutModel",
            "_view_count": null,
            "_view_module": "@jupyter-widgets/base",
            "_view_module_version": "1.2.0",
            "_view_name": "LayoutView",
            "align_content": null,
            "align_items": null,
            "align_self": null,
            "border": null,
            "bottom": null,
            "display": null,
            "flex": null,
            "flex_flow": null,
            "grid_area": null,
            "grid_auto_columns": null,
            "grid_auto_flow": null,
            "grid_auto_rows": null,
            "grid_column": null,
            "grid_gap": null,
            "grid_row": null,
            "grid_template_areas": null,
            "grid_template_columns": null,
            "grid_template_rows": null,
            "height": null,
            "justify_content": null,
            "justify_items": null,
            "left": null,
            "margin": null,
            "max_height": null,
            "max_width": null,
            "min_height": null,
            "min_width": null,
            "object_fit": null,
            "object_position": null,
            "order": null,
            "overflow": null,
            "overflow_x": null,
            "overflow_y": null,
            "padding": null,
            "right": null,
            "top": null,
            "visibility": null,
            "width": null
          }
        },
        "cd409564889b4db59a20ffa87fd5cf45": {
          "model_module": "@jupyter-widgets/controls",
          "model_name": "DescriptionStyleModel",
          "model_module_version": "1.5.0",
          "state": {
            "_model_module": "@jupyter-widgets/controls",
            "_model_module_version": "1.5.0",
            "_model_name": "DescriptionStyleModel",
            "_view_count": null,
            "_view_module": "@jupyter-widgets/base",
            "_view_module_version": "1.2.0",
            "_view_name": "StyleView",
            "description_width": ""
          }
        },
        "c0da01f405a24a96b5a4e24210f6c51a": {
          "model_module": "@jupyter-widgets/base",
          "model_name": "LayoutModel",
          "model_module_version": "1.2.0",
          "state": {
            "_model_module": "@jupyter-widgets/base",
            "_model_module_version": "1.2.0",
            "_model_name": "LayoutModel",
            "_view_count": null,
            "_view_module": "@jupyter-widgets/base",
            "_view_module_version": "1.2.0",
            "_view_name": "LayoutView",
            "align_content": null,
            "align_items": null,
            "align_self": null,
            "border": null,
            "bottom": null,
            "display": null,
            "flex": null,
            "flex_flow": null,
            "grid_area": null,
            "grid_auto_columns": null,
            "grid_auto_flow": null,
            "grid_auto_rows": null,
            "grid_column": null,
            "grid_gap": null,
            "grid_row": null,
            "grid_template_areas": null,
            "grid_template_columns": null,
            "grid_template_rows": null,
            "height": null,
            "justify_content": null,
            "justify_items": null,
            "left": null,
            "margin": null,
            "max_height": null,
            "max_width": null,
            "min_height": null,
            "min_width": null,
            "object_fit": null,
            "object_position": null,
            "order": null,
            "overflow": null,
            "overflow_x": null,
            "overflow_y": null,
            "padding": null,
            "right": null,
            "top": null,
            "visibility": null,
            "width": null
          }
        },
        "b436fc9eac8d4756b489d7878a5f7416": {
          "model_module": "@jupyter-widgets/controls",
          "model_name": "ProgressStyleModel",
          "model_module_version": "1.5.0",
          "state": {
            "_model_module": "@jupyter-widgets/controls",
            "_model_module_version": "1.5.0",
            "_model_name": "ProgressStyleModel",
            "_view_count": null,
            "_view_module": "@jupyter-widgets/base",
            "_view_module_version": "1.2.0",
            "_view_name": "StyleView",
            "bar_color": null,
            "description_width": ""
          }
        },
        "a97870fd0c294a0aa09b3c8b0179d021": {
          "model_module": "@jupyter-widgets/controls",
          "model_name": "HBoxModel",
          "model_module_version": "1.5.0",
          "state": {
            "_dom_classes": [],
            "_model_module": "@jupyter-widgets/controls",
            "_model_module_version": "1.5.0",
            "_model_name": "HBoxModel",
            "_view_count": null,
            "_view_module": "@jupyter-widgets/controls",
            "_view_module_version": "1.5.0",
            "_view_name": "HBoxView",
            "box_style": "",
            "children": [
              "IPY_MODEL_83f92c8d870a42a8a11de2084523df76",
              "IPY_MODEL_25e73ba0699f4863894a56302b6353fd",
              "IPY_MODEL_1a3ea5d631ad4e7590cddfabcd88cf7c"
            ],
            "layout": "IPY_MODEL_e4038409058e4ee69bcfa83d862b4e75"
          }
        },
        "83f92c8d870a42a8a11de2084523df76": {
          "model_module": "@jupyter-widgets/controls",
          "model_name": "HTMLModel",
          "model_module_version": "1.5.0",
          "state": {
            "_dom_classes": [],
            "_model_module": "@jupyter-widgets/controls",
            "_model_module_version": "1.5.0",
            "_model_name": "HTMLModel",
            "_view_count": null,
            "_view_module": "@jupyter-widgets/controls",
            "_view_module_version": "1.5.0",
            "_view_name": "HTMLView",
            "description": "",
            "description_tooltip": null,
            "layout": "IPY_MODEL_26de70150a544e5e839f142a5d2df1f5",
            "placeholder": "​",
            "style": "IPY_MODEL_ae08721e39b0423385a6aab4d34d5b50",
            "value": "Batches: 100%"
          }
        },
        "25e73ba0699f4863894a56302b6353fd": {
          "model_module": "@jupyter-widgets/controls",
          "model_name": "FloatProgressModel",
          "model_module_version": "1.5.0",
          "state": {
            "_dom_classes": [],
            "_model_module": "@jupyter-widgets/controls",
            "_model_module_version": "1.5.0",
            "_model_name": "FloatProgressModel",
            "_view_count": null,
            "_view_module": "@jupyter-widgets/controls",
            "_view_module_version": "1.5.0",
            "_view_name": "ProgressView",
            "bar_style": "success",
            "description": "",
            "description_tooltip": null,
            "layout": "IPY_MODEL_60b18c1d7d8740b9b01c589de3ec97b9",
            "max": 77,
            "min": 0,
            "orientation": "horizontal",
            "style": "IPY_MODEL_af06ba91b17946bbb82afae4298a822b",
            "value": 77
          }
        },
        "1a3ea5d631ad4e7590cddfabcd88cf7c": {
          "model_module": "@jupyter-widgets/controls",
          "model_name": "HTMLModel",
          "model_module_version": "1.5.0",
          "state": {
            "_dom_classes": [],
            "_model_module": "@jupyter-widgets/controls",
            "_model_module_version": "1.5.0",
            "_model_name": "HTMLModel",
            "_view_count": null,
            "_view_module": "@jupyter-widgets/controls",
            "_view_module_version": "1.5.0",
            "_view_name": "HTMLView",
            "description": "",
            "description_tooltip": null,
            "layout": "IPY_MODEL_72dd490dbf274028ab2e4abd3a776095",
            "placeholder": "​",
            "style": "IPY_MODEL_3d347cd6e4744e07a26fd567a4b3cab1",
            "value": " 77/77 [11:29&lt;00:00,  6.02s/it]"
          }
        },
        "e4038409058e4ee69bcfa83d862b4e75": {
          "model_module": "@jupyter-widgets/base",
          "model_name": "LayoutModel",
          "model_module_version": "1.2.0",
          "state": {
            "_model_module": "@jupyter-widgets/base",
            "_model_module_version": "1.2.0",
            "_model_name": "LayoutModel",
            "_view_count": null,
            "_view_module": "@jupyter-widgets/base",
            "_view_module_version": "1.2.0",
            "_view_name": "LayoutView",
            "align_content": null,
            "align_items": null,
            "align_self": null,
            "border": null,
            "bottom": null,
            "display": null,
            "flex": null,
            "flex_flow": null,
            "grid_area": null,
            "grid_auto_columns": null,
            "grid_auto_flow": null,
            "grid_auto_rows": null,
            "grid_column": null,
            "grid_gap": null,
            "grid_row": null,
            "grid_template_areas": null,
            "grid_template_columns": null,
            "grid_template_rows": null,
            "height": null,
            "justify_content": null,
            "justify_items": null,
            "left": null,
            "margin": null,
            "max_height": null,
            "max_width": null,
            "min_height": null,
            "min_width": null,
            "object_fit": null,
            "object_position": null,
            "order": null,
            "overflow": null,
            "overflow_x": null,
            "overflow_y": null,
            "padding": null,
            "right": null,
            "top": null,
            "visibility": null,
            "width": null
          }
        },
        "26de70150a544e5e839f142a5d2df1f5": {
          "model_module": "@jupyter-widgets/base",
          "model_name": "LayoutModel",
          "model_module_version": "1.2.0",
          "state": {
            "_model_module": "@jupyter-widgets/base",
            "_model_module_version": "1.2.0",
            "_model_name": "LayoutModel",
            "_view_count": null,
            "_view_module": "@jupyter-widgets/base",
            "_view_module_version": "1.2.0",
            "_view_name": "LayoutView",
            "align_content": null,
            "align_items": null,
            "align_self": null,
            "border": null,
            "bottom": null,
            "display": null,
            "flex": null,
            "flex_flow": null,
            "grid_area": null,
            "grid_auto_columns": null,
            "grid_auto_flow": null,
            "grid_auto_rows": null,
            "grid_column": null,
            "grid_gap": null,
            "grid_row": null,
            "grid_template_areas": null,
            "grid_template_columns": null,
            "grid_template_rows": null,
            "height": null,
            "justify_content": null,
            "justify_items": null,
            "left": null,
            "margin": null,
            "max_height": null,
            "max_width": null,
            "min_height": null,
            "min_width": null,
            "object_fit": null,
            "object_position": null,
            "order": null,
            "overflow": null,
            "overflow_x": null,
            "overflow_y": null,
            "padding": null,
            "right": null,
            "top": null,
            "visibility": null,
            "width": null
          }
        },
        "ae08721e39b0423385a6aab4d34d5b50": {
          "model_module": "@jupyter-widgets/controls",
          "model_name": "DescriptionStyleModel",
          "model_module_version": "1.5.0",
          "state": {
            "_model_module": "@jupyter-widgets/controls",
            "_model_module_version": "1.5.0",
            "_model_name": "DescriptionStyleModel",
            "_view_count": null,
            "_view_module": "@jupyter-widgets/base",
            "_view_module_version": "1.2.0",
            "_view_name": "StyleView",
            "description_width": ""
          }
        },
        "60b18c1d7d8740b9b01c589de3ec97b9": {
          "model_module": "@jupyter-widgets/base",
          "model_name": "LayoutModel",
          "model_module_version": "1.2.0",
          "state": {
            "_model_module": "@jupyter-widgets/base",
            "_model_module_version": "1.2.0",
            "_model_name": "LayoutModel",
            "_view_count": null,
            "_view_module": "@jupyter-widgets/base",
            "_view_module_version": "1.2.0",
            "_view_name": "LayoutView",
            "align_content": null,
            "align_items": null,
            "align_self": null,
            "border": null,
            "bottom": null,
            "display": null,
            "flex": null,
            "flex_flow": null,
            "grid_area": null,
            "grid_auto_columns": null,
            "grid_auto_flow": null,
            "grid_auto_rows": null,
            "grid_column": null,
            "grid_gap": null,
            "grid_row": null,
            "grid_template_areas": null,
            "grid_template_columns": null,
            "grid_template_rows": null,
            "height": null,
            "justify_content": null,
            "justify_items": null,
            "left": null,
            "margin": null,
            "max_height": null,
            "max_width": null,
            "min_height": null,
            "min_width": null,
            "object_fit": null,
            "object_position": null,
            "order": null,
            "overflow": null,
            "overflow_x": null,
            "overflow_y": null,
            "padding": null,
            "right": null,
            "top": null,
            "visibility": null,
            "width": null
          }
        },
        "af06ba91b17946bbb82afae4298a822b": {
          "model_module": "@jupyter-widgets/controls",
          "model_name": "ProgressStyleModel",
          "model_module_version": "1.5.0",
          "state": {
            "_model_module": "@jupyter-widgets/controls",
            "_model_module_version": "1.5.0",
            "_model_name": "ProgressStyleModel",
            "_view_count": null,
            "_view_module": "@jupyter-widgets/base",
            "_view_module_version": "1.2.0",
            "_view_name": "StyleView",
            "bar_color": null,
            "description_width": ""
          }
        },
        "72dd490dbf274028ab2e4abd3a776095": {
          "model_module": "@jupyter-widgets/base",
          "model_name": "LayoutModel",
          "model_module_version": "1.2.0",
          "state": {
            "_model_module": "@jupyter-widgets/base",
            "_model_module_version": "1.2.0",
            "_model_name": "LayoutModel",
            "_view_count": null,
            "_view_module": "@jupyter-widgets/base",
            "_view_module_version": "1.2.0",
            "_view_name": "LayoutView",
            "align_content": null,
            "align_items": null,
            "align_self": null,
            "border": null,
            "bottom": null,
            "display": null,
            "flex": null,
            "flex_flow": null,
            "grid_area": null,
            "grid_auto_columns": null,
            "grid_auto_flow": null,
            "grid_auto_rows": null,
            "grid_column": null,
            "grid_gap": null,
            "grid_row": null,
            "grid_template_areas": null,
            "grid_template_columns": null,
            "grid_template_rows": null,
            "height": null,
            "justify_content": null,
            "justify_items": null,
            "left": null,
            "margin": null,
            "max_height": null,
            "max_width": null,
            "min_height": null,
            "min_width": null,
            "object_fit": null,
            "object_position": null,
            "order": null,
            "overflow": null,
            "overflow_x": null,
            "overflow_y": null,
            "padding": null,
            "right": null,
            "top": null,
            "visibility": null,
            "width": null
          }
        },
        "3d347cd6e4744e07a26fd567a4b3cab1": {
          "model_module": "@jupyter-widgets/controls",
          "model_name": "DescriptionStyleModel",
          "model_module_version": "1.5.0",
          "state": {
            "_model_module": "@jupyter-widgets/controls",
            "_model_module_version": "1.5.0",
            "_model_name": "DescriptionStyleModel",
            "_view_count": null,
            "_view_module": "@jupyter-widgets/base",
            "_view_module_version": "1.2.0",
            "_view_name": "StyleView",
            "description_width": ""
          }
        },
        "8a417ee4384346ce9195b363d32a20d6": {
          "model_module": "@jupyter-widgets/controls",
          "model_name": "HBoxModel",
          "model_module_version": "1.5.0",
          "state": {
            "_dom_classes": [],
            "_model_module": "@jupyter-widgets/controls",
            "_model_module_version": "1.5.0",
            "_model_name": "HBoxModel",
            "_view_count": null,
            "_view_module": "@jupyter-widgets/controls",
            "_view_module_version": "1.5.0",
            "_view_name": "HBoxView",
            "box_style": "",
            "children": [
              "IPY_MODEL_ad68bbb76e9e4a67ab1bf9b9050e1cfe",
              "IPY_MODEL_3d35183b724e40cfbc4cd5ee38fa35eb",
              "IPY_MODEL_7dcaf293c6804cb4b512451d0051b920"
            ],
            "layout": "IPY_MODEL_eb97cb8a48bc4a5f911ca8213bf3a79e"
          }
        },
        "ad68bbb76e9e4a67ab1bf9b9050e1cfe": {
          "model_module": "@jupyter-widgets/controls",
          "model_name": "HTMLModel",
          "model_module_version": "1.5.0",
          "state": {
            "_dom_classes": [],
            "_model_module": "@jupyter-widgets/controls",
            "_model_module_version": "1.5.0",
            "_model_name": "HTMLModel",
            "_view_count": null,
            "_view_module": "@jupyter-widgets/controls",
            "_view_module_version": "1.5.0",
            "_view_name": "HTMLView",
            "description": "",
            "description_tooltip": null,
            "layout": "IPY_MODEL_5a716b1251914e0582cf0909befb3e94",
            "placeholder": "​",
            "style": "IPY_MODEL_e73edfa99e234b36b4b8c0cc9f02d73a",
            "value": "Batches: 100%"
          }
        },
        "3d35183b724e40cfbc4cd5ee38fa35eb": {
          "model_module": "@jupyter-widgets/controls",
          "model_name": "FloatProgressModel",
          "model_module_version": "1.5.0",
          "state": {
            "_dom_classes": [],
            "_model_module": "@jupyter-widgets/controls",
            "_model_module_version": "1.5.0",
            "_model_name": "FloatProgressModel",
            "_view_count": null,
            "_view_module": "@jupyter-widgets/controls",
            "_view_module_version": "1.5.0",
            "_view_name": "ProgressView",
            "bar_style": "success",
            "description": "",
            "description_tooltip": null,
            "layout": "IPY_MODEL_f217e896f91f46e18360e340d630f3cb",
            "max": 33,
            "min": 0,
            "orientation": "horizontal",
            "style": "IPY_MODEL_dbd79fa36d184b97b1ef87a07d46173f",
            "value": 33
          }
        },
        "7dcaf293c6804cb4b512451d0051b920": {
          "model_module": "@jupyter-widgets/controls",
          "model_name": "HTMLModel",
          "model_module_version": "1.5.0",
          "state": {
            "_dom_classes": [],
            "_model_module": "@jupyter-widgets/controls",
            "_model_module_version": "1.5.0",
            "_model_name": "HTMLModel",
            "_view_count": null,
            "_view_module": "@jupyter-widgets/controls",
            "_view_module_version": "1.5.0",
            "_view_name": "HTMLView",
            "description": "",
            "description_tooltip": null,
            "layout": "IPY_MODEL_b42d66fd6e7f4dc1b3858a70dc959d68",
            "placeholder": "​",
            "style": "IPY_MODEL_d41a2025fcab458bb16791b3e5b04bc3",
            "value": " 33/33 [04:57&lt;00:00,  7.68s/it]"
          }
        },
        "eb97cb8a48bc4a5f911ca8213bf3a79e": {
          "model_module": "@jupyter-widgets/base",
          "model_name": "LayoutModel",
          "model_module_version": "1.2.0",
          "state": {
            "_model_module": "@jupyter-widgets/base",
            "_model_module_version": "1.2.0",
            "_model_name": "LayoutModel",
            "_view_count": null,
            "_view_module": "@jupyter-widgets/base",
            "_view_module_version": "1.2.0",
            "_view_name": "LayoutView",
            "align_content": null,
            "align_items": null,
            "align_self": null,
            "border": null,
            "bottom": null,
            "display": null,
            "flex": null,
            "flex_flow": null,
            "grid_area": null,
            "grid_auto_columns": null,
            "grid_auto_flow": null,
            "grid_auto_rows": null,
            "grid_column": null,
            "grid_gap": null,
            "grid_row": null,
            "grid_template_areas": null,
            "grid_template_columns": null,
            "grid_template_rows": null,
            "height": null,
            "justify_content": null,
            "justify_items": null,
            "left": null,
            "margin": null,
            "max_height": null,
            "max_width": null,
            "min_height": null,
            "min_width": null,
            "object_fit": null,
            "object_position": null,
            "order": null,
            "overflow": null,
            "overflow_x": null,
            "overflow_y": null,
            "padding": null,
            "right": null,
            "top": null,
            "visibility": null,
            "width": null
          }
        },
        "5a716b1251914e0582cf0909befb3e94": {
          "model_module": "@jupyter-widgets/base",
          "model_name": "LayoutModel",
          "model_module_version": "1.2.0",
          "state": {
            "_model_module": "@jupyter-widgets/base",
            "_model_module_version": "1.2.0",
            "_model_name": "LayoutModel",
            "_view_count": null,
            "_view_module": "@jupyter-widgets/base",
            "_view_module_version": "1.2.0",
            "_view_name": "LayoutView",
            "align_content": null,
            "align_items": null,
            "align_self": null,
            "border": null,
            "bottom": null,
            "display": null,
            "flex": null,
            "flex_flow": null,
            "grid_area": null,
            "grid_auto_columns": null,
            "grid_auto_flow": null,
            "grid_auto_rows": null,
            "grid_column": null,
            "grid_gap": null,
            "grid_row": null,
            "grid_template_areas": null,
            "grid_template_columns": null,
            "grid_template_rows": null,
            "height": null,
            "justify_content": null,
            "justify_items": null,
            "left": null,
            "margin": null,
            "max_height": null,
            "max_width": null,
            "min_height": null,
            "min_width": null,
            "object_fit": null,
            "object_position": null,
            "order": null,
            "overflow": null,
            "overflow_x": null,
            "overflow_y": null,
            "padding": null,
            "right": null,
            "top": null,
            "visibility": null,
            "width": null
          }
        },
        "e73edfa99e234b36b4b8c0cc9f02d73a": {
          "model_module": "@jupyter-widgets/controls",
          "model_name": "DescriptionStyleModel",
          "model_module_version": "1.5.0",
          "state": {
            "_model_module": "@jupyter-widgets/controls",
            "_model_module_version": "1.5.0",
            "_model_name": "DescriptionStyleModel",
            "_view_count": null,
            "_view_module": "@jupyter-widgets/base",
            "_view_module_version": "1.2.0",
            "_view_name": "StyleView",
            "description_width": ""
          }
        },
        "f217e896f91f46e18360e340d630f3cb": {
          "model_module": "@jupyter-widgets/base",
          "model_name": "LayoutModel",
          "model_module_version": "1.2.0",
          "state": {
            "_model_module": "@jupyter-widgets/base",
            "_model_module_version": "1.2.0",
            "_model_name": "LayoutModel",
            "_view_count": null,
            "_view_module": "@jupyter-widgets/base",
            "_view_module_version": "1.2.0",
            "_view_name": "LayoutView",
            "align_content": null,
            "align_items": null,
            "align_self": null,
            "border": null,
            "bottom": null,
            "display": null,
            "flex": null,
            "flex_flow": null,
            "grid_area": null,
            "grid_auto_columns": null,
            "grid_auto_flow": null,
            "grid_auto_rows": null,
            "grid_column": null,
            "grid_gap": null,
            "grid_row": null,
            "grid_template_areas": null,
            "grid_template_columns": null,
            "grid_template_rows": null,
            "height": null,
            "justify_content": null,
            "justify_items": null,
            "left": null,
            "margin": null,
            "max_height": null,
            "max_width": null,
            "min_height": null,
            "min_width": null,
            "object_fit": null,
            "object_position": null,
            "order": null,
            "overflow": null,
            "overflow_x": null,
            "overflow_y": null,
            "padding": null,
            "right": null,
            "top": null,
            "visibility": null,
            "width": null
          }
        },
        "dbd79fa36d184b97b1ef87a07d46173f": {
          "model_module": "@jupyter-widgets/controls",
          "model_name": "ProgressStyleModel",
          "model_module_version": "1.5.0",
          "state": {
            "_model_module": "@jupyter-widgets/controls",
            "_model_module_version": "1.5.0",
            "_model_name": "ProgressStyleModel",
            "_view_count": null,
            "_view_module": "@jupyter-widgets/base",
            "_view_module_version": "1.2.0",
            "_view_name": "StyleView",
            "bar_color": null,
            "description_width": ""
          }
        },
        "b42d66fd6e7f4dc1b3858a70dc959d68": {
          "model_module": "@jupyter-widgets/base",
          "model_name": "LayoutModel",
          "model_module_version": "1.2.0",
          "state": {
            "_model_module": "@jupyter-widgets/base",
            "_model_module_version": "1.2.0",
            "_model_name": "LayoutModel",
            "_view_count": null,
            "_view_module": "@jupyter-widgets/base",
            "_view_module_version": "1.2.0",
            "_view_name": "LayoutView",
            "align_content": null,
            "align_items": null,
            "align_self": null,
            "border": null,
            "bottom": null,
            "display": null,
            "flex": null,
            "flex_flow": null,
            "grid_area": null,
            "grid_auto_columns": null,
            "grid_auto_flow": null,
            "grid_auto_rows": null,
            "grid_column": null,
            "grid_gap": null,
            "grid_row": null,
            "grid_template_areas": null,
            "grid_template_columns": null,
            "grid_template_rows": null,
            "height": null,
            "justify_content": null,
            "justify_items": null,
            "left": null,
            "margin": null,
            "max_height": null,
            "max_width": null,
            "min_height": null,
            "min_width": null,
            "object_fit": null,
            "object_position": null,
            "order": null,
            "overflow": null,
            "overflow_x": null,
            "overflow_y": null,
            "padding": null,
            "right": null,
            "top": null,
            "visibility": null,
            "width": null
          }
        },
        "d41a2025fcab458bb16791b3e5b04bc3": {
          "model_module": "@jupyter-widgets/controls",
          "model_name": "DescriptionStyleModel",
          "model_module_version": "1.5.0",
          "state": {
            "_model_module": "@jupyter-widgets/controls",
            "_model_module_version": "1.5.0",
            "_model_name": "DescriptionStyleModel",
            "_view_count": null,
            "_view_module": "@jupyter-widgets/base",
            "_view_module_version": "1.2.0",
            "_view_name": "StyleView",
            "description_width": ""
          }
        },
        "118da5a049fe4c758baff7d7e98a6c79": {
          "model_module": "@jupyter-widgets/controls",
          "model_name": "VBoxModel",
          "model_module_version": "1.5.0",
          "state": {
            "_dom_classes": [],
            "_model_module": "@jupyter-widgets/controls",
            "_model_module_version": "1.5.0",
            "_model_name": "VBoxModel",
            "_view_count": null,
            "_view_module": "@jupyter-widgets/controls",
            "_view_module_version": "1.5.0",
            "_view_name": "VBoxView",
            "box_style": "",
            "children": [
              "IPY_MODEL_b4da4088efd04183b912cdae249ace86",
              "IPY_MODEL_ff2cb26fde2146c2aca3aff6ec7015ec"
            ],
            "layout": "IPY_MODEL_7493c164b2fc4426a5454af8a16b15ce"
          }
        },
        "b4da4088efd04183b912cdae249ace86": {
          "model_module": "@jupyter-widgets/controls",
          "model_name": "LabelModel",
          "model_module_version": "1.5.0",
          "state": {
            "_dom_classes": [],
            "_model_module": "@jupyter-widgets/controls",
            "_model_module_version": "1.5.0",
            "_model_name": "LabelModel",
            "_view_count": null,
            "_view_module": "@jupyter-widgets/controls",
            "_view_module_version": "1.5.0",
            "_view_name": "LabelView",
            "description": "",
            "description_tooltip": null,
            "layout": "IPY_MODEL_9d441ee5c32349cd8128648e1115975d",
            "placeholder": "​",
            "style": "IPY_MODEL_4541cc48f2e9415f8ec5997c8f374f6b",
            "value": "466.499 MB of 466.499 MB uploaded (0.000 MB deduped)\r"
          }
        },
        "ff2cb26fde2146c2aca3aff6ec7015ec": {
          "model_module": "@jupyter-widgets/controls",
          "model_name": "FloatProgressModel",
          "model_module_version": "1.5.0",
          "state": {
            "_dom_classes": [],
            "_model_module": "@jupyter-widgets/controls",
            "_model_module_version": "1.5.0",
            "_model_name": "FloatProgressModel",
            "_view_count": null,
            "_view_module": "@jupyter-widgets/controls",
            "_view_module_version": "1.5.0",
            "_view_name": "ProgressView",
            "bar_style": "",
            "description": "",
            "description_tooltip": null,
            "layout": "IPY_MODEL_2424565c66d649f48a0aec5129d35df3",
            "max": 1,
            "min": 0,
            "orientation": "horizontal",
            "style": "IPY_MODEL_ddabd220b6594a70840ea17c3732ca9d",
            "value": 1
          }
        },
        "7493c164b2fc4426a5454af8a16b15ce": {
          "model_module": "@jupyter-widgets/base",
          "model_name": "LayoutModel",
          "model_module_version": "1.2.0",
          "state": {
            "_model_module": "@jupyter-widgets/base",
            "_model_module_version": "1.2.0",
            "_model_name": "LayoutModel",
            "_view_count": null,
            "_view_module": "@jupyter-widgets/base",
            "_view_module_version": "1.2.0",
            "_view_name": "LayoutView",
            "align_content": null,
            "align_items": null,
            "align_self": null,
            "border": null,
            "bottom": null,
            "display": null,
            "flex": null,
            "flex_flow": null,
            "grid_area": null,
            "grid_auto_columns": null,
            "grid_auto_flow": null,
            "grid_auto_rows": null,
            "grid_column": null,
            "grid_gap": null,
            "grid_row": null,
            "grid_template_areas": null,
            "grid_template_columns": null,
            "grid_template_rows": null,
            "height": null,
            "justify_content": null,
            "justify_items": null,
            "left": null,
            "margin": null,
            "max_height": null,
            "max_width": null,
            "min_height": null,
            "min_width": null,
            "object_fit": null,
            "object_position": null,
            "order": null,
            "overflow": null,
            "overflow_x": null,
            "overflow_y": null,
            "padding": null,
            "right": null,
            "top": null,
            "visibility": null,
            "width": null
          }
        },
        "9d441ee5c32349cd8128648e1115975d": {
          "model_module": "@jupyter-widgets/base",
          "model_name": "LayoutModel",
          "model_module_version": "1.2.0",
          "state": {
            "_model_module": "@jupyter-widgets/base",
            "_model_module_version": "1.2.0",
            "_model_name": "LayoutModel",
            "_view_count": null,
            "_view_module": "@jupyter-widgets/base",
            "_view_module_version": "1.2.0",
            "_view_name": "LayoutView",
            "align_content": null,
            "align_items": null,
            "align_self": null,
            "border": null,
            "bottom": null,
            "display": null,
            "flex": null,
            "flex_flow": null,
            "grid_area": null,
            "grid_auto_columns": null,
            "grid_auto_flow": null,
            "grid_auto_rows": null,
            "grid_column": null,
            "grid_gap": null,
            "grid_row": null,
            "grid_template_areas": null,
            "grid_template_columns": null,
            "grid_template_rows": null,
            "height": null,
            "justify_content": null,
            "justify_items": null,
            "left": null,
            "margin": null,
            "max_height": null,
            "max_width": null,
            "min_height": null,
            "min_width": null,
            "object_fit": null,
            "object_position": null,
            "order": null,
            "overflow": null,
            "overflow_x": null,
            "overflow_y": null,
            "padding": null,
            "right": null,
            "top": null,
            "visibility": null,
            "width": null
          }
        },
        "4541cc48f2e9415f8ec5997c8f374f6b": {
          "model_module": "@jupyter-widgets/controls",
          "model_name": "DescriptionStyleModel",
          "model_module_version": "1.5.0",
          "state": {
            "_model_module": "@jupyter-widgets/controls",
            "_model_module_version": "1.5.0",
            "_model_name": "DescriptionStyleModel",
            "_view_count": null,
            "_view_module": "@jupyter-widgets/base",
            "_view_module_version": "1.2.0",
            "_view_name": "StyleView",
            "description_width": ""
          }
        },
        "2424565c66d649f48a0aec5129d35df3": {
          "model_module": "@jupyter-widgets/base",
          "model_name": "LayoutModel",
          "model_module_version": "1.2.0",
          "state": {
            "_model_module": "@jupyter-widgets/base",
            "_model_module_version": "1.2.0",
            "_model_name": "LayoutModel",
            "_view_count": null,
            "_view_module": "@jupyter-widgets/base",
            "_view_module_version": "1.2.0",
            "_view_name": "LayoutView",
            "align_content": null,
            "align_items": null,
            "align_self": null,
            "border": null,
            "bottom": null,
            "display": null,
            "flex": null,
            "flex_flow": null,
            "grid_area": null,
            "grid_auto_columns": null,
            "grid_auto_flow": null,
            "grid_auto_rows": null,
            "grid_column": null,
            "grid_gap": null,
            "grid_row": null,
            "grid_template_areas": null,
            "grid_template_columns": null,
            "grid_template_rows": null,
            "height": null,
            "justify_content": null,
            "justify_items": null,
            "left": null,
            "margin": null,
            "max_height": null,
            "max_width": null,
            "min_height": null,
            "min_width": null,
            "object_fit": null,
            "object_position": null,
            "order": null,
            "overflow": null,
            "overflow_x": null,
            "overflow_y": null,
            "padding": null,
            "right": null,
            "top": null,
            "visibility": null,
            "width": null
          }
        },
        "ddabd220b6594a70840ea17c3732ca9d": {
          "model_module": "@jupyter-widgets/controls",
          "model_name": "ProgressStyleModel",
          "model_module_version": "1.5.0",
          "state": {
            "_model_module": "@jupyter-widgets/controls",
            "_model_module_version": "1.5.0",
            "_model_name": "ProgressStyleModel",
            "_view_count": null,
            "_view_module": "@jupyter-widgets/base",
            "_view_module_version": "1.2.0",
            "_view_name": "StyleView",
            "bar_color": null,
            "description_width": ""
          }
        }
      }
    },
    "gpuClass": "standard"
  },
  "cells": [
    {
      "cell_type": "markdown",
      "metadata": {
        "id": "0I4pgzLVtBTP"
      },
      "source": [
        "# 1.0 Um problema de classificação de ponta-a-ponta usando NLP"
      ]
    },
    {
      "cell_type": "markdown",
      "metadata": {
        "id": "Dh34gim6KPtT"
      },
      "source": [
        "## 1.1 Descrição do dataset"
      ]
    },
    {
      "cell_type": "markdown",
      "metadata": {
        "id": "iE8OJoDZ5AFK"
      },
      "source": [
        "O dataset contém informações gerais de 5.000 processos julgados\n",
        "nos Juizados Especiais Federais dentro das Seções Judiciárias do Tribunal Regional Federal da 5a Região (https://www.trf5.jus.br). Os dados são oriundos da raspagem da consulta pública processual. Além disso, ele possui 46 colunas, das quais duas possuem texto livre:\n",
        "\"conteudo_sentenca\" e \"conteudo_acordao\".\n",
        "\n",
        "O dataset pode ser baixado no link a seguir: https://jacob.al/dataset_juizados \n",
        "\n",
        "Ao longo dos notebooks, vão ser realizados os seguintes passos:\n",
        "\n",
        "1. Importação do dataset **(concluído)**\n",
        "2. Análise exploratória dos dados **(concluído)**\n",
        "3. Pré-processamento **(concluído)**\n",
        "4. Verificação dos dados **(concluído)**\n",
        "5. Segregação dos dados **(concluído)**\n",
        "6. Treinamento\n",
        "7. Teste\n",
        "\n",
        "<center><img width=\"600\" src=\"https://drive.google.com/uc?export=view&id=1fKGuR5U5ECf7On6Zo1UWzAIWZrMmZnGc\"></center>\n"
      ]
    },
    {
      "cell_type": "markdown",
      "metadata": {
        "id": "7UpxKxU1Ej7f"
      },
      "source": [
        "## 1.2 Instalação e importação das bibliotecas"
      ]
    },
    {
      "cell_type": "code",
      "execution_count": null,
      "metadata": {
        "id": "t82KewAPWCYe"
      },
      "outputs": [],
      "source": [
        "!pip install wandb"
      ]
    },
    {
      "cell_type": "code",
      "source": [
        "import logging\n",
        "import wandb\n",
        "import pandas as pd\n",
        "import numpy as np\n",
        "import joblib\n",
        "import re\n",
        "import nltk\n",
        "import matplotlib.pyplot as plt\n",
        "from nltk.corpus import stopwords\n",
        "from sklearn.model_selection import train_test_split\n",
        "from sklearn.neighbors import LocalOutlierFactor\n",
        "from sklearn.preprocessing import LabelEncoder\n",
        "from sklearn.preprocessing import OneHotEncoder\n",
        "from sklearn.base import BaseEstimator, TransformerMixin\n",
        "from sklearn.preprocessing import MinMaxScaler\n",
        "from sklearn.preprocessing import StandardScaler\n",
        "from sklearn.preprocessing import OneHotEncoder\n",
        "from sklearn.pipeline import Pipeline, FeatureUnion\n",
        "from sklearn.tree import DecisionTreeClassifier\n",
        "from sklearn.impute import SimpleImputer\n",
        "from sklearn.metrics import fbeta_score, precision_score, recall_score, accuracy_score\n",
        "from sklearn.metrics import classification_report\n",
        "from sklearn.metrics import confusion_matrix\n",
        "from sklearn.metrics import ConfusionMatrixDisplay\n",
        "from nltk.tokenize import word_tokenize\n",
        "from keras.preprocessing.text import Tokenizer"
      ],
      "metadata": {
        "id": "NreRnbvI8lL5"
      },
      "execution_count": null,
      "outputs": []
    },
    {
      "cell_type": "code",
      "source": [
        "# Login to Weights & Biases\n",
        "!wandb login --relogin"
      ],
      "metadata": {
        "id": "QZXcN54GkP25",
        "colab": {
          "base_uri": "https://localhost:8080/"
        },
        "outputId": "d3aa4196-edc9-438a-81a0-277a480eb98d"
      },
      "execution_count": null,
      "outputs": [
        {
          "output_type": "stream",
          "name": "stdout",
          "text": [
            "\u001b[34m\u001b[1mwandb\u001b[0m: Logging into wandb.ai. (Learn how to deploy a W&B server locally: https://wandb.me/wandb-server)\n",
            "\u001b[34m\u001b[1mwandb\u001b[0m: You can find your API key in your browser here: https://wandb.ai/authorize\n",
            "\u001b[34m\u001b[1mwandb\u001b[0m: Paste an API key from your profile and hit enter, or press ctrl+c to quit: \n",
            "\u001b[34m\u001b[1mwandb\u001b[0m: Appending key for api.wandb.ai to your netrc file: /root/.netrc\n"
          ]
        }
      ]
    },
    {
      "cell_type": "markdown",
      "source": [
        "## 1.3 Configuração do holdout"
      ],
      "metadata": {
        "id": "BeMVUzr08AK8"
      }
    },
    {
      "cell_type": "code",
      "source": [
        "# variáveis globais\n",
        "\n",
        "# proporção utilizada para dividir entre dados de teste e de treinamento\n",
        "val_size = 0.30\n",
        "\n",
        "# Semente utilizada para propósitos de reproducibilidade\n",
        "seed = 41\n",
        "\n",
        "# coluna de referência para dividir os dados\n",
        "stratify = \"assunto_cnj\"\n",
        "\n",
        "# nome do artefato de entrada\n",
        "artifact_input_name = \"nlp_bolsa/train.csv:latest\"\n",
        "\n",
        "# tipo do artefato\n",
        "artifact_type = \"Train\""
      ],
      "metadata": {
        "id": "sZzaS0x8ZYUB"
      },
      "execution_count": null,
      "outputs": []
    },
    {
      "cell_type": "code",
      "source": [
        "# configuração do logging\n",
        "logging.basicConfig(level=logging.INFO,\n",
        "                    format=\"%(asctime)s %(message)s\",\n",
        "                    datefmt='%d-%m-%Y %H:%M:%S')\n",
        "\n",
        "# objeto do logging\n",
        "logger = logging.getLogger()\n",
        "\n",
        "# Inicialização do projeto do wandb\n",
        "run = wandb.init(project=\"nlp_bolsa\",job_type=\"train\")\n",
        "\n",
        "logger.info(\"Downloading and reading train artifact\")\n",
        "local_path = run.use_artifact(artifact_input_name).file()\n",
        "df_train = pd.read_csv(local_path)\n",
        "\n",
        "\n",
        "# Divisão do arquivo train.csv em treinamento e validação\n",
        "logger.info(\"Spliting data into train/val\")\n",
        "x_train, x_val, y_train, y_val = train_test_split(df_train.drop(labels=stratify,axis=1),\n",
        "                                                  df_train[stratify],\n",
        "                                                  test_size=val_size,\n",
        "                                                  random_state=seed,\n",
        "                                                  shuffle=True,\n",
        "                                                  stratify=df_train[stratify])"
      ],
      "metadata": {
        "id": "VILw-BwKY2Wn",
        "colab": {
          "base_uri": "https://localhost:8080/",
          "height": 210,
          "referenced_widgets": [
            "2b6c7f9fe63e4aad9972d9a8583d6b0c",
            "7295926b563347708beaf12201563c80",
            "5a82fb12805d41a280f4883770c344a7",
            "2ff6836013dd458e8c6605afc3abb299",
            "909fe97667e748bab8cb6f99f5371f93",
            "cd409564889b4db59a20ffa87fd5cf45",
            "c0da01f405a24a96b5a4e24210f6c51a",
            "b436fc9eac8d4756b489d7878a5f7416"
          ]
        },
        "outputId": "1464f222-77fc-4bc1-963d-3d787ea64aaa"
      },
      "execution_count": null,
      "outputs": [
        {
          "output_type": "display_data",
          "data": {
            "text/plain": [
              "<IPython.core.display.HTML object>"
            ],
            "text/html": [
              "Finishing last run (ID:lbnh9rmm) before initializing another..."
            ]
          },
          "metadata": {}
        },
        {
          "output_type": "display_data",
          "data": {
            "text/plain": [
              "<IPython.core.display.HTML object>"
            ],
            "text/html": [
              "Waiting for W&B process to finish... <strong style=\"color:green\">(success).</strong>"
            ]
          },
          "metadata": {}
        },
        {
          "output_type": "display_data",
          "data": {
            "text/plain": [
              "VBox(children=(Label(value='0.000 MB of 0.000 MB uploaded (0.000 MB deduped)\\r'), FloatProgress(value=1.0, max…"
            ],
            "application/vnd.jupyter.widget-view+json": {
              "version_major": 2,
              "version_minor": 0,
              "model_id": "2b6c7f9fe63e4aad9972d9a8583d6b0c"
            }
          },
          "metadata": {}
        },
        {
          "output_type": "display_data",
          "data": {
            "text/plain": [
              "<IPython.core.display.HTML object>"
            ],
            "text/html": [
              "Synced <strong style=\"color:#cdcd00\">cool-flower-18</strong>: <a href=\"https://wandb.ai/morsinaldo/nlp_bolsa/runs/lbnh9rmm\" target=\"_blank\">https://wandb.ai/morsinaldo/nlp_bolsa/runs/lbnh9rmm</a><br/>Synced 5 W&B file(s), 0 media file(s), 0 artifact file(s) and 0 other file(s)"
            ]
          },
          "metadata": {}
        },
        {
          "output_type": "display_data",
          "data": {
            "text/plain": [
              "<IPython.core.display.HTML object>"
            ],
            "text/html": [
              "Find logs at: <code>./wandb/run-20220717_185016-lbnh9rmm/logs</code>"
            ]
          },
          "metadata": {}
        },
        {
          "output_type": "display_data",
          "data": {
            "text/plain": [
              "<IPython.core.display.HTML object>"
            ],
            "text/html": [
              "Successfully finished last run (ID:lbnh9rmm). Initializing new run:<br/>"
            ]
          },
          "metadata": {}
        },
        {
          "output_type": "display_data",
          "data": {
            "text/plain": [
              "<IPython.core.display.HTML object>"
            ],
            "text/html": [
              "Tracking run with wandb version 0.12.21"
            ]
          },
          "metadata": {}
        },
        {
          "output_type": "display_data",
          "data": {
            "text/plain": [
              "<IPython.core.display.HTML object>"
            ],
            "text/html": [
              "Run data is saved locally in <code>/content/wandb/run-20220717_185051-18dmdp8g</code>"
            ]
          },
          "metadata": {}
        },
        {
          "output_type": "display_data",
          "data": {
            "text/plain": [
              "<IPython.core.display.HTML object>"
            ],
            "text/html": [
              "Syncing run <strong><a href=\"https://wandb.ai/morsinaldo/nlp_bolsa/runs/18dmdp8g\" target=\"_blank\">faithful-wood-19</a></strong> to <a href=\"https://wandb.ai/morsinaldo/nlp_bolsa\" target=\"_blank\">Weights & Biases</a> (<a href=\"https://wandb.me/run\" target=\"_blank\">docs</a>)<br/>"
            ]
          },
          "metadata": {}
        },
        {
          "output_type": "stream",
          "name": "stderr",
          "text": [
            "17-07-2022 18:50:57 Downloading and reading train artifact\n",
            "17-07-2022 18:50:58 Spliting data into train/val\n"
          ]
        }
      ]
    },
    {
      "cell_type": "code",
      "source": [
        "logger.info(\"x train: {}\".format(x_train.shape))\n",
        "logger.info(\"y train: {}\".format(y_train.shape))\n",
        "logger.info(\"x val: {}\".format(x_val.shape))\n",
        "logger.info(\"y val: {}\".format(y_val.shape))"
      ],
      "metadata": {
        "id": "VOFF72bq9QoB",
        "colab": {
          "base_uri": "https://localhost:8080/"
        },
        "outputId": "d2c66284-e5d9-45c3-91e1-22391bf9fb77"
      },
      "execution_count": null,
      "outputs": [
        {
          "output_type": "stream",
          "name": "stderr",
          "text": [
            "17-07-2022 18:50:59 x train: (2449, 1)\n",
            "17-07-2022 18:50:59 y train: (2449,)\n",
            "17-07-2022 18:50:59 x val: (1050, 1)\n",
            "17-07-2022 18:50:59 y val: (1050,)\n"
          ]
        }
      ]
    },
    {
      "cell_type": "markdown",
      "source": [
        "## 1.4 Prepapração dos dados"
      ],
      "metadata": {
        "id": "PcqOxTYQ4z3D"
      }
    },
    {
      "cell_type": "markdown",
      "source": [
        "### 1.4.1 Encoding a variável alvo"
      ],
      "metadata": {
        "id": "EEKvM3qL_3Hb"
      }
    },
    {
      "cell_type": "markdown",
      "source": [
        "Usada na parte da modelagem com redes neurais"
      ],
      "metadata": {
        "id": "iPoGeGA5u45v"
      }
    },
    {
      "cell_type": "code",
      "source": [
        "y_train.head(10)"
      ],
      "metadata": {
        "id": "coxDBYZ5Dv4_",
        "colab": {
          "base_uri": "https://localhost:8080/"
        },
        "outputId": "037a34e3-6f6a-48f0-b27e-a8dc8a8b61d1"
      },
      "execution_count": null,
      "outputs": [
        {
          "output_type": "execute_result",
          "data": {
            "text/plain": [
              "1171    Direito Previdenciário\n",
              "1821    Direito Previdenciário\n",
              "863     Direito Previdenciário\n",
              "1135    Direito Previdenciário\n",
              "1126    Direito Previdenciário\n",
              "1023    Direito Previdenciário\n",
              "2166    Direito Previdenciário\n",
              "628     Direito Previdenciário\n",
              "2169    Direito Previdenciário\n",
              "214     Direito Previdenciário\n",
              "Name: assunto_cnj, dtype: object"
            ]
          },
          "metadata": {},
          "execution_count": 15
        }
      ]
    },
    {
      "cell_type": "code",
      "source": [
        "ohe = OneHotEncoder()\n",
        "\n",
        "y_train = ohe.fit_transform(y_train.values.reshape(-1,1))\n",
        "y_train"
      ],
      "metadata": {
        "colab": {
          "base_uri": "https://localhost:8080/"
        },
        "id": "kciJcCykVi70",
        "outputId": "438fe3dd-8ba4-4a70-b7f6-c0d54367c4b5"
      },
      "execution_count": null,
      "outputs": [
        {
          "output_type": "execute_result",
          "data": {
            "text/plain": [
              "<2449x7 sparse matrix of type '<class 'numpy.float64'>'\n",
              "\twith 2449 stored elements in Compressed Sparse Row format>"
            ]
          },
          "metadata": {},
          "execution_count": 17
        }
      ]
    },
    {
      "cell_type": "code",
      "source": [
        "matrix= np.zeros((7,7))\n",
        "for i in range(7):\n",
        "  for j in range(7):\n",
        "    if i == j:\n",
        "      matrix[i,i] = 1\n",
        "\n",
        "inverse = ohe.inverse_transform(matrix)"
      ],
      "metadata": {
        "id": "31LPuhgyWCOY"
      },
      "execution_count": null,
      "outputs": []
    },
    {
      "cell_type": "code",
      "source": [
        "print(matrix , '=', inverse)"
      ],
      "metadata": {
        "colab": {
          "base_uri": "https://localhost:8080/"
        },
        "id": "g8hKvKc2Whqf",
        "outputId": "3878e032-8b16-4a80-f694-08ffba4504f6"
      },
      "execution_count": null,
      "outputs": [
        {
          "output_type": "stream",
          "name": "stdout",
          "text": [
            "[[1. 0. 0. 0. 0. 0. 0.]\n",
            " [0. 1. 0. 0. 0. 0. 0.]\n",
            " [0. 0. 1. 0. 0. 0. 0.]\n",
            " [0. 0. 0. 1. 0. 0. 0.]\n",
            " [0. 0. 0. 0. 1. 0. 0.]\n",
            " [0. 0. 0. 0. 0. 1. 0.]\n",
            " [0. 0. 0. 0. 0. 0. 1.]] = [['Direito Administrativo e outras matérias do Direito Público']\n",
            " ['Direito Civil']\n",
            " ['Direito Previdenciário']\n",
            " ['Direito Processual Civil e do Trabalho']\n",
            " ['Direito Tributário']\n",
            " ['Direito do Consumidor']\n",
            " ['Direito do Trabalho']]\n"
          ]
        }
      ]
    },
    {
      "cell_type": "markdown",
      "source": [
        "### 1.4.2 Pipeline completo"
      ],
      "metadata": {
        "id": "7qcpCDX0gce4"
      }
    },
    {
      "cell_type": "markdown",
      "source": [
        "#### 1.4.2.1 Extrator de features"
      ],
      "metadata": {
        "id": "gF_ZLoVjjPUg"
      }
    },
    {
      "cell_type": "code",
      "source": [
        "class FeatureSelector(BaseEstimator, TransformerMixin):\n",
        "    # construtor da classe\n",
        "    def __init__(self, feature_names):\n",
        "        self.feature_names = feature_names\n",
        "        \n",
        "    def fit(self, X, y=None):\n",
        "        return self\n",
        "\n",
        "    def transform(self, X, y=None):\n",
        "        return X[self.feature_names]"
      ],
      "metadata": {
        "id": "0yn1GUbCdFmj"
      },
      "execution_count": null,
      "outputs": []
    },
    {
      "cell_type": "markdown",
      "source": [
        "#### 1.4.2.2 Tratamento de features categóricas"
      ],
      "metadata": {
        "id": "_ofrw3WLjVay"
      }
    },
    {
      "cell_type": "code",
      "source": [
        "from nltk.tokenize import word_tokenize\n",
        "nltk.download('stopwords')\n",
        "nltk.download('punkt')"
      ],
      "metadata": {
        "colab": {
          "base_uri": "https://localhost:8080/"
        },
        "id": "8yGlAt8Ua2Vz",
        "outputId": "0cfab5c1-bf0a-49d7-b7a5-04d35670cad0"
      },
      "execution_count": null,
      "outputs": [
        {
          "output_type": "stream",
          "name": "stderr",
          "text": [
            "[nltk_data] Downloading package stopwords to /root/nltk_data...\n",
            "[nltk_data]   Package stopwords is already up-to-date!\n",
            "[nltk_data] Downloading package punkt to /root/nltk_data...\n",
            "[nltk_data]   Package punkt is already up-to-date!\n"
          ]
        },
        {
          "output_type": "execute_result",
          "data": {
            "text/plain": [
              "True"
            ]
          },
          "metadata": {},
          "execution_count": 100
        }
      ]
    },
    {
      "cell_type": "code",
      "source": [
        "def doc_to_list(text_df, list_words):\n",
        "  for i in range(text_df.shape[0]):\n",
        "    list_words.append(text_df.loc[i, 'conteudo_sentenca'])\n",
        "\n",
        "  return list_words"
      ],
      "metadata": {
        "id": "3AH5jrH5dEox"
      },
      "execution_count": null,
      "outputs": []
    },
    {
      "cell_type": "code",
      "source": [
        "def create_tokenizer(lines):\n",
        "  tokenizer = Tokenizer()\n",
        "  tokenizer.fit_on_texts(lines)\n",
        "  return tokenizer"
      ],
      "metadata": {
        "id": "ARf0w0TddKuo"
      },
      "execution_count": null,
      "outputs": []
    },
    {
      "cell_type": "code",
      "source": [
        "# Tratando variáveis categóricas\n",
        "class CategoricalTransformer(BaseEstimator, TransformerMixin):\n",
        "\n",
        "    def __init__(self, new_features=True, colnames=None):\n",
        "        self.new_features = new_features\n",
        "        self.colnames = colnames\n",
        "\n",
        "    def fit(self, X, y=None):\n",
        "        return self\n",
        "\n",
        "    def get_feature_names_out(self):\n",
        "        return self.colnames.tolist()\n",
        "\n",
        "    def transform(self, X, y=None):\n",
        "        df = pd.DataFrame(X, columns=self.colnames)\n",
        "\n",
        "        # Removendo a pontuação\n",
        "        df['conteudo_sentenca'] = df['conteudo_sentenca'].map(lambda x: re.sub('-', ' ', x))\n",
        "        df['conteudo_sentenca'] = df['conteudo_sentenca'].map(lambda x: re.sub('[!\"#$%&()*+,-./:;<=>?@[\\]^_`{|}~]', '', x))\n",
        "\n",
        "        # Colocando todos os textos em minúsuculo\n",
        "        df['conteudo_sentenca'] = df['conteudo_sentenca'].map(lambda x: x.lower())\n",
        "\n",
        "        # Removendo caracteres especiais e stopwords\n",
        "        stop = stopwords.words('portuguese')\n",
        "\n",
        "        # palavras comuns em processos jurídicos\n",
        "        stop.extend(['artigo', 'lei', 'sentença', 'município', 'nacional', '1o', 'art', \n",
        "             'autora', 'parte', 'honorários', 'advocatícios', 'termo', 'tempo',\n",
        "             'justiça', 'etc', 'n°', '°', 'termos', 'parágrafo'])\n",
        "        pat = r'\\b(?:{}/-;)\\b'.format('|'.join(stop))\n",
        "        df['conteudo_sentenca'] = df['conteudo_sentenca'].str.replace(pat, '')\n",
        "\n",
        "        # Removendo dígitos\n",
        "        df['conteudo_sentenca'] = df['conteudo_sentenca'].str.replace(r'\\d+', ' ')\n",
        "\n",
        "        # Removendo sub-string\n",
        "        df['conteudo_sentenca'] = df['conteudo_sentenca'].str.replace(r'\\s+', ' ')\n",
        "\n",
        "        # Pegando os tokens das palavras\n",
        "        df['conteudo_sentenca'].apply(word_tokenize)\n",
        "        \n",
        "        ''' Usada na parte da modelagem com redes neurais\n",
        "        # Pegando os tokens das palavras\n",
        "        list_words = []\n",
        "        list_words = doc_to_list(df, list_words)\n",
        "\n",
        "        # criando o tokenizer\n",
        "        tokenizer = create_tokenizer(list_words)\n",
        "\n",
        "        df = tokenizer.texts_to_matrix(df.loc[:,'conteudo_sentenca'], mode='freq')\n",
        "        '''\n",
        "        return df\n"
      ],
      "metadata": {
        "id": "Od5QTxwdhqgL"
      },
      "execution_count": null,
      "outputs": []
    },
    {
      "cell_type": "code",
      "source": [
        "fs = FeatureSelector(x_train.select_dtypes(\"object\").columns.to_list())\n",
        "df = fs.fit_transform(x_train)\n",
        "df.head()"
      ],
      "metadata": {
        "id": "j6BYQho9mQHU",
        "colab": {
          "base_uri": "https://localhost:8080/",
          "height": 206
        },
        "outputId": "0e0d6c3a-1674-43e7-d2ac-f36d4f32772d"
      },
      "execution_count": null,
      "outputs": [
        {
          "output_type": "execute_result",
          "data": {
            "text/plain": [
              "                                      conteudo_sentenca\n",
              "1171  SENTENÇA I. RELATÓRIO. Dispensado o relatório,...\n",
              "1821   TERMO DE ACORDO PROCESSO: 0502544-12.2018.4.0...\n",
              "863   SENTENÇA Trata-se de ação especial cível afora...\n",
              "1135   SENTENÇA RELATÓRIO Trata-se de ação especial ...\n",
              "1126  SENTENÇA - TIPO A Dispensado o relatório (art...."
            ],
            "text/html": [
              "\n",
              "  <div id=\"df-105ef9d4-99dd-42f2-836b-8af348c4e53b\">\n",
              "    <div class=\"colab-df-container\">\n",
              "      <div>\n",
              "<style scoped>\n",
              "    .dataframe tbody tr th:only-of-type {\n",
              "        vertical-align: middle;\n",
              "    }\n",
              "\n",
              "    .dataframe tbody tr th {\n",
              "        vertical-align: top;\n",
              "    }\n",
              "\n",
              "    .dataframe thead th {\n",
              "        text-align: right;\n",
              "    }\n",
              "</style>\n",
              "<table border=\"1\" class=\"dataframe\">\n",
              "  <thead>\n",
              "    <tr style=\"text-align: right;\">\n",
              "      <th></th>\n",
              "      <th>conteudo_sentenca</th>\n",
              "    </tr>\n",
              "  </thead>\n",
              "  <tbody>\n",
              "    <tr>\n",
              "      <th>1171</th>\n",
              "      <td>SENTENÇA I. RELATÓRIO. Dispensado o relatório,...</td>\n",
              "    </tr>\n",
              "    <tr>\n",
              "      <th>1821</th>\n",
              "      <td>TERMO DE ACORDO PROCESSO: 0502544-12.2018.4.0...</td>\n",
              "    </tr>\n",
              "    <tr>\n",
              "      <th>863</th>\n",
              "      <td>SENTENÇA Trata-se de ação especial cível afora...</td>\n",
              "    </tr>\n",
              "    <tr>\n",
              "      <th>1135</th>\n",
              "      <td>SENTENÇA RELATÓRIO Trata-se de ação especial ...</td>\n",
              "    </tr>\n",
              "    <tr>\n",
              "      <th>1126</th>\n",
              "      <td>SENTENÇA - TIPO A Dispensado o relatório (art....</td>\n",
              "    </tr>\n",
              "  </tbody>\n",
              "</table>\n",
              "</div>\n",
              "      <button class=\"colab-df-convert\" onclick=\"convertToInteractive('df-105ef9d4-99dd-42f2-836b-8af348c4e53b')\"\n",
              "              title=\"Convert this dataframe to an interactive table.\"\n",
              "              style=\"display:none;\">\n",
              "        \n",
              "  <svg xmlns=\"http://www.w3.org/2000/svg\" height=\"24px\"viewBox=\"0 0 24 24\"\n",
              "       width=\"24px\">\n",
              "    <path d=\"M0 0h24v24H0V0z\" fill=\"none\"/>\n",
              "    <path d=\"M18.56 5.44l.94 2.06.94-2.06 2.06-.94-2.06-.94-.94-2.06-.94 2.06-2.06.94zm-11 1L8.5 8.5l.94-2.06 2.06-.94-2.06-.94L8.5 2.5l-.94 2.06-2.06.94zm10 10l.94 2.06.94-2.06 2.06-.94-2.06-.94-.94-2.06-.94 2.06-2.06.94z\"/><path d=\"M17.41 7.96l-1.37-1.37c-.4-.4-.92-.59-1.43-.59-.52 0-1.04.2-1.43.59L10.3 9.45l-7.72 7.72c-.78.78-.78 2.05 0 2.83L4 21.41c.39.39.9.59 1.41.59.51 0 1.02-.2 1.41-.59l7.78-7.78 2.81-2.81c.8-.78.8-2.07 0-2.86zM5.41 20L4 18.59l7.72-7.72 1.47 1.35L5.41 20z\"/>\n",
              "  </svg>\n",
              "      </button>\n",
              "      \n",
              "  <style>\n",
              "    .colab-df-container {\n",
              "      display:flex;\n",
              "      flex-wrap:wrap;\n",
              "      gap: 12px;\n",
              "    }\n",
              "\n",
              "    .colab-df-convert {\n",
              "      background-color: #E8F0FE;\n",
              "      border: none;\n",
              "      border-radius: 50%;\n",
              "      cursor: pointer;\n",
              "      display: none;\n",
              "      fill: #1967D2;\n",
              "      height: 32px;\n",
              "      padding: 0 0 0 0;\n",
              "      width: 32px;\n",
              "    }\n",
              "\n",
              "    .colab-df-convert:hover {\n",
              "      background-color: #E2EBFA;\n",
              "      box-shadow: 0px 1px 2px rgba(60, 64, 67, 0.3), 0px 1px 3px 1px rgba(60, 64, 67, 0.15);\n",
              "      fill: #174EA6;\n",
              "    }\n",
              "\n",
              "    [theme=dark] .colab-df-convert {\n",
              "      background-color: #3B4455;\n",
              "      fill: #D2E3FC;\n",
              "    }\n",
              "\n",
              "    [theme=dark] .colab-df-convert:hover {\n",
              "      background-color: #434B5C;\n",
              "      box-shadow: 0px 1px 3px 1px rgba(0, 0, 0, 0.15);\n",
              "      filter: drop-shadow(0px 1px 2px rgba(0, 0, 0, 0.3));\n",
              "      fill: #FFFFFF;\n",
              "    }\n",
              "  </style>\n",
              "\n",
              "      <script>\n",
              "        const buttonEl =\n",
              "          document.querySelector('#df-105ef9d4-99dd-42f2-836b-8af348c4e53b button.colab-df-convert');\n",
              "        buttonEl.style.display =\n",
              "          google.colab.kernel.accessAllowed ? 'block' : 'none';\n",
              "\n",
              "        async function convertToInteractive(key) {\n",
              "          const element = document.querySelector('#df-105ef9d4-99dd-42f2-836b-8af348c4e53b');\n",
              "          const dataTable =\n",
              "            await google.colab.kernel.invokeFunction('convertToInteractive',\n",
              "                                                     [key], {});\n",
              "          if (!dataTable) return;\n",
              "\n",
              "          const docLinkHtml = 'Like what you see? Visit the ' +\n",
              "            '<a target=\"_blank\" href=https://colab.research.google.com/notebooks/data_table.ipynb>data table notebook</a>'\n",
              "            + ' to learn more about interactive tables.';\n",
              "          element.innerHTML = '';\n",
              "          dataTable['output_type'] = 'display_data';\n",
              "          await google.colab.output.renderOutput(dataTable, element);\n",
              "          const docLink = document.createElement('div');\n",
              "          docLink.innerHTML = docLinkHtml;\n",
              "          element.appendChild(docLink);\n",
              "        }\n",
              "      </script>\n",
              "    </div>\n",
              "  </div>\n",
              "  "
            ]
          },
          "metadata": {},
          "execution_count": 104
        }
      ]
    },
    {
      "cell_type": "code",
      "source": [
        "ct = CategoricalTransformer(new_features=True,colnames=df.columns.tolist())\n",
        "df_cat = ct.fit_transform(df)\n",
        "df_cat"
      ],
      "metadata": {
        "id": "41xrQMJqmfEW",
        "colab": {
          "base_uri": "https://localhost:8080/",
          "height": 424
        },
        "outputId": "3650a6dc-3934-44ed-8bc5-7dafdd75426c"
      },
      "execution_count": null,
      "outputs": [
        {
          "output_type": "execute_result",
          "data": {
            "text/plain": [
              "                                      conteudo_sentenca\n",
              "1171   i relatório dispensado relatório n° aplicado ...\n",
              "1821   acordo processo autor antônia bento silva réu...\n",
              "863    trata ação especial cível aforada contra inst...\n",
              "1135   relatório trata ação especial cível promovida...\n",
              "1126   tipo dispensado relatório cc passo fundamenta...\n",
              "...                                                 ...\n",
              "3390   audiência instrução julgamento ação especial ...\n",
              "2328   i – relatório dispensado n° aplicado caso for...\n",
              "1379   vistos i – relatório aparte ajuizou ação rito...\n",
              "2145   tipo força disposto combinado dispenso feitur...\n",
              "1127   relatório trata ação especial cível movida al...\n",
              "\n",
              "[2449 rows x 1 columns]"
            ],
            "text/html": [
              "\n",
              "  <div id=\"df-9c700410-7ea7-47f6-8370-fc8685b0b39e\">\n",
              "    <div class=\"colab-df-container\">\n",
              "      <div>\n",
              "<style scoped>\n",
              "    .dataframe tbody tr th:only-of-type {\n",
              "        vertical-align: middle;\n",
              "    }\n",
              "\n",
              "    .dataframe tbody tr th {\n",
              "        vertical-align: top;\n",
              "    }\n",
              "\n",
              "    .dataframe thead th {\n",
              "        text-align: right;\n",
              "    }\n",
              "</style>\n",
              "<table border=\"1\" class=\"dataframe\">\n",
              "  <thead>\n",
              "    <tr style=\"text-align: right;\">\n",
              "      <th></th>\n",
              "      <th>conteudo_sentenca</th>\n",
              "    </tr>\n",
              "  </thead>\n",
              "  <tbody>\n",
              "    <tr>\n",
              "      <th>1171</th>\n",
              "      <td>i relatório dispensado relatório n° aplicado ...</td>\n",
              "    </tr>\n",
              "    <tr>\n",
              "      <th>1821</th>\n",
              "      <td>acordo processo autor antônia bento silva réu...</td>\n",
              "    </tr>\n",
              "    <tr>\n",
              "      <th>863</th>\n",
              "      <td>trata ação especial cível aforada contra inst...</td>\n",
              "    </tr>\n",
              "    <tr>\n",
              "      <th>1135</th>\n",
              "      <td>relatório trata ação especial cível promovida...</td>\n",
              "    </tr>\n",
              "    <tr>\n",
              "      <th>1126</th>\n",
              "      <td>tipo dispensado relatório cc passo fundamenta...</td>\n",
              "    </tr>\n",
              "    <tr>\n",
              "      <th>...</th>\n",
              "      <td>...</td>\n",
              "    </tr>\n",
              "    <tr>\n",
              "      <th>3390</th>\n",
              "      <td>audiência instrução julgamento ação especial ...</td>\n",
              "    </tr>\n",
              "    <tr>\n",
              "      <th>2328</th>\n",
              "      <td>i – relatório dispensado n° aplicado caso for...</td>\n",
              "    </tr>\n",
              "    <tr>\n",
              "      <th>1379</th>\n",
              "      <td>vistos i – relatório aparte ajuizou ação rito...</td>\n",
              "    </tr>\n",
              "    <tr>\n",
              "      <th>2145</th>\n",
              "      <td>tipo força disposto combinado dispenso feitur...</td>\n",
              "    </tr>\n",
              "    <tr>\n",
              "      <th>1127</th>\n",
              "      <td>relatório trata ação especial cível movida al...</td>\n",
              "    </tr>\n",
              "  </tbody>\n",
              "</table>\n",
              "<p>2449 rows × 1 columns</p>\n",
              "</div>\n",
              "      <button class=\"colab-df-convert\" onclick=\"convertToInteractive('df-9c700410-7ea7-47f6-8370-fc8685b0b39e')\"\n",
              "              title=\"Convert this dataframe to an interactive table.\"\n",
              "              style=\"display:none;\">\n",
              "        \n",
              "  <svg xmlns=\"http://www.w3.org/2000/svg\" height=\"24px\"viewBox=\"0 0 24 24\"\n",
              "       width=\"24px\">\n",
              "    <path d=\"M0 0h24v24H0V0z\" fill=\"none\"/>\n",
              "    <path d=\"M18.56 5.44l.94 2.06.94-2.06 2.06-.94-2.06-.94-.94-2.06-.94 2.06-2.06.94zm-11 1L8.5 8.5l.94-2.06 2.06-.94-2.06-.94L8.5 2.5l-.94 2.06-2.06.94zm10 10l.94 2.06.94-2.06 2.06-.94-2.06-.94-.94-2.06-.94 2.06-2.06.94z\"/><path d=\"M17.41 7.96l-1.37-1.37c-.4-.4-.92-.59-1.43-.59-.52 0-1.04.2-1.43.59L10.3 9.45l-7.72 7.72c-.78.78-.78 2.05 0 2.83L4 21.41c.39.39.9.59 1.41.59.51 0 1.02-.2 1.41-.59l7.78-7.78 2.81-2.81c.8-.78.8-2.07 0-2.86zM5.41 20L4 18.59l7.72-7.72 1.47 1.35L5.41 20z\"/>\n",
              "  </svg>\n",
              "      </button>\n",
              "      \n",
              "  <style>\n",
              "    .colab-df-container {\n",
              "      display:flex;\n",
              "      flex-wrap:wrap;\n",
              "      gap: 12px;\n",
              "    }\n",
              "\n",
              "    .colab-df-convert {\n",
              "      background-color: #E8F0FE;\n",
              "      border: none;\n",
              "      border-radius: 50%;\n",
              "      cursor: pointer;\n",
              "      display: none;\n",
              "      fill: #1967D2;\n",
              "      height: 32px;\n",
              "      padding: 0 0 0 0;\n",
              "      width: 32px;\n",
              "    }\n",
              "\n",
              "    .colab-df-convert:hover {\n",
              "      background-color: #E2EBFA;\n",
              "      box-shadow: 0px 1px 2px rgba(60, 64, 67, 0.3), 0px 1px 3px 1px rgba(60, 64, 67, 0.15);\n",
              "      fill: #174EA6;\n",
              "    }\n",
              "\n",
              "    [theme=dark] .colab-df-convert {\n",
              "      background-color: #3B4455;\n",
              "      fill: #D2E3FC;\n",
              "    }\n",
              "\n",
              "    [theme=dark] .colab-df-convert:hover {\n",
              "      background-color: #434B5C;\n",
              "      box-shadow: 0px 1px 3px 1px rgba(0, 0, 0, 0.15);\n",
              "      filter: drop-shadow(0px 1px 2px rgba(0, 0, 0, 0.3));\n",
              "      fill: #FFFFFF;\n",
              "    }\n",
              "  </style>\n",
              "\n",
              "      <script>\n",
              "        const buttonEl =\n",
              "          document.querySelector('#df-9c700410-7ea7-47f6-8370-fc8685b0b39e button.colab-df-convert');\n",
              "        buttonEl.style.display =\n",
              "          google.colab.kernel.accessAllowed ? 'block' : 'none';\n",
              "\n",
              "        async function convertToInteractive(key) {\n",
              "          const element = document.querySelector('#df-9c700410-7ea7-47f6-8370-fc8685b0b39e');\n",
              "          const dataTable =\n",
              "            await google.colab.kernel.invokeFunction('convertToInteractive',\n",
              "                                                     [key], {});\n",
              "          if (!dataTable) return;\n",
              "\n",
              "          const docLinkHtml = 'Like what you see? Visit the ' +\n",
              "            '<a target=\"_blank\" href=https://colab.research.google.com/notebooks/data_table.ipynb>data table notebook</a>'\n",
              "            + ' to learn more about interactive tables.';\n",
              "          element.innerHTML = '';\n",
              "          dataTable['output_type'] = 'display_data';\n",
              "          await google.colab.output.renderOutput(dataTable, element);\n",
              "          const docLink = document.createElement('div');\n",
              "          docLink.innerHTML = docLinkHtml;\n",
              "          element.appendChild(docLink);\n",
              "        }\n",
              "      </script>\n",
              "    </div>\n",
              "  </div>\n",
              "  "
            ]
          },
          "metadata": {},
          "execution_count": 105
        }
      ]
    },
    {
      "cell_type": "code",
      "source": [
        "df_cat.shape"
      ],
      "metadata": {
        "colab": {
          "base_uri": "https://localhost:8080/"
        },
        "id": "dk39d-Owvrd1",
        "outputId": "1b7de728-992e-40ec-c54e-acfc558a0809"
      },
      "execution_count": null,
      "outputs": [
        {
          "output_type": "execute_result",
          "data": {
            "text/plain": [
              "(2449, 1)"
            ]
          },
          "metadata": {},
          "execution_count": 106
        }
      ]
    },
    {
      "cell_type": "code",
      "source": [
        "df_cat.loc[1171,'conteudo_sentenca']"
      ],
      "metadata": {
        "colab": {
          "base_uri": "https://localhost:8080/",
          "height": 161
        },
        "id": "fDDQgQ_MtEgh",
        "outputId": "e49d8565-e3e4-46ce-9e9d-40dbd825232b"
      },
      "execution_count": null,
      "outputs": [
        {
          "output_type": "execute_result",
          "data": {
            "text/plain": [
              "' i relatório dispensado relatório n° aplicado caso força ° n° decido ii fundamentação analisando presente processo observa requisitos petição inicial constantes arts código processo civil integralmente cumpridos demandante embora sido devidamente intimada emendar petição inicial caput código processo civil assim considerando cumpriu determinação judicial dando dessa forma regular prosseguimento feito impõe extinção processo resolução mérito parágrafo único cc inc i código processo civil ressalte oportuno parágrafo primeiro aplicável estabelece extinção processo qualquer hipótese condicionada prévia intimação pessoal partes iii dispositivo exposto tudo autos consta extingo processo resolução mérito parágrafo único cc inciso i ambos código processo civil observado disposto § custas força disposto cc arts publique registre intimem após certifique trânsito julgado remetam autos arquivo baixa distribuição observadas disposições o sobral data supra iaci rolim sousa juíza federal a varasjce certidão trânsito julgado certifico acima proferida transitou julgado data prolação conforme inteligência o n dou fé sobral data supra'"
            ],
            "application/vnd.google.colaboratory.intrinsic+json": {
              "type": "string"
            }
          },
          "metadata": {},
          "execution_count": 107
        }
      ]
    },
    {
      "cell_type": "markdown",
      "source": [
        "#### 1.4.2.3 Preparação dos dados com o Pipeline"
      ],
      "metadata": {
        "id": "_HjGtsdP2xb9"
      }
    },
    {
      "cell_type": "code",
      "source": [
        "# Pegando as featues categóricas\n",
        "categorical_features = x_train.select_dtypes(\"object\").columns.to_list()\n",
        "\n",
        "# Definição dos passos do pipeline categórico\n",
        "categorical_pipeline = Pipeline(steps=[('cat_selector', FeatureSelector(categorical_features)),\n",
        "                                       ('cat_transformer', CategoricalTransformer(colnames=categorical_features))\n",
        "                                       ]\n",
        "                                )\n",
        "\n",
        "full_pipeline_preprocessing = FeatureUnion(transformer_list=[('cat_pipeline', categorical_pipeline)\n",
        "                                                             ]\n",
        "                              )"
      ],
      "metadata": {
        "id": "dOn6aApB212h"
      },
      "execution_count": null,
      "outputs": []
    },
    {
      "cell_type": "code",
      "source": [
        "new_data = full_pipeline_preprocessing.fit_transform(x_train)\n",
        "df_new_train = pd.DataFrame(new_data, columns=['conteudo_sentenca'])\n",
        "df_new_train.shape"
      ],
      "metadata": {
        "colab": {
          "base_uri": "https://localhost:8080/"
        },
        "id": "m_rkWI4ZAjDc",
        "outputId": "4cae34a9-5073-4038-9de7-e7c2a5c1ab6c"
      },
      "execution_count": null,
      "outputs": [
        {
          "output_type": "execute_result",
          "data": {
            "text/plain": [
              "(2449, 1)"
            ]
          },
          "metadata": {},
          "execution_count": 109
        }
      ]
    },
    {
      "cell_type": "code",
      "source": [
        "df_new_train.columns"
      ],
      "metadata": {
        "colab": {
          "base_uri": "https://localhost:8080/"
        },
        "id": "sOZ5oWoZFABh",
        "outputId": "b2d30753-0607-424e-e359-9b0795a03e0a"
      },
      "execution_count": null,
      "outputs": [
        {
          "output_type": "execute_result",
          "data": {
            "text/plain": [
              "Index(['conteudo_sentenca'], dtype='object')"
            ]
          },
          "metadata": {},
          "execution_count": 110
        }
      ]
    },
    {
      "cell_type": "code",
      "source": [
        "new_data_test = full_pipeline_preprocessing.transform(x_val)\n",
        "df_new_val = pd.DataFrame(new_data_test, columns=['conteudo_sentenca'])\n",
        "df_new_val.shape"
      ],
      "metadata": {
        "colab": {
          "base_uri": "https://localhost:8080/"
        },
        "id": "Xel-RnXwuXLn",
        "outputId": "4515cf73-6979-4a69-87f8-102b0c9deb7d"
      },
      "execution_count": null,
      "outputs": [
        {
          "output_type": "execute_result",
          "data": {
            "text/plain": [
              "(1050, 1)"
            ]
          },
          "metadata": {},
          "execution_count": 113
        }
      ]
    },
    {
      "cell_type": "code",
      "source": [
        "df_new_val.head()"
      ],
      "metadata": {
        "colab": {
          "base_uri": "https://localhost:8080/",
          "height": 206
        },
        "id": "sRqY5R41yt4d",
        "outputId": "4dfd90b7-68c6-49a3-e8b6-0c420e564e53"
      },
      "execution_count": null,
      "outputs": [
        {
          "output_type": "execute_result",
          "data": {
            "text/plain": [
              "                                   conteudo_sentenca\n",
              "0   relatório dispensado relatório parágrafo únic...\n",
              "1   i – relatório dispensado relatório passo deci...\n",
              "2   relatório trata ação especial proposta avany ...\n",
              "3   i – relatório força disposto caput combinado ...\n",
              "4   i relatório dispensado n° aplicado caso força..."
            ],
            "text/html": [
              "\n",
              "  <div id=\"df-39bcd86a-ed5f-4585-a178-0738c8b1724b\">\n",
              "    <div class=\"colab-df-container\">\n",
              "      <div>\n",
              "<style scoped>\n",
              "    .dataframe tbody tr th:only-of-type {\n",
              "        vertical-align: middle;\n",
              "    }\n",
              "\n",
              "    .dataframe tbody tr th {\n",
              "        vertical-align: top;\n",
              "    }\n",
              "\n",
              "    .dataframe thead th {\n",
              "        text-align: right;\n",
              "    }\n",
              "</style>\n",
              "<table border=\"1\" class=\"dataframe\">\n",
              "  <thead>\n",
              "    <tr style=\"text-align: right;\">\n",
              "      <th></th>\n",
              "      <th>conteudo_sentenca</th>\n",
              "    </tr>\n",
              "  </thead>\n",
              "  <tbody>\n",
              "    <tr>\n",
              "      <th>0</th>\n",
              "      <td>relatório dispensado relatório parágrafo únic...</td>\n",
              "    </tr>\n",
              "    <tr>\n",
              "      <th>1</th>\n",
              "      <td>i – relatório dispensado relatório passo deci...</td>\n",
              "    </tr>\n",
              "    <tr>\n",
              "      <th>2</th>\n",
              "      <td>relatório trata ação especial proposta avany ...</td>\n",
              "    </tr>\n",
              "    <tr>\n",
              "      <th>3</th>\n",
              "      <td>i – relatório força disposto caput combinado ...</td>\n",
              "    </tr>\n",
              "    <tr>\n",
              "      <th>4</th>\n",
              "      <td>i relatório dispensado n° aplicado caso força...</td>\n",
              "    </tr>\n",
              "  </tbody>\n",
              "</table>\n",
              "</div>\n",
              "      <button class=\"colab-df-convert\" onclick=\"convertToInteractive('df-39bcd86a-ed5f-4585-a178-0738c8b1724b')\"\n",
              "              title=\"Convert this dataframe to an interactive table.\"\n",
              "              style=\"display:none;\">\n",
              "        \n",
              "  <svg xmlns=\"http://www.w3.org/2000/svg\" height=\"24px\"viewBox=\"0 0 24 24\"\n",
              "       width=\"24px\">\n",
              "    <path d=\"M0 0h24v24H0V0z\" fill=\"none\"/>\n",
              "    <path d=\"M18.56 5.44l.94 2.06.94-2.06 2.06-.94-2.06-.94-.94-2.06-.94 2.06-2.06.94zm-11 1L8.5 8.5l.94-2.06 2.06-.94-2.06-.94L8.5 2.5l-.94 2.06-2.06.94zm10 10l.94 2.06.94-2.06 2.06-.94-2.06-.94-.94-2.06-.94 2.06-2.06.94z\"/><path d=\"M17.41 7.96l-1.37-1.37c-.4-.4-.92-.59-1.43-.59-.52 0-1.04.2-1.43.59L10.3 9.45l-7.72 7.72c-.78.78-.78 2.05 0 2.83L4 21.41c.39.39.9.59 1.41.59.51 0 1.02-.2 1.41-.59l7.78-7.78 2.81-2.81c.8-.78.8-2.07 0-2.86zM5.41 20L4 18.59l7.72-7.72 1.47 1.35L5.41 20z\"/>\n",
              "  </svg>\n",
              "      </button>\n",
              "      \n",
              "  <style>\n",
              "    .colab-df-container {\n",
              "      display:flex;\n",
              "      flex-wrap:wrap;\n",
              "      gap: 12px;\n",
              "    }\n",
              "\n",
              "    .colab-df-convert {\n",
              "      background-color: #E8F0FE;\n",
              "      border: none;\n",
              "      border-radius: 50%;\n",
              "      cursor: pointer;\n",
              "      display: none;\n",
              "      fill: #1967D2;\n",
              "      height: 32px;\n",
              "      padding: 0 0 0 0;\n",
              "      width: 32px;\n",
              "    }\n",
              "\n",
              "    .colab-df-convert:hover {\n",
              "      background-color: #E2EBFA;\n",
              "      box-shadow: 0px 1px 2px rgba(60, 64, 67, 0.3), 0px 1px 3px 1px rgba(60, 64, 67, 0.15);\n",
              "      fill: #174EA6;\n",
              "    }\n",
              "\n",
              "    [theme=dark] .colab-df-convert {\n",
              "      background-color: #3B4455;\n",
              "      fill: #D2E3FC;\n",
              "    }\n",
              "\n",
              "    [theme=dark] .colab-df-convert:hover {\n",
              "      background-color: #434B5C;\n",
              "      box-shadow: 0px 1px 3px 1px rgba(0, 0, 0, 0.15);\n",
              "      filter: drop-shadow(0px 1px 2px rgba(0, 0, 0, 0.3));\n",
              "      fill: #FFFFFF;\n",
              "    }\n",
              "  </style>\n",
              "\n",
              "      <script>\n",
              "        const buttonEl =\n",
              "          document.querySelector('#df-39bcd86a-ed5f-4585-a178-0738c8b1724b button.colab-df-convert');\n",
              "        buttonEl.style.display =\n",
              "          google.colab.kernel.accessAllowed ? 'block' : 'none';\n",
              "\n",
              "        async function convertToInteractive(key) {\n",
              "          const element = document.querySelector('#df-39bcd86a-ed5f-4585-a178-0738c8b1724b');\n",
              "          const dataTable =\n",
              "            await google.colab.kernel.invokeFunction('convertToInteractive',\n",
              "                                                     [key], {});\n",
              "          if (!dataTable) return;\n",
              "\n",
              "          const docLinkHtml = 'Like what you see? Visit the ' +\n",
              "            '<a target=\"_blank\" href=https://colab.research.google.com/notebooks/data_table.ipynb>data table notebook</a>'\n",
              "            + ' to learn more about interactive tables.';\n",
              "          element.innerHTML = '';\n",
              "          dataTable['output_type'] = 'display_data';\n",
              "          await google.colab.output.renderOutput(dataTable, element);\n",
              "          const docLink = document.createElement('div');\n",
              "          docLink.innerHTML = docLinkHtml;\n",
              "          element.appendChild(docLink);\n",
              "        }\n",
              "      </script>\n",
              "    </div>\n",
              "  </div>\n",
              "  "
            ]
          },
          "metadata": {},
          "execution_count": 114
        }
      ]
    },
    {
      "cell_type": "markdown",
      "source": [
        "#### 1.4.2.4 Compilando o modelo"
      ],
      "metadata": {
        "id": "fJoVGpo_X0dP"
      }
    },
    {
      "cell_type": "markdown",
      "source": [
        "Usada na modelagem com redes reurais"
      ],
      "metadata": {
        "id": "x1mO2dlSmHJT"
      }
    },
    {
      "cell_type": "code",
      "source": [
        "from tensorflow.keras.models import Sequential\n",
        "from tensorflow.keras.layers import Dense\n",
        "from tensorflow.keras.layers import BatchNormalization\n",
        "from tensorflow.keras.losses import binary_crossentropy\n",
        "from tensorflow.keras.optimizers import SGD\n",
        "from wandb.keras import WandbCallback\n",
        "import datetime\n",
        "import tensorflow as tf\n",
        "import matplotlib.pyplot as plt\n",
        "import time\n",
        "import pytz"
      ],
      "metadata": {
        "id": "Y705GPzUYZfo"
      },
      "execution_count": null,
      "outputs": []
    },
    {
      "cell_type": "code",
      "source": [
        "class MyCustomCallback(tf.keras.callbacks.Callback):\n",
        "\n",
        "  def on_train_begin(self, batch, logs=None):\n",
        "    self.begins = time.time()\n",
        "    print('Training: begins at {}'.format(datetime.datetime.now(pytz.timezone('America/Fortaleza')).strftime(\"%a, %d %b %Y %H:%M:%S\")))\n",
        "\n",
        "  def on_train_end(self, logs=None):\n",
        "    print('Training: ends at {}'.format(datetime.datetime.now(pytz.timezone('America/Fortaleza')).strftime(\"%a, %d %b %Y %H:%M:%S\")))\n",
        "    print('Duration: {:.2f} seconds'.format(time.time() - self.begins))  "
      ],
      "metadata": {
        "id": "MoRydsLJYeli"
      },
      "execution_count": null,
      "outputs": []
    },
    {
      "cell_type": "code",
      "source": [
        "df_new_train.shape[1]"
      ],
      "metadata": {
        "colab": {
          "base_uri": "https://localhost:8080/"
        },
        "id": "ENNR_uy3HYlD",
        "outputId": "0f2b89f9-25e8-4f95-934b-4ffa11d32932"
      },
      "execution_count": null,
      "outputs": [
        {
          "output_type": "execute_result",
          "data": {
            "text/plain": [
              "39667"
            ]
          },
          "metadata": {},
          "execution_count": 26
        }
      ]
    },
    {
      "cell_type": "code",
      "source": [
        "# definição do modelo\n",
        "def define_model(n_words):\n",
        "  # definição da rede\n",
        "  model = Sequential()\n",
        "  model.add(Dense(100, input_shape=(n_words,), activation='relu'))\n",
        "  model.add(Dense(7, activation='softmax'))\n",
        "  # compilação do modelo\n",
        "  model.compile(loss='categorical_crossentropy', optimizer='adam', metrics=['accuracy'])\n",
        "  # summarização\n",
        "  model.summary()\n",
        "  \n",
        "  return model\n",
        "\n",
        "n_words = df_new_train.shape[1]\n",
        "model = define_model(n_words)"
      ],
      "metadata": {
        "colab": {
          "base_uri": "https://localhost:8080/"
        },
        "id": "CuvYQSFBX3up",
        "outputId": "97747860-f48e-4533-c14a-cea74365c535"
      },
      "execution_count": null,
      "outputs": [
        {
          "output_type": "stream",
          "name": "stdout",
          "text": [
            "Model: \"sequential\"\n",
            "_________________________________________________________________\n",
            " Layer (type)                Output Shape              Param #   \n",
            "=================================================================\n",
            " dense (Dense)               (None, 100)               3966800   \n",
            "                                                                 \n",
            " dense_1 (Dense)             (None, 7)                 707       \n",
            "                                                                 \n",
            "=================================================================\n",
            "Total params: 3,967,507\n",
            "Trainable params: 3,967,507\n",
            "Non-trainable params: 0\n",
            "_________________________________________________________________\n"
          ]
        }
      ]
    },
    {
      "cell_type": "markdown",
      "source": [
        "## 1.5 Holdout Training"
      ],
      "metadata": {
        "id": "3JBkxykTp2HF"
      }
    },
    {
      "cell_type": "markdown",
      "source": [
        "### 1.5.1 Keras"
      ],
      "metadata": {
        "id": "9QWWGa8cedP4"
      }
    },
    {
      "cell_type": "code",
      "source": [
        "#from scikeras.wrappers import KerasClassifier"
      ],
      "metadata": {
        "id": "woUW4vMdY6Yz"
      },
      "execution_count": null,
      "outputs": []
    },
    {
      "cell_type": "code",
      "source": [
        "'''\n",
        "# Pipeline completo\n",
        "pipe = Pipeline(steps = [('full_pipeline', categorical_pipeline),\n",
        "                         (\"classifier\",KerasClassifier(model=model, epochs=50,\n",
        "                                                        callbacks=[MyCustomCallback,\n",
        "                                                                   WandbCallback(log_weights=True,\n",
        "                                                                                  log_gradients=True,\n",
        "                                                                                  training_data=(x_train, y_train),\n",
        "                                                                                  log_evaluation=True)],\n",
        "                                                                                  batch_size=64, verbose=1,\n",
        "                                                                                  validation_split=0.3\n",
        "                                                        ))\n",
        "                         ]\n",
        "                )\n",
        "\n",
        "# training\n",
        "logger.info(\"Training\")\n",
        "pipe.fit(x_train, y_train.toarray())\n",
        "'''"
      ],
      "metadata": {
        "id": "v-CIUlIE2aVU"
      },
      "execution_count": null,
      "outputs": []
    },
    {
      "cell_type": "markdown",
      "source": [
        "### 1.5.2 Bertopic"
      ],
      "metadata": {
        "id": "BsnsH9B7erjr"
      }
    },
    {
      "cell_type": "code",
      "source": [
        "!pip install bertopic"
      ],
      "metadata": {
        "id": "rpl0cZ55ecDp"
      },
      "execution_count": null,
      "outputs": []
    },
    {
      "cell_type": "code",
      "source": [
        "from bertopic import BERTopic"
      ],
      "metadata": {
        "id": "G3GdM6s1fK38"
      },
      "execution_count": null,
      "outputs": []
    },
    {
      "cell_type": "code",
      "source": [
        "topic_model = BERTopic(language=\"portuguese\", calculate_probabilities=True, verbose=True)"
      ],
      "metadata": {
        "id": "OgONNoYZhcHq"
      },
      "execution_count": null,
      "outputs": []
    },
    {
      "cell_type": "code",
      "source": [
        "topics, probs = topic_model.fit_transform(df_new_train['conteudo_sentenca'])"
      ],
      "metadata": {
        "colab": {
          "base_uri": "https://localhost:8080/",
          "height": 103,
          "referenced_widgets": [
            "a97870fd0c294a0aa09b3c8b0179d021",
            "83f92c8d870a42a8a11de2084523df76",
            "25e73ba0699f4863894a56302b6353fd",
            "1a3ea5d631ad4e7590cddfabcd88cf7c",
            "e4038409058e4ee69bcfa83d862b4e75",
            "26de70150a544e5e839f142a5d2df1f5",
            "ae08721e39b0423385a6aab4d34d5b50",
            "60b18c1d7d8740b9b01c589de3ec97b9",
            "af06ba91b17946bbb82afae4298a822b",
            "72dd490dbf274028ab2e4abd3a776095",
            "3d347cd6e4744e07a26fd567a4b3cab1"
          ]
        },
        "id": "mrhTQvMnhjr-",
        "outputId": "e7cb80fe-a4d2-4f5a-f62d-e9201d4958a7"
      },
      "execution_count": null,
      "outputs": [
        {
          "output_type": "display_data",
          "data": {
            "text/plain": [
              "Batches:   0%|          | 0/77 [00:00<?, ?it/s]"
            ],
            "application/vnd.jupyter.widget-view+json": {
              "version_major": 2,
              "version_minor": 0,
              "model_id": "a97870fd0c294a0aa09b3c8b0179d021"
            }
          },
          "metadata": {}
        },
        {
          "output_type": "stream",
          "name": "stderr",
          "text": [
            "2022-07-17 20:27:02,835 - BERTopic - Transformed documents to Embeddings\n",
            "2022-07-17 20:27:13,546 - BERTopic - Reduced dimensionality\n",
            "2022-07-17 20:27:14,270 - BERTopic - Clustered reduced embeddings\n"
          ]
        }
      ]
    },
    {
      "cell_type": "code",
      "source": [
        "freq = topic_model.get_topic_info(); freq.head(5)"
      ],
      "metadata": {
        "colab": {
          "base_uri": "https://localhost:8080/",
          "height": 206
        },
        "id": "mRhWtIfYk2UD",
        "outputId": "aa9a0a8b-17a8-4ce0-f4b7-03ff3649b4c7"
      },
      "execution_count": null,
      "outputs": [
        {
          "output_type": "execute_result",
          "data": {
            "text/plain": [
              "   Topic  Count                                          Name\n",
              "0     -1    566      -1_benefício_especial_social_deficiência\n",
              "1      0     90          0_maternidade_segurada_salário_parto\n",
              "2      1     79            1_federal_juizado_judiciário_poder\n",
              "3      2     73  2_processual_unidade_desenvolvimento_regular\n",
              "4      3     69                     3_audiência_rural_inss_mm"
            ],
            "text/html": [
              "\n",
              "  <div id=\"df-407ee3dc-f4fc-486d-ab55-627d8d3a8273\">\n",
              "    <div class=\"colab-df-container\">\n",
              "      <div>\n",
              "<style scoped>\n",
              "    .dataframe tbody tr th:only-of-type {\n",
              "        vertical-align: middle;\n",
              "    }\n",
              "\n",
              "    .dataframe tbody tr th {\n",
              "        vertical-align: top;\n",
              "    }\n",
              "\n",
              "    .dataframe thead th {\n",
              "        text-align: right;\n",
              "    }\n",
              "</style>\n",
              "<table border=\"1\" class=\"dataframe\">\n",
              "  <thead>\n",
              "    <tr style=\"text-align: right;\">\n",
              "      <th></th>\n",
              "      <th>Topic</th>\n",
              "      <th>Count</th>\n",
              "      <th>Name</th>\n",
              "    </tr>\n",
              "  </thead>\n",
              "  <tbody>\n",
              "    <tr>\n",
              "      <th>0</th>\n",
              "      <td>-1</td>\n",
              "      <td>566</td>\n",
              "      <td>-1_benefício_especial_social_deficiência</td>\n",
              "    </tr>\n",
              "    <tr>\n",
              "      <th>1</th>\n",
              "      <td>0</td>\n",
              "      <td>90</td>\n",
              "      <td>0_maternidade_segurada_salário_parto</td>\n",
              "    </tr>\n",
              "    <tr>\n",
              "      <th>2</th>\n",
              "      <td>1</td>\n",
              "      <td>79</td>\n",
              "      <td>1_federal_juizado_judiciário_poder</td>\n",
              "    </tr>\n",
              "    <tr>\n",
              "      <th>3</th>\n",
              "      <td>2</td>\n",
              "      <td>73</td>\n",
              "      <td>2_processual_unidade_desenvolvimento_regular</td>\n",
              "    </tr>\n",
              "    <tr>\n",
              "      <th>4</th>\n",
              "      <td>3</td>\n",
              "      <td>69</td>\n",
              "      <td>3_audiência_rural_inss_mm</td>\n",
              "    </tr>\n",
              "  </tbody>\n",
              "</table>\n",
              "</div>\n",
              "      <button class=\"colab-df-convert\" onclick=\"convertToInteractive('df-407ee3dc-f4fc-486d-ab55-627d8d3a8273')\"\n",
              "              title=\"Convert this dataframe to an interactive table.\"\n",
              "              style=\"display:none;\">\n",
              "        \n",
              "  <svg xmlns=\"http://www.w3.org/2000/svg\" height=\"24px\"viewBox=\"0 0 24 24\"\n",
              "       width=\"24px\">\n",
              "    <path d=\"M0 0h24v24H0V0z\" fill=\"none\"/>\n",
              "    <path d=\"M18.56 5.44l.94 2.06.94-2.06 2.06-.94-2.06-.94-.94-2.06-.94 2.06-2.06.94zm-11 1L8.5 8.5l.94-2.06 2.06-.94-2.06-.94L8.5 2.5l-.94 2.06-2.06.94zm10 10l.94 2.06.94-2.06 2.06-.94-2.06-.94-.94-2.06-.94 2.06-2.06.94z\"/><path d=\"M17.41 7.96l-1.37-1.37c-.4-.4-.92-.59-1.43-.59-.52 0-1.04.2-1.43.59L10.3 9.45l-7.72 7.72c-.78.78-.78 2.05 0 2.83L4 21.41c.39.39.9.59 1.41.59.51 0 1.02-.2 1.41-.59l7.78-7.78 2.81-2.81c.8-.78.8-2.07 0-2.86zM5.41 20L4 18.59l7.72-7.72 1.47 1.35L5.41 20z\"/>\n",
              "  </svg>\n",
              "      </button>\n",
              "      \n",
              "  <style>\n",
              "    .colab-df-container {\n",
              "      display:flex;\n",
              "      flex-wrap:wrap;\n",
              "      gap: 12px;\n",
              "    }\n",
              "\n",
              "    .colab-df-convert {\n",
              "      background-color: #E8F0FE;\n",
              "      border: none;\n",
              "      border-radius: 50%;\n",
              "      cursor: pointer;\n",
              "      display: none;\n",
              "      fill: #1967D2;\n",
              "      height: 32px;\n",
              "      padding: 0 0 0 0;\n",
              "      width: 32px;\n",
              "    }\n",
              "\n",
              "    .colab-df-convert:hover {\n",
              "      background-color: #E2EBFA;\n",
              "      box-shadow: 0px 1px 2px rgba(60, 64, 67, 0.3), 0px 1px 3px 1px rgba(60, 64, 67, 0.15);\n",
              "      fill: #174EA6;\n",
              "    }\n",
              "\n",
              "    [theme=dark] .colab-df-convert {\n",
              "      background-color: #3B4455;\n",
              "      fill: #D2E3FC;\n",
              "    }\n",
              "\n",
              "    [theme=dark] .colab-df-convert:hover {\n",
              "      background-color: #434B5C;\n",
              "      box-shadow: 0px 1px 3px 1px rgba(0, 0, 0, 0.15);\n",
              "      filter: drop-shadow(0px 1px 2px rgba(0, 0, 0, 0.3));\n",
              "      fill: #FFFFFF;\n",
              "    }\n",
              "  </style>\n",
              "\n",
              "      <script>\n",
              "        const buttonEl =\n",
              "          document.querySelector('#df-407ee3dc-f4fc-486d-ab55-627d8d3a8273 button.colab-df-convert');\n",
              "        buttonEl.style.display =\n",
              "          google.colab.kernel.accessAllowed ? 'block' : 'none';\n",
              "\n",
              "        async function convertToInteractive(key) {\n",
              "          const element = document.querySelector('#df-407ee3dc-f4fc-486d-ab55-627d8d3a8273');\n",
              "          const dataTable =\n",
              "            await google.colab.kernel.invokeFunction('convertToInteractive',\n",
              "                                                     [key], {});\n",
              "          if (!dataTable) return;\n",
              "\n",
              "          const docLinkHtml = 'Like what you see? Visit the ' +\n",
              "            '<a target=\"_blank\" href=https://colab.research.google.com/notebooks/data_table.ipynb>data table notebook</a>'\n",
              "            + ' to learn more about interactive tables.';\n",
              "          element.innerHTML = '';\n",
              "          dataTable['output_type'] = 'display_data';\n",
              "          await google.colab.output.renderOutput(dataTable, element);\n",
              "          const docLink = document.createElement('div');\n",
              "          docLink.innerHTML = docLinkHtml;\n",
              "          element.appendChild(docLink);\n",
              "        }\n",
              "      </script>\n",
              "    </div>\n",
              "  </div>\n",
              "  "
            ]
          },
          "metadata": {},
          "execution_count": 116
        }
      ]
    },
    {
      "cell_type": "code",
      "source": [
        "topic_model.get_topic(0)"
      ],
      "metadata": {
        "colab": {
          "base_uri": "https://localhost:8080/"
        },
        "id": "Ra5eMo2Tk-wZ",
        "outputId": "cd0fb19e-9768-442f-ff3b-5f08475ebc9b"
      },
      "execution_count": null,
      "outputs": [
        {
          "output_type": "execute_result",
          "data": {
            "text/plain": [
              "[('maternidade', 0.03584017552313066),\n",
              " ('segurada', 0.027353517864285855),\n",
              " ('salário', 0.026887803787582064),\n",
              " ('parto', 0.021642111703227697),\n",
              " ('rural', 0.020412054677293515),\n",
              " ('nascimento', 0.01682863323744589),\n",
              " ('prova', 0.014798725906889146),\n",
              " ('período', 0.013491935258463164),\n",
              " ('especial', 0.012275060970622599),\n",
              " ('início', 0.011545870243964279)]"
            ]
          },
          "metadata": {},
          "execution_count": 117
        }
      ]
    },
    {
      "cell_type": "code",
      "source": [
        "# Visualize topics\n",
        "topic_model.visualize_topics();"
      ],
      "metadata": {
        "id": "WPabXRDylA_4"
      },
      "execution_count": null,
      "outputs": []
    },
    {
      "cell_type": "code",
      "source": [
        "topic_model.visualize_distribution(probs[120], min_probability=0.005)"
      ],
      "metadata": {
        "colab": {
          "base_uri": "https://localhost:8080/",
          "height": 617
        },
        "id": "JE0GMdNapGqF",
        "outputId": "ed111c73-4dfc-42d6-a663-0a75acb7df68"
      },
      "execution_count": null,
      "outputs": [
        {
          "output_type": "display_data",
          "data": {
            "text/html": [
              "<html>\n",
              "<head><meta charset=\"utf-8\" /></head>\n",
              "<body>\n",
              "    <div>            <script src=\"https://cdnjs.cloudflare.com/ajax/libs/mathjax/2.7.5/MathJax.js?config=TeX-AMS-MML_SVG\"></script><script type=\"text/javascript\">if (window.MathJax) {MathJax.Hub.Config({SVG: {font: \"STIX-Web\"}});}</script>                <script type=\"text/javascript\">window.PlotlyConfig = {MathJaxConfig: 'local'};</script>\n",
              "        <script src=\"https://cdn.plot.ly/plotly-2.8.3.min.js\"></script>                <div id=\"e7c60ae7-b16d-47f9-b7ef-d00ff1ce1a28\" class=\"plotly-graph-div\" style=\"height:600px; width:800px;\"></div>            <script type=\"text/javascript\">                                    window.PLOTLYENV=window.PLOTLYENV || {};                                    if (document.getElementById(\"e7c60ae7-b16d-47f9-b7ef-d00ff1ce1a28\")) {                    Plotly.newPlot(                        \"e7c60ae7-b16d-47f9-b7ef-d00ff1ce1a28\",                        [{\"marker\":{\"color\":\"#C8D2D7\",\"line\":{\"color\":\"#6E8484\",\"width\":1}},\"orientation\":\"h\",\"x\":[0.0059538918304976,0.009017040384195306,0.007295916096061773,0.05155974720382606,0.007725873769860586,0.005844634489191586,0.014692438226321868,0.005925406535887116,0.014439628004596073,0.005153208002941762,0.006467938290732221,0.007842909938564034,0.01521961317864748,0.005295087889449958,0.006530830787150062,0.041501173345462765,0.005962454536916585,0.012522047227243786,0.005524705846878126,0.007471217277720286,0.005845054325107222,0.010376078397269714,0.019354025026174733,0.007793613487841681,0.007110841977403832,0.006191295216571278,0.005977790272101444,0.029284070169189103,0.006385839312147295,0.009489067600554572],\"y\":[\"<b>Topic 4</b>: idade_rural_car\\u00eancia_pro...\",\"<b>Topic 9</b>: aposentadoria_especial_e...\",\"<b>Topic 10</b>: doen\\u00e7a_invalidez_aux\\u00edli...\",\"<b>Topic 11</b>: incapacidade_doen\\u00e7a_aux...\",\"<b>Topic 13</b>: pens\\u00e3o_morte_\\u00f3bito_fale...\",\"<b>Topic 14</b>: fam\\u00edlia_defici\\u00eancia_ren...\",\"<b>Topic 18</b>: trabalho_incapacidade_i...\",\"<b>Topic 20</b>: periciado_assistencial_...\",\"<b>Topic 24</b>: incapacidade_doen\\u00e7a_inv...\",\"<b>Topic 25</b>: valor_benef\\u00edcio_pagamen...\",\"<b>Topic 26</b>: doen\\u00e7a_aux\\u00edlio_segurado...\",\"<b>Topic 29</b>: incapacidade_aux\\u00edlio_do...\",\"<b>Topic 31</b>: incapacidade_doen\\u00e7a_lab...\",\"<b>Topic 34</b>: benef\\u00edcios_sal\\u00e1rios_con...\",\"<b>Topic 36</b>: peloa_pericial_requerid...\",\"<b>Topic 38</b>: doen\\u00e7a_aux\\u00edlio_segurado...\",\"<b>Topic 39</b>: periciado_encontra_exer...\",\"<b>Topic 41</b>: segurado_incapacidade_d...\",\"<b>Topic 42</b>: defici\\u00eancia_assistencia...\",\"<b>Topic 46</b>: aux\\u00edlio_doen\\u00e7a_invalide...\",\"<b>Topic 50</b>: benef\\u00edcios_teto_benef\\u00edc...\",\"<b>Topic 51</b>: doen\\u00e7a_aux\\u00edlio_invalide...\",\"<b>Topic 52</b>: doen\\u00e7a_aux\\u00edlio_servidor...\",\"<b>Topic 56</b>: doen\\u00e7a_aux\\u00edlio_segurado...\",\"<b>Topic 57</b>: incapacidade_pessoais_c...\",\"<b>Topic 58</b>: defici\\u00eancia_assistencia...\",\"<b>Topic 59</b>: promovente_familiar_ren...\",\"<b>Topic 64</b>: condena\\u00e7\\u00f5es_atualiza\\u00e7\\u00e3o...\",\"<b>Topic 65</b>: rural_idade_car\\u00eancia_pe...\",\"<b>Topic 66</b>: incapacidade_doen\\u00e7a_pro...\"],\"type\":\"bar\"}],                        {\"template\":{\"data\":{\"barpolar\":[{\"marker\":{\"line\":{\"color\":\"white\",\"width\":0.5},\"pattern\":{\"fillmode\":\"overlay\",\"size\":10,\"solidity\":0.2}},\"type\":\"barpolar\"}],\"bar\":[{\"error_x\":{\"color\":\"rgb(36,36,36)\"},\"error_y\":{\"color\":\"rgb(36,36,36)\"},\"marker\":{\"line\":{\"color\":\"white\",\"width\":0.5},\"pattern\":{\"fillmode\":\"overlay\",\"size\":10,\"solidity\":0.2}},\"type\":\"bar\"}],\"carpet\":[{\"aaxis\":{\"endlinecolor\":\"rgb(36,36,36)\",\"gridcolor\":\"white\",\"linecolor\":\"white\",\"minorgridcolor\":\"white\",\"startlinecolor\":\"rgb(36,36,36)\"},\"baxis\":{\"endlinecolor\":\"rgb(36,36,36)\",\"gridcolor\":\"white\",\"linecolor\":\"white\",\"minorgridcolor\":\"white\",\"startlinecolor\":\"rgb(36,36,36)\"},\"type\":\"carpet\"}],\"choropleth\":[{\"colorbar\":{\"outlinewidth\":1,\"tickcolor\":\"rgb(36,36,36)\",\"ticks\":\"outside\"},\"type\":\"choropleth\"}],\"contourcarpet\":[{\"colorbar\":{\"outlinewidth\":1,\"tickcolor\":\"rgb(36,36,36)\",\"ticks\":\"outside\"},\"type\":\"contourcarpet\"}],\"contour\":[{\"colorbar\":{\"outlinewidth\":1,\"tickcolor\":\"rgb(36,36,36)\",\"ticks\":\"outside\"},\"colorscale\":[[0.0,\"#440154\"],[0.1111111111111111,\"#482878\"],[0.2222222222222222,\"#3e4989\"],[0.3333333333333333,\"#31688e\"],[0.4444444444444444,\"#26828e\"],[0.5555555555555556,\"#1f9e89\"],[0.6666666666666666,\"#35b779\"],[0.7777777777777778,\"#6ece58\"],[0.8888888888888888,\"#b5de2b\"],[1.0,\"#fde725\"]],\"type\":\"contour\"}],\"heatmapgl\":[{\"colorbar\":{\"outlinewidth\":1,\"tickcolor\":\"rgb(36,36,36)\",\"ticks\":\"outside\"},\"colorscale\":[[0.0,\"#440154\"],[0.1111111111111111,\"#482878\"],[0.2222222222222222,\"#3e4989\"],[0.3333333333333333,\"#31688e\"],[0.4444444444444444,\"#26828e\"],[0.5555555555555556,\"#1f9e89\"],[0.6666666666666666,\"#35b779\"],[0.7777777777777778,\"#6ece58\"],[0.8888888888888888,\"#b5de2b\"],[1.0,\"#fde725\"]],\"type\":\"heatmapgl\"}],\"heatmap\":[{\"colorbar\":{\"outlinewidth\":1,\"tickcolor\":\"rgb(36,36,36)\",\"ticks\":\"outside\"},\"colorscale\":[[0.0,\"#440154\"],[0.1111111111111111,\"#482878\"],[0.2222222222222222,\"#3e4989\"],[0.3333333333333333,\"#31688e\"],[0.4444444444444444,\"#26828e\"],[0.5555555555555556,\"#1f9e89\"],[0.6666666666666666,\"#35b779\"],[0.7777777777777778,\"#6ece58\"],[0.8888888888888888,\"#b5de2b\"],[1.0,\"#fde725\"]],\"type\":\"heatmap\"}],\"histogram2dcontour\":[{\"colorbar\":{\"outlinewidth\":1,\"tickcolor\":\"rgb(36,36,36)\",\"ticks\":\"outside\"},\"colorscale\":[[0.0,\"#440154\"],[0.1111111111111111,\"#482878\"],[0.2222222222222222,\"#3e4989\"],[0.3333333333333333,\"#31688e\"],[0.4444444444444444,\"#26828e\"],[0.5555555555555556,\"#1f9e89\"],[0.6666666666666666,\"#35b779\"],[0.7777777777777778,\"#6ece58\"],[0.8888888888888888,\"#b5de2b\"],[1.0,\"#fde725\"]],\"type\":\"histogram2dcontour\"}],\"histogram2d\":[{\"colorbar\":{\"outlinewidth\":1,\"tickcolor\":\"rgb(36,36,36)\",\"ticks\":\"outside\"},\"colorscale\":[[0.0,\"#440154\"],[0.1111111111111111,\"#482878\"],[0.2222222222222222,\"#3e4989\"],[0.3333333333333333,\"#31688e\"],[0.4444444444444444,\"#26828e\"],[0.5555555555555556,\"#1f9e89\"],[0.6666666666666666,\"#35b779\"],[0.7777777777777778,\"#6ece58\"],[0.8888888888888888,\"#b5de2b\"],[1.0,\"#fde725\"]],\"type\":\"histogram2d\"}],\"histogram\":[{\"marker\":{\"line\":{\"color\":\"white\",\"width\":0.6}},\"type\":\"histogram\"}],\"mesh3d\":[{\"colorbar\":{\"outlinewidth\":1,\"tickcolor\":\"rgb(36,36,36)\",\"ticks\":\"outside\"},\"type\":\"mesh3d\"}],\"parcoords\":[{\"line\":{\"colorbar\":{\"outlinewidth\":1,\"tickcolor\":\"rgb(36,36,36)\",\"ticks\":\"outside\"}},\"type\":\"parcoords\"}],\"pie\":[{\"automargin\":true,\"type\":\"pie\"}],\"scatter3d\":[{\"line\":{\"colorbar\":{\"outlinewidth\":1,\"tickcolor\":\"rgb(36,36,36)\",\"ticks\":\"outside\"}},\"marker\":{\"colorbar\":{\"outlinewidth\":1,\"tickcolor\":\"rgb(36,36,36)\",\"ticks\":\"outside\"}},\"type\":\"scatter3d\"}],\"scattercarpet\":[{\"marker\":{\"colorbar\":{\"outlinewidth\":1,\"tickcolor\":\"rgb(36,36,36)\",\"ticks\":\"outside\"}},\"type\":\"scattercarpet\"}],\"scattergeo\":[{\"marker\":{\"colorbar\":{\"outlinewidth\":1,\"tickcolor\":\"rgb(36,36,36)\",\"ticks\":\"outside\"}},\"type\":\"scattergeo\"}],\"scattergl\":[{\"marker\":{\"colorbar\":{\"outlinewidth\":1,\"tickcolor\":\"rgb(36,36,36)\",\"ticks\":\"outside\"}},\"type\":\"scattergl\"}],\"scattermapbox\":[{\"marker\":{\"colorbar\":{\"outlinewidth\":1,\"tickcolor\":\"rgb(36,36,36)\",\"ticks\":\"outside\"}},\"type\":\"scattermapbox\"}],\"scatterpolargl\":[{\"marker\":{\"colorbar\":{\"outlinewidth\":1,\"tickcolor\":\"rgb(36,36,36)\",\"ticks\":\"outside\"}},\"type\":\"scatterpolargl\"}],\"scatterpolar\":[{\"marker\":{\"colorbar\":{\"outlinewidth\":1,\"tickcolor\":\"rgb(36,36,36)\",\"ticks\":\"outside\"}},\"type\":\"scatterpolar\"}],\"scatter\":[{\"marker\":{\"colorbar\":{\"outlinewidth\":1,\"tickcolor\":\"rgb(36,36,36)\",\"ticks\":\"outside\"}},\"type\":\"scatter\"}],\"scatterternary\":[{\"marker\":{\"colorbar\":{\"outlinewidth\":1,\"tickcolor\":\"rgb(36,36,36)\",\"ticks\":\"outside\"}},\"type\":\"scatterternary\"}],\"surface\":[{\"colorbar\":{\"outlinewidth\":1,\"tickcolor\":\"rgb(36,36,36)\",\"ticks\":\"outside\"},\"colorscale\":[[0.0,\"#440154\"],[0.1111111111111111,\"#482878\"],[0.2222222222222222,\"#3e4989\"],[0.3333333333333333,\"#31688e\"],[0.4444444444444444,\"#26828e\"],[0.5555555555555556,\"#1f9e89\"],[0.6666666666666666,\"#35b779\"],[0.7777777777777778,\"#6ece58\"],[0.8888888888888888,\"#b5de2b\"],[1.0,\"#fde725\"]],\"type\":\"surface\"}],\"table\":[{\"cells\":{\"fill\":{\"color\":\"rgb(237,237,237)\"},\"line\":{\"color\":\"white\"}},\"header\":{\"fill\":{\"color\":\"rgb(217,217,217)\"},\"line\":{\"color\":\"white\"}},\"type\":\"table\"}]},\"layout\":{\"annotationdefaults\":{\"arrowhead\":0,\"arrowwidth\":1},\"autotypenumbers\":\"strict\",\"coloraxis\":{\"colorbar\":{\"outlinewidth\":1,\"tickcolor\":\"rgb(36,36,36)\",\"ticks\":\"outside\"}},\"colorscale\":{\"diverging\":[[0.0,\"rgb(103,0,31)\"],[0.1,\"rgb(178,24,43)\"],[0.2,\"rgb(214,96,77)\"],[0.3,\"rgb(244,165,130)\"],[0.4,\"rgb(253,219,199)\"],[0.5,\"rgb(247,247,247)\"],[0.6,\"rgb(209,229,240)\"],[0.7,\"rgb(146,197,222)\"],[0.8,\"rgb(67,147,195)\"],[0.9,\"rgb(33,102,172)\"],[1.0,\"rgb(5,48,97)\"]],\"sequential\":[[0.0,\"#440154\"],[0.1111111111111111,\"#482878\"],[0.2222222222222222,\"#3e4989\"],[0.3333333333333333,\"#31688e\"],[0.4444444444444444,\"#26828e\"],[0.5555555555555556,\"#1f9e89\"],[0.6666666666666666,\"#35b779\"],[0.7777777777777778,\"#6ece58\"],[0.8888888888888888,\"#b5de2b\"],[1.0,\"#fde725\"]],\"sequentialminus\":[[0.0,\"#440154\"],[0.1111111111111111,\"#482878\"],[0.2222222222222222,\"#3e4989\"],[0.3333333333333333,\"#31688e\"],[0.4444444444444444,\"#26828e\"],[0.5555555555555556,\"#1f9e89\"],[0.6666666666666666,\"#35b779\"],[0.7777777777777778,\"#6ece58\"],[0.8888888888888888,\"#b5de2b\"],[1.0,\"#fde725\"]]},\"colorway\":[\"#1F77B4\",\"#FF7F0E\",\"#2CA02C\",\"#D62728\",\"#9467BD\",\"#8C564B\",\"#E377C2\",\"#7F7F7F\",\"#BCBD22\",\"#17BECF\"],\"font\":{\"color\":\"rgb(36,36,36)\"},\"geo\":{\"bgcolor\":\"white\",\"lakecolor\":\"white\",\"landcolor\":\"white\",\"showlakes\":true,\"showland\":true,\"subunitcolor\":\"white\"},\"hoverlabel\":{\"align\":\"left\"},\"hovermode\":\"closest\",\"mapbox\":{\"style\":\"light\"},\"paper_bgcolor\":\"white\",\"plot_bgcolor\":\"white\",\"polar\":{\"angularaxis\":{\"gridcolor\":\"rgb(232,232,232)\",\"linecolor\":\"rgb(36,36,36)\",\"showgrid\":false,\"showline\":true,\"ticks\":\"outside\"},\"bgcolor\":\"white\",\"radialaxis\":{\"gridcolor\":\"rgb(232,232,232)\",\"linecolor\":\"rgb(36,36,36)\",\"showgrid\":false,\"showline\":true,\"ticks\":\"outside\"}},\"scene\":{\"xaxis\":{\"backgroundcolor\":\"white\",\"gridcolor\":\"rgb(232,232,232)\",\"gridwidth\":2,\"linecolor\":\"rgb(36,36,36)\",\"showbackground\":true,\"showgrid\":false,\"showline\":true,\"ticks\":\"outside\",\"zeroline\":false,\"zerolinecolor\":\"rgb(36,36,36)\"},\"yaxis\":{\"backgroundcolor\":\"white\",\"gridcolor\":\"rgb(232,232,232)\",\"gridwidth\":2,\"linecolor\":\"rgb(36,36,36)\",\"showbackground\":true,\"showgrid\":false,\"showline\":true,\"ticks\":\"outside\",\"zeroline\":false,\"zerolinecolor\":\"rgb(36,36,36)\"},\"zaxis\":{\"backgroundcolor\":\"white\",\"gridcolor\":\"rgb(232,232,232)\",\"gridwidth\":2,\"linecolor\":\"rgb(36,36,36)\",\"showbackground\":true,\"showgrid\":false,\"showline\":true,\"ticks\":\"outside\",\"zeroline\":false,\"zerolinecolor\":\"rgb(36,36,36)\"}},\"shapedefaults\":{\"fillcolor\":\"black\",\"line\":{\"width\":0},\"opacity\":0.3},\"ternary\":{\"aaxis\":{\"gridcolor\":\"rgb(232,232,232)\",\"linecolor\":\"rgb(36,36,36)\",\"showgrid\":false,\"showline\":true,\"ticks\":\"outside\"},\"baxis\":{\"gridcolor\":\"rgb(232,232,232)\",\"linecolor\":\"rgb(36,36,36)\",\"showgrid\":false,\"showline\":true,\"ticks\":\"outside\"},\"bgcolor\":\"white\",\"caxis\":{\"gridcolor\":\"rgb(232,232,232)\",\"linecolor\":\"rgb(36,36,36)\",\"showgrid\":false,\"showline\":true,\"ticks\":\"outside\"}},\"title\":{\"x\":0.05},\"xaxis\":{\"automargin\":true,\"gridcolor\":\"rgb(232,232,232)\",\"linecolor\":\"rgb(36,36,36)\",\"showgrid\":false,\"showline\":true,\"ticks\":\"outside\",\"title\":{\"standoff\":15},\"zeroline\":false,\"zerolinecolor\":\"rgb(36,36,36)\"},\"yaxis\":{\"automargin\":true,\"gridcolor\":\"rgb(232,232,232)\",\"linecolor\":\"rgb(36,36,36)\",\"showgrid\":false,\"showline\":true,\"ticks\":\"outside\",\"title\":{\"standoff\":15},\"zeroline\":false,\"zerolinecolor\":\"rgb(36,36,36)\"}}},\"title\":{\"font\":{\"size\":22,\"color\":\"Black\"},\"text\":\"<b>Topic Probability Distribution\",\"y\":0.95,\"x\":0.5,\"xanchor\":\"center\",\"yanchor\":\"top\"},\"hoverlabel\":{\"font\":{\"size\":16,\"family\":\"Rockwell\"},\"bgcolor\":\"white\"},\"xaxis\":{\"title\":{\"text\":\"Probability\"}},\"width\":800,\"height\":600},                        {\"responsive\": true}                    ).then(function(){\n",
              "                            \n",
              "var gd = document.getElementById('e7c60ae7-b16d-47f9-b7ef-d00ff1ce1a28');\n",
              "var x = new MutationObserver(function (mutations, observer) {{\n",
              "        var display = window.getComputedStyle(gd).display;\n",
              "        if (!display || display === 'none') {{\n",
              "            console.log([gd, 'removed!']);\n",
              "            Plotly.purge(gd);\n",
              "            observer.disconnect();\n",
              "        }}\n",
              "}});\n",
              "\n",
              "// Listen for the removal of the full notebook cells\n",
              "var notebookContainer = gd.closest('#notebook-container');\n",
              "if (notebookContainer) {{\n",
              "    x.observe(notebookContainer, {childList: true});\n",
              "}}\n",
              "\n",
              "// Listen for the clearing of the current output cell\n",
              "var outputEl = gd.closest('.output');\n",
              "if (outputEl) {{\n",
              "    x.observe(outputEl, {childList: true});\n",
              "}}\n",
              "\n",
              "                        })                };                            </script>        </div>\n",
              "</body>\n",
              "</html>"
            ]
          },
          "metadata": {}
        }
      ]
    },
    {
      "cell_type": "code",
      "source": [
        "topic_model.visualize_hierarchy(top_n_topics=50)"
      ],
      "metadata": {
        "colab": {
          "base_uri": "https://localhost:8080/",
          "height": 967
        },
        "id": "4f12S84DscyN",
        "outputId": "27a21ab9-d689-4ffb-af28-d0c819926784"
      },
      "execution_count": null,
      "outputs": [
        {
          "output_type": "display_data",
          "data": {
            "text/html": [
              "<html>\n",
              "<head><meta charset=\"utf-8\" /></head>\n",
              "<body>\n",
              "    <div>            <script src=\"https://cdnjs.cloudflare.com/ajax/libs/mathjax/2.7.5/MathJax.js?config=TeX-AMS-MML_SVG\"></script><script type=\"text/javascript\">if (window.MathJax) {MathJax.Hub.Config({SVG: {font: \"STIX-Web\"}});}</script>                <script type=\"text/javascript\">window.PlotlyConfig = {MathJaxConfig: 'local'};</script>\n",
              "        <script src=\"https://cdn.plot.ly/plotly-2.8.3.min.js\"></script>                <div id=\"387149e9-39a3-4bf5-98d7-5c5560bdf52c\" class=\"plotly-graph-div\" style=\"height:950px; width:1000px;\"></div>            <script type=\"text/javascript\">                                    window.PLOTLYENV=window.PLOTLYENV || {};                                    if (document.getElementById(\"387149e9-39a3-4bf5-98d7-5c5560bdf52c\")) {                    Plotly.newPlot(                        \"387149e9-39a3-4bf5-98d7-5c5560bdf52c\",                        [{\"hoverinfo\":\"text\",\"marker\":{\"color\":\"rgb(61,153,112)\"},\"mode\":\"lines\",\"x\":[0.0,0.591315352499354,0.591315352499354,0.0],\"xaxis\":\"x\",\"y\":[-15.0,-15.0,-25.0,-25.0],\"yaxis\":\"y\",\"type\":\"scatter\"},{\"hoverinfo\":\"text\",\"marker\":{\"color\":\"rgb(61,153,112)\"},\"mode\":\"lines\",\"x\":[0.591315352499354,0.8497260123924751,0.8497260123924751,0.0],\"xaxis\":\"x\",\"y\":[-20.0,-20.0,-35.0,-35.0],\"yaxis\":\"y\",\"type\":\"scatter\"},{\"hoverinfo\":\"text\",\"marker\":{\"color\":\"rgb(0,116,217)\"},\"mode\":\"lines\",\"x\":[0.0,1.067841193399636,1.067841193399636,0.8497260123924751],\"xaxis\":\"x\",\"y\":[-5.0,-5.0,-27.5,-27.5],\"yaxis\":\"y\",\"type\":\"scatter\"},{\"hoverinfo\":\"text\",\"marker\":{\"color\":\"rgb(255,65,54)\"},\"mode\":\"lines\",\"x\":[0.0,0.8187494570990561,0.8187494570990561,0.0],\"xaxis\":\"x\",\"y\":[-45.0,-45.0,-55.0,-55.0],\"yaxis\":\"y\",\"type\":\"scatter\"},{\"hoverinfo\":\"text\",\"marker\":{\"color\":\"rgb(255,65,54)\"},\"mode\":\"lines\",\"x\":[0.0,0.5397874950458602,0.5397874950458602,0.0],\"xaxis\":\"x\",\"y\":[-65.0,-65.0,-75.0,-75.0],\"yaxis\":\"y\",\"type\":\"scatter\"},{\"hoverinfo\":\"text\",\"marker\":{\"color\":\"rgb(255,65,54)\"},\"mode\":\"lines\",\"x\":[0.8187494570990561,0.9923104961695208,0.9923104961695208,0.5397874950458602],\"xaxis\":\"x\",\"y\":[-50.0,-50.0,-70.0,-70.0],\"yaxis\":\"y\",\"type\":\"scatter\"},{\"hoverinfo\":\"text\",\"marker\":{\"color\":\"rgb(0,116,217)\"},\"mode\":\"lines\",\"x\":[1.067841193399636,1.5881630371588995,1.5881630371588995,0.9923104961695208],\"xaxis\":\"x\",\"y\":[-16.25,-16.25,-60.0,-60.0],\"yaxis\":\"y\",\"type\":\"scatter\"},{\"hoverinfo\":\"text\",\"marker\":{\"color\":\"rgb(35,205,205)\"},\"mode\":\"lines\",\"x\":[0.0,0.6415246129001556,0.6415246129001556,0.0],\"xaxis\":\"x\",\"y\":[-85.0,-85.0,-95.0,-95.0],\"yaxis\":\"y\",\"type\":\"scatter\"},{\"hoverinfo\":\"text\",\"marker\":{\"color\":\"rgb(133,20,75)\"},\"mode\":\"lines\",\"x\":[0.0,0.5308913380333432,0.5308913380333432,0.0],\"xaxis\":\"x\",\"y\":[-115.0,-115.0,-125.0,-125.0],\"yaxis\":\"y\",\"type\":\"scatter\"},{\"hoverinfo\":\"text\",\"marker\":{\"color\":\"rgb(133,20,75)\"},\"mode\":\"lines\",\"x\":[0.0,0.6937901070270857,0.6937901070270857,0.5308913380333432],\"xaxis\":\"x\",\"y\":[-105.0,-105.0,-120.0,-120.0],\"yaxis\":\"y\",\"type\":\"scatter\"},{\"hoverinfo\":\"text\",\"marker\":{\"color\":\"rgb(133,20,75)\"},\"mode\":\"lines\",\"x\":[0.0,0.48586773312060705,0.48586773312060705,0.0],\"xaxis\":\"x\",\"y\":[-135.0,-135.0,-145.0,-145.0],\"yaxis\":\"y\",\"type\":\"scatter\"},{\"hoverinfo\":\"text\",\"marker\":{\"color\":\"rgb(133,20,75)\"},\"mode\":\"lines\",\"x\":[0.48586773312060705,0.5625784364018469,0.5625784364018469,0.0],\"xaxis\":\"x\",\"y\":[-140.0,-140.0,-155.0,-155.0],\"yaxis\":\"y\",\"type\":\"scatter\"},{\"hoverinfo\":\"text\",\"marker\":{\"color\":\"rgb(133,20,75)\"},\"mode\":\"lines\",\"x\":[0.6937901070270857,0.7409415713964732,0.7409415713964732,0.5625784364018469],\"xaxis\":\"x\",\"y\":[-112.5,-112.5,-147.5,-147.5],\"yaxis\":\"y\",\"type\":\"scatter\"},{\"hoverinfo\":\"text\",\"marker\":{\"color\":\"rgb(0,116,217)\"},\"mode\":\"lines\",\"x\":[0.6415246129001556,1.1345436248274396,1.1345436248274396,0.7409415713964732],\"xaxis\":\"x\",\"y\":[-90.0,-90.0,-130.0,-130.0],\"yaxis\":\"y\",\"type\":\"scatter\"},{\"hoverinfo\":\"text\",\"marker\":{\"color\":\"rgb(255,220,0)\"},\"mode\":\"lines\",\"x\":[0.0,0.5998090764094324,0.5998090764094324,0.0],\"xaxis\":\"x\",\"y\":[-175.0,-175.0,-185.0,-185.0],\"yaxis\":\"y\",\"type\":\"scatter\"},{\"hoverinfo\":\"text\",\"marker\":{\"color\":\"rgb(255,220,0)\"},\"mode\":\"lines\",\"x\":[0.0,0.7395970143324698,0.7395970143324698,0.5998090764094324],\"xaxis\":\"x\",\"y\":[-165.0,-165.0,-180.0,-180.0],\"yaxis\":\"y\",\"type\":\"scatter\"},{\"hoverinfo\":\"text\",\"marker\":{\"color\":\"rgb(255,220,0)\"},\"mode\":\"lines\",\"x\":[0.7395970143324698,0.7931040926885862,0.7931040926885862,0.0],\"xaxis\":\"x\",\"y\":[-172.5,-172.5,-195.0,-195.0],\"yaxis\":\"y\",\"type\":\"scatter\"},{\"hoverinfo\":\"text\",\"marker\":{\"color\":\"rgb(0,116,217)\"},\"mode\":\"lines\",\"x\":[1.1345436248274396,1.3215750661665626,1.3215750661665626,0.7931040926885862],\"xaxis\":\"x\",\"y\":[-110.0,-110.0,-183.75,-183.75],\"yaxis\":\"y\",\"type\":\"scatter\"},{\"hoverinfo\":\"text\",\"marker\":{\"color\":\"rgb(0,116,217)\"},\"mode\":\"lines\",\"x\":[1.5881630371588995,2.5640740451285033,2.5640740451285033,1.3215750661665626],\"xaxis\":\"x\",\"y\":[-38.125,-38.125,-146.875,-146.875],\"yaxis\":\"y\",\"type\":\"scatter\"},{\"hoverinfo\":\"text\",\"marker\":{\"color\":\"rgb(40,35,35)\"},\"mode\":\"lines\",\"x\":[0.0,0.7969049365802258,0.7969049365802258,0.0],\"xaxis\":\"x\",\"y\":[-205.0,-205.0,-215.0,-215.0],\"yaxis\":\"y\",\"type\":\"scatter\"},{\"hoverinfo\":\"text\",\"marker\":{\"color\":\"rgb(61,153,112)\"},\"mode\":\"lines\",\"x\":[0.0,0.43150222300738383,0.43150222300738383,0.0],\"xaxis\":\"x\",\"y\":[-225.0,-225.0,-235.0,-235.0],\"yaxis\":\"y\",\"type\":\"scatter\"},{\"hoverinfo\":\"text\",\"marker\":{\"color\":\"rgb(255,65,54)\"},\"mode\":\"lines\",\"x\":[0.0,0.9479823704526766,0.9479823704526766,0.0],\"xaxis\":\"x\",\"y\":[-255.0,-255.0,-265.0,-265.0],\"yaxis\":\"y\",\"type\":\"scatter\"},{\"hoverinfo\":\"text\",\"marker\":{\"color\":\"rgb(0,116,217)\"},\"mode\":\"lines\",\"x\":[0.0,1.1597871328383424,1.1597871328383424,0.9479823704526766],\"xaxis\":\"x\",\"y\":[-245.0,-245.0,-260.0,-260.0],\"yaxis\":\"y\",\"type\":\"scatter\"},{\"hoverinfo\":\"text\",\"marker\":{\"color\":\"rgb(0,116,217)\"},\"mode\":\"lines\",\"x\":[0.43150222300738383,1.3545959091507853,1.3545959091507853,1.1597871328383424],\"xaxis\":\"x\",\"y\":[-230.0,-230.0,-252.5,-252.5],\"yaxis\":\"y\",\"type\":\"scatter\"},{\"hoverinfo\":\"text\",\"marker\":{\"color\":\"rgb(0,116,217)\"},\"mode\":\"lines\",\"x\":[0.7969049365802258,1.4003633902132984,1.4003633902132984,1.3545959091507853],\"xaxis\":\"x\",\"y\":[-210.0,-210.0,-241.25,-241.25],\"yaxis\":\"y\",\"type\":\"scatter\"},{\"hoverinfo\":\"text\",\"marker\":{\"color\":\"rgb(35,205,205)\"},\"mode\":\"lines\",\"x\":[0.0,0.8408858068584575,0.8408858068584575,0.0],\"xaxis\":\"x\",\"y\":[-275.0,-275.0,-285.0,-285.0],\"yaxis\":\"y\",\"type\":\"scatter\"},{\"hoverinfo\":\"text\",\"marker\":{\"color\":\"rgb(61,153,112)\"},\"mode\":\"lines\",\"x\":[0.0,0.7479295825763725,0.7479295825763725,0.0],\"xaxis\":\"x\",\"y\":[-305.0,-305.0,-315.0,-315.0],\"yaxis\":\"y\",\"type\":\"scatter\"},{\"hoverinfo\":\"text\",\"marker\":{\"color\":\"rgb(61,153,112)\"},\"mode\":\"lines\",\"x\":[0.0,0.9295001305135131,0.9295001305135131,0.7479295825763725],\"xaxis\":\"x\",\"y\":[-295.0,-295.0,-310.0,-310.0],\"yaxis\":\"y\",\"type\":\"scatter\"},{\"hoverinfo\":\"text\",\"marker\":{\"color\":\"rgb(0,116,217)\"},\"mode\":\"lines\",\"x\":[0.0,1.0256568944133435,1.0256568944133435,0.0],\"xaxis\":\"x\",\"y\":[-325.0,-325.0,-335.0,-335.0],\"yaxis\":\"y\",\"type\":\"scatter\"},{\"hoverinfo\":\"text\",\"marker\":{\"color\":\"rgb(0,116,217)\"},\"mode\":\"lines\",\"x\":[0.9295001305135131,1.1865553141319836,1.1865553141319836,1.0256568944133435],\"xaxis\":\"x\",\"y\":[-302.5,-302.5,-330.0,-330.0],\"yaxis\":\"y\",\"type\":\"scatter\"},{\"hoverinfo\":\"text\",\"marker\":{\"color\":\"rgb(0,116,217)\"},\"mode\":\"lines\",\"x\":[0.8408858068584575,1.3754127256158437,1.3754127256158437,1.1865553141319836],\"xaxis\":\"x\",\"y\":[-280.0,-280.0,-316.25,-316.25],\"yaxis\":\"y\",\"type\":\"scatter\"},{\"hoverinfo\":\"text\",\"marker\":{\"color\":\"rgb(0,116,217)\"},\"mode\":\"lines\",\"x\":[0.0,1.26866595110331,1.26866595110331,0.0],\"xaxis\":\"x\",\"y\":[-345.0,-345.0,-355.0,-355.0],\"yaxis\":\"y\",\"type\":\"scatter\"},{\"hoverinfo\":\"text\",\"marker\":{\"color\":\"rgb(255,65,54)\"},\"mode\":\"lines\",\"x\":[0.0,0.7310675428838859,0.7310675428838859,0.0],\"xaxis\":\"x\",\"y\":[-375.0,-375.0,-385.0,-385.0],\"yaxis\":\"y\",\"type\":\"scatter\"},{\"hoverinfo\":\"text\",\"marker\":{\"color\":\"rgb(0,116,217)\"},\"mode\":\"lines\",\"x\":[0.0,1.2080454398749543,1.2080454398749543,0.7310675428838859],\"xaxis\":\"x\",\"y\":[-365.0,-365.0,-380.0,-380.0],\"yaxis\":\"y\",\"type\":\"scatter\"},{\"hoverinfo\":\"text\",\"marker\":{\"color\":\"rgb(0,116,217)\"},\"mode\":\"lines\",\"x\":[1.26866595110331,1.7119002619235901,1.7119002619235901,1.2080454398749543],\"xaxis\":\"x\",\"y\":[-350.0,-350.0,-372.5,-372.5],\"yaxis\":\"y\",\"type\":\"scatter\"},{\"hoverinfo\":\"text\",\"marker\":{\"color\":\"rgb(0,116,217)\"},\"mode\":\"lines\",\"x\":[1.3754127256158437,2.413846697127955,2.413846697127955,1.7119002619235901],\"xaxis\":\"x\",\"y\":[-298.125,-298.125,-361.25,-361.25],\"yaxis\":\"y\",\"type\":\"scatter\"},{\"hoverinfo\":\"text\",\"marker\":{\"color\":\"rgb(0,116,217)\"},\"mode\":\"lines\",\"x\":[1.4003633902132984,2.8508242751950648,2.8508242751950648,2.413846697127955],\"xaxis\":\"x\",\"y\":[-225.625,-225.625,-329.6875,-329.6875],\"yaxis\":\"y\",\"type\":\"scatter\"},{\"hoverinfo\":\"text\",\"marker\":{\"color\":\"rgb(0,116,217)\"},\"mode\":\"lines\",\"x\":[0.0,1.2433994579961125,1.2433994579961125,0.0],\"xaxis\":\"x\",\"y\":[-395.0,-395.0,-405.0,-405.0],\"yaxis\":\"y\",\"type\":\"scatter\"},{\"hoverinfo\":\"text\",\"marker\":{\"color\":\"rgb(0,116,217)\"},\"mode\":\"lines\",\"x\":[1.2433994579961125,1.2710523989843412,1.2710523989843412,0.0],\"xaxis\":\"x\",\"y\":[-400.0,-400.0,-415.0,-415.0],\"yaxis\":\"y\",\"type\":\"scatter\"},{\"hoverinfo\":\"text\",\"marker\":{\"color\":\"rgb(35,205,205)\"},\"mode\":\"lines\",\"x\":[0.0,0.7204334115267109,0.7204334115267109,0.0],\"xaxis\":\"x\",\"y\":[-435.0,-435.0,-445.0,-445.0],\"yaxis\":\"y\",\"type\":\"scatter\"},{\"hoverinfo\":\"text\",\"marker\":{\"color\":\"rgb(133,20,75)\"},\"mode\":\"lines\",\"x\":[0.0,0.7438925760335705,0.7438925760335705,0.0],\"xaxis\":\"x\",\"y\":[-465.0,-465.0,-475.0,-475.0],\"yaxis\":\"y\",\"type\":\"scatter\"},{\"hoverinfo\":\"text\",\"marker\":{\"color\":\"rgb(133,20,75)\"},\"mode\":\"lines\",\"x\":[0.0,0.8673473952194521,0.8673473952194521,0.7438925760335705],\"xaxis\":\"x\",\"y\":[-455.0,-455.0,-470.0,-470.0],\"yaxis\":\"y\",\"type\":\"scatter\"},{\"hoverinfo\":\"text\",\"marker\":{\"color\":\"rgb(133,20,75)\"},\"mode\":\"lines\",\"x\":[0.8673473952194521,0.9391417736101163,0.9391417736101163,0.0],\"xaxis\":\"x\",\"y\":[-462.5,-462.5,-485.0,-485.0],\"yaxis\":\"y\",\"type\":\"scatter\"},{\"hoverinfo\":\"text\",\"marker\":{\"color\":\"rgb(0,116,217)\"},\"mode\":\"lines\",\"x\":[0.7204334115267109,1.0021527944576964,1.0021527944576964,0.9391417736101163],\"xaxis\":\"x\",\"y\":[-440.0,-440.0,-473.75,-473.75],\"yaxis\":\"y\",\"type\":\"scatter\"},{\"hoverinfo\":\"text\",\"marker\":{\"color\":\"rgb(0,116,217)\"},\"mode\":\"lines\",\"x\":[0.0,1.0986842979344589,1.0986842979344589,1.0021527944576964],\"xaxis\":\"x\",\"y\":[-425.0,-425.0,-456.875,-456.875],\"yaxis\":\"y\",\"type\":\"scatter\"},{\"hoverinfo\":\"text\",\"marker\":{\"color\":\"rgb(0,116,217)\"},\"mode\":\"lines\",\"x\":[1.0986842979344589,1.1560410648714579,1.1560410648714579,0.0],\"xaxis\":\"x\",\"y\":[-440.9375,-440.9375,-495.0,-495.0],\"yaxis\":\"y\",\"type\":\"scatter\"},{\"hoverinfo\":\"text\",\"marker\":{\"color\":\"rgb(0,116,217)\"},\"mode\":\"lines\",\"x\":[1.2710523989843412,1.7881126292559821,1.7881126292559821,1.1560410648714579],\"xaxis\":\"x\",\"y\":[-407.5,-407.5,-467.96875,-467.96875],\"yaxis\":\"y\",\"type\":\"scatter\"},{\"hoverinfo\":\"text\",\"marker\":{\"color\":\"rgb(0,116,217)\"},\"mode\":\"lines\",\"x\":[2.8508242751950648,3.831362908854722,3.831362908854722,1.7881126292559821],\"xaxis\":\"x\",\"y\":[-277.65625,-277.65625,-437.734375,-437.734375],\"yaxis\":\"y\",\"type\":\"scatter\"},{\"hoverinfo\":\"text\",\"marker\":{\"color\":\"rgb(0,116,217)\"},\"mode\":\"lines\",\"x\":[2.5640740451285033,5.987164128732523,5.987164128732523,3.831362908854722],\"xaxis\":\"x\",\"y\":[-92.5,-92.5,-357.6953125,-357.6953125],\"yaxis\":\"y\",\"type\":\"scatter\"}],                        {\"autosize\":false,\"height\":950,\"hovermode\":\"closest\",\"showlegend\":false,\"width\":1000,\"xaxis\":{\"mirror\":\"allticks\",\"rangemode\":\"tozero\",\"showgrid\":false,\"showline\":true,\"showticklabels\":true,\"ticks\":\"outside\",\"type\":\"linear\",\"zeroline\":false},\"yaxis\":{\"mirror\":\"allticks\",\"rangemode\":\"tozero\",\"showgrid\":false,\"showline\":true,\"showticklabels\":true,\"tickmode\":\"array\",\"ticks\":\"outside\",\"ticktext\":[\"13_pens\\u00e3o_morte_\\u00f3bito\",\"0_maternidade_segurada_sal\\u00e1...\",\"4_idade_rural_car\\u00eancia\",\"3_audi\\u00eancia_rural_inss\",\"12_reajuste_contas_sobre\",\"25_valor_benef\\u00edcio_pagamento\",\"1_federal_juizado_judici\\u00e1rio\",\"22_interesse_preliminar_pro...\",\"18_trabalho_incapacidade_inss\",\"9_aposentadoria_especial_ex...\",\"27_segurado_benef\\u00edcio_aux\\u00edlio\",\"41_segurado_incapacidade_do...\",\"29_incapacidade_aux\\u00edlio_doe...\",\"10_doen\\u00e7a_invalidez_aux\\u00edlio\",\"11_incapacidade_doen\\u00e7a_aux\\u00ed...\",\"31_incapacidade_doen\\u00e7a_labo...\",\"46_aux\\u00edlio_doen\\u00e7a_invalidez\",\"26_doen\\u00e7a_aux\\u00edlio_segurado\",\"24_incapacidade_doen\\u00e7a_inva...\",\"38_doen\\u00e7a_aux\\u00edlio_segurado\",\"39_periciado_encontra_exercer\",\"20_periciado_assistencial_e...\",\"42_defici\\u00eancia_assistencial...\",\"14_fam\\u00edlia_defici\\u00eancia_renda\",\"32_mso_font_pessoais\",\"49_judicial_cid_laudo\",\"36_peloa_pericial_requerido\",\"6_danos_caixa_dano\",\"17_empr\\u00e9stimo_institui\\u00e7\\u00e3o_d...\",\"35_servidores_desempenho_gr...\",\"16_servidores_revis\\u00e3o_geral\",\"19_f\\u00e9rias_contribui\\u00e7\\u00e3o_ter\\u00e7o\",\"34_benef\\u00edcios_sal\\u00e1rios_cont...\",\"5_fgts_corre\\u00e7\\u00e3o_contas\",\"15_defeso_seguro_pesca\",\"45_transporte_coletivo_serv...\",\"30_acordo_homologo_homologa...\",\"33_partes_audi\\u00eancia_vara\",\"23_audi\\u00eancia_partes_dr\",\"37_dilig\\u00eancia_inicial_julga...\",\"48_concilia\\u00e7\\u00e3o_advertindo_j...\",\"47_apesar_juazeiro_nortece\",\"21_comparecer_realiza\\u00e7\\u00e3o_ex...\",\"8_extin\\u00e7\\u00e3o_processo_m\\u00e9rito\",\"43_processo_coisa_julgada\",\"7_inicial_processo_extin\\u00e7\\u00e3o\",\"28_extin\\u00e7\\u00e3o_feito_inicial\",\"40_processo_peti\\u00e7\\u00e3o_inicial\",\"44_celeridade_dilig\\u00eancia_pr...\",\"2_processual_unidade_desenv...\"],\"tickvals\":[-5.0,-15.0,-25.0,-35.0,-45.0,-55.0,-65.0,-75.0,-85.0,-95.0,-105.0,-115.0,-125.0,-135.0,-145.0,-155.0,-165.0,-175.0,-185.0,-195.0,-205.0,-215.0,-225.0,-235.0,-245.0,-255.0,-265.0,-275.0,-285.0,-295.0,-305.0,-315.0,-325.0,-335.0,-345.0,-355.0,-365.0,-375.0,-385.0,-395.0,-405.0,-415.0,-425.0,-435.0,-445.0,-455.0,-465.0,-475.0,-485.0,-495.0],\"type\":\"linear\",\"zeroline\":false,\"range\":[-500.0,0.0]},\"template\":{\"data\":{\"barpolar\":[{\"marker\":{\"line\":{\"color\":\"white\",\"width\":0.5},\"pattern\":{\"fillmode\":\"overlay\",\"size\":10,\"solidity\":0.2}},\"type\":\"barpolar\"}],\"bar\":[{\"error_x\":{\"color\":\"#2a3f5f\"},\"error_y\":{\"color\":\"#2a3f5f\"},\"marker\":{\"line\":{\"color\":\"white\",\"width\":0.5},\"pattern\":{\"fillmode\":\"overlay\",\"size\":10,\"solidity\":0.2}},\"type\":\"bar\"}],\"carpet\":[{\"aaxis\":{\"endlinecolor\":\"#2a3f5f\",\"gridcolor\":\"#C8D4E3\",\"linecolor\":\"#C8D4E3\",\"minorgridcolor\":\"#C8D4E3\",\"startlinecolor\":\"#2a3f5f\"},\"baxis\":{\"endlinecolor\":\"#2a3f5f\",\"gridcolor\":\"#C8D4E3\",\"linecolor\":\"#C8D4E3\",\"minorgridcolor\":\"#C8D4E3\",\"startlinecolor\":\"#2a3f5f\"},\"type\":\"carpet\"}],\"choropleth\":[{\"colorbar\":{\"outlinewidth\":0,\"ticks\":\"\"},\"type\":\"choropleth\"}],\"contourcarpet\":[{\"colorbar\":{\"outlinewidth\":0,\"ticks\":\"\"},\"type\":\"contourcarpet\"}],\"contour\":[{\"colorbar\":{\"outlinewidth\":0,\"ticks\":\"\"},\"colorscale\":[[0.0,\"#0d0887\"],[0.1111111111111111,\"#46039f\"],[0.2222222222222222,\"#7201a8\"],[0.3333333333333333,\"#9c179e\"],[0.4444444444444444,\"#bd3786\"],[0.5555555555555556,\"#d8576b\"],[0.6666666666666666,\"#ed7953\"],[0.7777777777777778,\"#fb9f3a\"],[0.8888888888888888,\"#fdca26\"],[1.0,\"#f0f921\"]],\"type\":\"contour\"}],\"heatmapgl\":[{\"colorbar\":{\"outlinewidth\":0,\"ticks\":\"\"},\"colorscale\":[[0.0,\"#0d0887\"],[0.1111111111111111,\"#46039f\"],[0.2222222222222222,\"#7201a8\"],[0.3333333333333333,\"#9c179e\"],[0.4444444444444444,\"#bd3786\"],[0.5555555555555556,\"#d8576b\"],[0.6666666666666666,\"#ed7953\"],[0.7777777777777778,\"#fb9f3a\"],[0.8888888888888888,\"#fdca26\"],[1.0,\"#f0f921\"]],\"type\":\"heatmapgl\"}],\"heatmap\":[{\"colorbar\":{\"outlinewidth\":0,\"ticks\":\"\"},\"colorscale\":[[0.0,\"#0d0887\"],[0.1111111111111111,\"#46039f\"],[0.2222222222222222,\"#7201a8\"],[0.3333333333333333,\"#9c179e\"],[0.4444444444444444,\"#bd3786\"],[0.5555555555555556,\"#d8576b\"],[0.6666666666666666,\"#ed7953\"],[0.7777777777777778,\"#fb9f3a\"],[0.8888888888888888,\"#fdca26\"],[1.0,\"#f0f921\"]],\"type\":\"heatmap\"}],\"histogram2dcontour\":[{\"colorbar\":{\"outlinewidth\":0,\"ticks\":\"\"},\"colorscale\":[[0.0,\"#0d0887\"],[0.1111111111111111,\"#46039f\"],[0.2222222222222222,\"#7201a8\"],[0.3333333333333333,\"#9c179e\"],[0.4444444444444444,\"#bd3786\"],[0.5555555555555556,\"#d8576b\"],[0.6666666666666666,\"#ed7953\"],[0.7777777777777778,\"#fb9f3a\"],[0.8888888888888888,\"#fdca26\"],[1.0,\"#f0f921\"]],\"type\":\"histogram2dcontour\"}],\"histogram2d\":[{\"colorbar\":{\"outlinewidth\":0,\"ticks\":\"\"},\"colorscale\":[[0.0,\"#0d0887\"],[0.1111111111111111,\"#46039f\"],[0.2222222222222222,\"#7201a8\"],[0.3333333333333333,\"#9c179e\"],[0.4444444444444444,\"#bd3786\"],[0.5555555555555556,\"#d8576b\"],[0.6666666666666666,\"#ed7953\"],[0.7777777777777778,\"#fb9f3a\"],[0.8888888888888888,\"#fdca26\"],[1.0,\"#f0f921\"]],\"type\":\"histogram2d\"}],\"histogram\":[{\"marker\":{\"pattern\":{\"fillmode\":\"overlay\",\"size\":10,\"solidity\":0.2}},\"type\":\"histogram\"}],\"mesh3d\":[{\"colorbar\":{\"outlinewidth\":0,\"ticks\":\"\"},\"type\":\"mesh3d\"}],\"parcoords\":[{\"line\":{\"colorbar\":{\"outlinewidth\":0,\"ticks\":\"\"}},\"type\":\"parcoords\"}],\"pie\":[{\"automargin\":true,\"type\":\"pie\"}],\"scatter3d\":[{\"line\":{\"colorbar\":{\"outlinewidth\":0,\"ticks\":\"\"}},\"marker\":{\"colorbar\":{\"outlinewidth\":0,\"ticks\":\"\"}},\"type\":\"scatter3d\"}],\"scattercarpet\":[{\"marker\":{\"colorbar\":{\"outlinewidth\":0,\"ticks\":\"\"}},\"type\":\"scattercarpet\"}],\"scattergeo\":[{\"marker\":{\"colorbar\":{\"outlinewidth\":0,\"ticks\":\"\"}},\"type\":\"scattergeo\"}],\"scattergl\":[{\"marker\":{\"colorbar\":{\"outlinewidth\":0,\"ticks\":\"\"}},\"type\":\"scattergl\"}],\"scattermapbox\":[{\"marker\":{\"colorbar\":{\"outlinewidth\":0,\"ticks\":\"\"}},\"type\":\"scattermapbox\"}],\"scatterpolargl\":[{\"marker\":{\"colorbar\":{\"outlinewidth\":0,\"ticks\":\"\"}},\"type\":\"scatterpolargl\"}],\"scatterpolar\":[{\"marker\":{\"colorbar\":{\"outlinewidth\":0,\"ticks\":\"\"}},\"type\":\"scatterpolar\"}],\"scatter\":[{\"marker\":{\"colorbar\":{\"outlinewidth\":0,\"ticks\":\"\"}},\"type\":\"scatter\"}],\"scatterternary\":[{\"marker\":{\"colorbar\":{\"outlinewidth\":0,\"ticks\":\"\"}},\"type\":\"scatterternary\"}],\"surface\":[{\"colorbar\":{\"outlinewidth\":0,\"ticks\":\"\"},\"colorscale\":[[0.0,\"#0d0887\"],[0.1111111111111111,\"#46039f\"],[0.2222222222222222,\"#7201a8\"],[0.3333333333333333,\"#9c179e\"],[0.4444444444444444,\"#bd3786\"],[0.5555555555555556,\"#d8576b\"],[0.6666666666666666,\"#ed7953\"],[0.7777777777777778,\"#fb9f3a\"],[0.8888888888888888,\"#fdca26\"],[1.0,\"#f0f921\"]],\"type\":\"surface\"}],\"table\":[{\"cells\":{\"fill\":{\"color\":\"#EBF0F8\"},\"line\":{\"color\":\"white\"}},\"header\":{\"fill\":{\"color\":\"#C8D4E3\"},\"line\":{\"color\":\"white\"}},\"type\":\"table\"}]},\"layout\":{\"annotationdefaults\":{\"arrowcolor\":\"#2a3f5f\",\"arrowhead\":0,\"arrowwidth\":1},\"autotypenumbers\":\"strict\",\"coloraxis\":{\"colorbar\":{\"outlinewidth\":0,\"ticks\":\"\"}},\"colorscale\":{\"diverging\":[[0,\"#8e0152\"],[0.1,\"#c51b7d\"],[0.2,\"#de77ae\"],[0.3,\"#f1b6da\"],[0.4,\"#fde0ef\"],[0.5,\"#f7f7f7\"],[0.6,\"#e6f5d0\"],[0.7,\"#b8e186\"],[0.8,\"#7fbc41\"],[0.9,\"#4d9221\"],[1,\"#276419\"]],\"sequential\":[[0.0,\"#0d0887\"],[0.1111111111111111,\"#46039f\"],[0.2222222222222222,\"#7201a8\"],[0.3333333333333333,\"#9c179e\"],[0.4444444444444444,\"#bd3786\"],[0.5555555555555556,\"#d8576b\"],[0.6666666666666666,\"#ed7953\"],[0.7777777777777778,\"#fb9f3a\"],[0.8888888888888888,\"#fdca26\"],[1.0,\"#f0f921\"]],\"sequentialminus\":[[0.0,\"#0d0887\"],[0.1111111111111111,\"#46039f\"],[0.2222222222222222,\"#7201a8\"],[0.3333333333333333,\"#9c179e\"],[0.4444444444444444,\"#bd3786\"],[0.5555555555555556,\"#d8576b\"],[0.6666666666666666,\"#ed7953\"],[0.7777777777777778,\"#fb9f3a\"],[0.8888888888888888,\"#fdca26\"],[1.0,\"#f0f921\"]]},\"colorway\":[\"#636efa\",\"#EF553B\",\"#00cc96\",\"#ab63fa\",\"#FFA15A\",\"#19d3f3\",\"#FF6692\",\"#B6E880\",\"#FF97FF\",\"#FECB52\"],\"font\":{\"color\":\"#2a3f5f\"},\"geo\":{\"bgcolor\":\"white\",\"lakecolor\":\"white\",\"landcolor\":\"white\",\"showlakes\":true,\"showland\":true,\"subunitcolor\":\"#C8D4E3\"},\"hoverlabel\":{\"align\":\"left\"},\"hovermode\":\"closest\",\"mapbox\":{\"style\":\"light\"},\"paper_bgcolor\":\"white\",\"plot_bgcolor\":\"white\",\"polar\":{\"angularaxis\":{\"gridcolor\":\"#EBF0F8\",\"linecolor\":\"#EBF0F8\",\"ticks\":\"\"},\"bgcolor\":\"white\",\"radialaxis\":{\"gridcolor\":\"#EBF0F8\",\"linecolor\":\"#EBF0F8\",\"ticks\":\"\"}},\"scene\":{\"xaxis\":{\"backgroundcolor\":\"white\",\"gridcolor\":\"#DFE8F3\",\"gridwidth\":2,\"linecolor\":\"#EBF0F8\",\"showbackground\":true,\"ticks\":\"\",\"zerolinecolor\":\"#EBF0F8\"},\"yaxis\":{\"backgroundcolor\":\"white\",\"gridcolor\":\"#DFE8F3\",\"gridwidth\":2,\"linecolor\":\"#EBF0F8\",\"showbackground\":true,\"ticks\":\"\",\"zerolinecolor\":\"#EBF0F8\"},\"zaxis\":{\"backgroundcolor\":\"white\",\"gridcolor\":\"#DFE8F3\",\"gridwidth\":2,\"linecolor\":\"#EBF0F8\",\"showbackground\":true,\"ticks\":\"\",\"zerolinecolor\":\"#EBF0F8\"}},\"shapedefaults\":{\"line\":{\"color\":\"#2a3f5f\"}},\"ternary\":{\"aaxis\":{\"gridcolor\":\"#DFE8F3\",\"linecolor\":\"#A2B1C6\",\"ticks\":\"\"},\"baxis\":{\"gridcolor\":\"#DFE8F3\",\"linecolor\":\"#A2B1C6\",\"ticks\":\"\"},\"bgcolor\":\"white\",\"caxis\":{\"gridcolor\":\"#DFE8F3\",\"linecolor\":\"#A2B1C6\",\"ticks\":\"\"}},\"title\":{\"x\":0.05},\"xaxis\":{\"automargin\":true,\"gridcolor\":\"#EBF0F8\",\"linecolor\":\"#EBF0F8\",\"ticks\":\"\",\"title\":{\"standoff\":15},\"zerolinecolor\":\"#EBF0F8\",\"zerolinewidth\":2},\"yaxis\":{\"automargin\":true,\"gridcolor\":\"#EBF0F8\",\"linecolor\":\"#EBF0F8\",\"ticks\":\"\",\"title\":{\"standoff\":15},\"zerolinecolor\":\"#EBF0F8\",\"zerolinewidth\":2}}},\"title\":{\"font\":{\"size\":22,\"color\":\"Black\"},\"text\":\"<b>Hierarchical Clustering\",\"x\":0.5,\"xanchor\":\"center\",\"yanchor\":\"top\"},\"hoverlabel\":{\"font\":{\"size\":16,\"family\":\"Rockwell\"},\"bgcolor\":\"white\"},\"plot_bgcolor\":\"#ECEFF1\"},                        {\"responsive\": true}                    ).then(function(){\n",
              "                            \n",
              "var gd = document.getElementById('387149e9-39a3-4bf5-98d7-5c5560bdf52c');\n",
              "var x = new MutationObserver(function (mutations, observer) {{\n",
              "        var display = window.getComputedStyle(gd).display;\n",
              "        if (!display || display === 'none') {{\n",
              "            console.log([gd, 'removed!']);\n",
              "            Plotly.purge(gd);\n",
              "            observer.disconnect();\n",
              "        }}\n",
              "}});\n",
              "\n",
              "// Listen for the removal of the full notebook cells\n",
              "var notebookContainer = gd.closest('#notebook-container');\n",
              "if (notebookContainer) {{\n",
              "    x.observe(notebookContainer, {childList: true});\n",
              "}}\n",
              "\n",
              "// Listen for the clearing of the current output cell\n",
              "var outputEl = gd.closest('.output');\n",
              "if (outputEl) {{\n",
              "    x.observe(outputEl, {childList: true});\n",
              "}}\n",
              "\n",
              "                        })                };                            </script>        </div>\n",
              "</body>\n",
              "</html>"
            ]
          },
          "metadata": {}
        }
      ]
    },
    {
      "cell_type": "code",
      "source": [
        "topic_model.visualize_barchart(top_n_topics=5)"
      ],
      "metadata": {
        "colab": {
          "base_uri": "https://localhost:8080/",
          "height": 517
        },
        "id": "OcZcU41VshCR",
        "outputId": "67795ea0-15f5-424b-d041-9f90af27386e"
      },
      "execution_count": null,
      "outputs": [
        {
          "output_type": "display_data",
          "data": {
            "text/html": [
              "<html>\n",
              "<head><meta charset=\"utf-8\" /></head>\n",
              "<body>\n",
              "    <div>            <script src=\"https://cdnjs.cloudflare.com/ajax/libs/mathjax/2.7.5/MathJax.js?config=TeX-AMS-MML_SVG\"></script><script type=\"text/javascript\">if (window.MathJax) {MathJax.Hub.Config({SVG: {font: \"STIX-Web\"}});}</script>                <script type=\"text/javascript\">window.PlotlyConfig = {MathJaxConfig: 'local'};</script>\n",
              "        <script src=\"https://cdn.plot.ly/plotly-2.8.3.min.js\"></script>                <div id=\"d1378e92-2c95-411c-b21f-817c25ec2d87\" class=\"plotly-graph-div\" style=\"height:500px; width:1000px;\"></div>            <script type=\"text/javascript\">                                    window.PLOTLYENV=window.PLOTLYENV || {};                                    if (document.getElementById(\"d1378e92-2c95-411c-b21f-817c25ec2d87\")) {                    Plotly.newPlot(                        \"d1378e92-2c95-411c-b21f-817c25ec2d87\",                        [{\"marker\":{\"color\":\"#D55E00\"},\"orientation\":\"h\",\"x\":[0.020412054677293515,0.021642111703227697,0.026887803787582064,0.027353517864285855,0.03584017552313066],\"y\":[\"rural  \",\"parto  \",\"sal\\u00e1rio  \",\"segurada  \",\"maternidade  \"],\"type\":\"bar\",\"xaxis\":\"x\",\"yaxis\":\"y\"},{\"marker\":{\"color\":\"#0072B2\"},\"orientation\":\"h\",\"x\":[0.008458265052151847,0.00936011721946542,0.009400957279664137,0.00971420083547788,0.013260864920651183],\"y\":[\"sa\\u00fade  \",\"poder  \",\"judici\\u00e1rio  \",\"juizado  \",\"federal  \"],\"type\":\"bar\",\"xaxis\":\"x2\",\"yaxis\":\"y2\"},{\"marker\":{\"color\":\"#CC79A7\"},\"orientation\":\"h\",\"x\":[0.029727199014396105,0.031220882051008664,0.03159740475454719,0.03349172740733775,0.036668626717781296],\"y\":[\"deste  \",\"regular  \",\"desenvolvimento  \",\"unidade  \",\"processual  \"],\"type\":\"bar\",\"xaxis\":\"x3\",\"yaxis\":\"y3\"},{\"marker\":{\"color\":\"#E69F00\"},\"orientation\":\"h\",\"x\":[0.013702312553236798,0.014050251240469769,0.014127063111834539,0.019869358084355308,0.024916740916275985],\"y\":[\"instru\\u00e7\\u00e3o  \",\"mm  \",\"inss  \",\"rural  \",\"audi\\u00eancia  \"],\"type\":\"bar\",\"xaxis\":\"x4\",\"yaxis\":\"y4\"},{\"marker\":{\"color\":\"#56B4E9\"},\"orientation\":\"h\",\"x\":[0.01677739732092988,0.018243459469535574,0.0182530790940397,0.028285986603218242,0.029793635361790912],\"y\":[\"meses  \",\"prova  \",\"car\\u00eancia  \",\"rural  \",\"idade  \"],\"type\":\"bar\",\"xaxis\":\"x5\",\"yaxis\":\"y5\"}],                        {\"template\":{\"data\":{\"barpolar\":[{\"marker\":{\"line\":{\"color\":\"white\",\"width\":0.5},\"pattern\":{\"fillmode\":\"overlay\",\"size\":10,\"solidity\":0.2}},\"type\":\"barpolar\"}],\"bar\":[{\"error_x\":{\"color\":\"#2a3f5f\"},\"error_y\":{\"color\":\"#2a3f5f\"},\"marker\":{\"line\":{\"color\":\"white\",\"width\":0.5},\"pattern\":{\"fillmode\":\"overlay\",\"size\":10,\"solidity\":0.2}},\"type\":\"bar\"}],\"carpet\":[{\"aaxis\":{\"endlinecolor\":\"#2a3f5f\",\"gridcolor\":\"#C8D4E3\",\"linecolor\":\"#C8D4E3\",\"minorgridcolor\":\"#C8D4E3\",\"startlinecolor\":\"#2a3f5f\"},\"baxis\":{\"endlinecolor\":\"#2a3f5f\",\"gridcolor\":\"#C8D4E3\",\"linecolor\":\"#C8D4E3\",\"minorgridcolor\":\"#C8D4E3\",\"startlinecolor\":\"#2a3f5f\"},\"type\":\"carpet\"}],\"choropleth\":[{\"colorbar\":{\"outlinewidth\":0,\"ticks\":\"\"},\"type\":\"choropleth\"}],\"contourcarpet\":[{\"colorbar\":{\"outlinewidth\":0,\"ticks\":\"\"},\"type\":\"contourcarpet\"}],\"contour\":[{\"colorbar\":{\"outlinewidth\":0,\"ticks\":\"\"},\"colorscale\":[[0.0,\"#0d0887\"],[0.1111111111111111,\"#46039f\"],[0.2222222222222222,\"#7201a8\"],[0.3333333333333333,\"#9c179e\"],[0.4444444444444444,\"#bd3786\"],[0.5555555555555556,\"#d8576b\"],[0.6666666666666666,\"#ed7953\"],[0.7777777777777778,\"#fb9f3a\"],[0.8888888888888888,\"#fdca26\"],[1.0,\"#f0f921\"]],\"type\":\"contour\"}],\"heatmapgl\":[{\"colorbar\":{\"outlinewidth\":0,\"ticks\":\"\"},\"colorscale\":[[0.0,\"#0d0887\"],[0.1111111111111111,\"#46039f\"],[0.2222222222222222,\"#7201a8\"],[0.3333333333333333,\"#9c179e\"],[0.4444444444444444,\"#bd3786\"],[0.5555555555555556,\"#d8576b\"],[0.6666666666666666,\"#ed7953\"],[0.7777777777777778,\"#fb9f3a\"],[0.8888888888888888,\"#fdca26\"],[1.0,\"#f0f921\"]],\"type\":\"heatmapgl\"}],\"heatmap\":[{\"colorbar\":{\"outlinewidth\":0,\"ticks\":\"\"},\"colorscale\":[[0.0,\"#0d0887\"],[0.1111111111111111,\"#46039f\"],[0.2222222222222222,\"#7201a8\"],[0.3333333333333333,\"#9c179e\"],[0.4444444444444444,\"#bd3786\"],[0.5555555555555556,\"#d8576b\"],[0.6666666666666666,\"#ed7953\"],[0.7777777777777778,\"#fb9f3a\"],[0.8888888888888888,\"#fdca26\"],[1.0,\"#f0f921\"]],\"type\":\"heatmap\"}],\"histogram2dcontour\":[{\"colorbar\":{\"outlinewidth\":0,\"ticks\":\"\"},\"colorscale\":[[0.0,\"#0d0887\"],[0.1111111111111111,\"#46039f\"],[0.2222222222222222,\"#7201a8\"],[0.3333333333333333,\"#9c179e\"],[0.4444444444444444,\"#bd3786\"],[0.5555555555555556,\"#d8576b\"],[0.6666666666666666,\"#ed7953\"],[0.7777777777777778,\"#fb9f3a\"],[0.8888888888888888,\"#fdca26\"],[1.0,\"#f0f921\"]],\"type\":\"histogram2dcontour\"}],\"histogram2d\":[{\"colorbar\":{\"outlinewidth\":0,\"ticks\":\"\"},\"colorscale\":[[0.0,\"#0d0887\"],[0.1111111111111111,\"#46039f\"],[0.2222222222222222,\"#7201a8\"],[0.3333333333333333,\"#9c179e\"],[0.4444444444444444,\"#bd3786\"],[0.5555555555555556,\"#d8576b\"],[0.6666666666666666,\"#ed7953\"],[0.7777777777777778,\"#fb9f3a\"],[0.8888888888888888,\"#fdca26\"],[1.0,\"#f0f921\"]],\"type\":\"histogram2d\"}],\"histogram\":[{\"marker\":{\"pattern\":{\"fillmode\":\"overlay\",\"size\":10,\"solidity\":0.2}},\"type\":\"histogram\"}],\"mesh3d\":[{\"colorbar\":{\"outlinewidth\":0,\"ticks\":\"\"},\"type\":\"mesh3d\"}],\"parcoords\":[{\"line\":{\"colorbar\":{\"outlinewidth\":0,\"ticks\":\"\"}},\"type\":\"parcoords\"}],\"pie\":[{\"automargin\":true,\"type\":\"pie\"}],\"scatter3d\":[{\"line\":{\"colorbar\":{\"outlinewidth\":0,\"ticks\":\"\"}},\"marker\":{\"colorbar\":{\"outlinewidth\":0,\"ticks\":\"\"}},\"type\":\"scatter3d\"}],\"scattercarpet\":[{\"marker\":{\"colorbar\":{\"outlinewidth\":0,\"ticks\":\"\"}},\"type\":\"scattercarpet\"}],\"scattergeo\":[{\"marker\":{\"colorbar\":{\"outlinewidth\":0,\"ticks\":\"\"}},\"type\":\"scattergeo\"}],\"scattergl\":[{\"marker\":{\"colorbar\":{\"outlinewidth\":0,\"ticks\":\"\"}},\"type\":\"scattergl\"}],\"scattermapbox\":[{\"marker\":{\"colorbar\":{\"outlinewidth\":0,\"ticks\":\"\"}},\"type\":\"scattermapbox\"}],\"scatterpolargl\":[{\"marker\":{\"colorbar\":{\"outlinewidth\":0,\"ticks\":\"\"}},\"type\":\"scatterpolargl\"}],\"scatterpolar\":[{\"marker\":{\"colorbar\":{\"outlinewidth\":0,\"ticks\":\"\"}},\"type\":\"scatterpolar\"}],\"scatter\":[{\"marker\":{\"colorbar\":{\"outlinewidth\":0,\"ticks\":\"\"}},\"type\":\"scatter\"}],\"scatterternary\":[{\"marker\":{\"colorbar\":{\"outlinewidth\":0,\"ticks\":\"\"}},\"type\":\"scatterternary\"}],\"surface\":[{\"colorbar\":{\"outlinewidth\":0,\"ticks\":\"\"},\"colorscale\":[[0.0,\"#0d0887\"],[0.1111111111111111,\"#46039f\"],[0.2222222222222222,\"#7201a8\"],[0.3333333333333333,\"#9c179e\"],[0.4444444444444444,\"#bd3786\"],[0.5555555555555556,\"#d8576b\"],[0.6666666666666666,\"#ed7953\"],[0.7777777777777778,\"#fb9f3a\"],[0.8888888888888888,\"#fdca26\"],[1.0,\"#f0f921\"]],\"type\":\"surface\"}],\"table\":[{\"cells\":{\"fill\":{\"color\":\"#EBF0F8\"},\"line\":{\"color\":\"white\"}},\"header\":{\"fill\":{\"color\":\"#C8D4E3\"},\"line\":{\"color\":\"white\"}},\"type\":\"table\"}]},\"layout\":{\"annotationdefaults\":{\"arrowcolor\":\"#2a3f5f\",\"arrowhead\":0,\"arrowwidth\":1},\"autotypenumbers\":\"strict\",\"coloraxis\":{\"colorbar\":{\"outlinewidth\":0,\"ticks\":\"\"}},\"colorscale\":{\"diverging\":[[0,\"#8e0152\"],[0.1,\"#c51b7d\"],[0.2,\"#de77ae\"],[0.3,\"#f1b6da\"],[0.4,\"#fde0ef\"],[0.5,\"#f7f7f7\"],[0.6,\"#e6f5d0\"],[0.7,\"#b8e186\"],[0.8,\"#7fbc41\"],[0.9,\"#4d9221\"],[1,\"#276419\"]],\"sequential\":[[0.0,\"#0d0887\"],[0.1111111111111111,\"#46039f\"],[0.2222222222222222,\"#7201a8\"],[0.3333333333333333,\"#9c179e\"],[0.4444444444444444,\"#bd3786\"],[0.5555555555555556,\"#d8576b\"],[0.6666666666666666,\"#ed7953\"],[0.7777777777777778,\"#fb9f3a\"],[0.8888888888888888,\"#fdca26\"],[1.0,\"#f0f921\"]],\"sequentialminus\":[[0.0,\"#0d0887\"],[0.1111111111111111,\"#46039f\"],[0.2222222222222222,\"#7201a8\"],[0.3333333333333333,\"#9c179e\"],[0.4444444444444444,\"#bd3786\"],[0.5555555555555556,\"#d8576b\"],[0.6666666666666666,\"#ed7953\"],[0.7777777777777778,\"#fb9f3a\"],[0.8888888888888888,\"#fdca26\"],[1.0,\"#f0f921\"]]},\"colorway\":[\"#636efa\",\"#EF553B\",\"#00cc96\",\"#ab63fa\",\"#FFA15A\",\"#19d3f3\",\"#FF6692\",\"#B6E880\",\"#FF97FF\",\"#FECB52\"],\"font\":{\"color\":\"#2a3f5f\"},\"geo\":{\"bgcolor\":\"white\",\"lakecolor\":\"white\",\"landcolor\":\"white\",\"showlakes\":true,\"showland\":true,\"subunitcolor\":\"#C8D4E3\"},\"hoverlabel\":{\"align\":\"left\"},\"hovermode\":\"closest\",\"mapbox\":{\"style\":\"light\"},\"paper_bgcolor\":\"white\",\"plot_bgcolor\":\"white\",\"polar\":{\"angularaxis\":{\"gridcolor\":\"#EBF0F8\",\"linecolor\":\"#EBF0F8\",\"ticks\":\"\"},\"bgcolor\":\"white\",\"radialaxis\":{\"gridcolor\":\"#EBF0F8\",\"linecolor\":\"#EBF0F8\",\"ticks\":\"\"}},\"scene\":{\"xaxis\":{\"backgroundcolor\":\"white\",\"gridcolor\":\"#DFE8F3\",\"gridwidth\":2,\"linecolor\":\"#EBF0F8\",\"showbackground\":true,\"ticks\":\"\",\"zerolinecolor\":\"#EBF0F8\"},\"yaxis\":{\"backgroundcolor\":\"white\",\"gridcolor\":\"#DFE8F3\",\"gridwidth\":2,\"linecolor\":\"#EBF0F8\",\"showbackground\":true,\"ticks\":\"\",\"zerolinecolor\":\"#EBF0F8\"},\"zaxis\":{\"backgroundcolor\":\"white\",\"gridcolor\":\"#DFE8F3\",\"gridwidth\":2,\"linecolor\":\"#EBF0F8\",\"showbackground\":true,\"ticks\":\"\",\"zerolinecolor\":\"#EBF0F8\"}},\"shapedefaults\":{\"line\":{\"color\":\"#2a3f5f\"}},\"ternary\":{\"aaxis\":{\"gridcolor\":\"#DFE8F3\",\"linecolor\":\"#A2B1C6\",\"ticks\":\"\"},\"baxis\":{\"gridcolor\":\"#DFE8F3\",\"linecolor\":\"#A2B1C6\",\"ticks\":\"\"},\"bgcolor\":\"white\",\"caxis\":{\"gridcolor\":\"#DFE8F3\",\"linecolor\":\"#A2B1C6\",\"ticks\":\"\"}},\"title\":{\"x\":0.05},\"xaxis\":{\"automargin\":true,\"gridcolor\":\"#EBF0F8\",\"linecolor\":\"#EBF0F8\",\"ticks\":\"\",\"title\":{\"standoff\":15},\"zerolinecolor\":\"#EBF0F8\",\"zerolinewidth\":2},\"yaxis\":{\"automargin\":true,\"gridcolor\":\"#EBF0F8\",\"linecolor\":\"#EBF0F8\",\"ticks\":\"\",\"title\":{\"standoff\":15},\"zerolinecolor\":\"#EBF0F8\",\"zerolinewidth\":2}}},\"xaxis\":{\"anchor\":\"y\",\"domain\":[0.0,0.175],\"showgrid\":true},\"yaxis\":{\"anchor\":\"x\",\"domain\":[0.6000000000000001,1.0],\"showgrid\":true},\"xaxis2\":{\"anchor\":\"y2\",\"domain\":[0.275,0.45],\"showgrid\":true},\"yaxis2\":{\"anchor\":\"x2\",\"domain\":[0.6000000000000001,1.0],\"showgrid\":true},\"xaxis3\":{\"anchor\":\"y3\",\"domain\":[0.55,0.7250000000000001],\"showgrid\":true},\"yaxis3\":{\"anchor\":\"x3\",\"domain\":[0.6000000000000001,1.0],\"showgrid\":true},\"xaxis4\":{\"anchor\":\"y4\",\"domain\":[0.825,1.0],\"showgrid\":true},\"yaxis4\":{\"anchor\":\"x4\",\"domain\":[0.6000000000000001,1.0],\"showgrid\":true},\"xaxis5\":{\"anchor\":\"y5\",\"domain\":[0.0,0.175],\"showgrid\":true},\"yaxis5\":{\"anchor\":\"x5\",\"domain\":[0.0,0.4],\"showgrid\":true},\"xaxis6\":{\"anchor\":\"y6\",\"domain\":[0.275,0.45],\"showgrid\":true},\"yaxis6\":{\"anchor\":\"x6\",\"domain\":[0.0,0.4],\"showgrid\":true},\"xaxis7\":{\"anchor\":\"y7\",\"domain\":[0.55,0.7250000000000001],\"showgrid\":true},\"yaxis7\":{\"anchor\":\"x7\",\"domain\":[0.0,0.4],\"showgrid\":true},\"xaxis8\":{\"anchor\":\"y8\",\"domain\":[0.825,1.0],\"showgrid\":true},\"yaxis8\":{\"anchor\":\"x8\",\"domain\":[0.0,0.4],\"showgrid\":true},\"annotations\":[{\"font\":{\"size\":16},\"showarrow\":false,\"text\":\"Topic 0\",\"x\":0.0875,\"xanchor\":\"center\",\"xref\":\"paper\",\"y\":1.0,\"yanchor\":\"bottom\",\"yref\":\"paper\"},{\"font\":{\"size\":16},\"showarrow\":false,\"text\":\"Topic 1\",\"x\":0.36250000000000004,\"xanchor\":\"center\",\"xref\":\"paper\",\"y\":1.0,\"yanchor\":\"bottom\",\"yref\":\"paper\"},{\"font\":{\"size\":16},\"showarrow\":false,\"text\":\"Topic 2\",\"x\":0.6375000000000001,\"xanchor\":\"center\",\"xref\":\"paper\",\"y\":1.0,\"yanchor\":\"bottom\",\"yref\":\"paper\"},{\"font\":{\"size\":16},\"showarrow\":false,\"text\":\"Topic 3\",\"x\":0.9125,\"xanchor\":\"center\",\"xref\":\"paper\",\"y\":1.0,\"yanchor\":\"bottom\",\"yref\":\"paper\"},{\"font\":{\"size\":16},\"showarrow\":false,\"text\":\"Topic 4\",\"x\":0.0875,\"xanchor\":\"center\",\"xref\":\"paper\",\"y\":0.4,\"yanchor\":\"bottom\",\"yref\":\"paper\"}],\"title\":{\"font\":{\"size\":22,\"color\":\"Black\"},\"text\":\"<b>Topic Word Scores\",\"x\":0.5,\"xanchor\":\"center\",\"yanchor\":\"top\"},\"hoverlabel\":{\"font\":{\"size\":16,\"family\":\"Rockwell\"},\"bgcolor\":\"white\"},\"showlegend\":false,\"width\":1000,\"height\":500},                        {\"responsive\": true}                    ).then(function(){\n",
              "                            \n",
              "var gd = document.getElementById('d1378e92-2c95-411c-b21f-817c25ec2d87');\n",
              "var x = new MutationObserver(function (mutations, observer) {{\n",
              "        var display = window.getComputedStyle(gd).display;\n",
              "        if (!display || display === 'none') {{\n",
              "            console.log([gd, 'removed!']);\n",
              "            Plotly.purge(gd);\n",
              "            observer.disconnect();\n",
              "        }}\n",
              "}});\n",
              "\n",
              "// Listen for the removal of the full notebook cells\n",
              "var notebookContainer = gd.closest('#notebook-container');\n",
              "if (notebookContainer) {{\n",
              "    x.observe(notebookContainer, {childList: true});\n",
              "}}\n",
              "\n",
              "// Listen for the clearing of the current output cell\n",
              "var outputEl = gd.closest('.output');\n",
              "if (outputEl) {{\n",
              "    x.observe(outputEl, {childList: true});\n",
              "}}\n",
              "\n",
              "                        })                };                            </script>        </div>\n",
              "</body>\n",
              "</html>"
            ]
          },
          "metadata": {}
        }
      ]
    },
    {
      "cell_type": "code",
      "source": [
        "topic_model.visualize_heatmap(n_clusters=20, width=1000, height=1000)"
      ],
      "metadata": {
        "colab": {
          "base_uri": "https://localhost:8080/",
          "height": 1000
        },
        "id": "WHMf0XMEs2up",
        "outputId": "d3d9b0e5-9178-4168-bd67-293857b83d46"
      },
      "execution_count": null,
      "outputs": [
        {
          "output_type": "display_data",
          "data": {
            "text/html": [
              "<html>\n",
              "<head><meta charset=\"utf-8\" /></head>\n",
              "<body>\n",
              "    <div>            <script src=\"https://cdnjs.cloudflare.com/ajax/libs/mathjax/2.7.5/MathJax.js?config=TeX-AMS-MML_SVG\"></script><script type=\"text/javascript\">if (window.MathJax) {MathJax.Hub.Config({SVG: {font: \"STIX-Web\"}});}</script>                <script type=\"text/javascript\">window.PlotlyConfig = {MathJaxConfig: 'local'};</script>\n",
              "        <script src=\"https://cdn.plot.ly/plotly-2.8.3.min.js\"></script>                <div id=\"bb758a0f-406b-4c3d-8c7a-d00c28218bcf\" class=\"plotly-graph-div\" style=\"height:1000px; width:1000px;\"></div>            <script type=\"text/javascript\">                                    window.PLOTLYENV=window.PLOTLYENV || {};                                    if (document.getElementById(\"bb758a0f-406b-4c3d-8c7a-d00c28218bcf\")) {                    Plotly.newPlot(                        \"bb758a0f-406b-4c3d-8c7a-d00c28218bcf\",                        [{\"coloraxis\":\"coloraxis\",\"name\":\"0\",\"x\":[\"0_maternidade_segurada_sal\\u00e1...\",\"1_federal_juizado_judici\\u00e1rio\",\"23_audi\\u00eancia_partes_dr\",\"33_partes_audi\\u00eancia_vara\",\"49_judicial_cid_laudo\",\"2_processual_unidade_desenv...\",\"3_audi\\u00eancia_rural_inss\",\"6_danos_caixa_dano\",\"32_mso_font_pessoais\",\"61_anos_rural_prescri\\u00e7\\u00e3o\",\"4_idade_rural_car\\u00eancia\",\"65_rural_idade_car\\u00eancia\",\"5_fgts_corre\\u00e7\\u00e3o_contas\",\"12_reajuste_contas_sobre\",\"25_valor_benef\\u00edcio_pagamento\",\"62_reintegra\\u00e7\\u00e3o_posse_causa\",\"64_condena\\u00e7\\u00f5es_atualiza\\u00e7\\u00e3o_...\",\"7_inicial_processo_extin\\u00e7\\u00e3o\",\"8_extin\\u00e7\\u00e3o_processo_m\\u00e9rito\",\"21_comparecer_realiza\\u00e7\\u00e3o_ex...\",\"28_extin\\u00e7\\u00e3o_feito_inicial\",\"37_dilig\\u00eancia_inicial_julga...\",\"40_processo_peti\\u00e7\\u00e3o_inicial\",\"43_processo_coisa_julgada\",\"44_celeridade_dilig\\u00eancia_pr...\",\"60_peti\\u00e7\\u00e3o_inicial_cumprir\",\"9_aposentadoria_especial_ex...\",\"19_f\\u00e9rias_contribui\\u00e7\\u00e3o_ter\\u00e7o\",\"50_benef\\u00edcios_teto_benef\\u00edcio\",\"10_doen\\u00e7a_invalidez_aux\\u00edlio\",\"11_incapacidade_doen\\u00e7a_aux\\u00ed...\",\"24_incapacidade_doen\\u00e7a_inva...\",\"51_doen\\u00e7a_aux\\u00edlio_invalidez\",\"52_doen\\u00e7a_aux\\u00edlio_servidores\",\"66_incapacidade_doen\\u00e7a_prov...\",\"13_pens\\u00e3o_morte_\\u00f3bito\",\"35_servidores_desempenho_gr...\",\"14_fam\\u00edlia_defici\\u00eancia_renda\",\"42_defici\\u00eancia_assistencial...\",\"58_defici\\u00eancia_assistencial...\",\"15_defeso_seguro_pesca\",\"16_servidores_revis\\u00e3o_geral\",\"17_empr\\u00e9stimo_institui\\u00e7\\u00e3o_d...\",\"34_benef\\u00edcios_sal\\u00e1rios_cont...\",\"18_trabalho_incapacidade_inss\",\"20_periciado_assistencial_e...\",\"22_interesse_preliminar_pro...\",\"59_promovente_familiar_renda\",\"26_doen\\u00e7a_aux\\u00edlio_segurado\",\"29_incapacidade_aux\\u00edlio_doe...\",\"31_incapacidade_doen\\u00e7a_labo...\",\"38_doen\\u00e7a_aux\\u00edlio_segurado\",\"39_periciado_encontra_exercer\",\"41_segurado_incapacidade_do...\",\"46_aux\\u00edlio_doen\\u00e7a_invalidez\",\"56_doen\\u00e7a_aux\\u00edlio_segurado\",\"57_incapacidade_pessoais_caso\",\"27_segurado_benef\\u00edcio_aux\\u00edlio\",\"63_judicial_incapacidade_deve\",\"30_acordo_homologo_homologa...\",\"54_transporte_raios_servidor\",\"55_transa\\u00e7\\u00e3o_efetivada_homo...\",\"36_peloa_pericial_requerido\",\"47_apesar_juazeiro_nortece\",\"48_concilia\\u00e7\\u00e3o_advertindo_j...\",\"67_acordo_planilha_atrasados\",\"45_transporte_coletivo_serv...\",\"53_horas_noturno_hora\"],\"y\":[\"0_maternidade_segurada_sal\\u00e1...\",\"1_federal_juizado_judici\\u00e1rio\",\"23_audi\\u00eancia_partes_dr\",\"33_partes_audi\\u00eancia_vara\",\"49_judicial_cid_laudo\",\"2_processual_unidade_desenv...\",\"3_audi\\u00eancia_rural_inss\",\"6_danos_caixa_dano\",\"32_mso_font_pessoais\",\"61_anos_rural_prescri\\u00e7\\u00e3o\",\"4_idade_rural_car\\u00eancia\",\"65_rural_idade_car\\u00eancia\",\"5_fgts_corre\\u00e7\\u00e3o_contas\",\"12_reajuste_contas_sobre\",\"25_valor_benef\\u00edcio_pagamento\",\"62_reintegra\\u00e7\\u00e3o_posse_causa\",\"64_condena\\u00e7\\u00f5es_atualiza\\u00e7\\u00e3o_...\",\"7_inicial_processo_extin\\u00e7\\u00e3o\",\"8_extin\\u00e7\\u00e3o_processo_m\\u00e9rito\",\"21_comparecer_realiza\\u00e7\\u00e3o_ex...\",\"28_extin\\u00e7\\u00e3o_feito_inicial\",\"37_dilig\\u00eancia_inicial_julga...\",\"40_processo_peti\\u00e7\\u00e3o_inicial\",\"43_processo_coisa_julgada\",\"44_celeridade_dilig\\u00eancia_pr...\",\"60_peti\\u00e7\\u00e3o_inicial_cumprir\",\"9_aposentadoria_especial_ex...\",\"19_f\\u00e9rias_contribui\\u00e7\\u00e3o_ter\\u00e7o\",\"50_benef\\u00edcios_teto_benef\\u00edcio\",\"10_doen\\u00e7a_invalidez_aux\\u00edlio\",\"11_incapacidade_doen\\u00e7a_aux\\u00ed...\",\"24_incapacidade_doen\\u00e7a_inva...\",\"51_doen\\u00e7a_aux\\u00edlio_invalidez\",\"52_doen\\u00e7a_aux\\u00edlio_servidores\",\"66_incapacidade_doen\\u00e7a_prov...\",\"13_pens\\u00e3o_morte_\\u00f3bito\",\"35_servidores_desempenho_gr...\",\"14_fam\\u00edlia_defici\\u00eancia_renda\",\"42_defici\\u00eancia_assistencial...\",\"58_defici\\u00eancia_assistencial...\",\"15_defeso_seguro_pesca\",\"16_servidores_revis\\u00e3o_geral\",\"17_empr\\u00e9stimo_institui\\u00e7\\u00e3o_d...\",\"34_benef\\u00edcios_sal\\u00e1rios_cont...\",\"18_trabalho_incapacidade_inss\",\"20_periciado_assistencial_e...\",\"22_interesse_preliminar_pro...\",\"59_promovente_familiar_renda\",\"26_doen\\u00e7a_aux\\u00edlio_segurado\",\"29_incapacidade_aux\\u00edlio_doe...\",\"31_incapacidade_doen\\u00e7a_labo...\",\"38_doen\\u00e7a_aux\\u00edlio_segurado\",\"39_periciado_encontra_exercer\",\"41_segurado_incapacidade_do...\",\"46_aux\\u00edlio_doen\\u00e7a_invalidez\",\"56_doen\\u00e7a_aux\\u00edlio_segurado\",\"57_incapacidade_pessoais_caso\",\"27_segurado_benef\\u00edcio_aux\\u00edlio\",\"63_judicial_incapacidade_deve\",\"30_acordo_homologo_homologa...\",\"54_transporte_raios_servidor\",\"55_transa\\u00e7\\u00e3o_efetivada_homo...\",\"36_peloa_pericial_requerido\",\"47_apesar_juazeiro_nortece\",\"48_concilia\\u00e7\\u00e3o_advertindo_j...\",\"67_acordo_planilha_atrasados\",\"45_transporte_coletivo_serv...\",\"53_horas_noturno_hora\"],\"z\":[[1.0000000000000004,0.7900253993905221,0.7571993988213013,0.7750603607910564,0.775127904933516,0.832496016491798,0.8348820345672863,0.7830549029742934,0.7871326558212998,0.8549021502028709,0.8606898115275112,0.8641041713047304,0.7916321757346912,0.7875054785265175,0.8040693612507447,0.7796302158237101,0.7840067977657179,0.7866957357899179,0.763412982280506,0.81827905632934,0.7916891874681348,0.7961162608802312,0.8042295956417341,0.7921682565318073,0.8030601244535001,0.7953722977359363,0.8317094293075434,0.8304404808558621,0.8299238310012634,0.7872711617293967,0.8050568475626254,0.7978140794499383,0.8067488039927455,0.7963552490540157,0.8117871837596058,0.8016157859153304,0.7668248955364524,0.8511153905132915,0.8519516161756967,0.8522693014290834,0.740017002788026,0.7539990914185867,0.7544953810952886,0.7757505942926143,0.8398070550799982,0.8385936798316244,0.8238428357290077,0.8592748313622097,0.8018704599896473,0.8190409564256204,0.8319479328572985,0.8025237119033152,0.8120350624673753,0.8379655268881695,0.8064782120364107,0.8242802913474654,0.8076193461298301,0.8205531305322427,0.7883402111515521,0.7789388520634228,0.7646125056242078,0.7952689391055654,0.8192908333385163,0.7872167020560588,0.780374378456036,0.8085072437546396,0.7170351871222413,0.7310701878719156],[0.7900253993905221,0.9999999999999991,0.8405026874591914,0.9365001808438964,0.9375203956987788,0.8618835561280622,0.8861753478832719,0.8545424960026111,0.8403217712357738,0.8426526389740059,0.792727325206416,0.8082152107730358,0.8597673331000213,0.8969168849639355,0.8806751055930118,0.8572262387825214,0.880533240328343,0.8781299572987443,0.8495845464283378,0.8738976269727646,0.8604411449424616,0.8695603325142027,0.8727011687966668,0.8974379338968879,0.8716144562859427,0.8721950471747043,0.8537288309671451,0.848335106108323,0.8618309928760601,0.8319054983986194,0.8583648878874038,0.8239837960493287,0.8435231091810378,0.8332894323730686,0.8451681036392391,0.8046148236643287,0.8081237782225552,0.8513555918027229,0.8419491096332151,0.8696260109008271,0.8123661594011746,0.8480321027577358,0.7942445210135269,0.7807096964885392,0.9052725014182521,0.8882979589234745,0.9061912866565687,0.879878180242698,0.8629697569093684,0.8804553823815862,0.862483698855092,0.8635519493698517,0.8688670897322355,0.8661403709403006,0.8649138975789605,0.8666852009867614,0.8587913969225467,0.9187058297191955,0.9193826347870733,0.8617069028267705,0.8548180463949153,0.8515714511974546,0.8464262271289975,0.8536189911416059,0.8764035934808555,0.8493486314980113,0.7718171905426371,0.7457479589769171],[0.7571993988213013,0.8405026874591914,1.0000000000000002,0.9296770412996633,0.8857408617924603,0.8504190716921944,0.9136562010360264,0.8318960382680503,0.8755152438129012,0.8581823276262557,0.765971951063074,0.8002842131533601,0.8400548084314594,0.8415534284134993,0.8821502232274717,0.8275042484195302,0.830626985809293,0.830603162361959,0.8361926880874944,0.8795503309967168,0.8413760857964204,0.8688126777190557,0.8554637249074901,0.876098451420604,0.8662047359952383,0.8488285952964758,0.8366234705475848,0.8467666085825094,0.8244017801287957,0.778724947505653,0.8168040231475993,0.785287811842821,0.7991356808465944,0.8157750055455688,0.7986357608700954,0.7744842369229841,0.7907350992145409,0.8593261941858704,0.8395795317366781,0.857448376647046,0.7962350801332028,0.7931167712506408,0.7378958101673588,0.7337500926286447,0.8453806673525148,0.87156147440275,0.8610449258936669,0.8681855589501207,0.8422581300524521,0.8451512759589639,0.8382628821472129,0.8426772291506615,0.8660694015054913,0.8367089178999498,0.8320464152315812,0.8469063488809356,0.8532382590922261,0.8457633008910606,0.8590301208173863,0.8695111700448825,0.828748977718009,0.8666509060215584,0.864567999760816,0.8850120070236024,0.8750660387392408,0.8929878929873344,0.7600827430686761,0.7803308403413776],[0.7750603607910564,0.9365001808438964,0.9296770412996633,0.9999999999999996,0.9457241521492818,0.8705862992785134,0.9300763152761922,0.8542179243512773,0.8545830501104121,0.8488698956427732,0.7836608537728409,0.810784070929292,0.8680560801649189,0.8876949533104059,0.8973244051838244,0.872713604153271,0.8776257387132296,0.8689523847654504,0.869791410021655,0.8840271267415554,0.8712022246836633,0.8817537631296143,0.8727596981092389,0.906723333690646,0.8841100431051956,0.8676673430017686,0.8381989198002523,0.862788512645632,0.843570541426027,0.7679798286263797,0.8113730285385148,0.7743802449578588,0.7841922100006881,0.7986898872827173,0.7962550970112443,0.7924474192244476,0.7984336442345369,0.8476782545004187,0.829046452719918,0.8526783542250342,0.8189036563598046,0.8308291462745566,0.7889434406538038,0.759928160018882,0.877844003365656,0.8770650296112048,0.8806676775696848,0.8680681304527094,0.8195494499675091,0.8424400137978192,0.8257074383152562,0.828935113774043,0.8396849788978984,0.8267678199170233,0.8222453746908105,0.830015291790565,0.8390077347869265,0.8800758611010239,0.899794562615246,0.895745924068073,0.8617318003444183,0.8824218288656296,0.8479629995234379,0.8924133407484499,0.9059383882687984,0.8988734170746697,0.7751714384963891,0.7915914463869382],[0.775127904933516,0.9375203956987788,0.8857408617924603,0.9457241521492818,1.0000000000000004,0.8578679925829669,0.8736164512485376,0.8625985611143916,0.8399672312629298,0.8539214999270206,0.77288800546001,0.8041906536798279,0.876085767991599,0.8939425844130693,0.8704565051244335,0.8616905329543865,0.8806574983553099,0.87621304485202,0.8561747367690858,0.8805447846035217,0.8637020389682788,0.9075829444126873,0.8839500954395306,0.9081558350086116,0.8984220827124516,0.8751732979749347,0.8328938749417821,0.8433295527227118,0.8252190065063845,0.7830398975979797,0.824803465738924,0.7890075190432809,0.7966688386216532,0.8083995683084155,0.8114917281094582,0.7929026330524811,0.7664275750933359,0.8402076894204433,0.825439094808416,0.8569159562840407,0.8345709092242599,0.8095980486999135,0.7732818471652416,0.7444739155811372,0.8710080436703451,0.8857471545185296,0.8816258874020848,0.8627610255457434,0.8375861680735925,0.8476799203192515,0.827077095887437,0.8456183058601212,0.8654341304109243,0.8252505414556432,0.827639747659395,0.8364599246723928,0.8518544420614083,0.8883837972299915,0.9276678362893387,0.9064357327463184,0.8658367536235847,0.8918553664352914,0.8818385515139235,0.8852231662183558,0.9014933584914278,0.9004763821480022,0.7827890115565801,0.7604181117417708],[0.832496016491798,0.8618835561280622,0.8504190716921944,0.8705862992785134,0.8578679925829669,1.0000000000000002,0.8940189956027418,0.8615703371575157,0.8682781051674653,0.8689344951975904,0.832972825346069,0.8520761103582771,0.8604428495587002,0.9027453619133217,0.8731238681681183,0.8631840581671849,0.8294861844983307,0.884841977660638,0.8803459642939422,0.9040373342278609,0.9119196191916528,0.8990339703540218,0.9002828451895888,0.9175337434094764,0.9271335374307923,0.8792333534921043,0.9081819320101667,0.8759400960718884,0.8585508192589212,0.8194820234355695,0.8392106668955626,0.8326898119494472,0.8373332288715417,0.841193977842424,0.8373636226110481,0.8216752684307489,0.8475822682997336,0.8682221289659305,0.839040123575379,0.8767035890382977,0.812411110623159,0.849849653262104,0.7646044891527412,0.7810990467065246,0.9092430033019702,0.916528404610341,0.9072571631717457,0.8953426203931985,0.8327865694316532,0.8655855706753885,0.8717415516742428,0.8489220986929901,0.8993711562521511,0.880087578992901,0.845342784352556,0.8687959515234762,0.8651305009249395,0.8441246760140231,0.8691776583165377,0.8913402761350955,0.8555299208894305,0.8983121657077082,0.8895453807348612,0.87884019108243,0.862781969628742,0.8802169438739649,0.7851665136228043,0.8024168770779705],[0.8348820345672863,0.8861753478832719,0.9136562010360264,0.9300763152761922,0.8736164512485376,0.8940189956027418,0.9999999999999996,0.8596751314355645,0.875613910217364,0.8944542095414547,0.8647347406080165,0.8858359519878504,0.8755949239256542,0.8903779557280935,0.90053304083562,0.8509230661978946,0.8519911305247174,0.8482669046931741,0.8373891459672926,0.8968995595248611,0.8641846344846768,0.8468611427882184,0.864150570660122,0.8874524604521592,0.8647838219229542,0.8668142781747683,0.8785397117945314,0.8845117925182273,0.8567170439007181,0.779951831023175,0.8149103495470731,0.7916114635011837,0.8056967793465595,0.8173677303921821,0.8104841731841367,0.7894228499047716,0.8314445023132101,0.8804142617834392,0.849273954291592,0.8702663343335314,0.8125437198436418,0.8586451299612523,0.793418590780024,0.779285277332298,0.9007866534612745,0.8842851171488635,0.8870775045566482,0.8960991452328706,0.8221207378097635,0.8508740286997054,0.8382353763827657,0.8281261866221756,0.8538546388094531,0.853559416676884,0.8264195962088032,0.8482131594833716,0.8522801086899081,0.8527553886354247,0.852185172604253,0.8669662775181924,0.8503698422320467,0.8711919023870536,0.8763312590335691,0.8745174645587255,0.8490839413477125,0.8874841025476212,0.7929869318006603,0.813904117433506],[0.7830549029742934,0.8545424960026111,0.8318960382680503,0.8542179243512773,0.8625985611143916,0.8615703371575157,0.8596751314355645,1.0000000000000007,0.8680685095716554,0.8622530960912176,0.7968226554931221,0.8128455545822769,0.8843763216827607,0.8834796380403217,0.9155321051256233,0.8853787528044565,0.8496339593864626,0.8465880223734858,0.8364229680325099,0.8792319275961278,0.87442930512034,0.8628437693147689,0.8798852679729708,0.8975470459795505,0.891064767300755,0.8704370729038773,0.8842681211662751,0.8782086723087322,0.8951779515623899,0.8255068585255336,0.8650055844896578,0.8427283299110021,0.849582628053637,0.8432049876753462,0.857446836537491,0.826265596943442,0.8130265854926287,0.8659884193651571,0.8566616888574844,0.874491197284056,0.8250775977459244,0.8201245570954138,0.7990233384853405,0.8188136713804612,0.9041335020694796,0.9187934790096872,0.9001218381135959,0.9015218581686097,0.8760998202321697,0.8980528761701716,0.8871555141638703,0.8766807295702002,0.8792836546565561,0.872352509660977,0.8893607430611392,0.8896258596982701,0.8836450788353505,0.8921924285069762,0.8544904880561857,0.8792349815300591,0.8691455320690544,0.8884956742415777,0.885335513278328,0.8781203605744704,0.8640502243390876,0.8916839429891735,0.8141960771722285,0.7807861981400468],[0.7871326558212998,0.8403217712357738,0.8755152438129012,0.8545830501104121,0.8399672312629298,0.8682781051674653,0.875613910217364,0.8680685095716554,0.9999999999999996,0.8694368221170112,0.814317877393425,0.8340435380440072,0.8724311838297396,0.8632241351342668,0.8816882390540726,0.8376027509268147,0.8419860531225393,0.8416460958166803,0.8365445123912377,0.8851651229461415,0.8630955509755096,0.8547327588353313,0.8730648353899171,0.8765597925157054,0.8666091584348246,0.878559385419305,0.8801403630369847,0.8491346777431789,0.8634791201879022,0.8460627773452722,0.8705448325986778,0.842958914851309,0.8552952352983638,0.8677729269974779,0.8675154501526592,0.8007475029159529,0.8383200379400617,0.8996361716789939,0.8777861956081509,0.9042263392031051,0.8136687164124516,0.8165288856702402,0.7840160314968858,0.7772522566575397,0.8978752573848914,0.8957507179957642,0.8744257326894704,0.9014081249927979,0.8736652329268204,0.8865970537556288,0.8963070143853717,0.8672610975942339,0.8878639158728577,0.8808848376332987,0.8842639377529857,0.8892387312189174,0.917612887589832,0.8528337681491973,0.8691249171102888,0.8742261669975948,0.8556302364313844,0.8817404795424242,0.8791076258019315,0.8737857026154187,0.8445192279226582,0.8739616508937809,0.7944220141837226,0.7800140386016388],[0.8549021502028709,0.8426526389740059,0.8581823276262557,0.8488698956427732,0.8539214999270206,0.8689344951975904,0.8944542095414547,0.8622530960912176,0.8694368221170112,0.9999999999999993,0.9195574710445313,0.9435196864648756,0.872545994824707,0.8687866659164217,0.8499318360596827,0.844840363422093,0.8666544852813385,0.859922291798466,0.8356139316846888,0.8745485424396859,0.8635412954428334,0.8676586287141016,0.8637858493263687,0.8633597261561572,0.8835552834000661,0.8661247910768259,0.8900123299872582,0.8841641154882081,0.8597138564062456,0.8484289405754063,0.8690168912288421,0.848336900526543,0.8629440406456906,0.8775502259378888,0.8687520724523287,0.8574774494898388,0.8321242032345028,0.9165822005968179,0.8784939065587756,0.8969212484509326,0.8512417302713018,0.82046745122333,0.7749832674749741,0.7664538013663318,0.8916276927355385,0.9126029926181427,0.8766830953947504,0.9092454298754903,0.8746085700267613,0.8732897579973362,0.884279602289519,0.8693188193022137,0.8946398444108828,0.8849641986989942,0.8602067968253588,0.8951521099229938,0.8889298610362172,0.8581879329665685,0.8595462110479308,0.8761126628014202,0.8396116017635684,0.8784963799935213,0.9021226458685498,0.890624884046255,0.8670280068064942,0.9045336343694337,0.7870930487830339,0.8301303593628069],[0.8606898115275112,0.792727325206416,0.765971951063074,0.7836608537728409,0.77288800546001,0.832972825346069,0.8647347406080165,0.7968226554931221,0.814317877393425,0.9195574710445313,1.000000000000001,0.9811963876850254,0.8243982466176211,0.8165363411890844,0.8200039821994735,0.8153450725208015,0.8035139417548272,0.8069478397219849,0.7967603719392626,0.8425848821518267,0.8240939233564286,0.7895814441531311,0.8144802045584552,0.806146905000847,0.8153915091894608,0.8073987091334983,0.891370996473232,0.8366387968526613,0.8396325189856454,0.8252486914558934,0.8270655536646427,0.8258049191662971,0.8343133595755645,0.8383513010265737,0.8334834869896448,0.8401843845501522,0.8374463511358352,0.872830215201285,0.8344603839730569,0.8514120356024364,0.7792748045610594,0.7892677073201271,0.7651003432019324,0.7664393334305106,0.8738241090844442,0.8558746547210183,0.8378610995205885,0.8628048432702187,0.7965873606096281,0.8305040120193629,0.8521813198595385,0.804132461435842,0.8214268045472009,0.8755443619132754,0.8111881386156093,0.8427921723095877,0.8287969519997523,0.8098815917274322,0.8030183067726633,0.7904126650733619,0.7902265723403386,0.8008559990113632,0.8199796346508159,0.7969324976788699,0.7796817795869666,0.8210506942048164,0.7397224414161881,0.8023054817055815],[0.8641041713047304,0.8082152107730358,0.8002842131533601,0.810784070929292,0.8041906536798279,0.8520761103582771,0.8858359519878504,0.8128455545822769,0.8340435380440072,0.9435196864648756,0.9811963876850254,1.0000000000000004,0.8331834109941822,0.8319905990833323,0.8316584463838058,0.8227328871564978,0.8128100069866622,0.8319692646860468,0.8191653413559425,0.8653901842661755,0.8490380020967917,0.8276422247782231,0.8446375452899286,0.8347116414705924,0.8513032492727537,0.8372756599755371,0.8856088518546468,0.8461772496008853,0.8308882994203848,0.8214658834452558,0.8353600197934006,0.8287629631327031,0.8428306810683327,0.8458456097279876,0.8392950797465544,0.8198374407049829,0.8278883080380548,0.8901401845200616,0.8508224289939936,0.8674930964412586,0.8068438018164432,0.793908768914348,0.755905011412049,0.7367636898371086,0.8854147414744928,0.8813941921864177,0.8602093264744375,0.8789908708564906,0.8205159893554899,0.8516094077585413,0.8612595419986258,0.8281041057534375,0.8557720633610466,0.8755433124294247,0.8179871548011293,0.8666460968235206,0.8558433029139293,0.8213424324482792,0.8306282182278701,0.8235362244084812,0.8084461290893499,0.8298609173058118,0.8550004929100639,0.8342358895032335,0.8164875195590678,0.854202547596034,0.7717732115058724,0.8330834953916825],[0.7916321757346912,0.8597673331000213,0.8400548084314594,0.8680560801649189,0.876085767991599,0.8604428495587002,0.8755949239256542,0.8843763216827607,0.8724311838297396,0.872545994824707,0.8243982466176211,0.8331834109941822,0.9999999999999998,0.9528313908498289,0.914483301122675,0.8923602059204496,0.9253213572152496,0.8689307149139183,0.8418523427355041,0.870199661136586,0.8795478137718007,0.8767669410170973,0.8875580571087573,0.9043801386445633,0.8799142864316594,0.882021579806499,0.8833603394498667,0.8801340188884182,0.8731053305796692,0.8038905509084474,0.826128710141944,0.8067624493921024,0.8109757108516708,0.8220170209088009,0.82559970864615,0.8137156283633904,0.8549572243455124,0.8524762824525078,0.8142103935611888,0.8515690621163419,0.8303281733403849,0.8638416944500156,0.8779766732301193,0.8636887348435274,0.8858611844122133,0.8824422094865649,0.8805598041453274,0.882204920368213,0.8272220516192457,0.8535610402047715,0.8484937075235002,0.8452582131486899,0.8529193185247341,0.8443978168554288,0.8434147951019463,0.8467620386349227,0.840018703847083,0.8527499824595993,0.8500124302071772,0.8736748215608352,0.8666637709996253,0.9117612660537739,0.86831853183326,0.8642477839061572,0.8352279583026057,0.9058337543310975,0.798760564413656,0.7680081060871461],[0.7875054785265175,0.8969168849639355,0.8415534284134993,0.8876949533104059,0.8939425844130693,0.9027453619133217,0.8903779557280935,0.8834796380403217,0.8632241351342668,0.8687866659164217,0.8165363411890844,0.8319905990833323,0.9528313908498289,0.9999999999999989,0.8997614111999049,0.8878261408771977,0.8991605616884906,0.8927945410164286,0.8586446088907211,0.8766017534695247,0.9087447753208346,0.8861185618109215,0.8965216889375341,0.9365738300921995,0.8968927829193862,0.8841604180272217,0.8929398082413367,0.8789907774827526,0.8646749646642542,0.8077535551590438,0.8281198283651181,0.8158762473829997,0.8227647005149237,0.8228610341083253,0.8221334217831975,0.800336238786606,0.843155875165478,0.841443202882071,0.811298028931603,0.855468594713188,0.8179950600217409,0.8938920972534715,0.8201709139525006,0.8491104044619124,0.9073126386895909,0.8920489825807572,0.8993406366116614,0.8791963031698784,0.831129689412833,0.860984264415821,0.8487431136417702,0.8535882235324421,0.8755756557987107,0.8507222341358036,0.8380474890048037,0.8534502494065861,0.8413627545267388,0.8599122058541371,0.8724582773463283,0.8888067966438956,0.8744296089879591,0.9082477876121218,0.877775732683768,0.8706592871416834,0.8377749214782708,0.8961173034850332,0.8171207225835679,0.7856185834919431],[0.8040693612507447,0.8806751055930118,0.8821502232274717,0.8973244051838244,0.8704565051244335,0.8731238681681183,0.90053304083562,0.9155321051256233,0.8816882390540726,0.8499318360596827,0.8200039821994735,0.8316584463838058,0.914483301122675,0.8997614111999049,1.000000000000001,0.9026631340128947,0.8977520465305122,0.8796708621552859,0.8643990991166421,0.9028398098412124,0.8908531702237604,0.8590805546342831,0.894250304638467,0.9108271222386124,0.8758508346903542,0.8804608799772213,0.8925645073054411,0.9054089662562868,0.9311864064033535,0.8142839837029423,0.8476388017458605,0.812826719446547,0.8365093415020379,0.8337307555075177,0.8324633947949786,0.8153722931068564,0.8602775945376748,0.8679217665118393,0.8501378327934539,0.8755708531949452,0.797897364049559,0.8721867381340824,0.8833148960997932,0.883779948741092,0.9000587462593099,0.9069727570506722,0.9135119973491617,0.9064808953524957,0.8433181259547742,0.9041478706752628,0.8777914292535774,0.8564499276079206,0.8480911566679323,0.8698478257693463,0.8854209055151725,0.8716480128751145,0.8700077533178837,0.8980538071788664,0.8583226114779066,0.8639016256727652,0.8745778559855153,0.8929908046357561,0.847165891022809,0.8491408045944135,0.842978399861416,0.8684799882846813,0.8167599660564092,0.7670491134934493],[0.7796302158237101,0.8572262387825214,0.8275042484195302,0.872713604153271,0.8616905329543865,0.8631840581671849,0.8509230661978946,0.8853787528044565,0.8376027509268147,0.844840363422093,0.8153450725208015,0.8227328871564978,0.8923602059204496,0.8878261408771977,0.9026631340128947,0.9999999999999996,0.8731456147402916,0.869789408996424,0.8806187535601169,0.8871360983840009,0.9032281161387069,0.8657930182400458,0.8922898001546472,0.9004419330972289,0.868688645734194,0.8753043847503197,0.8672510632158016,0.869698393608562,0.884007849323281,0.8178386848982141,0.8310026254100193,0.8366905191136595,0.8183039817392737,0.8114447328136463,0.8217763723752655,0.8040745830480466,0.8149850105385817,0.852509994802619,0.8369138563747263,0.859250386667936,0.7926982364106147,0.8158800715699124,0.824598204544414,0.8591725581006472,0.8853734628908101,0.8831768037697469,0.8805412620328444,0.8823450589916039,0.8237239778627068,0.862154754715384,0.8631671967642456,0.8609847036367049,0.8360561648765054,0.845370748226924,0.8503490857480106,0.8457469098076007,0.8492439920539219,0.8738100799248671,0.8513495604788937,0.8689575157254168,0.8410724445699242,0.8681913323360725,0.8476014819465946,0.8649103013121082,0.8525212024701172,0.8657559953562175,0.8071459466138308,0.7641259470126126],[0.7840067977657179,0.880533240328343,0.830626985809293,0.8776257387132296,0.8806574983553099,0.8294861844983307,0.8519911305247174,0.8496339593864626,0.8419860531225393,0.8666544852813385,0.8035139417548272,0.8128100069866622,0.9253213572152496,0.8991605616884906,0.8977520465305122,0.8731456147402916,0.9999999999999996,0.885231407976343,0.8609904525266663,0.8550754452462164,0.8714687612304239,0.8581266120695242,0.8610684110929488,0.8868878505063595,0.8537885061498377,0.8700572243820857,0.8411109095868394,0.8482851439286814,0.8535431508568303,0.807654804088453,0.8348333725806938,0.8059809220049838,0.8128545118571691,0.8170375922126716,0.8268528535142098,0.8015976986151749,0.8048043014368458,0.8430411405111313,0.813686725147871,0.8441557332268809,0.8153103364460831,0.8309802235255719,0.8454312709796812,0.8507750295117105,0.8462067609641517,0.8550485060567254,0.8685892080072443,0.8615702731095034,0.8338568826042447,0.8582719545324301,0.8448651760647945,0.8469465506816771,0.8223509724540592,0.8361133929024662,0.8438379647734537,0.8442681052858996,0.845669044548182,0.8792445173829742,0.86860961235011,0.8545743239872032,0.8287642451061602,0.8621072723730219,0.8151694352703347,0.8425391916155447,0.8355030980926137,0.8561069898703287,0.7386896440344278,0.7567178100596803],[0.7866957357899179,0.8781299572987443,0.830603162361959,0.8689523847654504,0.87621304485202,0.884841977660638,0.8482669046931741,0.8465880223734858,0.8416460958166803,0.859922291798466,0.8069478397219849,0.8319692646860468,0.8689307149139183,0.8927945410164286,0.8796708621552859,0.869789408996424,0.885231407976343,1.0000000000000002,0.937071435803919,0.9124921129128234,0.9629450756491353,0.9218981618913906,0.948099957099918,0.9121933241398952,0.9196621764000019,0.9508016804298786,0.851952460066777,0.857438901031654,0.829577605098839,0.8355030248717918,0.8640400331735095,0.8359363512428581,0.8395082419292925,0.8345052014981569,0.8615599073921938,0.8213943028401616,0.8049665303861662,0.8423674209684107,0.8316355282855126,0.8655258000268194,0.7924460993288664,0.8156408216220005,0.780164992806919,0.7766215304894555,0.8857125794563361,0.893828400437721,0.9096746090228989,0.8670809374802422,0.8537389531062749,0.8835639954870017,0.8739137374132263,0.8576008823726435,0.8624588611690985,0.8582299819148893,0.8611824695276271,0.8626456497748388,0.8713295984850128,0.8882245742640114,0.9049013412239046,0.8632200080660881,0.8310176828701394,0.8590555137086874,0.8518717560529421,0.8480216451522681,0.8777878764378237,0.8601213471295998,0.7642098630674399,0.7658153507931564],[0.763412982280506,0.8495845464283378,0.8361926880874944,0.869791410021655,0.8561747367690858,0.8803459642939422,0.8373891459672926,0.8364229680325099,0.8365445123912377,0.8356139316846888,0.7967603719392626,0.8191653413559425,0.8418523427355041,0.8586446088907211,0.8643990991166421,0.8806187535601169,0.8609904525266663,0.937071435803919,1.0,0.9215916859089928,0.9618924996072766,0.9347050035678641,0.9042058152123484,0.9224488392223655,0.923308491943418,0.8887131019946375,0.8316449084132569,0.8158652510664608,0.8086470802005651,0.8174228662666383,0.855269549214658,0.8356466345265432,0.8239987424328487,0.8296385022730145,0.8467961505082143,0.8120122076343017,0.8090005794773172,0.8343931581492559,0.8198827443525577,0.864573124939837,0.7964015338288353,0.7845912187621085,0.7353527849177469,0.7461721199582158,0.8661341090439088,0.8882636290796351,0.8865160791594386,0.84907236136533,0.8483931461345247,0.8705917830803058,0.8775690243472243,0.8565932238891634,0.8496743500362265,0.8526277176717814,0.8517243698078405,0.8505834415305625,0.8715759051992805,0.8637314874660983,0.8904524394151745,0.8642075770285356,0.8258224162231491,0.8524783835309608,0.8452010957207693,0.8841790406570489,0.8792927129532062,0.8453652633409904,0.7573913506120259,0.7876246293917104],[0.81827905632934,0.8738976269727646,0.8795503309967168,0.8840271267415554,0.8805447846035217,0.9040373342278609,0.8968995595248611,0.8792319275961278,0.8851651229461415,0.8745485424396859,0.8425848821518267,0.8653901842661755,0.870199661136586,0.8766017534695247,0.9028398098412124,0.8871360983840009,0.8550754452462164,0.9124921129128234,0.9215916859089928,0.9999999999999998,0.9257817740673104,0.9154336184268845,0.9282812448399205,0.9221170295188649,0.9193753283079062,0.9160452986904134,0.8867274019614988,0.8756030445021201,0.8683804796035467,0.8325615016575357,0.8633459414565909,0.8503460166848977,0.8481084318484362,0.8396552301251691,0.8586124449048845,0.8155108094771665,0.8456933999856517,0.8707418757630445,0.8561818536440269,0.8930629256881547,0.8266664833961039,0.8135383517618975,0.788661411632362,0.8065130704549518,0.9028291654393742,0.9234049678232581,0.9163122772875876,0.905465091222289,0.8628983910421923,0.8894861496341377,0.898298272768411,0.8715732250235089,0.8988924158560914,0.8739560874718477,0.8798835150540569,0.8801711051043748,0.8838333076727241,0.8818374789188138,0.8948129458409577,0.8784497726860462,0.8497384366575826,0.889360692694114,0.8860788507134806,0.8965148071599192,0.8955074801883547,0.8889332293389007,0.7920137375171682,0.7856004458936845],[0.7916891874681348,0.8604411449424616,0.8413760857964204,0.8712022246836633,0.8637020389682788,0.9119196191916528,0.8641846344846768,0.87442930512034,0.8630955509755096,0.8635412954428334,0.8240939233564286,0.8490380020967917,0.8795478137718007,0.9087447753208346,0.8908531702237604,0.9032281161387069,0.8714687612304239,0.9629450756491353,0.9618924996072766,0.9257817740673104,0.9999999999999991,0.9232385080295429,0.9452936947829926,0.9544047172155765,0.9390471702651526,0.9362763994888246,0.8815231735546736,0.8601163750177798,0.8399342924462563,0.8295310242218381,0.8611274472466752,0.8520999097974731,0.8459254284013826,0.8439833763443609,0.8575948858233129,0.8188425188779017,0.836741974714539,0.8503274604262525,0.8362475630786239,0.876941167213759,0.8095858531373441,0.8244611512918036,0.7705612682980829,0.7813152395909173,0.8962960642788561,0.9124204344324434,0.9185620633447904,0.8765445868645974,0.8529898002986703,0.8911255199110719,0.8854517451000385,0.867006210681738,0.8766900117451183,0.8740481356633794,0.8619919663481159,0.8700291090399521,0.8790117916028158,0.8732548179865692,0.8887407513750495,0.8850436553191606,0.8595892892075053,0.884075155255813,0.8704343207483678,0.889234034678708,0.8682770138095431,0.878532859744956,0.7982879142498337,0.7986592144796344],[0.7961162608802312,0.8695603325142027,0.8688126777190557,0.8817537631296143,0.9075829444126873,0.8990339703540218,0.8468611427882184,0.8628437693147689,0.8547327588353313,0.8676586287141016,0.7895814441531311,0.8276422247782231,0.8767669410170973,0.8861185618109215,0.8590805546342831,0.8657930182400458,0.8581266120695242,0.9218981618913906,0.9347050035678641,0.9154336184268845,0.9232385080295429,0.9999999999999998,0.9386883658549184,0.9330146489481034,0.9681191003454392,0.9174185039713725,0.8461482276779235,0.8398575035363622,0.8180565565891034,0.8391521138827667,0.8757135124720088,0.8467187438368073,0.8466866113973966,0.8480889778548206,0.8722425983429489,0.8124934106154538,0.8131442142088654,0.8535863896819587,0.8354683503287335,0.8788159508449351,0.8306470344030956,0.7830987199081043,0.7526660038608636,0.732713306004113,0.889528416782183,0.9206165894349957,0.9194944468289195,0.8727742992439234,0.8801323399684106,0.8877837704203555,0.8893518396352699,0.8815587958393363,0.9082836383868894,0.8628578052927847,0.8738759075806228,0.8782925388120206,0.8911503010257122,0.887685353927821,0.9282684282613709,0.8926869591206044,0.8513648371685003,0.8931421284541954,0.9073211514494031,0.9071434007997918,0.9161425663963523,0.9035772791207146,0.7979431824979564,0.7951992752411823],[0.8042295956417341,0.8727011687966668,0.8554637249074901,0.8727596981092389,0.8839500954395306,0.9002828451895888,0.864150570660122,0.8798852679729708,0.8730648353899171,0.8637858493263687,0.8144802045584552,0.8446375452899286,0.8875580571087573,0.8965216889375341,0.894250304638467,0.8922898001546472,0.8610684110929488,0.948099957099918,0.9042058152123484,0.9282812448399205,0.9452936947829926,0.9386883658549184,0.9999999999999999,0.9414659408849124,0.9399246118601612,0.9706249034207017,0.8780463409703334,0.8685589099144809,0.8529864446109391,0.8395243745201009,0.8712796810143235,0.85372955612806,0.8589243876625082,0.8483317666241876,0.8655444589872748,0.8049283214420445,0.8490207581448361,0.8548419653256967,0.8457589869438102,0.8798815978933723,0.8133155858026831,0.8194880757169566,0.7918226797562574,0.7974202316896071,0.9075541896108357,0.9209973468122792,0.9427942821856253,0.8877944907335449,0.8613652680321969,0.8999640380069125,0.8964801750846239,0.8733794350798556,0.8986771904293799,0.8766575774410359,0.8750019008502286,0.8811814850186609,0.8935488181435395,0.883049723126714,0.9105186964793092,0.8771804740640667,0.8699038344201349,0.8852905536160695,0.89168817596936,0.870037837541229,0.8892901651732915,0.8918353378440758,0.8197318388477102,0.7758903103870309],[0.7921682565318073,0.8974379338968879,0.876098451420604,0.906723333690646,0.9081558350086116,0.9175337434094764,0.8874524604521592,0.8975470459795505,0.8765597925157054,0.8633597261561572,0.806146905000847,0.8347116414705924,0.9043801386445633,0.9365738300921995,0.9108271222386124,0.9004419330972289,0.8868878505063595,0.9121933241398952,0.9224488392223655,0.9221170295188649,0.9544047172155765,0.9330146489481034,0.9414659408849124,0.9999999999999994,0.944248547372091,0.9179219209099139,0.8963335888953264,0.8633408548391425,0.8576295973806545,0.8208657402018836,0.8568196602720519,0.8395487574498195,0.8478052285084677,0.8371931281808112,0.8455771859533624,0.8077822540592273,0.8461179101755749,0.8516061892746509,0.833863789067766,0.883495095415754,0.8344793303013346,0.8328974478628286,0.7815605531843077,0.8055795064558918,0.9015258369189154,0.9227621796602179,0.9427864241858197,0.8867488169814786,0.8574308617048223,0.8929754201091243,0.8836720047926258,0.8710393489139028,0.8985446026476486,0.8772281676472382,0.8664003613168441,0.8761601155478167,0.878082174891405,0.8877126303836991,0.9038258345152117,0.9127842641130666,0.8923446465371443,0.920747990963259,0.8890253244737087,0.9086746596552211,0.8814707811139864,0.8990089518655493,0.8307184105741074,0.8171488098441839],[0.8030601244535001,0.8716144562859427,0.8662047359952383,0.8841100431051956,0.8984220827124516,0.9271335374307923,0.8647838219229542,0.891064767300755,0.8666091584348246,0.8835552834000661,0.8153915091894608,0.8513032492727537,0.8799142864316594,0.8968927829193862,0.8758508346903542,0.868688645734194,0.8537885061498377,0.9196621764000019,0.923308491943418,0.9193753283079062,0.9390471702651526,0.9681191003454392,0.9399246118601612,0.944248547372091,1.0,0.9224495795565728,0.8855100493919383,0.8631714658036973,0.8383419633148783,0.8525243705927051,0.8878602014122516,0.8694488135321372,0.870231338698854,0.8684514585667655,0.8862939302009063,0.8325247583262823,0.8426744620789817,0.8642767730740901,0.848744624820795,0.8929904747407915,0.8446204361155594,0.8038624024468088,0.7633953557368469,0.7502076164339487,0.9091793653344094,0.9459125845997443,0.9310729557681878,0.8824005324178761,0.8836067682661831,0.9065951089121025,0.9028052957918883,0.8909522692316667,0.9272880320309436,0.8930872249591074,0.8799523202838619,0.8957320798503943,0.9024192029025797,0.8798658592644841,0.9245178284594209,0.9066555029543413,0.8685326020393281,0.9064396233986579,0.9208781339298551,0.9168919747204567,0.9183517571124947,0.9177003615451946,0.7987215418704605,0.8173382816933105],[0.7953722977359363,0.8721950471747043,0.8488285952964758,0.8676673430017686,0.8751732979749347,0.8792333534921043,0.8668142781747683,0.8704370729038773,0.878559385419305,0.8661247910768259,0.8073987091334983,0.8372756599755371,0.882021579806499,0.8841604180272217,0.8804608799772213,0.8753043847503197,0.8700572243820857,0.9508016804298786,0.8887131019946375,0.9160452986904134,0.9362763994888246,0.9174185039713725,0.9706249034207017,0.9179219209099139,0.9224495795565728,1.0000000000000004,0.8645499103763079,0.8678203311464436,0.841689496448644,0.8376997493088193,0.8734330309549405,0.8543125799459883,0.8532361076918786,0.8429760173963226,0.8705624485352538,0.7974610205943895,0.8247428095962406,0.866787223323616,0.8589181516263379,0.8855321064991197,0.7968135960519588,0.7982035858578853,0.7838068723689389,0.7825556536229785,0.8990762069201803,0.9069691885269215,0.9192599646162881,0.8897324141775167,0.868543201162622,0.8999142617929234,0.8944665657625586,0.8735490122069896,0.8877005252679613,0.8712511490689162,0.8720604738402855,0.8813698994090666,0.9023410428507156,0.8782591030747211,0.9044137347788439,0.8777975960945347,0.8524969298726889,0.8871537153201574,0.8824915907644337,0.8703560581400087,0.8858309709362672,0.8900296764171403,0.7766306445041438,0.76572594160938],[0.8317094293075434,0.8537288309671451,0.8366234705475848,0.8381989198002523,0.8328938749417821,0.9081819320101667,0.8785397117945314,0.8842681211662751,0.8801403630369847,0.8900123299872582,0.891370996473232,0.8856088518546468,0.8833603394498667,0.8929398082413367,0.8925645073054411,0.8672510632158016,0.8411109095868394,0.851952460066777,0.8316449084132569,0.8867274019614988,0.8815231735546736,0.8461482276779235,0.8780463409703334,0.8963335888953264,0.8855100493919383,0.8645499103763079,1.0000000000000004,0.9090267140814321,0.917471812120345,0.8779630363633738,0.8838728094851758,0.8887764164613052,0.895617928758522,0.8889117528004453,0.8799279255365444,0.8728457631697608,0.9033316112272844,0.8951804155486925,0.8673720318946886,0.8955225240070435,0.8016261339912099,0.863773305259369,0.8089543700968391,0.8620340542468565,0.9319155597702915,0.9316836312274974,0.9093299346598197,0.9230555088443912,0.8563394891003526,0.8954194864132907,0.8967375148287089,0.8755542463268999,0.9053604922080583,0.9365337764495576,0.8765561432245117,0.89909743767946,0.8704299301121059,0.8680903660332504,0.849357883639246,0.8675293600277041,0.8702179668012049,0.8930958579120064,0.8746921627166775,0.8531352356986404,0.835922890204879,0.8855608503114214,0.8136048362348137,0.8184692965182163],[0.8304404808558621,0.848335106108323,0.8467666085825094,0.862788512645632,0.8433295527227118,0.8759400960718884,0.8845117925182273,0.8782086723087322,0.8491346777431789,0.8841641154882081,0.8366387968526613,0.8461772496008853,0.8801340188884182,0.8789907774827526,0.9054089662562868,0.869698393608562,0.8482851439286814,0.857438901031654,0.8158652510664608,0.8756030445021201,0.8601163750177798,0.8398575035363622,0.8685589099144809,0.8633408548391425,0.8631714658036973,0.8678203311464436,0.9090267140814321,1.0000000000000004,0.9165802669234446,0.8331621619444648,0.8545461831194041,0.8362586123786621,0.8492058491259248,0.8703142391387384,0.8503757379363209,0.8465855527435524,0.8749609439573197,0.8820060961306081,0.8678045733990705,0.8798691555145459,0.8052297699766362,0.8882870326536472,0.868737085794189,0.8443697452783957,0.9055290702392811,0.9101155351820602,0.8797474251886339,0.9129370599945451,0.8458808731973467,0.8742115220759077,0.8707953673144175,0.8599461295116381,0.8615004052208033,0.8715118751681106,0.870522929986443,0.8755268069919608,0.8566156104467969,0.8666724301491919,0.8386411307390403,0.861709031012839,0.8908868475468613,0.8909505068019229,0.8765002315486901,0.8654824248570196,0.8410488999590666,0.8980415547479925,0.843486780845309,0.8038143436451727],[0.8299238310012634,0.8618309928760601,0.8244017801287957,0.843570541426027,0.8252190065063845,0.8585508192589212,0.8567170439007181,0.8951779515623899,0.8634791201879022,0.8597138564062456,0.8396325189856454,0.8308882994203848,0.8731053305796692,0.8646749646642542,0.9311864064033535,0.884007849323281,0.8535431508568303,0.829577605098839,0.8086470802005651,0.8683804796035467,0.8399342924462563,0.8180565565891034,0.8529864446109391,0.8576295973806545,0.8383419633148783,0.841689496448644,0.917471812120345,0.9165802669234446,0.9999999999999996,0.8638476367636352,0.8739799252942481,0.8490966781153042,0.873829603410997,0.8566634130709121,0.8632893463728396,0.8601570736260986,0.8661070869432176,0.8895384658884821,0.8741921236177138,0.884463883302637,0.7858386761079375,0.8502740606595134,0.8475502919110802,0.9218395824815901,0.9266772849005351,0.9234070461459545,0.8970192242779694,0.9318923500678794,0.8645863831716394,0.8942804192010827,0.8904472876724758,0.8758643632007361,0.8617582286344616,0.8940565633416996,0.9098096625500698,0.8998045409303903,0.863730967322959,0.9035592764378446,0.8336157239828828,0.8399836705261359,0.8514290519592512,0.8683813826808401,0.8477735477097456,0.8445704105511076,0.8373494330352014,0.8661142320252557,0.7888138875573304,0.751330058374684],[0.7872711617293967,0.8319054983986194,0.778724947505653,0.7679798286263797,0.7830398975979797,0.8194820234355695,0.779951831023175,0.8255068585255336,0.8460627773452722,0.8484289405754063,0.8252486914558934,0.8214658834452558,0.8038905509084474,0.8077535551590438,0.8142839837029423,0.8178386848982141,0.807654804088453,0.8355030248717918,0.8174228662666383,0.8325615016575357,0.8295310242218381,0.8391521138827667,0.8395243745201009,0.8208657402018836,0.8525243705927051,0.8376997493088193,0.8779630363633738,0.8331621619444648,0.8638476367636352,0.9999999999999996,0.9802741608396066,0.9772734091842092,0.9786162290703416,0.9594025978930535,0.9784649229488291,0.8900687476496967,0.8612763583563153,0.903791053521337,0.9050823967076628,0.9133895167530592,0.7622764812300353,0.7840832113656103,0.7355034950644561,0.776325263429819,0.9120652414562735,0.9067741508348286,0.8763420237350963,0.8991462384954625,0.9546679944505243,0.9449280056363465,0.9496540677731085,0.9546741490322326,0.9124220957735807,0.9521155520917086,0.9467620467224549,0.9552221420947635,0.9184784971273623,0.9157959468721747,0.888221328043094,0.7836170168544594,0.7810350616407327,0.7867502095381183,0.8606397390256035,0.8212770569059935,0.8287909340316969,0.8194294211168428,0.7540976350151183,0.7244285175214522],[0.8050568475626254,0.8583648878874038,0.8168040231475993,0.8113730285385148,0.824803465738924,0.8392106668955626,0.8149103495470731,0.8650055844896578,0.8705448325986778,0.8690168912288421,0.8270655536646427,0.8353600197934006,0.826128710141944,0.8281198283651181,0.8476388017458605,0.8310026254100193,0.8348333725806938,0.8640400331735095,0.855269549214658,0.8633459414565909,0.8611274472466752,0.8757135124720088,0.8712796810143235,0.8568196602720519,0.8878602014122516,0.8734330309549405,0.8838728094851758,0.8545461831194041,0.8739799252942481,0.9802741608396066,0.9999999999999998,0.975998586406283,0.9818106306181488,0.9715377630724658,0.9934290949111924,0.8844937876376557,0.8595652518874319,0.9243449052208597,0.9240304096247087,0.9364665891186983,0.7893941615301183,0.7926689166491871,0.7516635019002907,0.7743838006960431,0.9225980180268842,0.9319870141084129,0.9088973435433475,0.9177122135201887,0.9822322691987323,0.9757664658903205,0.972601129371683,0.9632403016632375,0.9247823924738647,0.9659849807153068,0.9698095607350568,0.9755858601662075,0.957048823797567,0.9426400245485469,0.9124478798604367,0.8301341757478577,0.8252146814913393,0.8331245880403353,0.8880082626698765,0.8617454702176544,0.8634922018133172,0.85529880338352,0.786636893982672,0.7494626360043353],[0.7978140794499383,0.8239837960493287,0.785287811842821,0.7743802449578588,0.7890075190432809,0.8326898119494472,0.7916114635011837,0.8427283299110021,0.842958914851309,0.848336900526543,0.8258049191662971,0.8287629631327031,0.8067624493921024,0.8158762473829997,0.812826719446547,0.8366905191136595,0.8059809220049838,0.8359363512428581,0.8356466345265432,0.8503460166848977,0.8520999097974731,0.8467187438368073,0.85372955612806,0.8395487574498195,0.8694488135321372,0.8543125799459883,0.8887764164613052,0.8362586123786621,0.8490966781153042,0.9772734091842092,0.975998586406283,0.9999999999999998,0.978453789257612,0.9579305229657583,0.9755769804661845,0.8649336803310796,0.8576584900783372,0.897736708997934,0.9007632071872171,0.9140784744383816,0.7636627268118954,0.783604184349936,0.719500781578559,0.7814118812130628,0.9178577003754422,0.9070385328175116,0.88036003679802,0.8931870094786863,0.9497162181977536,0.9559667770719233,0.9613133753149044,0.9607772839579622,0.9162749335496294,0.9576880317892255,0.9340925001577485,0.9569368838523782,0.9266385885858757,0.9025400764722099,0.8877520232467275,0.8017917326945656,0.8043332160897327,0.8044236837278322,0.8682085120377906,0.8348117063375899,0.8278482292588748,0.835143662085053,0.772886510769752,0.7452266261130833],[0.8067488039927455,0.8435231091810378,0.7991356808465944,0.7841922100006881,0.7966688386216532,0.8373332288715417,0.8056967793465595,0.849582628053637,0.8552952352983638,0.8629440406456906,0.8343133595755645,0.8428306810683327,0.8109757108516708,0.8227647005149237,0.8365093415020379,0.8183039817392737,0.8128545118571691,0.8395082419292925,0.8239987424328487,0.8481084318484362,0.8459254284013826,0.8466866113973966,0.8589243876625082,0.8478052285084677,0.870231338698854,0.8532361076918786,0.895617928758522,0.8492058491259248,0.873829603410997,0.9786162290703416,0.9818106306181488,0.978453789257612,0.9999999999999994,0.9674611089781411,0.9737745811852941,0.8673032210973779,0.865878439095042,0.905929841277312,0.9039418521325318,0.9189452645793494,0.7749061265144359,0.7934534517227536,0.7319915938417423,0.7843270679136413,0.919946158596604,0.9253057227873731,0.9069175265207552,0.904987498983242,0.9631032163278077,0.9680474090282064,0.9620570227198716,0.9589386628278176,0.9290005005080894,0.9662779822649937,0.9514039464253892,0.9757395158339341,0.9319323179637484,0.917083274827763,0.8761921979211995,0.8106125129680186,0.8132386259656406,0.8177491273452937,0.8802616190351941,0.8349196021423702,0.8358228086196732,0.8422614683741942,0.7833025890500724,0.756594227689729],[0.7963552490540157,0.8332894323730686,0.8157750055455688,0.7986898872827173,0.8083995683084155,0.841193977842424,0.8173677303921821,0.8432049876753462,0.8677729269974779,0.8775502259378888,0.8383513010265737,0.8458456097279876,0.8220170209088009,0.8228610341083253,0.8337307555075177,0.8114447328136463,0.8170375922126716,0.8345052014981569,0.8296385022730145,0.8396552301251691,0.8439833763443609,0.8480889778548206,0.8483317666241876,0.8371931281808112,0.8684514585667655,0.8429760173963226,0.8889117528004453,0.8703142391387384,0.8566634130709121,0.9594025978930535,0.9715377630724658,0.9579305229657583,0.9674611089781411,0.9999999999999998,0.965507676587502,0.8786294692805512,0.9027033460939762,0.9142479545030942,0.9028175127605669,0.9145463708031641,0.7958971816588214,0.8496534477058706,0.7474378658513243,0.7553779340556879,0.9158268345919439,0.9095428201558753,0.887605829936138,0.8976268063365351,0.9526980982598156,0.9504639791694598,0.9478413631940467,0.9448799236844017,0.9093155649403746,0.9527796131863628,0.9393770920851365,0.9568584869674792,0.9366014797664051,0.8987146520460212,0.8840160621666325,0.8254003922779531,0.8414212921317807,0.8337808739853958,0.8842796521945571,0.8472307653880814,0.8332306300552883,0.858146798299364,0.8024309499337647,0.7520774555768216],[0.8117871837596058,0.8451681036392391,0.7986357608700954,0.7962550970112443,0.8114917281094582,0.8373636226110481,0.8104841731841367,0.857446836537491,0.8675154501526592,0.8687520724523287,0.8334834869896448,0.8392950797465544,0.82559970864615,0.8221334217831975,0.8324633947949786,0.8217763723752655,0.8268528535142098,0.8615599073921938,0.8467961505082143,0.8586124449048845,0.8575948858233129,0.8722425983429489,0.8655444589872748,0.8455771859533624,0.8862939302009063,0.8705624485352538,0.8799279255365444,0.8503757379363209,0.8632893463728396,0.9784649229488291,0.9934290949111924,0.9755769804661845,0.9737745811852941,0.965507676587502,1.0000000000000007,0.8863425109037579,0.8567407117373144,0.9204289915345041,0.9187589864481931,0.9320645534254307,0.7888349151527512,0.7869301808923754,0.7473064725199926,0.7686175532023078,0.9207082017745846,0.9269306086749797,0.895744994597064,0.9121506348818005,0.9743480945452239,0.9624804371768394,0.9669579075975542,0.9536589556362403,0.9206310448777995,0.961436044362155,0.9612265771208108,0.9692138357398125,0.9478792318560076,0.9322934420297766,0.9088917772240012,0.8208973717198593,0.8106176846924416,0.8225247049192241,0.8879635898288839,0.858847583597304,0.8552681608307557,0.8537923372325449,0.7738798800095378,0.7507856238482529],[0.8016157859153304,0.8046148236643287,0.7744842369229841,0.7924474192244476,0.7929026330524811,0.8216752684307489,0.7894228499047716,0.826265596943442,0.8007475029159529,0.8574774494898388,0.8401843845501522,0.8198374407049829,0.8137156283633904,0.800336238786606,0.8153722931068564,0.8040745830480466,0.8015976986151749,0.8213943028401616,0.8120122076343017,0.8155108094771665,0.8188425188779017,0.8124934106154538,0.8049283214420445,0.8077822540592273,0.8325247583262823,0.7974610205943895,0.8728457631697608,0.8465855527435524,0.8601570736260986,0.8900687476496967,0.8844937876376557,0.8649336803310796,0.8673032210973779,0.8786294692805512,0.8863425109037579,0.9999999999999998,0.850433311167445,0.8824848111582912,0.8697238524630029,0.8829468121284595,0.7565361632335015,0.779476666084898,0.7532112048975667,0.7789029492732573,0.8778601496713478,0.8848842821764649,0.8419540680071258,0.8898167473216941,0.8524612438743604,0.847829104442239,0.8505622277922513,0.8398982989218223,0.8401683731823636,0.8922941429830615,0.8479038844693136,0.8645913313488681,0.8423148168209781,0.8575344606344204,0.835143386985333,0.8023485023579582,0.783529299628812,0.8016511116209424,0.8264101942483959,0.8175485823433339,0.8264865256262891,0.8253537490842753,0.7184991483160394,0.7345646314664969],[0.7668248955364524,0.8081237782225552,0.7907350992145409,0.7984336442345369,0.7664275750933359,0.8475822682997336,0.8314445023132101,0.8130265854926287,0.8383200379400617,0.8321242032345028,0.8374463511358352,0.8278883080380548,0.8549572243455124,0.843155875165478,0.8602775945376748,0.8149850105385817,0.8048043014368458,0.8049665303861662,0.8090005794773172,0.8456933999856517,0.836741974714539,0.8131442142088654,0.8490207581448361,0.8461179101755749,0.8426744620789817,0.8247428095962406,0.9033316112272844,0.8749609439573197,0.8661070869432176,0.8612763583563153,0.8595652518874319,0.8576584900783372,0.865878439095042,0.9027033460939762,0.8567407117373144,0.850433311167445,1.0,0.8507191632634014,0.828441461631103,0.8550329122875392,0.7690713327436347,0.8963265227079528,0.7944803924351977,0.8178298561830901,0.8935010871547595,0.8773456952998522,0.8731098671202937,0.8632903405065713,0.8202041430801073,0.8608878549642984,0.8691185257450604,0.8368750475588825,0.8481437808520143,0.8878773869492538,0.8560411134348671,0.8606441717216677,0.834082987811831,0.8128246940145526,0.8172190452714853,0.7896706686443333,0.8391208064919629,0.8254372978383168,0.8169730966459108,0.805124523131326,0.7849715776068109,0.8325249172566282,0.7845267321493375,0.755275483118665],[0.8511153905132915,0.8513555918027229,0.8593261941858704,0.8476782545004187,0.8402076894204433,0.8682221289659305,0.8804142617834392,0.8659884193651571,0.8996361716789939,0.9165822005968179,0.872830215201285,0.8901401845200616,0.8524762824525078,0.841443202882071,0.8679217665118393,0.852509994802619,0.8430411405111313,0.8423674209684107,0.8343931581492559,0.8707418757630445,0.8503274604262525,0.8535863896819587,0.8548419653256967,0.8516061892746509,0.8642767730740901,0.866787223323616,0.8951804155486925,0.8820060961306081,0.8895384658884821,0.903791053521337,0.9243449052208597,0.897736708997934,0.905929841277312,0.9142479545030942,0.9204289915345041,0.8824848111582912,0.8507191632634014,1.0,0.974988442057831,0.9716556061922923,0.8171792234816888,0.8030267172625106,0.7804935430045209,0.7783955973208487,0.9162548274487672,0.9276001112398349,0.8768011548299797,0.9689516679213859,0.9238700524609048,0.9176240395851276,0.9208970444613065,0.9107341466295023,0.9059586292878605,0.9238200608670153,0.9126712321311645,0.9360536659001502,0.9360249311920654,0.8967368072722401,0.8822135150415713,0.8661371853784587,0.8230641995965045,0.8672972194864421,0.9053853838062553,0.8925169982039458,0.8687289315333382,0.8881532224084288,0.7966614062121322,0.7873426660233809],[0.8519516161756967,0.8419491096332151,0.8395795317366781,0.829046452719918,0.825439094808416,0.839040123575379,0.849273954291592,0.8566616888574844,0.8777861956081509,0.8784939065587756,0.8344603839730569,0.8508224289939936,0.8142103935611888,0.811298028931603,0.8501378327934539,0.8369138563747263,0.813686725147871,0.8316355282855126,0.8198827443525577,0.8561818536440269,0.8362475630786239,0.8354683503287335,0.8457589869438102,0.833863789067766,0.848744624820795,0.8589181516263379,0.8673720318946886,0.8678045733990705,0.8741921236177138,0.9050823967076628,0.9240304096247087,0.9007632071872171,0.9039418521325318,0.9028175127605669,0.9187589864481931,0.8697238524630029,0.828441461631103,0.974988442057831,0.9999999999999998,0.9818598626077772,0.782477995842483,0.7789109188068162,0.7587514774282711,0.7600963451918266,0.9023999531671472,0.911953788472388,0.8594985976174423,0.9538762387382695,0.9240143580160274,0.9186746555957093,0.9180296014100674,0.9090369654199226,0.8936185421192001,0.908216855792432,0.9079574021848065,0.9275160613313878,0.9328072712841643,0.891946671534942,0.883880253720875,0.8403859250328491,0.8048889333276827,0.8341031108408599,0.8828667527316119,0.863373918023197,0.8592380078436022,0.851346614200936,0.7849865849683324,0.7469211925931749],[0.8522693014290834,0.8696260109008271,0.857448376647046,0.8526783542250342,0.8569159562840407,0.8767035890382977,0.8702663343335314,0.874491197284056,0.9042263392031051,0.8969212484509326,0.8514120356024364,0.8674930964412586,0.8515690621163419,0.855468594713188,0.8755708531949452,0.859250386667936,0.8441557332268809,0.8655258000268194,0.864573124939837,0.8930629256881547,0.876941167213759,0.8788159508449351,0.8798815978933723,0.883495095415754,0.8929904747407915,0.8855321064991197,0.8955225240070435,0.8798691555145459,0.884463883302637,0.9133895167530592,0.9364665891186983,0.9140784744383816,0.9189452645793494,0.9145463708031641,0.9320645534254307,0.8829468121284595,0.8550329122875392,0.9716556061922923,0.9818598626077772,0.9999999999999998,0.8205589360736105,0.7993633220963274,0.7765083476470447,0.787976518163388,0.9182940123656198,0.9402049426131958,0.8916229709227674,0.9583750603033547,0.9295223433596376,0.9341826340043706,0.932963207449294,0.9212609612068836,0.9193108429752679,0.925853106835101,0.9196075879923485,0.936533143183804,0.9482650481419096,0.902953972206812,0.9085839284782413,0.8743874491557954,0.8408780301122738,0.8667265130218514,0.9118904828617166,0.8921629408042061,0.8815564655795651,0.8739166331636041,0.8076518348579105,0.7800900952821738],[0.740017002788026,0.8123661594011746,0.7962350801332028,0.8189036563598046,0.8345709092242599,0.812411110623159,0.8125437198436418,0.8250775977459244,0.8136687164124516,0.8512417302713018,0.7792748045610594,0.8068438018164432,0.8303281733403849,0.8179950600217409,0.797897364049559,0.7926982364106147,0.8153103364460831,0.7924460993288664,0.7964015338288353,0.8266664833961039,0.8095858531373441,0.8306470344030956,0.8133155858026831,0.8344793303013346,0.8446204361155594,0.7968135960519588,0.8016261339912099,0.8052297699766362,0.7858386761079375,0.7622764812300353,0.7893941615301183,0.7636627268118954,0.7749061265144359,0.7958971816588214,0.7888349151527512,0.7565361632335015,0.7690713327436347,0.8171792234816888,0.782477995842483,0.8205589360736105,0.9999999999999988,0.7596282205686227,0.7192140034297952,0.6908416956498461,0.8201841871991941,0.854209050515961,0.8153549808135093,0.8285606734108286,0.8062561074159733,0.7981218518614568,0.8011941852150493,0.8081760637217503,0.8337001786879378,0.7964035723181209,0.7973189468844368,0.8125389258371007,0.8022710247049849,0.806960588277587,0.8234151829316769,0.8392682894980565,0.7857262296248657,0.8337995032450245,0.8437532612560724,0.8509584993037795,0.8265354433985936,0.8648674982797044,0.7439634313875254,0.766565008399217],[0.7539990914185867,0.8480321027577358,0.7931167712506408,0.8308291462745566,0.8095980486999135,0.849849653262104,0.8586451299612523,0.8201245570954138,0.8165288856702402,0.82046745122333,0.7892677073201271,0.793908768914348,0.8638416944500156,0.8938920972534715,0.8721867381340824,0.8158800715699124,0.8309802235255719,0.8156408216220005,0.7845912187621085,0.8135383517618975,0.8244611512918036,0.7830987199081043,0.8194880757169566,0.8328974478628286,0.8038624024468088,0.7982035858578853,0.863773305259369,0.8882870326536472,0.8502740606595134,0.7840832113656103,0.7926689166491871,0.783604184349936,0.7934534517227536,0.8496534477058706,0.7869301808923754,0.779476666084898,0.8963265227079528,0.8030267172625106,0.7789109188068162,0.7993633220963274,0.7596282205686227,1.0,0.8102659117338725,0.8300065422949008,0.889654662933608,0.8277312734472985,0.8448521416697421,0.8380056917108788,0.7838521900993584,0.8233376202240874,0.8119583845074061,0.8078499009689722,0.8131296120826264,0.8264371590343206,0.808552250287238,0.8166946630489376,0.796787716850421,0.81166796315376,0.8120316865838434,0.7994370100563379,0.8501015504082194,0.8268097586034081,0.7937548768224172,0.7862049448512111,0.7549406575565164,0.8181601658181143,0.7938927210254411,0.7200039495077719],[0.7544953810952886,0.7942445210135269,0.7378958101673588,0.7889434406538038,0.7732818471652416,0.7646044891527412,0.793418590780024,0.7990233384853405,0.7840160314968858,0.7749832674749741,0.7651003432019324,0.755905011412049,0.8779766732301193,0.8201709139525006,0.8833148960997932,0.824598204544414,0.8454312709796812,0.780164992806919,0.7353527849177469,0.788661411632362,0.7705612682980829,0.7526660038608636,0.7918226797562574,0.7815605531843077,0.7633953557368469,0.7838068723689389,0.8089543700968391,0.868737085794189,0.8475502919110802,0.7355034950644561,0.7516635019002907,0.719500781578559,0.7319915938417423,0.7474378658513243,0.7473064725199926,0.7532112048975667,0.7944803924351977,0.7804935430045209,0.7587514774282711,0.7765083476470447,0.7192140034297952,0.8102659117338725,1.0000000000000007,0.8312760284904626,0.8103307248356493,0.7936300673646579,0.8104696642060338,0.8149480675845658,0.7292395828977335,0.7848227630543986,0.7810063741749376,0.7516599688051123,0.7366686591311387,0.7536601996103944,0.784311137468382,0.7592581352597196,0.7567755214365013,0.7953423885742595,0.7694340027454634,0.7511104288401287,0.7842324881424635,0.8131055500705631,0.7448738087431448,0.7289700588417969,0.7315667596086702,0.77712538955376,0.7213741991462418,0.6735567637806608],[0.7757505942926143,0.7807096964885392,0.7337500926286447,0.759928160018882,0.7444739155811372,0.7810990467065246,0.779285277332298,0.8188136713804612,0.7772522566575397,0.7664538013663318,0.7664393334305106,0.7367636898371086,0.8636887348435274,0.8491104044619124,0.883779948741092,0.8591725581006472,0.8507750295117105,0.7766215304894555,0.7461721199582158,0.8065130704549518,0.7813152395909173,0.732713306004113,0.7974202316896071,0.8055795064558918,0.7502076164339487,0.7825556536229785,0.8620340542468565,0.8443697452783957,0.9218395824815901,0.776325263429819,0.7743838006960431,0.7814118812130628,0.7843270679136413,0.7553779340556879,0.7686175532023078,0.7789029492732573,0.8178298561830901,0.7783955973208487,0.7600963451918266,0.787976518163388,0.6908416956498461,0.8300065422949008,0.8312760284904626,1.0000000000000007,0.8328123765323685,0.8128365636411848,0.8139814153510084,0.8357802290791502,0.7485445043213281,0.8066324406355674,0.8107734680948998,0.7866764110177246,0.7664708784744751,0.8090711174800278,0.8133374264828939,0.7945043190659103,0.7530526635884229,0.8110222677882828,0.7426337122970382,0.7520308763340787,0.7650958301559801,0.7948172185186787,0.7376944124282022,0.7370554875883488,0.7274327547806614,0.7715898984047338,0.7020689598689589,0.6731701826191654],[0.8398070550799982,0.9052725014182521,0.8453806673525148,0.877844003365656,0.8710080436703451,0.9092430033019702,0.9007866534612745,0.9041335020694796,0.8978752573848914,0.8916276927355385,0.8738241090844442,0.8854147414744928,0.8858611844122133,0.9073126386895909,0.9000587462593099,0.8853734628908101,0.8462067609641517,0.8857125794563361,0.8661341090439088,0.9028291654393742,0.8962960642788561,0.889528416782183,0.9075541896108357,0.9015258369189154,0.9091793653344094,0.8990762069201803,0.9319155597702915,0.9055290702392811,0.9266772849005351,0.9120652414562735,0.9225980180268842,0.9178577003754422,0.919946158596604,0.9158268345919439,0.9207082017745846,0.8778601496713478,0.8935010871547595,0.9162548274487672,0.9023999531671472,0.9182940123656198,0.8201841871991941,0.889654662933608,0.8103307248356493,0.8328123765323685,1.0000000000000002,0.9421572014462585,0.9388008778751378,0.9404131544124823,0.9083977707004723,0.9339774731016205,0.9328388602639617,0.9192083914423358,0.923569729903007,0.9372147727014524,0.9150946078361764,0.9403269766553379,0.9207664738803195,0.9104491419271254,0.9157379472523357,0.8798444815249955,0.8816355856203447,0.8866606982707135,0.9005905233906131,0.8844731814376283,0.8707497073333597,0.8972221630817692,0.8375231835299012,0.8065154777524512],[0.8385936798316244,0.8882979589234745,0.87156147440275,0.8770650296112048,0.8857471545185296,0.916528404610341,0.8842851171488635,0.9187934790096872,0.8957507179957642,0.9126029926181427,0.8558746547210183,0.8813941921864177,0.8824422094865649,0.8920489825807572,0.9069727570506722,0.8831768037697469,0.8550485060567254,0.893828400437721,0.8882636290796351,0.9234049678232581,0.9124204344324434,0.9206165894349957,0.9209973468122792,0.9227621796602179,0.9459125845997443,0.9069691885269215,0.9316836312274974,0.9101155351820602,0.9234070461459545,0.9067741508348286,0.9319870141084129,0.9070385328175116,0.9253057227873731,0.9095428201558753,0.9269306086749797,0.8848842821764649,0.8773456952998522,0.9276001112398349,0.911953788472388,0.9402049426131958,0.854209050515961,0.8277312734472985,0.7936300673646579,0.8128365636411848,0.9421572014462585,1.0,0.9420101432999415,0.9527203142845017,0.9326135145929586,0.9425052438234542,0.9341603105956002,0.9325833497326708,0.9660558217586988,0.93866473839779,0.9340482985354185,0.9476597860476175,0.9321063065446198,0.9226198978929356,0.9052435623060695,0.9040204105353025,0.8791494658097112,0.9105620463005304,0.9457741827923529,0.9268759227208314,0.9196002425693758,0.9244044788493619,0.8226298847993596,0.8165993660258484],[0.8238428357290077,0.9061912866565687,0.8610449258936669,0.8806676775696848,0.8816258874020848,0.9072571631717457,0.8870775045566482,0.9001218381135959,0.8744257326894704,0.8766830953947504,0.8378610995205885,0.8602093264744375,0.8805598041453274,0.8993406366116614,0.9135119973491617,0.8805412620328444,0.8685892080072443,0.9096746090228989,0.8865160791594386,0.9163122772875876,0.9185620633447904,0.9194944468289195,0.9427942821856253,0.9427864241858197,0.9310729557681878,0.9192599646162881,0.9093299346598197,0.8797474251886339,0.8970192242779694,0.8763420237350963,0.9088973435433475,0.88036003679802,0.9069175265207552,0.887605829936138,0.895744994597064,0.8419540680071258,0.8731098671202937,0.8768011548299797,0.8594985976174423,0.8916229709227674,0.8153549808135093,0.8448521416697421,0.8104696642060338,0.8139814153510084,0.9388008778751378,0.9420101432999415,1.0,0.9087427184892904,0.8990566937916009,0.933851817229751,0.922432310317745,0.893971514683569,0.9172756444802543,0.916411724107364,0.9171323738519566,0.9232826114814195,0.9104135184811775,0.923003869426658,0.8971564157421443,0.8748550558875612,0.8797900084132759,0.8934762460925825,0.8908740310061228,0.8671089048874752,0.8750615534653439,0.8849432274024875,0.8256869640349064,0.7891290175327942],[0.8592748313622097,0.879878180242698,0.8681855589501207,0.8680681304527094,0.8627610255457434,0.8953426203931985,0.8960991452328706,0.9015218581686097,0.9014081249927979,0.9092454298754903,0.8628048432702187,0.8789908708564906,0.882204920368213,0.8791963031698784,0.9064808953524957,0.8823450589916039,0.8615702731095034,0.8670809374802422,0.84907236136533,0.905465091222289,0.8765445868645974,0.8727742992439234,0.8877944907335449,0.8867488169814786,0.8824005324178761,0.8897324141775167,0.9230555088443912,0.9129370599945451,0.9318923500678794,0.8991462384954625,0.9177122135201887,0.8931870094786863,0.904987498983242,0.8976268063365351,0.9121506348818005,0.8898167473216941,0.8632903405065713,0.9689516679213859,0.9538762387382695,0.9583750603033547,0.8285606734108286,0.8380056917108788,0.8149480675845658,0.8357802290791502,0.9404131544124823,0.9527203142845017,0.9087427184892904,1.0000000000000004,0.917498605088545,0.9267387074199254,0.9201203997900884,0.9099315672458553,0.9290764865480043,0.9237326862235178,0.9181949340864066,0.9379351885702736,0.9194188872157951,0.9168674126504233,0.8871632414993196,0.8782890286790541,0.8503238987143842,0.895688310946336,0.9099710537146368,0.8984850485145099,0.8812999637301908,0.9016243745206349,0.8134348404123286,0.7913376829353098],[0.8018704599896473,0.8629697569093684,0.8422581300524521,0.8195494499675091,0.8375861680735925,0.8327865694316532,0.8221207378097635,0.8760998202321697,0.8736652329268204,0.8746085700267613,0.7965873606096281,0.8205159893554899,0.8272220516192457,0.831129689412833,0.8433181259547742,0.8237239778627068,0.8338568826042447,0.8537389531062749,0.8483931461345247,0.8628983910421923,0.8529898002986703,0.8801323399684106,0.8613652680321969,0.8574308617048223,0.8836067682661831,0.868543201162622,0.8563394891003526,0.8458808731973467,0.8645863831716394,0.9546679944505243,0.9822322691987323,0.9497162181977536,0.9631032163278077,0.9526980982598156,0.9743480945452239,0.8524612438743604,0.8202041430801073,0.9238700524609048,0.9240143580160274,0.9295223433596376,0.8062561074159733,0.7838521900993584,0.7292395828977335,0.7485445043213281,0.9083977707004723,0.9326135145929586,0.8990566937916009,0.917498605088545,1.0,0.968673763806293,0.964438781700611,0.9721592356607249,0.9377047896885398,0.9458931863063378,0.9708984552414341,0.9779570715491586,0.9563613621446498,0.9442145515956416,0.9057909124666509,0.8464990212836553,0.821606485106698,0.841628049398295,0.9060126414889063,0.8879065130607082,0.883563051760925,0.8760018907354976,0.7848924439788426,0.748974325159538],[0.8190409564256204,0.8804553823815862,0.8451512759589639,0.8424400137978192,0.8476799203192515,0.8655855706753885,0.8508740286997054,0.8980528761701716,0.8865970537556288,0.8732897579973362,0.8305040120193629,0.8516094077585413,0.8535610402047715,0.860984264415821,0.9041478706752628,0.862154754715384,0.8582719545324301,0.8835639954870017,0.8705917830803058,0.8894861496341377,0.8911255199110719,0.8877837704203555,0.8999640380069125,0.8929754201091243,0.9065951089121025,0.8999142617929234,0.8954194864132907,0.8742115220759077,0.8942804192010827,0.9449280056363465,0.9757664658903205,0.9559667770719233,0.9680474090282064,0.9504639791694598,0.9624804371768394,0.847829104442239,0.8608878549642984,0.9176240395851276,0.9186746555957093,0.9341826340043706,0.7981218518614568,0.8233376202240874,0.7848227630543986,0.8066324406355674,0.9339774731016205,0.9425052438234542,0.933851817229751,0.9267387074199254,0.968673763806293,1.0000000000000004,0.9753093099616761,0.9639915647335557,0.9327745615234673,0.956856342206267,0.9679863813296041,0.9787412754033034,0.9622152405069129,0.9478554937745678,0.912192788693204,0.8565249449724623,0.865370418532103,0.864649424821921,0.8904714586670495,0.8651723779648315,0.8715725523751274,0.869416066933334,0.8202283315148026,0.7660984013253218],[0.8319479328572985,0.862483698855092,0.8382628821472129,0.8257074383152562,0.827077095887437,0.8717415516742428,0.8382353763827657,0.8871555141638703,0.8963070143853717,0.884279602289519,0.8521813198595385,0.8612595419986258,0.8484937075235002,0.8487431136417702,0.8777914292535774,0.8631671967642456,0.8448651760647945,0.8739137374132263,0.8775690243472243,0.898298272768411,0.8854517451000385,0.8893518396352699,0.8964801750846239,0.8836720047926258,0.9028052957918883,0.8944665657625586,0.8967375148287089,0.8707953673144175,0.8904472876724758,0.9496540677731085,0.972601129371683,0.9613133753149044,0.9620570227198716,0.9478413631940467,0.9669579075975542,0.8505622277922513,0.8691185257450604,0.9208970444613065,0.9180296014100674,0.932963207449294,0.8011941852150493,0.8119583845074061,0.7810063741749376,0.8107734680948998,0.9328388602639617,0.9341603105956002,0.922432310317745,0.9201203997900884,0.964438781700611,0.9753093099616761,0.9999999999999997,0.9548937159115231,0.9303030399445242,0.9594581399371581,0.9759627554467813,0.972598152256578,0.9578752080945032,0.9269592068564416,0.9094078452407968,0.8438200984704983,0.8429736186470617,0.8514333479004186,0.8870002936340579,0.8759495308100105,0.8648735506019996,0.8641498969437263,0.7914598321626459,0.7803559390747246],[0.8025237119033152,0.8635519493698517,0.8426772291506615,0.828935113774043,0.8456183058601212,0.8489220986929901,0.8281261866221756,0.8766807295702002,0.8672610975942339,0.8693188193022137,0.804132461435842,0.8281041057534375,0.8452582131486899,0.8535882235324421,0.8564499276079206,0.8609847036367049,0.8469465506816771,0.8576008823726435,0.8565932238891634,0.8715732250235089,0.867006210681738,0.8815587958393363,0.8733794350798556,0.8710393489139028,0.8909522692316667,0.8735490122069896,0.8755542463268999,0.8599461295116381,0.8758643632007361,0.9546741490322326,0.9632403016632375,0.9607772839579622,0.9589386628278176,0.9448799236844017,0.9536589556362403,0.8398982989218223,0.8368750475588825,0.9107341466295023,0.9090369654199226,0.9212609612068836,0.8081760637217503,0.8078499009689722,0.7516599688051123,0.7866764110177246,0.9192083914423358,0.9325833497326708,0.893971514683569,0.9099315672458553,0.9721592356607249,0.9639915647335557,0.9548937159115231,1.0000000000000004,0.9340034165397539,0.9365152942178737,0.9512605098007185,0.9658272968283115,0.9432474645642965,0.9309317017810996,0.9109281609532807,0.8584672181618387,0.8370074314579548,0.8523456016155226,0.9068037649854452,0.8805969466829195,0.8834705098455296,0.8846905337991424,0.8020830368506373,0.7637325685725705],[0.8120350624673753,0.8688670897322355,0.8660694015054913,0.8396849788978984,0.8654341304109243,0.8993711562521511,0.8538546388094531,0.8792836546565561,0.8878639158728577,0.8946398444108828,0.8214268045472009,0.8557720633610466,0.8529193185247341,0.8755756557987107,0.8480911566679323,0.8360561648765054,0.8223509724540592,0.8624588611690985,0.8496743500362265,0.8988924158560914,0.8766900117451183,0.9082836383868894,0.8986771904293799,0.8985446026476486,0.9272880320309436,0.8877005252679613,0.9053604922080583,0.8615004052208033,0.8617582286344616,0.9124220957735807,0.9247823924738647,0.9162749335496294,0.9290005005080894,0.9093155649403746,0.9206310448777995,0.8401683731823636,0.8481437808520143,0.9059586292878605,0.8936185421192001,0.9193108429752679,0.8337001786879378,0.8131296120826264,0.7366686591311387,0.7664708784744751,0.923569729903007,0.9660558217586988,0.9172756444802543,0.9290764865480043,0.9377047896885398,0.9327745615234673,0.9303030399445242,0.9340034165397539,0.9999999999999999,0.9254813895030486,0.9142643624344101,0.9487000298902424,0.9250611560249777,0.8923965552935607,0.9043885620073893,0.8708039470373359,0.8390958763435592,0.8785229539121251,0.9351700974372195,0.9060685488038203,0.8981298903958483,0.8963534488724987,0.7933431930891529,0.7932138997666843],[0.8379655268881695,0.8661403709403006,0.8367089178999498,0.8267678199170233,0.8252505414556432,0.880087578992901,0.853559416676884,0.872352509660977,0.8808848376332987,0.8849641986989942,0.8755443619132754,0.8755433124294247,0.8443978168554288,0.8507222341358036,0.8698478257693463,0.845370748226924,0.8361133929024662,0.8582299819148893,0.8526277176717814,0.8739560874718477,0.8740481356633794,0.8628578052927847,0.8766575774410359,0.8772281676472382,0.8930872249591074,0.8712511490689162,0.9365337764495576,0.8715118751681106,0.8940565633416996,0.9521155520917086,0.9659849807153068,0.9576880317892255,0.9662779822649937,0.9527796131863628,0.961436044362155,0.8922941429830615,0.8878773869492538,0.9238200608670153,0.908216855792432,0.925853106835101,0.7964035723181209,0.8264371590343206,0.7536601996103944,0.8090711174800278,0.9372147727014524,0.93866473839779,0.916411724107364,0.9237326862235178,0.9458931863063378,0.956856342206267,0.9594581399371581,0.9365152942178737,0.9254813895030486,1.0,0.9404690747228381,0.9638558038305816,0.9316602351842798,0.9239494639191306,0.8866619621274747,0.8437460919967181,0.8564946346189617,0.8500415360007723,0.8836250575423372,0.8662833228636608,0.8578411777976336,0.8706881198779864,0.8039639294729622,0.8006265855142334],[0.8064782120364107,0.8649138975789605,0.8320464152315812,0.8222453746908105,0.827639747659395,0.845342784352556,0.8264195962088032,0.8893607430611392,0.8842639377529857,0.8602067968253588,0.8111881386156093,0.8179871548011293,0.8434147951019463,0.8380474890048037,0.8854209055151725,0.8503490857480106,0.8438379647734537,0.8611824695276271,0.8517243698078405,0.8798835150540569,0.8619919663481159,0.8738759075806228,0.8750019008502286,0.8664003613168441,0.8799523202838619,0.8720604738402855,0.8765561432245117,0.870522929986443,0.9098096625500698,0.9467620467224549,0.9698095607350568,0.9340925001577485,0.9514039464253892,0.9393770920851365,0.9612265771208108,0.8479038844693136,0.8560411134348671,0.9126712321311645,0.9079574021848065,0.9196075879923485,0.7973189468844368,0.808552250287238,0.784311137468382,0.8133374264828939,0.9150946078361764,0.9340482985354185,0.9171323738519566,0.9181949340864066,0.9708984552414341,0.9679863813296041,0.9759627554467813,0.9512605098007185,0.9142643624344101,0.9404690747228381,1.0000000000000002,0.9657003239775672,0.9436554629270116,0.9513494325506877,0.8886034951119275,0.8366186933671147,0.8354790960815438,0.843547777855667,0.885034694915734,0.8693153446918147,0.8604438804937374,0.8642603373869121,0.7906218398956183,0.7354258147842602],[0.8242802913474654,0.8666852009867614,0.8469063488809356,0.830015291790565,0.8364599246723928,0.8687959515234762,0.8482131594833716,0.8896258596982701,0.8892387312189174,0.8951521099229938,0.8427921723095877,0.8666460968235206,0.8467620386349227,0.8534502494065861,0.8716480128751145,0.8457469098076007,0.8442681052858996,0.8626456497748388,0.8505834415305625,0.8801711051043748,0.8700291090399521,0.8782925388120206,0.8811814850186609,0.8761601155478167,0.8957320798503943,0.8813698994090666,0.89909743767946,0.8755268069919608,0.8998045409303903,0.9552221420947635,0.9755858601662075,0.9569368838523782,0.9757395158339341,0.9568584869674792,0.9692138357398125,0.8645913313488681,0.8606441717216677,0.9360536659001502,0.9275160613313878,0.936533143183804,0.8125389258371007,0.8166946630489376,0.7592581352597196,0.7945043190659103,0.9403269766553379,0.9476597860476175,0.9232826114814195,0.9379351885702736,0.9779570715491586,0.9787412754033034,0.972598152256578,0.9658272968283115,0.9487000298902424,0.9638558038305816,0.9657003239775672,0.9999999999999996,0.9566000580734837,0.9360630919218111,0.8975414906529231,0.8555709691127121,0.8502457773806389,0.8605825247649037,0.9086272313786182,0.8834518027913062,0.8768069471587789,0.8850765131723421,0.8088537581184464,0.7925000476838121],[0.8076193461298301,0.8587913969225467,0.8532382590922261,0.8390077347869265,0.8518544420614083,0.8651305009249395,0.8522801086899081,0.8836450788353505,0.917612887589832,0.8889298610362172,0.8287969519997523,0.8558433029139293,0.840018703847083,0.8413627545267388,0.8700077533178837,0.8492439920539219,0.845669044548182,0.8713295984850128,0.8715759051992805,0.8838333076727241,0.8790117916028158,0.8911503010257122,0.8935488181435395,0.878082174891405,0.9024192029025797,0.9023410428507156,0.8704299301121059,0.8566156104467969,0.863730967322959,0.9184784971273623,0.957048823797567,0.9266385885858757,0.9319323179637484,0.9366014797664051,0.9478792318560076,0.8423148168209781,0.834082987811831,0.9360249311920654,0.9328072712841643,0.9482650481419096,0.8022710247049849,0.796787716850421,0.7567755214365013,0.7530526635884229,0.9207664738803195,0.9321063065446198,0.9104135184811775,0.9194188872157951,0.9563613621446498,0.9622152405069129,0.9578752080945032,0.9432474645642965,0.9250611560249777,0.9316602351842798,0.9436554629270116,0.9566000580734837,0.9999999999999994,0.9127212222996686,0.9186591477879448,0.8759435812976475,0.8594936365234966,0.8623785703801861,0.9137022940227042,0.8822852577205381,0.8848901034326103,0.8658689099852923,0.8171321785339113,0.7660462465000314],[0.8205531305322427,0.9187058297191955,0.8457633008910606,0.8800758611010239,0.8883837972299915,0.8441246760140231,0.8527553886354247,0.8921924285069762,0.8528337681491973,0.8581879329665685,0.8098815917274322,0.8213424324482792,0.8527499824595993,0.8599122058541371,0.8980538071788664,0.8738100799248671,0.8792445173829742,0.8882245742640114,0.8637314874660983,0.8818374789188138,0.8732548179865692,0.887685353927821,0.883049723126714,0.8877126303836991,0.8798658592644841,0.8782591030747211,0.8680903660332504,0.8666724301491919,0.9035592764378446,0.9157959468721747,0.9426400245485469,0.9025400764722099,0.917083274827763,0.8987146520460212,0.9322934420297766,0.8575344606344204,0.8128246940145526,0.8967368072722401,0.891946671534942,0.902953972206812,0.806960588277587,0.81166796315376,0.7953423885742595,0.8110222677882828,0.9104491419271254,0.9226198978929356,0.923003869426658,0.9168674126504233,0.9442145515956416,0.9478554937745678,0.9269592068564416,0.9309317017810996,0.8923965552935607,0.9239494639191306,0.9513494325506877,0.9360630919218111,0.9127212222996686,0.9999999999999998,0.9203517403480248,0.8499086646637937,0.8466503349761787,0.8523579380394175,0.8724416997392281,0.8593154590471593,0.8815677942007767,0.8635969065154963,0.8072106249093864,0.7372634190362136],[0.7883402111515521,0.9193826347870733,0.8590301208173863,0.899794562615246,0.9276678362893387,0.8691776583165377,0.852185172604253,0.8544904880561857,0.8691249171102888,0.8595462110479308,0.8030183067726633,0.8306282182278701,0.8500124302071772,0.8724582773463283,0.8583226114779066,0.8513495604788937,0.86860961235011,0.9049013412239046,0.8904524394151745,0.8948129458409577,0.8887407513750495,0.9282684282613709,0.9105186964793092,0.9038258345152117,0.9245178284594209,0.9044137347788439,0.849357883639246,0.8386411307390403,0.8336157239828828,0.888221328043094,0.9124478798604367,0.8877520232467275,0.8761921979211995,0.8840160621666325,0.9088917772240012,0.835143386985333,0.8172190452714853,0.8822135150415713,0.883880253720875,0.9085839284782413,0.8234151829316769,0.8120316865838434,0.7694340027454634,0.7426337122970382,0.9157379472523357,0.9052435623060695,0.8971564157421443,0.8871632414993196,0.9057909124666509,0.912192788693204,0.9094078452407968,0.9109281609532807,0.9043885620073893,0.8866619621274747,0.8886034951119275,0.8975414906529231,0.9186591477879448,0.9203517403480248,1.0000000000000002,0.8692107830693421,0.8505609958220531,0.857525582420438,0.8813215604713995,0.8744574433853869,0.9008616752795682,0.8663213983376716,0.7958611877114912,0.7577745432582697],[0.7789388520634228,0.8617069028267705,0.8695111700448825,0.895745924068073,0.9064357327463184,0.8913402761350955,0.8669662775181924,0.8792349815300591,0.8742261669975948,0.8761126628014202,0.7904126650733619,0.8235362244084812,0.8736748215608352,0.8888067966438956,0.8639016256727652,0.8689575157254168,0.8545743239872032,0.8632200080660881,0.8642075770285356,0.8784497726860462,0.8850436553191606,0.8926869591206044,0.8771804740640667,0.9127842641130666,0.9066555029543413,0.8777975960945347,0.8675293600277041,0.861709031012839,0.8399836705261359,0.7836170168544594,0.8301341757478577,0.8017917326945656,0.8106125129680186,0.8254003922779531,0.8208973717198593,0.8023485023579582,0.7896706686443333,0.8661371853784587,0.8403859250328491,0.8743874491557954,0.8392682894980565,0.7994370100563379,0.7511104288401287,0.7520308763340787,0.8798444815249955,0.9040204105353025,0.8748550558875612,0.8782890286790541,0.8464990212836553,0.8565249449724623,0.8438200984704983,0.8584672181618387,0.8708039470373359,0.8437460919967181,0.8366186933671147,0.8555709691127121,0.8759435812976475,0.8499086646637937,0.8692107830693421,1.0000000000000007,0.8728022811450438,0.962622942653196,0.892044953984049,0.9146053846395816,0.8904752581172507,0.9341730242908673,0.8070725445749765,0.7930889013458515],[0.7646125056242078,0.8548180463949153,0.828748977718009,0.8617318003444183,0.8658367536235847,0.8555299208894305,0.8503698422320467,0.8691455320690544,0.8556302364313844,0.8396116017635684,0.7902265723403386,0.8084461290893499,0.8666637709996253,0.8744296089879591,0.8745778559855153,0.8410724445699242,0.8287642451061602,0.8310176828701394,0.8258224162231491,0.8497384366575826,0.8595892892075053,0.8513648371685003,0.8699038344201349,0.8923446465371443,0.8685326020393281,0.8524969298726889,0.8702179668012049,0.8908868475468613,0.8514290519592512,0.7810350616407327,0.8252146814913393,0.8043332160897327,0.8132386259656406,0.8414212921317807,0.8106176846924416,0.783529299628812,0.8391208064919629,0.8230641995965045,0.8048889333276827,0.8408780301122738,0.7857262296248657,0.8501015504082194,0.7842324881424635,0.7650958301559801,0.8816355856203447,0.8791494658097112,0.8797900084132759,0.8503238987143842,0.821606485106698,0.865370418532103,0.8429736186470617,0.8370074314579548,0.8390958763435592,0.8564946346189617,0.8354790960815438,0.8502457773806389,0.8594936365234966,0.8466503349761787,0.8505609958220531,0.8728022811450438,1.0,0.8940089808734234,0.8579134151328478,0.8413223912535142,0.8202900865201677,0.8708322867849987,0.9159700717228709,0.7868086883974819],[0.7952689391055654,0.8515714511974546,0.8666509060215584,0.8824218288656296,0.8918553664352914,0.8983121657077082,0.8711919023870536,0.8884956742415777,0.8817404795424242,0.8784963799935213,0.8008559990113632,0.8298609173058118,0.9117612660537739,0.9082477876121218,0.8929908046357561,0.8681913323360725,0.8621072723730219,0.8590555137086874,0.8524783835309608,0.889360692694114,0.884075155255813,0.8931421284541954,0.8852905536160695,0.920747990963259,0.9064396233986579,0.8871537153201574,0.8930958579120064,0.8909505068019229,0.8683813826808401,0.7867502095381183,0.8331245880403353,0.8044236837278322,0.8177491273452937,0.8337808739853958,0.8225247049192241,0.8016511116209424,0.8254372978383168,0.8672972194864421,0.8341031108408599,0.8667265130218514,0.8337995032450245,0.8268097586034081,0.8131055500705631,0.7948172185186787,0.8866606982707135,0.9105620463005304,0.8934762460925825,0.895688310946336,0.841628049398295,0.864649424821921,0.8514333479004186,0.8523456016155226,0.8785229539121251,0.8500415360007723,0.843547777855667,0.8605825247649037,0.8623785703801861,0.8523579380394175,0.857525582420438,0.962622942653196,0.8940089808734234,0.9999999999999991,0.8887201223228898,0.8982437437002004,0.8665904353982987,0.9393303672570201,0.8213202492577677,0.7967225700393896],[0.8192908333385163,0.8464262271289975,0.864567999760816,0.8479629995234379,0.8818385515139235,0.8895453807348612,0.8763312590335691,0.885335513278328,0.8791076258019315,0.9021226458685498,0.8199796346508159,0.8550004929100639,0.86831853183326,0.877775732683768,0.847165891022809,0.8476014819465946,0.8151694352703347,0.8518717560529421,0.8452010957207693,0.8860788507134806,0.8704343207483678,0.9073211514494031,0.89168817596936,0.8890253244737087,0.9208781339298551,0.8824915907644337,0.8746921627166775,0.8765002315486901,0.8477735477097456,0.8606397390256035,0.8880082626698765,0.8682085120377906,0.8802616190351941,0.8842796521945571,0.8879635898288839,0.8264101942483959,0.8169730966459108,0.9053853838062553,0.8828667527316119,0.9118904828617166,0.8437532612560724,0.7937548768224172,0.7448738087431448,0.7376944124282022,0.9005905233906131,0.9457741827923529,0.8908740310061228,0.9099710537146368,0.9060126414889063,0.8904714586670495,0.8870002936340579,0.9068037649854452,0.9351700974372195,0.8836250575423372,0.885034694915734,0.9086272313786182,0.9137022940227042,0.8724416997392281,0.8813215604713995,0.892044953984049,0.8579134151328478,0.8887201223228898,1.0000000000000004,0.9204657022765077,0.8938554435065583,0.9212509002148112,0.8280476490849049,0.7923700263541789],[0.7872167020560588,0.8536189911416059,0.8850120070236024,0.8924133407484499,0.8852231662183558,0.87884019108243,0.8745174645587255,0.8781203605744704,0.8737857026154187,0.890624884046255,0.7969324976788699,0.8342358895032335,0.8642477839061572,0.8706592871416834,0.8491408045944135,0.8649103013121082,0.8425391916155447,0.8480216451522681,0.8841790406570489,0.8965148071599192,0.889234034678708,0.9071434007997918,0.870037837541229,0.9086746596552211,0.9168919747204567,0.8703560581400087,0.8531352356986404,0.8654824248570196,0.8445704105511076,0.8212770569059935,0.8617454702176544,0.8348117063375899,0.8349196021423702,0.8472307653880814,0.858847583597304,0.8175485823433339,0.805124523131326,0.8925169982039458,0.863373918023197,0.8921629408042061,0.8509584993037795,0.7862049448512111,0.7289700588417969,0.7370554875883488,0.8844731814376283,0.9268759227208314,0.8671089048874752,0.8984850485145099,0.8879065130607082,0.8651723779648315,0.8759495308100105,0.8805969466829195,0.9060685488038203,0.8662833228636608,0.8693153446918147,0.8834518027913062,0.8822852577205381,0.8593154590471593,0.8744574433853869,0.9146053846395816,0.8413223912535142,0.8982437437002004,0.9204657022765077,0.9999999999999994,0.9107670876141052,0.9348397736854328,0.7791306151560944,0.8269755004539339],[0.780374378456036,0.8764035934808555,0.8750660387392408,0.9059383882687984,0.9014933584914278,0.862781969628742,0.8490839413477125,0.8640502243390876,0.8445192279226582,0.8670280068064942,0.7796817795869666,0.8164875195590678,0.8352279583026057,0.8377749214782708,0.842978399861416,0.8525212024701172,0.8355030980926137,0.8777878764378237,0.8792927129532062,0.8955074801883547,0.8682770138095431,0.9161425663963523,0.8892901651732915,0.8814707811139864,0.9183517571124947,0.8858309709362672,0.835922890204879,0.8410488999590666,0.8373494330352014,0.8287909340316969,0.8634922018133172,0.8278482292588748,0.8358228086196732,0.8332306300552883,0.8552681608307557,0.8264865256262891,0.7849715776068109,0.8687289315333382,0.8592380078436022,0.8815564655795651,0.8265354433985936,0.7549406575565164,0.7315667596086702,0.7274327547806614,0.8707497073333597,0.9196002425693758,0.8750615534653439,0.8812999637301908,0.883563051760925,0.8715725523751274,0.8648735506019996,0.8834705098455296,0.8981298903958483,0.8578411777976336,0.8604438804937374,0.8768069471587789,0.8848901034326103,0.8815677942007767,0.9008616752795682,0.8904752581172507,0.8202900865201677,0.8665904353982987,0.8938554435065583,0.9107670876141052,0.9999999999999996,0.9112572437166349,0.7442033631566625,0.7856127597155655],[0.8085072437546396,0.8493486314980113,0.8929878929873344,0.8988734170746697,0.9004763821480022,0.8802169438739649,0.8874841025476212,0.8916839429891735,0.8739616508937809,0.9045336343694337,0.8210506942048164,0.854202547596034,0.9058337543310975,0.8961173034850332,0.8684799882846813,0.8657559953562175,0.8561069898703287,0.8601213471295998,0.8453652633409904,0.8889332293389007,0.878532859744956,0.9035772791207146,0.8918353378440758,0.8990089518655493,0.9177003615451946,0.8900296764171403,0.8855608503114214,0.8980415547479925,0.8661142320252557,0.8194294211168428,0.85529880338352,0.835143662085053,0.8422614683741942,0.858146798299364,0.8537923372325449,0.8253537490842753,0.8325249172566282,0.8881532224084288,0.851346614200936,0.8739166331636041,0.8648674982797044,0.8181601658181143,0.77712538955376,0.7715898984047338,0.8972221630817692,0.9244044788493619,0.8849432274024875,0.9016243745206349,0.8760018907354976,0.869416066933334,0.8641498969437263,0.8846905337991424,0.8963534488724987,0.8706881198779864,0.8642603373869121,0.8850765131723421,0.8658689099852923,0.8635969065154963,0.8663213983376716,0.9341730242908673,0.8708322867849987,0.9393303672570201,0.9212509002148112,0.9348397736854328,0.9112572437166349,1.0,0.8081932091763433,0.849826861969105],[0.7170351871222413,0.7718171905426371,0.7600827430686761,0.7751714384963891,0.7827890115565801,0.7851665136228043,0.7929869318006603,0.8141960771722285,0.7944220141837226,0.7870930487830339,0.7397224414161881,0.7717732115058724,0.798760564413656,0.8171207225835679,0.8167599660564092,0.8071459466138308,0.7386896440344278,0.7642098630674399,0.7573913506120259,0.7920137375171682,0.7982879142498337,0.7979431824979564,0.8197318388477102,0.8307184105741074,0.7987215418704605,0.7766306445041438,0.8136048362348137,0.843486780845309,0.7888138875573304,0.7540976350151183,0.786636893982672,0.772886510769752,0.7833025890500724,0.8024309499337647,0.7738798800095378,0.7184991483160394,0.7845267321493375,0.7966614062121322,0.7849865849683324,0.8076518348579105,0.7439634313875254,0.7938927210254411,0.7213741991462418,0.7020689598689589,0.8375231835299012,0.8226298847993596,0.8256869640349064,0.8134348404123286,0.7848924439788426,0.8202283315148026,0.7914598321626459,0.8020830368506373,0.7933431930891529,0.8039639294729622,0.7906218398956183,0.8088537581184464,0.8171321785339113,0.8072106249093864,0.7958611877114912,0.8070725445749765,0.9159700717228709,0.8213202492577677,0.8280476490849049,0.7791306151560944,0.7442033631566625,0.8081932091763433,0.9999999999999996,0.7387525773983787],[0.7310701878719156,0.7457479589769171,0.7803308403413776,0.7915914463869382,0.7604181117417708,0.8024168770779705,0.813904117433506,0.7807861981400468,0.7800140386016388,0.8301303593628069,0.8023054817055815,0.8330834953916825,0.7680081060871461,0.7856185834919431,0.7670491134934493,0.7641259470126126,0.7567178100596803,0.7658153507931564,0.7876246293917104,0.7856004458936845,0.7986592144796344,0.7951992752411823,0.7758903103870309,0.8171488098441839,0.8173382816933105,0.76572594160938,0.8184692965182163,0.8038143436451727,0.751330058374684,0.7244285175214522,0.7494626360043353,0.7452266261130833,0.756594227689729,0.7520774555768216,0.7507856238482529,0.7345646314664969,0.755275483118665,0.7873426660233809,0.7469211925931749,0.7800900952821738,0.766565008399217,0.7200039495077719,0.6735567637806608,0.6731701826191654,0.8065154777524512,0.8165993660258484,0.7891290175327942,0.7913376829353098,0.748974325159538,0.7660984013253218,0.7803559390747246,0.7637325685725705,0.7932138997666843,0.8006265855142334,0.7354258147842602,0.7925000476838121,0.7660462465000314,0.7372634190362136,0.7577745432582697,0.7930889013458515,0.7868086883974819,0.7967225700393896,0.7923700263541789,0.8269755004539339,0.7856127597155655,0.849826861969105,0.7387525773983787,0.9999999999999993]],\"type\":\"heatmap\",\"xaxis\":\"x\",\"yaxis\":\"y\",\"hovertemplate\":\"x: %{x}<br>y: %{y}<br>Similarity Score: %{z}<extra></extra>\"}],                        {\"template\":{\"data\":{\"bar\":[{\"error_x\":{\"color\":\"#2a3f5f\"},\"error_y\":{\"color\":\"#2a3f5f\"},\"marker\":{\"line\":{\"color\":\"#E5ECF6\",\"width\":0.5},\"pattern\":{\"fillmode\":\"overlay\",\"size\":10,\"solidity\":0.2}},\"type\":\"bar\"}],\"barpolar\":[{\"marker\":{\"line\":{\"color\":\"#E5ECF6\",\"width\":0.5},\"pattern\":{\"fillmode\":\"overlay\",\"size\":10,\"solidity\":0.2}},\"type\":\"barpolar\"}],\"carpet\":[{\"aaxis\":{\"endlinecolor\":\"#2a3f5f\",\"gridcolor\":\"white\",\"linecolor\":\"white\",\"minorgridcolor\":\"white\",\"startlinecolor\":\"#2a3f5f\"},\"baxis\":{\"endlinecolor\":\"#2a3f5f\",\"gridcolor\":\"white\",\"linecolor\":\"white\",\"minorgridcolor\":\"white\",\"startlinecolor\":\"#2a3f5f\"},\"type\":\"carpet\"}],\"choropleth\":[{\"colorbar\":{\"outlinewidth\":0,\"ticks\":\"\"},\"type\":\"choropleth\"}],\"contour\":[{\"colorbar\":{\"outlinewidth\":0,\"ticks\":\"\"},\"colorscale\":[[0.0,\"#0d0887\"],[0.1111111111111111,\"#46039f\"],[0.2222222222222222,\"#7201a8\"],[0.3333333333333333,\"#9c179e\"],[0.4444444444444444,\"#bd3786\"],[0.5555555555555556,\"#d8576b\"],[0.6666666666666666,\"#ed7953\"],[0.7777777777777778,\"#fb9f3a\"],[0.8888888888888888,\"#fdca26\"],[1.0,\"#f0f921\"]],\"type\":\"contour\"}],\"contourcarpet\":[{\"colorbar\":{\"outlinewidth\":0,\"ticks\":\"\"},\"type\":\"contourcarpet\"}],\"heatmap\":[{\"colorbar\":{\"outlinewidth\":0,\"ticks\":\"\"},\"colorscale\":[[0.0,\"#0d0887\"],[0.1111111111111111,\"#46039f\"],[0.2222222222222222,\"#7201a8\"],[0.3333333333333333,\"#9c179e\"],[0.4444444444444444,\"#bd3786\"],[0.5555555555555556,\"#d8576b\"],[0.6666666666666666,\"#ed7953\"],[0.7777777777777778,\"#fb9f3a\"],[0.8888888888888888,\"#fdca26\"],[1.0,\"#f0f921\"]],\"type\":\"heatmap\"}],\"heatmapgl\":[{\"colorbar\":{\"outlinewidth\":0,\"ticks\":\"\"},\"colorscale\":[[0.0,\"#0d0887\"],[0.1111111111111111,\"#46039f\"],[0.2222222222222222,\"#7201a8\"],[0.3333333333333333,\"#9c179e\"],[0.4444444444444444,\"#bd3786\"],[0.5555555555555556,\"#d8576b\"],[0.6666666666666666,\"#ed7953\"],[0.7777777777777778,\"#fb9f3a\"],[0.8888888888888888,\"#fdca26\"],[1.0,\"#f0f921\"]],\"type\":\"heatmapgl\"}],\"histogram\":[{\"marker\":{\"pattern\":{\"fillmode\":\"overlay\",\"size\":10,\"solidity\":0.2}},\"type\":\"histogram\"}],\"histogram2d\":[{\"colorbar\":{\"outlinewidth\":0,\"ticks\":\"\"},\"colorscale\":[[0.0,\"#0d0887\"],[0.1111111111111111,\"#46039f\"],[0.2222222222222222,\"#7201a8\"],[0.3333333333333333,\"#9c179e\"],[0.4444444444444444,\"#bd3786\"],[0.5555555555555556,\"#d8576b\"],[0.6666666666666666,\"#ed7953\"],[0.7777777777777778,\"#fb9f3a\"],[0.8888888888888888,\"#fdca26\"],[1.0,\"#f0f921\"]],\"type\":\"histogram2d\"}],\"histogram2dcontour\":[{\"colorbar\":{\"outlinewidth\":0,\"ticks\":\"\"},\"colorscale\":[[0.0,\"#0d0887\"],[0.1111111111111111,\"#46039f\"],[0.2222222222222222,\"#7201a8\"],[0.3333333333333333,\"#9c179e\"],[0.4444444444444444,\"#bd3786\"],[0.5555555555555556,\"#d8576b\"],[0.6666666666666666,\"#ed7953\"],[0.7777777777777778,\"#fb9f3a\"],[0.8888888888888888,\"#fdca26\"],[1.0,\"#f0f921\"]],\"type\":\"histogram2dcontour\"}],\"mesh3d\":[{\"colorbar\":{\"outlinewidth\":0,\"ticks\":\"\"},\"type\":\"mesh3d\"}],\"parcoords\":[{\"line\":{\"colorbar\":{\"outlinewidth\":0,\"ticks\":\"\"}},\"type\":\"parcoords\"}],\"pie\":[{\"automargin\":true,\"type\":\"pie\"}],\"scatter\":[{\"marker\":{\"colorbar\":{\"outlinewidth\":0,\"ticks\":\"\"}},\"type\":\"scatter\"}],\"scatter3d\":[{\"line\":{\"colorbar\":{\"outlinewidth\":0,\"ticks\":\"\"}},\"marker\":{\"colorbar\":{\"outlinewidth\":0,\"ticks\":\"\"}},\"type\":\"scatter3d\"}],\"scattercarpet\":[{\"marker\":{\"colorbar\":{\"outlinewidth\":0,\"ticks\":\"\"}},\"type\":\"scattercarpet\"}],\"scattergeo\":[{\"marker\":{\"colorbar\":{\"outlinewidth\":0,\"ticks\":\"\"}},\"type\":\"scattergeo\"}],\"scattergl\":[{\"marker\":{\"colorbar\":{\"outlinewidth\":0,\"ticks\":\"\"}},\"type\":\"scattergl\"}],\"scattermapbox\":[{\"marker\":{\"colorbar\":{\"outlinewidth\":0,\"ticks\":\"\"}},\"type\":\"scattermapbox\"}],\"scatterpolar\":[{\"marker\":{\"colorbar\":{\"outlinewidth\":0,\"ticks\":\"\"}},\"type\":\"scatterpolar\"}],\"scatterpolargl\":[{\"marker\":{\"colorbar\":{\"outlinewidth\":0,\"ticks\":\"\"}},\"type\":\"scatterpolargl\"}],\"scatterternary\":[{\"marker\":{\"colorbar\":{\"outlinewidth\":0,\"ticks\":\"\"}},\"type\":\"scatterternary\"}],\"surface\":[{\"colorbar\":{\"outlinewidth\":0,\"ticks\":\"\"},\"colorscale\":[[0.0,\"#0d0887\"],[0.1111111111111111,\"#46039f\"],[0.2222222222222222,\"#7201a8\"],[0.3333333333333333,\"#9c179e\"],[0.4444444444444444,\"#bd3786\"],[0.5555555555555556,\"#d8576b\"],[0.6666666666666666,\"#ed7953\"],[0.7777777777777778,\"#fb9f3a\"],[0.8888888888888888,\"#fdca26\"],[1.0,\"#f0f921\"]],\"type\":\"surface\"}],\"table\":[{\"cells\":{\"fill\":{\"color\":\"#EBF0F8\"},\"line\":{\"color\":\"white\"}},\"header\":{\"fill\":{\"color\":\"#C8D4E3\"},\"line\":{\"color\":\"white\"}},\"type\":\"table\"}]},\"layout\":{\"annotationdefaults\":{\"arrowcolor\":\"#2a3f5f\",\"arrowhead\":0,\"arrowwidth\":1},\"autotypenumbers\":\"strict\",\"coloraxis\":{\"colorbar\":{\"outlinewidth\":0,\"ticks\":\"\"}},\"colorscale\":{\"diverging\":[[0,\"#8e0152\"],[0.1,\"#c51b7d\"],[0.2,\"#de77ae\"],[0.3,\"#f1b6da\"],[0.4,\"#fde0ef\"],[0.5,\"#f7f7f7\"],[0.6,\"#e6f5d0\"],[0.7,\"#b8e186\"],[0.8,\"#7fbc41\"],[0.9,\"#4d9221\"],[1,\"#276419\"]],\"sequential\":[[0.0,\"#0d0887\"],[0.1111111111111111,\"#46039f\"],[0.2222222222222222,\"#7201a8\"],[0.3333333333333333,\"#9c179e\"],[0.4444444444444444,\"#bd3786\"],[0.5555555555555556,\"#d8576b\"],[0.6666666666666666,\"#ed7953\"],[0.7777777777777778,\"#fb9f3a\"],[0.8888888888888888,\"#fdca26\"],[1.0,\"#f0f921\"]],\"sequentialminus\":[[0.0,\"#0d0887\"],[0.1111111111111111,\"#46039f\"],[0.2222222222222222,\"#7201a8\"],[0.3333333333333333,\"#9c179e\"],[0.4444444444444444,\"#bd3786\"],[0.5555555555555556,\"#d8576b\"],[0.6666666666666666,\"#ed7953\"],[0.7777777777777778,\"#fb9f3a\"],[0.8888888888888888,\"#fdca26\"],[1.0,\"#f0f921\"]]},\"colorway\":[\"#636efa\",\"#EF553B\",\"#00cc96\",\"#ab63fa\",\"#FFA15A\",\"#19d3f3\",\"#FF6692\",\"#B6E880\",\"#FF97FF\",\"#FECB52\"],\"font\":{\"color\":\"#2a3f5f\"},\"geo\":{\"bgcolor\":\"white\",\"lakecolor\":\"white\",\"landcolor\":\"#E5ECF6\",\"showlakes\":true,\"showland\":true,\"subunitcolor\":\"white\"},\"hoverlabel\":{\"align\":\"left\"},\"hovermode\":\"closest\",\"mapbox\":{\"style\":\"light\"},\"paper_bgcolor\":\"white\",\"plot_bgcolor\":\"#E5ECF6\",\"polar\":{\"angularaxis\":{\"gridcolor\":\"white\",\"linecolor\":\"white\",\"ticks\":\"\"},\"bgcolor\":\"#E5ECF6\",\"radialaxis\":{\"gridcolor\":\"white\",\"linecolor\":\"white\",\"ticks\":\"\"}},\"scene\":{\"xaxis\":{\"backgroundcolor\":\"#E5ECF6\",\"gridcolor\":\"white\",\"gridwidth\":2,\"linecolor\":\"white\",\"showbackground\":true,\"ticks\":\"\",\"zerolinecolor\":\"white\"},\"yaxis\":{\"backgroundcolor\":\"#E5ECF6\",\"gridcolor\":\"white\",\"gridwidth\":2,\"linecolor\":\"white\",\"showbackground\":true,\"ticks\":\"\",\"zerolinecolor\":\"white\"},\"zaxis\":{\"backgroundcolor\":\"#E5ECF6\",\"gridcolor\":\"white\",\"gridwidth\":2,\"linecolor\":\"white\",\"showbackground\":true,\"ticks\":\"\",\"zerolinecolor\":\"white\"}},\"shapedefaults\":{\"line\":{\"color\":\"#2a3f5f\"}},\"ternary\":{\"aaxis\":{\"gridcolor\":\"white\",\"linecolor\":\"white\",\"ticks\":\"\"},\"baxis\":{\"gridcolor\":\"white\",\"linecolor\":\"white\",\"ticks\":\"\"},\"bgcolor\":\"#E5ECF6\",\"caxis\":{\"gridcolor\":\"white\",\"linecolor\":\"white\",\"ticks\":\"\"}},\"title\":{\"x\":0.05},\"xaxis\":{\"automargin\":true,\"gridcolor\":\"white\",\"linecolor\":\"white\",\"ticks\":\"\",\"title\":{\"standoff\":15},\"zerolinecolor\":\"white\",\"zerolinewidth\":2},\"yaxis\":{\"automargin\":true,\"gridcolor\":\"white\",\"linecolor\":\"white\",\"ticks\":\"\",\"title\":{\"standoff\":15},\"zerolinecolor\":\"white\",\"zerolinewidth\":2}}},\"xaxis\":{\"anchor\":\"y\",\"domain\":[0.0,1.0],\"scaleanchor\":\"y\",\"constrain\":\"domain\"},\"yaxis\":{\"anchor\":\"x\",\"domain\":[0.0,1.0],\"autorange\":\"reversed\",\"constrain\":\"domain\"},\"coloraxis\":{\"colorbar\":{\"title\":{\"text\":\"Similarity Score\"}},\"colorscale\":[[0.0,\"rgb(247,252,240)\"],[0.125,\"rgb(224,243,219)\"],[0.25,\"rgb(204,235,197)\"],[0.375,\"rgb(168,221,181)\"],[0.5,\"rgb(123,204,196)\"],[0.625,\"rgb(78,179,211)\"],[0.75,\"rgb(43,140,190)\"],[0.875,\"rgb(8,104,172)\"],[1.0,\"rgb(8,64,129)\"]]},\"margin\":{\"t\":60},\"title\":{\"font\":{\"size\":22,\"color\":\"Black\"},\"text\":\"<b>Similarity Matrix\",\"y\":0.95,\"x\":0.55,\"xanchor\":\"center\",\"yanchor\":\"top\"},\"hoverlabel\":{\"font\":{\"size\":16,\"family\":\"Rockwell\"},\"bgcolor\":\"white\"},\"width\":1000,\"height\":1000,\"showlegend\":true,\"legend\":{\"title\":{\"text\":\"Trend\"}}},                        {\"responsive\": true}                    ).then(function(){\n",
              "                            \n",
              "var gd = document.getElementById('bb758a0f-406b-4c3d-8c7a-d00c28218bcf');\n",
              "var x = new MutationObserver(function (mutations, observer) {{\n",
              "        var display = window.getComputedStyle(gd).display;\n",
              "        if (!display || display === 'none') {{\n",
              "            console.log([gd, 'removed!']);\n",
              "            Plotly.purge(gd);\n",
              "            observer.disconnect();\n",
              "        }}\n",
              "}});\n",
              "\n",
              "// Listen for the removal of the full notebook cells\n",
              "var notebookContainer = gd.closest('#notebook-container');\n",
              "if (notebookContainer) {{\n",
              "    x.observe(notebookContainer, {childList: true});\n",
              "}}\n",
              "\n",
              "// Listen for the clearing of the current output cell\n",
              "var outputEl = gd.closest('.output');\n",
              "if (outputEl) {{\n",
              "    x.observe(outputEl, {childList: true});\n",
              "}}\n",
              "\n",
              "                        })                };                            </script>        </div>\n",
              "</body>\n",
              "</html>"
            ]
          },
          "metadata": {}
        }
      ]
    },
    {
      "cell_type": "markdown",
      "source": [
        "A partir dos gráficos acima, é possível observar que há bastante relação entre as palavras doença, auxílio e invalizer, por exemplo. As quais provavelmente estão relacionadas aos processos cujo assunto é Direito Previdenciário, muito visto na análise exploratória dos dados. Além desses, é possível observar várias outras relações estão relacionadas com seus respectivos assuntos processuais."
      ],
      "metadata": {
        "id": "v6fOVS9NcvQx"
      }
    },
    {
      "cell_type": "markdown",
      "source": [
        "# 1.6 Verificando na base de validação"
      ],
      "metadata": {
        "id": "bZxRmHXM4SYA"
      }
    },
    {
      "cell_type": "code",
      "source": [
        "topics_val, probs_val = topic_model.transform(df_new_val['conteudo_sentenca'])"
      ],
      "metadata": {
        "colab": {
          "base_uri": "https://localhost:8080/",
          "height": 103,
          "referenced_widgets": [
            "8a417ee4384346ce9195b363d32a20d6",
            "ad68bbb76e9e4a67ab1bf9b9050e1cfe",
            "3d35183b724e40cfbc4cd5ee38fa35eb",
            "7dcaf293c6804cb4b512451d0051b920",
            "eb97cb8a48bc4a5f911ca8213bf3a79e",
            "5a716b1251914e0582cf0909befb3e94",
            "e73edfa99e234b36b4b8c0cc9f02d73a",
            "f217e896f91f46e18360e340d630f3cb",
            "dbd79fa36d184b97b1ef87a07d46173f",
            "b42d66fd6e7f4dc1b3858a70dc959d68",
            "d41a2025fcab458bb16791b3e5b04bc3"
          ]
        },
        "id": "QfwyQyUmyY78",
        "outputId": "346010f1-8332-4145-bea3-7f593642bb2d"
      },
      "execution_count": null,
      "outputs": [
        {
          "output_type": "display_data",
          "data": {
            "text/plain": [
              "Batches:   0%|          | 0/33 [00:00<?, ?it/s]"
            ],
            "application/vnd.jupyter.widget-view+json": {
              "version_major": 2,
              "version_minor": 0,
              "model_id": "8a417ee4384346ce9195b363d32a20d6"
            }
          },
          "metadata": {}
        },
        {
          "output_type": "stream",
          "name": "stderr",
          "text": [
            "2022-07-17 20:36:23,594 - BERTopic - Reduced dimensionality\n",
            "2022-07-17 20:36:23,973 - BERTopic - Calculated probabilities with HDBSCAN\n",
            "2022-07-17 20:36:23,975 - BERTopic - Predicted clusters\n"
          ]
        }
      ]
    },
    {
      "cell_type": "code",
      "source": [
        "topic_model.visualize_distribution(probs_val[150], min_probability=0.005)"
      ],
      "metadata": {
        "colab": {
          "base_uri": "https://localhost:8080/",
          "height": 617
        },
        "id": "w5BDBL7E4RWm",
        "outputId": "32db231a-d6e9-41b3-afd0-29d7ae52b7b2"
      },
      "execution_count": null,
      "outputs": [
        {
          "output_type": "display_data",
          "data": {
            "text/html": [
              "<html>\n",
              "<head><meta charset=\"utf-8\" /></head>\n",
              "<body>\n",
              "    <div>            <script src=\"https://cdnjs.cloudflare.com/ajax/libs/mathjax/2.7.5/MathJax.js?config=TeX-AMS-MML_SVG\"></script><script type=\"text/javascript\">if (window.MathJax) {MathJax.Hub.Config({SVG: {font: \"STIX-Web\"}});}</script>                <script type=\"text/javascript\">window.PlotlyConfig = {MathJaxConfig: 'local'};</script>\n",
              "        <script src=\"https://cdn.plot.ly/plotly-2.8.3.min.js\"></script>                <div id=\"b221b974-5147-4f63-93c6-5ecc92d72133\" class=\"plotly-graph-div\" style=\"height:600px; width:800px;\"></div>            <script type=\"text/javascript\">                                    window.PLOTLYENV=window.PLOTLYENV || {};                                    if (document.getElementById(\"b221b974-5147-4f63-93c6-5ecc92d72133\")) {                    Plotly.newPlot(                        \"b221b974-5147-4f63-93c6-5ecc92d72133\",                        [{\"marker\":{\"color\":\"#C8D2D7\",\"line\":{\"color\":\"#6E8484\",\"width\":1}},\"orientation\":\"h\",\"x\":[0.006656278031632152,0.021659761224449705,0.01228439188917087,0.02477624628184855,0.007530139395678251,0.006059057255654192,0.0063090259267806524,0.01592536698545413,0.009972688883896798,0.006138549327640627,0.009009356367520023,0.011446999125804134,0.029447651256373712,0.08300685423581287,0.009044618279619759,0.02647739886236719,0.00675747393061686],\"y\":[\"<b>Topic 6</b>: danos_caixa_dano_respons...\",\"<b>Topic 7</b>: inicial_processo_extin\\u00e7\\u00e3...\",\"<b>Topic 8</b>: extin\\u00e7\\u00e3o_processo_m\\u00e9rito...\",\"<b>Topic 12</b>: reajuste_contas_sobre_f...\",\"<b>Topic 16</b>: servidores_revis\\u00e3o_gera...\",\"<b>Topic 17</b>: empr\\u00e9stimo_institui\\u00e7\\u00e3o_...\",\"<b>Topic 19</b>: f\\u00e9rias_contribui\\u00e7\\u00e3o_ter...\",\"<b>Topic 22</b>: interesse_preliminar_pr...\",\"<b>Topic 28</b>: extin\\u00e7\\u00e3o_feito_inicial_...\",\"<b>Topic 35</b>: servidores_desempenho_g...\",\"<b>Topic 37</b>: dilig\\u00eancia_inicial_julg...\",\"<b>Topic 40</b>: processo_peti\\u00e7\\u00e3o_inicia...\",\"<b>Topic 43</b>: processo_coisa_julgada_...\",\"<b>Topic 44</b>: celeridade_dilig\\u00eancia_p...\",\"<b>Topic 54</b>: transporte_raios_servid...\",\"<b>Topic 60</b>: peti\\u00e7\\u00e3o_inicial_cumprir...\",\"<b>Topic 61</b>: anos_rural_prescri\\u00e7\\u00e3o_s...\"],\"type\":\"bar\"}],                        {\"template\":{\"data\":{\"barpolar\":[{\"marker\":{\"line\":{\"color\":\"white\",\"width\":0.5},\"pattern\":{\"fillmode\":\"overlay\",\"size\":10,\"solidity\":0.2}},\"type\":\"barpolar\"}],\"bar\":[{\"error_x\":{\"color\":\"rgb(36,36,36)\"},\"error_y\":{\"color\":\"rgb(36,36,36)\"},\"marker\":{\"line\":{\"color\":\"white\",\"width\":0.5},\"pattern\":{\"fillmode\":\"overlay\",\"size\":10,\"solidity\":0.2}},\"type\":\"bar\"}],\"carpet\":[{\"aaxis\":{\"endlinecolor\":\"rgb(36,36,36)\",\"gridcolor\":\"white\",\"linecolor\":\"white\",\"minorgridcolor\":\"white\",\"startlinecolor\":\"rgb(36,36,36)\"},\"baxis\":{\"endlinecolor\":\"rgb(36,36,36)\",\"gridcolor\":\"white\",\"linecolor\":\"white\",\"minorgridcolor\":\"white\",\"startlinecolor\":\"rgb(36,36,36)\"},\"type\":\"carpet\"}],\"choropleth\":[{\"colorbar\":{\"outlinewidth\":1,\"tickcolor\":\"rgb(36,36,36)\",\"ticks\":\"outside\"},\"type\":\"choropleth\"}],\"contourcarpet\":[{\"colorbar\":{\"outlinewidth\":1,\"tickcolor\":\"rgb(36,36,36)\",\"ticks\":\"outside\"},\"type\":\"contourcarpet\"}],\"contour\":[{\"colorbar\":{\"outlinewidth\":1,\"tickcolor\":\"rgb(36,36,36)\",\"ticks\":\"outside\"},\"colorscale\":[[0.0,\"#440154\"],[0.1111111111111111,\"#482878\"],[0.2222222222222222,\"#3e4989\"],[0.3333333333333333,\"#31688e\"],[0.4444444444444444,\"#26828e\"],[0.5555555555555556,\"#1f9e89\"],[0.6666666666666666,\"#35b779\"],[0.7777777777777778,\"#6ece58\"],[0.8888888888888888,\"#b5de2b\"],[1.0,\"#fde725\"]],\"type\":\"contour\"}],\"heatmapgl\":[{\"colorbar\":{\"outlinewidth\":1,\"tickcolor\":\"rgb(36,36,36)\",\"ticks\":\"outside\"},\"colorscale\":[[0.0,\"#440154\"],[0.1111111111111111,\"#482878\"],[0.2222222222222222,\"#3e4989\"],[0.3333333333333333,\"#31688e\"],[0.4444444444444444,\"#26828e\"],[0.5555555555555556,\"#1f9e89\"],[0.6666666666666666,\"#35b779\"],[0.7777777777777778,\"#6ece58\"],[0.8888888888888888,\"#b5de2b\"],[1.0,\"#fde725\"]],\"type\":\"heatmapgl\"}],\"heatmap\":[{\"colorbar\":{\"outlinewidth\":1,\"tickcolor\":\"rgb(36,36,36)\",\"ticks\":\"outside\"},\"colorscale\":[[0.0,\"#440154\"],[0.1111111111111111,\"#482878\"],[0.2222222222222222,\"#3e4989\"],[0.3333333333333333,\"#31688e\"],[0.4444444444444444,\"#26828e\"],[0.5555555555555556,\"#1f9e89\"],[0.6666666666666666,\"#35b779\"],[0.7777777777777778,\"#6ece58\"],[0.8888888888888888,\"#b5de2b\"],[1.0,\"#fde725\"]],\"type\":\"heatmap\"}],\"histogram2dcontour\":[{\"colorbar\":{\"outlinewidth\":1,\"tickcolor\":\"rgb(36,36,36)\",\"ticks\":\"outside\"},\"colorscale\":[[0.0,\"#440154\"],[0.1111111111111111,\"#482878\"],[0.2222222222222222,\"#3e4989\"],[0.3333333333333333,\"#31688e\"],[0.4444444444444444,\"#26828e\"],[0.5555555555555556,\"#1f9e89\"],[0.6666666666666666,\"#35b779\"],[0.7777777777777778,\"#6ece58\"],[0.8888888888888888,\"#b5de2b\"],[1.0,\"#fde725\"]],\"type\":\"histogram2dcontour\"}],\"histogram2d\":[{\"colorbar\":{\"outlinewidth\":1,\"tickcolor\":\"rgb(36,36,36)\",\"ticks\":\"outside\"},\"colorscale\":[[0.0,\"#440154\"],[0.1111111111111111,\"#482878\"],[0.2222222222222222,\"#3e4989\"],[0.3333333333333333,\"#31688e\"],[0.4444444444444444,\"#26828e\"],[0.5555555555555556,\"#1f9e89\"],[0.6666666666666666,\"#35b779\"],[0.7777777777777778,\"#6ece58\"],[0.8888888888888888,\"#b5de2b\"],[1.0,\"#fde725\"]],\"type\":\"histogram2d\"}],\"histogram\":[{\"marker\":{\"line\":{\"color\":\"white\",\"width\":0.6}},\"type\":\"histogram\"}],\"mesh3d\":[{\"colorbar\":{\"outlinewidth\":1,\"tickcolor\":\"rgb(36,36,36)\",\"ticks\":\"outside\"},\"type\":\"mesh3d\"}],\"parcoords\":[{\"line\":{\"colorbar\":{\"outlinewidth\":1,\"tickcolor\":\"rgb(36,36,36)\",\"ticks\":\"outside\"}},\"type\":\"parcoords\"}],\"pie\":[{\"automargin\":true,\"type\":\"pie\"}],\"scatter3d\":[{\"line\":{\"colorbar\":{\"outlinewidth\":1,\"tickcolor\":\"rgb(36,36,36)\",\"ticks\":\"outside\"}},\"marker\":{\"colorbar\":{\"outlinewidth\":1,\"tickcolor\":\"rgb(36,36,36)\",\"ticks\":\"outside\"}},\"type\":\"scatter3d\"}],\"scattercarpet\":[{\"marker\":{\"colorbar\":{\"outlinewidth\":1,\"tickcolor\":\"rgb(36,36,36)\",\"ticks\":\"outside\"}},\"type\":\"scattercarpet\"}],\"scattergeo\":[{\"marker\":{\"colorbar\":{\"outlinewidth\":1,\"tickcolor\":\"rgb(36,36,36)\",\"ticks\":\"outside\"}},\"type\":\"scattergeo\"}],\"scattergl\":[{\"marker\":{\"colorbar\":{\"outlinewidth\":1,\"tickcolor\":\"rgb(36,36,36)\",\"ticks\":\"outside\"}},\"type\":\"scattergl\"}],\"scattermapbox\":[{\"marker\":{\"colorbar\":{\"outlinewidth\":1,\"tickcolor\":\"rgb(36,36,36)\",\"ticks\":\"outside\"}},\"type\":\"scattermapbox\"}],\"scatterpolargl\":[{\"marker\":{\"colorbar\":{\"outlinewidth\":1,\"tickcolor\":\"rgb(36,36,36)\",\"ticks\":\"outside\"}},\"type\":\"scatterpolargl\"}],\"scatterpolar\":[{\"marker\":{\"colorbar\":{\"outlinewidth\":1,\"tickcolor\":\"rgb(36,36,36)\",\"ticks\":\"outside\"}},\"type\":\"scatterpolar\"}],\"scatter\":[{\"marker\":{\"colorbar\":{\"outlinewidth\":1,\"tickcolor\":\"rgb(36,36,36)\",\"ticks\":\"outside\"}},\"type\":\"scatter\"}],\"scatterternary\":[{\"marker\":{\"colorbar\":{\"outlinewidth\":1,\"tickcolor\":\"rgb(36,36,36)\",\"ticks\":\"outside\"}},\"type\":\"scatterternary\"}],\"surface\":[{\"colorbar\":{\"outlinewidth\":1,\"tickcolor\":\"rgb(36,36,36)\",\"ticks\":\"outside\"},\"colorscale\":[[0.0,\"#440154\"],[0.1111111111111111,\"#482878\"],[0.2222222222222222,\"#3e4989\"],[0.3333333333333333,\"#31688e\"],[0.4444444444444444,\"#26828e\"],[0.5555555555555556,\"#1f9e89\"],[0.6666666666666666,\"#35b779\"],[0.7777777777777778,\"#6ece58\"],[0.8888888888888888,\"#b5de2b\"],[1.0,\"#fde725\"]],\"type\":\"surface\"}],\"table\":[{\"cells\":{\"fill\":{\"color\":\"rgb(237,237,237)\"},\"line\":{\"color\":\"white\"}},\"header\":{\"fill\":{\"color\":\"rgb(217,217,217)\"},\"line\":{\"color\":\"white\"}},\"type\":\"table\"}]},\"layout\":{\"annotationdefaults\":{\"arrowhead\":0,\"arrowwidth\":1},\"autotypenumbers\":\"strict\",\"coloraxis\":{\"colorbar\":{\"outlinewidth\":1,\"tickcolor\":\"rgb(36,36,36)\",\"ticks\":\"outside\"}},\"colorscale\":{\"diverging\":[[0.0,\"rgb(103,0,31)\"],[0.1,\"rgb(178,24,43)\"],[0.2,\"rgb(214,96,77)\"],[0.3,\"rgb(244,165,130)\"],[0.4,\"rgb(253,219,199)\"],[0.5,\"rgb(247,247,247)\"],[0.6,\"rgb(209,229,240)\"],[0.7,\"rgb(146,197,222)\"],[0.8,\"rgb(67,147,195)\"],[0.9,\"rgb(33,102,172)\"],[1.0,\"rgb(5,48,97)\"]],\"sequential\":[[0.0,\"#440154\"],[0.1111111111111111,\"#482878\"],[0.2222222222222222,\"#3e4989\"],[0.3333333333333333,\"#31688e\"],[0.4444444444444444,\"#26828e\"],[0.5555555555555556,\"#1f9e89\"],[0.6666666666666666,\"#35b779\"],[0.7777777777777778,\"#6ece58\"],[0.8888888888888888,\"#b5de2b\"],[1.0,\"#fde725\"]],\"sequentialminus\":[[0.0,\"#440154\"],[0.1111111111111111,\"#482878\"],[0.2222222222222222,\"#3e4989\"],[0.3333333333333333,\"#31688e\"],[0.4444444444444444,\"#26828e\"],[0.5555555555555556,\"#1f9e89\"],[0.6666666666666666,\"#35b779\"],[0.7777777777777778,\"#6ece58\"],[0.8888888888888888,\"#b5de2b\"],[1.0,\"#fde725\"]]},\"colorway\":[\"#1F77B4\",\"#FF7F0E\",\"#2CA02C\",\"#D62728\",\"#9467BD\",\"#8C564B\",\"#E377C2\",\"#7F7F7F\",\"#BCBD22\",\"#17BECF\"],\"font\":{\"color\":\"rgb(36,36,36)\"},\"geo\":{\"bgcolor\":\"white\",\"lakecolor\":\"white\",\"landcolor\":\"white\",\"showlakes\":true,\"showland\":true,\"subunitcolor\":\"white\"},\"hoverlabel\":{\"align\":\"left\"},\"hovermode\":\"closest\",\"mapbox\":{\"style\":\"light\"},\"paper_bgcolor\":\"white\",\"plot_bgcolor\":\"white\",\"polar\":{\"angularaxis\":{\"gridcolor\":\"rgb(232,232,232)\",\"linecolor\":\"rgb(36,36,36)\",\"showgrid\":false,\"showline\":true,\"ticks\":\"outside\"},\"bgcolor\":\"white\",\"radialaxis\":{\"gridcolor\":\"rgb(232,232,232)\",\"linecolor\":\"rgb(36,36,36)\",\"showgrid\":false,\"showline\":true,\"ticks\":\"outside\"}},\"scene\":{\"xaxis\":{\"backgroundcolor\":\"white\",\"gridcolor\":\"rgb(232,232,232)\",\"gridwidth\":2,\"linecolor\":\"rgb(36,36,36)\",\"showbackground\":true,\"showgrid\":false,\"showline\":true,\"ticks\":\"outside\",\"zeroline\":false,\"zerolinecolor\":\"rgb(36,36,36)\"},\"yaxis\":{\"backgroundcolor\":\"white\",\"gridcolor\":\"rgb(232,232,232)\",\"gridwidth\":2,\"linecolor\":\"rgb(36,36,36)\",\"showbackground\":true,\"showgrid\":false,\"showline\":true,\"ticks\":\"outside\",\"zeroline\":false,\"zerolinecolor\":\"rgb(36,36,36)\"},\"zaxis\":{\"backgroundcolor\":\"white\",\"gridcolor\":\"rgb(232,232,232)\",\"gridwidth\":2,\"linecolor\":\"rgb(36,36,36)\",\"showbackground\":true,\"showgrid\":false,\"showline\":true,\"ticks\":\"outside\",\"zeroline\":false,\"zerolinecolor\":\"rgb(36,36,36)\"}},\"shapedefaults\":{\"fillcolor\":\"black\",\"line\":{\"width\":0},\"opacity\":0.3},\"ternary\":{\"aaxis\":{\"gridcolor\":\"rgb(232,232,232)\",\"linecolor\":\"rgb(36,36,36)\",\"showgrid\":false,\"showline\":true,\"ticks\":\"outside\"},\"baxis\":{\"gridcolor\":\"rgb(232,232,232)\",\"linecolor\":\"rgb(36,36,36)\",\"showgrid\":false,\"showline\":true,\"ticks\":\"outside\"},\"bgcolor\":\"white\",\"caxis\":{\"gridcolor\":\"rgb(232,232,232)\",\"linecolor\":\"rgb(36,36,36)\",\"showgrid\":false,\"showline\":true,\"ticks\":\"outside\"}},\"title\":{\"x\":0.05},\"xaxis\":{\"automargin\":true,\"gridcolor\":\"rgb(232,232,232)\",\"linecolor\":\"rgb(36,36,36)\",\"showgrid\":false,\"showline\":true,\"ticks\":\"outside\",\"title\":{\"standoff\":15},\"zeroline\":false,\"zerolinecolor\":\"rgb(36,36,36)\"},\"yaxis\":{\"automargin\":true,\"gridcolor\":\"rgb(232,232,232)\",\"linecolor\":\"rgb(36,36,36)\",\"showgrid\":false,\"showline\":true,\"ticks\":\"outside\",\"title\":{\"standoff\":15},\"zeroline\":false,\"zerolinecolor\":\"rgb(36,36,36)\"}}},\"title\":{\"font\":{\"size\":22,\"color\":\"Black\"},\"text\":\"<b>Topic Probability Distribution\",\"y\":0.95,\"x\":0.5,\"xanchor\":\"center\",\"yanchor\":\"top\"},\"hoverlabel\":{\"font\":{\"size\":16,\"family\":\"Rockwell\"},\"bgcolor\":\"white\"},\"xaxis\":{\"title\":{\"text\":\"Probability\"}},\"width\":800,\"height\":600},                        {\"responsive\": true}                    ).then(function(){\n",
              "                            \n",
              "var gd = document.getElementById('b221b974-5147-4f63-93c6-5ecc92d72133');\n",
              "var x = new MutationObserver(function (mutations, observer) {{\n",
              "        var display = window.getComputedStyle(gd).display;\n",
              "        if (!display || display === 'none') {{\n",
              "            console.log([gd, 'removed!']);\n",
              "            Plotly.purge(gd);\n",
              "            observer.disconnect();\n",
              "        }}\n",
              "}});\n",
              "\n",
              "// Listen for the removal of the full notebook cells\n",
              "var notebookContainer = gd.closest('#notebook-container');\n",
              "if (notebookContainer) {{\n",
              "    x.observe(notebookContainer, {childList: true});\n",
              "}}\n",
              "\n",
              "// Listen for the clearing of the current output cell\n",
              "var outputEl = gd.closest('.output');\n",
              "if (outputEl) {{\n",
              "    x.observe(outputEl, {childList: true});\n",
              "}}\n",
              "\n",
              "                        })                };                            </script>        </div>\n",
              "</body>\n",
              "</html>"
            ]
          },
          "metadata": {}
        }
      ]
    },
    {
      "cell_type": "code",
      "source": [
        "# types and names of the artifacts\n",
        "artifact_type = \"inference_artifact\"\n",
        "artifact_encoder = \"target_encoder\"\n",
        "artifact_model = \"model_export\""
      ],
      "metadata": {
        "id": "RNj0hmTE5fQz"
      },
      "execution_count": null,
      "outputs": []
    },
    {
      "cell_type": "code",
      "source": [
        "logger.info(\"Dumping the artifacts to disk\")\n",
        "# Save the model using joblib\n",
        "joblib.dump(topic_model, artifact_model)"
      ],
      "metadata": {
        "colab": {
          "base_uri": "https://localhost:8080/"
        },
        "id": "gtWR835m6zfS",
        "outputId": "6da64824-7ee2-4d36-a5c6-271bd648794f"
      },
      "execution_count": null,
      "outputs": [
        {
          "output_type": "stream",
          "name": "stderr",
          "text": [
            "17-07-2022 20:48:59 Dumping the artifacts to disk\n"
          ]
        },
        {
          "output_type": "execute_result",
          "data": {
            "text/plain": [
              "['model_export']"
            ]
          },
          "metadata": {},
          "execution_count": 139
        }
      ]
    },
    {
      "cell_type": "code",
      "source": [
        "# Model artifact\n",
        "artifact = wandb.Artifact(artifact_model,\n",
        "                          type=artifact_type,\n",
        "                          description=\"A topic model for NLP\"\n",
        "                          )\n",
        "\n",
        "logger.info(\"Logging model artifact\")\n",
        "artifact.add_file(artifact_model)\n",
        "run.log_artifact(artifact)"
      ],
      "metadata": {
        "colab": {
          "base_uri": "https://localhost:8080/"
        },
        "id": "W4xF8IAF55VJ",
        "outputId": "ef281248-0c44-4ff1-e13a-3a94151acbf2"
      },
      "execution_count": null,
      "outputs": [
        {
          "output_type": "stream",
          "name": "stderr",
          "text": [
            "17-07-2022 20:49:04 Logging model artifact\n"
          ]
        },
        {
          "output_type": "execute_result",
          "data": {
            "text/plain": [
              "<wandb.sdk.wandb_artifacts.Artifact at 0x7f4638af77d0>"
            ]
          },
          "metadata": {},
          "execution_count": 140
        }
      ]
    },
    {
      "cell_type": "code",
      "source": [
        "# close the current run before to execute the next section\n",
        "run.finish()"
      ],
      "metadata": {
        "id": "v7WQb9yaReCA",
        "colab": {
          "base_uri": "https://localhost:8080/",
          "height": 87,
          "referenced_widgets": [
            "118da5a049fe4c758baff7d7e98a6c79",
            "b4da4088efd04183b912cdae249ace86",
            "ff2cb26fde2146c2aca3aff6ec7015ec",
            "7493c164b2fc4426a5454af8a16b15ce",
            "9d441ee5c32349cd8128648e1115975d",
            "4541cc48f2e9415f8ec5997c8f374f6b",
            "2424565c66d649f48a0aec5129d35df3",
            "ddabd220b6594a70840ea17c3732ca9d"
          ]
        },
        "outputId": "7d3f4940-d047-4e4a-8ef2-4c169db78313"
      },
      "execution_count": null,
      "outputs": [
        {
          "output_type": "display_data",
          "data": {
            "text/plain": [
              "<IPython.core.display.HTML object>"
            ],
            "text/html": [
              "Waiting for W&B process to finish... <strong style=\"color:green\">(success).</strong>"
            ]
          },
          "metadata": {}
        },
        {
          "output_type": "display_data",
          "data": {
            "text/plain": [
              "VBox(children=(Label(value='466.488 MB of 466.488 MB uploaded (0.000 MB deduped)\\r'), FloatProgress(value=1.0,…"
            ],
            "application/vnd.jupyter.widget-view+json": {
              "version_major": 2,
              "version_minor": 0,
              "model_id": "118da5a049fe4c758baff7d7e98a6c79"
            }
          },
          "metadata": {}
        },
        {
          "output_type": "display_data",
          "data": {
            "text/plain": [
              "<IPython.core.display.HTML object>"
            ],
            "text/html": [
              "Synced <strong style=\"color:#cdcd00\">faithful-wood-19</strong>: <a href=\"https://wandb.ai/morsinaldo/nlp_bolsa/runs/18dmdp8g\" target=\"_blank\">https://wandb.ai/morsinaldo/nlp_bolsa/runs/18dmdp8g</a><br/>Synced 5 W&B file(s), 0 media file(s), 1 artifact file(s) and 0 other file(s)"
            ]
          },
          "metadata": {}
        },
        {
          "output_type": "display_data",
          "data": {
            "text/plain": [
              "<IPython.core.display.HTML object>"
            ],
            "text/html": [
              "Find logs at: <code>./wandb/run-20220717_185051-18dmdp8g/logs</code>"
            ]
          },
          "metadata": {}
        }
      ]
    }
  ]
}